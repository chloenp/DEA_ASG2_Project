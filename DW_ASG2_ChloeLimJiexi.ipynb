{
 "cells": [
  {
   "cell_type": "markdown",
   "metadata": {},
   "source": [
    "<table class=\"table table-bordered\">\n",
    "    <tr>\n",
    "        <th style=\"width:250px\"><img src='https://www.np.edu.sg/PublishingImages/Pages/default/odp/ICT.jpg' style=\"width: 100%; height: 125px; \"></th>\n",
    "        <th style=\"text-align:center;\"><h1>Data Wrangling</h1><h2>Assignment 2 </h2><h3>Diploma in Data Science</h3></th>\n",
    "    </tr>\n",
    "</table>"
   ]
  },
  {
   "cell_type": "code",
   "execution_count": 1,
   "metadata": {},
   "outputs": [],
   "source": [
    "# import the packages\n",
    "import pandas as pd\n",
    "import numpy as np\n",
    "\n",
    "# sklearn preprocess\n",
    "from sklearn.model_selection import train_test_split\n",
    "\n",
    "# feature engine\n",
    "import feature_engine.imputation as mdi\n",
    "from feature_engine.encoding import OneHotEncoder, MeanEncoder, OrdinalEncoder\n",
    "from feature_engine.discretisation import EqualFrequencyDiscretiser\n",
    "from feature_engine.transformation import LogTransformer\n",
    "from feature_engine.transformation import ReciprocalTransformer\n",
    "from feature_engine.transformation import PowerTransformer\n",
    "from feature_engine.transformation import BoxCoxTransformer\n",
    "from feature_engine.encoding import CountFrequencyEncoder\n",
    "\n",
    "# to impute missing data with feature-engine\n",
    "from feature_engine.imputation import EndTailImputer\n",
    "\n",
    "# Visual\n",
    "import scipy.stats as stats\n",
    "import matplotlib.pyplot as plt\n",
    "import seaborn as sns\n",
    "\n",
    "# to impute missing data with feature-engine\n",
    "from feature_engine.imputation import ArbitraryNumberImputer\n",
    "\n",
    "# for discretization\n",
    "from sklearn.preprocessing import KBinsDiscretizer\n",
    "from feature_engine.discretisation import EqualWidthDiscretiser\n",
    "\n",
    "# the scaler - for standardization\n",
    "from sklearn.preprocessing import StandardScaler\n",
    "\n",
    "# for linear regression\n",
    "from sklearn.linear_model import LinearRegression\n",
    "from sklearn import linear_model\n",
    "from sklearn.metrics import mean_absolute_error\n",
    "\n",
    "# for datetime\n",
    "from datetime import datetime"
   ]
  },
  {
   "cell_type": "markdown",
   "metadata": {},
   "source": [
    "### Step 1: Load and Explore the Data"
   ]
  },
  {
   "cell_type": "markdown",
   "metadata": {},
   "source": [
    "#### Loading the Data"
   ]
  },
  {
   "cell_type": "code",
   "execution_count": 2,
   "metadata": {},
   "outputs": [
    {
     "data": {
      "text/html": [
       "<div>\n",
       "<style scoped>\n",
       "    .dataframe tbody tr th:only-of-type {\n",
       "        vertical-align: middle;\n",
       "    }\n",
       "\n",
       "    .dataframe tbody tr th {\n",
       "        vertical-align: top;\n",
       "    }\n",
       "\n",
       "    .dataframe thead th {\n",
       "        text-align: right;\n",
       "    }\n",
       "</style>\n",
       "<table border=\"1\" class=\"dataframe\">\n",
       "  <thead>\n",
       "    <tr style=\"text-align: right;\">\n",
       "      <th></th>\n",
       "      <th>circuitId</th>\n",
       "      <th>circuitRef</th>\n",
       "      <th>name</th>\n",
       "      <th>location</th>\n",
       "      <th>country</th>\n",
       "      <th>lat</th>\n",
       "      <th>lng</th>\n",
       "      <th>alt</th>\n",
       "      <th>url</th>\n",
       "    </tr>\n",
       "  </thead>\n",
       "  <tbody>\n",
       "    <tr>\n",
       "      <th>0</th>\n",
       "      <td>1</td>\n",
       "      <td>albert_park</td>\n",
       "      <td>Albert Park Grand Prix Circuit</td>\n",
       "      <td>Melbourne</td>\n",
       "      <td>Australia</td>\n",
       "      <td>-37.84970</td>\n",
       "      <td>144.96800</td>\n",
       "      <td>10</td>\n",
       "      <td>http://en.wikipedia.org/wiki/Melbourne_Grand_P...</td>\n",
       "    </tr>\n",
       "    <tr>\n",
       "      <th>1</th>\n",
       "      <td>2</td>\n",
       "      <td>sepang</td>\n",
       "      <td>Sepang International Circuit</td>\n",
       "      <td>Kuala Lumpur</td>\n",
       "      <td>Malaysia</td>\n",
       "      <td>2.76083</td>\n",
       "      <td>101.73800</td>\n",
       "      <td>18</td>\n",
       "      <td>http://en.wikipedia.org/wiki/Sepang_Internatio...</td>\n",
       "    </tr>\n",
       "    <tr>\n",
       "      <th>2</th>\n",
       "      <td>3</td>\n",
       "      <td>bahrain</td>\n",
       "      <td>Bahrain International Circuit</td>\n",
       "      <td>Sakhir</td>\n",
       "      <td>Bahrain</td>\n",
       "      <td>26.03250</td>\n",
       "      <td>50.51060</td>\n",
       "      <td>7</td>\n",
       "      <td>http://en.wikipedia.org/wiki/Bahrain_Internati...</td>\n",
       "    </tr>\n",
       "    <tr>\n",
       "      <th>3</th>\n",
       "      <td>4</td>\n",
       "      <td>catalunya</td>\n",
       "      <td>Circuit de Barcelona-Catalunya</td>\n",
       "      <td>Montmeló</td>\n",
       "      <td>Spain</td>\n",
       "      <td>41.57000</td>\n",
       "      <td>2.26111</td>\n",
       "      <td>109</td>\n",
       "      <td>http://en.wikipedia.org/wiki/Circuit_de_Barcel...</td>\n",
       "    </tr>\n",
       "    <tr>\n",
       "      <th>4</th>\n",
       "      <td>5</td>\n",
       "      <td>istanbul</td>\n",
       "      <td>Istanbul Park</td>\n",
       "      <td>Istanbul</td>\n",
       "      <td>Turkey</td>\n",
       "      <td>40.95170</td>\n",
       "      <td>29.40500</td>\n",
       "      <td>130</td>\n",
       "      <td>http://en.wikipedia.org/wiki/Istanbul_Park</td>\n",
       "    </tr>\n",
       "  </tbody>\n",
       "</table>\n",
       "</div>"
      ],
      "text/plain": [
       "   circuitId   circuitRef                            name      location  \\\n",
       "0          1  albert_park  Albert Park Grand Prix Circuit     Melbourne   \n",
       "1          2       sepang    Sepang International Circuit  Kuala Lumpur   \n",
       "2          3      bahrain   Bahrain International Circuit        Sakhir   \n",
       "3          4    catalunya  Circuit de Barcelona-Catalunya      Montmeló   \n",
       "4          5     istanbul                   Istanbul Park      Istanbul   \n",
       "\n",
       "     country       lat        lng  alt  \\\n",
       "0  Australia -37.84970  144.96800   10   \n",
       "1   Malaysia   2.76083  101.73800   18   \n",
       "2    Bahrain  26.03250   50.51060    7   \n",
       "3      Spain  41.57000    2.26111  109   \n",
       "4     Turkey  40.95170   29.40500  130   \n",
       "\n",
       "                                                 url  \n",
       "0  http://en.wikipedia.org/wiki/Melbourne_Grand_P...  \n",
       "1  http://en.wikipedia.org/wiki/Sepang_Internatio...  \n",
       "2  http://en.wikipedia.org/wiki/Bahrain_Internati...  \n",
       "3  http://en.wikipedia.org/wiki/Circuit_de_Barcel...  \n",
       "4         http://en.wikipedia.org/wiki/Istanbul_Park  "
      ]
     },
     "execution_count": 2,
     "metadata": {},
     "output_type": "execute_result"
    }
   ],
   "source": [
    "# Load circuit Data\n",
    "circuits_data = pd.read_csv('./f1db_csv_mod/circuits_mod.csv')\n",
    "circuits_data.head()\n",
    "\n",
    "# note: circuitid 15 is Singapore, marina_bay"
   ]
  },
  {
   "cell_type": "code",
   "execution_count": 3,
   "metadata": {},
   "outputs": [],
   "source": [
    "#circuits_data.info()\n",
    "#circuits_data.describe()"
   ]
  },
  {
   "cell_type": "code",
   "execution_count": 4,
   "metadata": {},
   "outputs": [
    {
     "data": {
      "text/html": [
       "<div>\n",
       "<style scoped>\n",
       "    .dataframe tbody tr th:only-of-type {\n",
       "        vertical-align: middle;\n",
       "    }\n",
       "\n",
       "    .dataframe tbody tr th {\n",
       "        vertical-align: top;\n",
       "    }\n",
       "\n",
       "    .dataframe thead th {\n",
       "        text-align: right;\n",
       "    }\n",
       "</style>\n",
       "<table border=\"1\" class=\"dataframe\">\n",
       "  <thead>\n",
       "    <tr style=\"text-align: right;\">\n",
       "      <th></th>\n",
       "      <th>constructorResultsId</th>\n",
       "      <th>raceId</th>\n",
       "      <th>constructorId</th>\n",
       "      <th>points</th>\n",
       "      <th>status</th>\n",
       "    </tr>\n",
       "  </thead>\n",
       "  <tbody>\n",
       "    <tr>\n",
       "      <th>0</th>\n",
       "      <td>1</td>\n",
       "      <td>18</td>\n",
       "      <td>1</td>\n",
       "      <td>14.0</td>\n",
       "      <td>\\N</td>\n",
       "    </tr>\n",
       "    <tr>\n",
       "      <th>1</th>\n",
       "      <td>2</td>\n",
       "      <td>18</td>\n",
       "      <td>2</td>\n",
       "      <td>8.0</td>\n",
       "      <td>\\N</td>\n",
       "    </tr>\n",
       "    <tr>\n",
       "      <th>2</th>\n",
       "      <td>3</td>\n",
       "      <td>18</td>\n",
       "      <td>3</td>\n",
       "      <td>9.0</td>\n",
       "      <td>\\N</td>\n",
       "    </tr>\n",
       "    <tr>\n",
       "      <th>3</th>\n",
       "      <td>4</td>\n",
       "      <td>18</td>\n",
       "      <td>4</td>\n",
       "      <td>5.0</td>\n",
       "      <td>\\N</td>\n",
       "    </tr>\n",
       "    <tr>\n",
       "      <th>4</th>\n",
       "      <td>5</td>\n",
       "      <td>18</td>\n",
       "      <td>5</td>\n",
       "      <td>2.0</td>\n",
       "      <td>\\N</td>\n",
       "    </tr>\n",
       "  </tbody>\n",
       "</table>\n",
       "</div>"
      ],
      "text/plain": [
       "   constructorResultsId  raceId  constructorId  points status\n",
       "0                     1      18              1    14.0     \\N\n",
       "1                     2      18              2     8.0     \\N\n",
       "2                     3      18              3     9.0     \\N\n",
       "3                     4      18              4     5.0     \\N\n",
       "4                     5      18              5     2.0     \\N"
      ]
     },
     "execution_count": 4,
     "metadata": {},
     "output_type": "execute_result"
    }
   ],
   "source": [
    "# load constructor results (cr) data\n",
    "cr_data = pd.read_csv('./f1db_csv_mod/constructor_results_mod.csv')\n",
    "cr_data.head()"
   ]
  },
  {
   "cell_type": "code",
   "execution_count": 5,
   "metadata": {},
   "outputs": [],
   "source": [
    "#cr_data.info()\n",
    "#cr_data.describe()"
   ]
  },
  {
   "cell_type": "code",
   "execution_count": 6,
   "metadata": {},
   "outputs": [
    {
     "data": {
      "text/html": [
       "<div>\n",
       "<style scoped>\n",
       "    .dataframe tbody tr th:only-of-type {\n",
       "        vertical-align: middle;\n",
       "    }\n",
       "\n",
       "    .dataframe tbody tr th {\n",
       "        vertical-align: top;\n",
       "    }\n",
       "\n",
       "    .dataframe thead th {\n",
       "        text-align: right;\n",
       "    }\n",
       "</style>\n",
       "<table border=\"1\" class=\"dataframe\">\n",
       "  <thead>\n",
       "    <tr style=\"text-align: right;\">\n",
       "      <th></th>\n",
       "      <th>constructorStandingsId</th>\n",
       "      <th>raceId</th>\n",
       "      <th>constructorId</th>\n",
       "      <th>points</th>\n",
       "      <th>position</th>\n",
       "      <th>positionText</th>\n",
       "      <th>wins</th>\n",
       "    </tr>\n",
       "  </thead>\n",
       "  <tbody>\n",
       "    <tr>\n",
       "      <th>0</th>\n",
       "      <td>1</td>\n",
       "      <td>18</td>\n",
       "      <td>1</td>\n",
       "      <td>14.0</td>\n",
       "      <td>1</td>\n",
       "      <td>1</td>\n",
       "      <td>1</td>\n",
       "    </tr>\n",
       "    <tr>\n",
       "      <th>1</th>\n",
       "      <td>2</td>\n",
       "      <td>18</td>\n",
       "      <td>2</td>\n",
       "      <td>8.0</td>\n",
       "      <td>3</td>\n",
       "      <td>3</td>\n",
       "      <td>0</td>\n",
       "    </tr>\n",
       "    <tr>\n",
       "      <th>2</th>\n",
       "      <td>3</td>\n",
       "      <td>18</td>\n",
       "      <td>3</td>\n",
       "      <td>9.0</td>\n",
       "      <td>2</td>\n",
       "      <td>2</td>\n",
       "      <td>0</td>\n",
       "    </tr>\n",
       "    <tr>\n",
       "      <th>3</th>\n",
       "      <td>4</td>\n",
       "      <td>18</td>\n",
       "      <td>4</td>\n",
       "      <td>5.0</td>\n",
       "      <td>4</td>\n",
       "      <td>4</td>\n",
       "      <td>0</td>\n",
       "    </tr>\n",
       "    <tr>\n",
       "      <th>4</th>\n",
       "      <td>5</td>\n",
       "      <td>18</td>\n",
       "      <td>5</td>\n",
       "      <td>2.0</td>\n",
       "      <td>5</td>\n",
       "      <td>5</td>\n",
       "      <td>0</td>\n",
       "    </tr>\n",
       "  </tbody>\n",
       "</table>\n",
       "</div>"
      ],
      "text/plain": [
       "   constructorStandingsId  raceId  constructorId  points  position  \\\n",
       "0                       1      18              1    14.0         1   \n",
       "1                       2      18              2     8.0         3   \n",
       "2                       3      18              3     9.0         2   \n",
       "3                       4      18              4     5.0         4   \n",
       "4                       5      18              5     2.0         5   \n",
       "\n",
       "  positionText  wins  \n",
       "0            1     1  \n",
       "1            3     0  \n",
       "2            2     0  \n",
       "3            4     0  \n",
       "4            5     0  "
      ]
     },
     "execution_count": 6,
     "metadata": {},
     "output_type": "execute_result"
    }
   ],
   "source": [
    "# load constructor standing (cs) data\n",
    "cs_data = pd.read_csv('./f1db_csv_mod/constructor_standings_mod.csv')\n",
    "cs_data.head()"
   ]
  },
  {
   "cell_type": "code",
   "execution_count": 7,
   "metadata": {},
   "outputs": [],
   "source": [
    "#cs_data.info()\n",
    "#cs_data.describe()"
   ]
  },
  {
   "cell_type": "code",
   "execution_count": 8,
   "metadata": {},
   "outputs": [
    {
     "data": {
      "text/html": [
       "<div>\n",
       "<style scoped>\n",
       "    .dataframe tbody tr th:only-of-type {\n",
       "        vertical-align: middle;\n",
       "    }\n",
       "\n",
       "    .dataframe tbody tr th {\n",
       "        vertical-align: top;\n",
       "    }\n",
       "\n",
       "    .dataframe thead th {\n",
       "        text-align: right;\n",
       "    }\n",
       "</style>\n",
       "<table border=\"1\" class=\"dataframe\">\n",
       "  <thead>\n",
       "    <tr style=\"text-align: right;\">\n",
       "      <th></th>\n",
       "      <th>constructorId</th>\n",
       "      <th>constructorRef</th>\n",
       "      <th>name</th>\n",
       "      <th>nationality</th>\n",
       "      <th>url</th>\n",
       "    </tr>\n",
       "  </thead>\n",
       "  <tbody>\n",
       "    <tr>\n",
       "      <th>0</th>\n",
       "      <td>1</td>\n",
       "      <td>mclaren</td>\n",
       "      <td>McLaren</td>\n",
       "      <td>British</td>\n",
       "      <td>http://en.wikipedia.org/wiki/McLaren</td>\n",
       "    </tr>\n",
       "    <tr>\n",
       "      <th>1</th>\n",
       "      <td>2</td>\n",
       "      <td>bmw_sauber</td>\n",
       "      <td>BMW Sauber</td>\n",
       "      <td>German</td>\n",
       "      <td>http://en.wikipedia.org/wiki/BMW_Sauber</td>\n",
       "    </tr>\n",
       "    <tr>\n",
       "      <th>2</th>\n",
       "      <td>3</td>\n",
       "      <td>williams</td>\n",
       "      <td>Williams</td>\n",
       "      <td>British</td>\n",
       "      <td>http://en.wikipedia.org/wiki/Williams_Grand_Pr...</td>\n",
       "    </tr>\n",
       "    <tr>\n",
       "      <th>3</th>\n",
       "      <td>4</td>\n",
       "      <td>renault</td>\n",
       "      <td>Renault</td>\n",
       "      <td>French</td>\n",
       "      <td>http://en.wikipedia.org/wiki/Renault_in_Formul...</td>\n",
       "    </tr>\n",
       "    <tr>\n",
       "      <th>4</th>\n",
       "      <td>5</td>\n",
       "      <td>toro_rosso</td>\n",
       "      <td>Toro Rosso</td>\n",
       "      <td>Italian</td>\n",
       "      <td>http://en.wikipedia.org/wiki/Scuderia_Toro_Rosso</td>\n",
       "    </tr>\n",
       "  </tbody>\n",
       "</table>\n",
       "</div>"
      ],
      "text/plain": [
       "   constructorId constructorRef        name nationality  \\\n",
       "0              1        mclaren     McLaren     British   \n",
       "1              2     bmw_sauber  BMW Sauber      German   \n",
       "2              3       williams    Williams     British   \n",
       "3              4        renault     Renault      French   \n",
       "4              5     toro_rosso  Toro Rosso     Italian   \n",
       "\n",
       "                                                 url  \n",
       "0               http://en.wikipedia.org/wiki/McLaren  \n",
       "1            http://en.wikipedia.org/wiki/BMW_Sauber  \n",
       "2  http://en.wikipedia.org/wiki/Williams_Grand_Pr...  \n",
       "3  http://en.wikipedia.org/wiki/Renault_in_Formul...  \n",
       "4   http://en.wikipedia.org/wiki/Scuderia_Toro_Rosso  "
      ]
     },
     "execution_count": 8,
     "metadata": {},
     "output_type": "execute_result"
    }
   ],
   "source": [
    "# load constructors data\n",
    "constructors_data = pd.read_csv('./f1db_csv_mod/constructors_mod.csv')\n",
    "constructors_data.head()"
   ]
  },
  {
   "cell_type": "code",
   "execution_count": 9,
   "metadata": {},
   "outputs": [],
   "source": [
    "#constructors_data.info()\n",
    "#constructors_data.describe()"
   ]
  },
  {
   "cell_type": "code",
   "execution_count": 10,
   "metadata": {},
   "outputs": [
    {
     "data": {
      "text/html": [
       "<div>\n",
       "<style scoped>\n",
       "    .dataframe tbody tr th:only-of-type {\n",
       "        vertical-align: middle;\n",
       "    }\n",
       "\n",
       "    .dataframe tbody tr th {\n",
       "        vertical-align: top;\n",
       "    }\n",
       "\n",
       "    .dataframe thead th {\n",
       "        text-align: right;\n",
       "    }\n",
       "</style>\n",
       "<table border=\"1\" class=\"dataframe\">\n",
       "  <thead>\n",
       "    <tr style=\"text-align: right;\">\n",
       "      <th></th>\n",
       "      <th>driverStandingsId</th>\n",
       "      <th>raceId</th>\n",
       "      <th>driverId</th>\n",
       "      <th>points</th>\n",
       "      <th>position</th>\n",
       "      <th>positionText</th>\n",
       "      <th>wins</th>\n",
       "    </tr>\n",
       "  </thead>\n",
       "  <tbody>\n",
       "    <tr>\n",
       "      <th>0</th>\n",
       "      <td>1</td>\n",
       "      <td>18</td>\n",
       "      <td>1</td>\n",
       "      <td>10</td>\n",
       "      <td>1</td>\n",
       "      <td>1</td>\n",
       "      <td>1</td>\n",
       "    </tr>\n",
       "    <tr>\n",
       "      <th>1</th>\n",
       "      <td>2</td>\n",
       "      <td>18</td>\n",
       "      <td>2</td>\n",
       "      <td>8</td>\n",
       "      <td>2</td>\n",
       "      <td>2</td>\n",
       "      <td>0</td>\n",
       "    </tr>\n",
       "    <tr>\n",
       "      <th>2</th>\n",
       "      <td>3</td>\n",
       "      <td>18</td>\n",
       "      <td>3</td>\n",
       "      <td>6</td>\n",
       "      <td>3</td>\n",
       "      <td>3</td>\n",
       "      <td>0</td>\n",
       "    </tr>\n",
       "    <tr>\n",
       "      <th>3</th>\n",
       "      <td>4</td>\n",
       "      <td>18</td>\n",
       "      <td>4</td>\n",
       "      <td>5</td>\n",
       "      <td>4</td>\n",
       "      <td>4</td>\n",
       "      <td>0</td>\n",
       "    </tr>\n",
       "    <tr>\n",
       "      <th>4</th>\n",
       "      <td>5</td>\n",
       "      <td>18</td>\n",
       "      <td>5</td>\n",
       "      <td>4</td>\n",
       "      <td>5</td>\n",
       "      <td>5</td>\n",
       "      <td>0</td>\n",
       "    </tr>\n",
       "  </tbody>\n",
       "</table>\n",
       "</div>"
      ],
      "text/plain": [
       "   driverStandingsId  raceId  driverId points  position positionText  wins\n",
       "0                  1      18         1     10         1            1     1\n",
       "1                  2      18         2      8         2            2     0\n",
       "2                  3      18         3      6         3            3     0\n",
       "3                  4      18         4      5         4            4     0\n",
       "4                  5      18         5      4         5            5     0"
      ]
     },
     "execution_count": 10,
     "metadata": {},
     "output_type": "execute_result"
    }
   ],
   "source": [
    "# load driver standings (ds) data\n",
    "ds_data = pd.read_csv('./f1db_csv_mod/driver_standings_mod.csv')\n",
    "#ds_data = ds_data.sort_values(by ='points', ascending = False)\n",
    "#ds_data = ds_data.sort_values(by ='position', ascending = True)\n",
    "ds_data.head()"
   ]
  },
  {
   "cell_type": "code",
   "execution_count": 11,
   "metadata": {},
   "outputs": [
    {
     "data": {
      "text/plain": [
       "(33394, 7)"
      ]
     },
     "execution_count": 11,
     "metadata": {},
     "output_type": "execute_result"
    }
   ],
   "source": [
    "ds_data.shape"
   ]
  },
  {
   "cell_type": "code",
   "execution_count": 12,
   "metadata": {},
   "outputs": [
    {
     "name": "stdout",
     "output_type": "stream",
     "text": [
      "<class 'pandas.core.frame.DataFrame'>\n",
      "RangeIndex: 33394 entries, 0 to 33393\n",
      "Data columns (total 7 columns):\n",
      " #   Column             Non-Null Count  Dtype \n",
      "---  ------             --------------  ----- \n",
      " 0   driverStandingsId  33394 non-null  int64 \n",
      " 1   raceId             33394 non-null  int64 \n",
      " 2   driverId           33394 non-null  int64 \n",
      " 3   points             33389 non-null  object\n",
      " 4   position           33394 non-null  int64 \n",
      " 5   positionText       33394 non-null  object\n",
      " 6   wins               33394 non-null  int64 \n",
      "dtypes: int64(5), object(2)\n",
      "memory usage: 1.8+ MB\n"
     ]
    },
    {
     "data": {
      "text/html": [
       "<div>\n",
       "<style scoped>\n",
       "    .dataframe tbody tr th:only-of-type {\n",
       "        vertical-align: middle;\n",
       "    }\n",
       "\n",
       "    .dataframe tbody tr th {\n",
       "        vertical-align: top;\n",
       "    }\n",
       "\n",
       "    .dataframe thead th {\n",
       "        text-align: right;\n",
       "    }\n",
       "</style>\n",
       "<table border=\"1\" class=\"dataframe\">\n",
       "  <thead>\n",
       "    <tr style=\"text-align: right;\">\n",
       "      <th></th>\n",
       "      <th>driverStandingsId</th>\n",
       "      <th>raceId</th>\n",
       "      <th>driverId</th>\n",
       "      <th>position</th>\n",
       "      <th>wins</th>\n",
       "    </tr>\n",
       "  </thead>\n",
       "  <tbody>\n",
       "    <tr>\n",
       "      <th>count</th>\n",
       "      <td>33394.000000</td>\n",
       "      <td>33394.000000</td>\n",
       "      <td>33394.000000</td>\n",
       "      <td>33394.000000</td>\n",
       "      <td>33394.000000</td>\n",
       "    </tr>\n",
       "    <tr>\n",
       "      <th>mean</th>\n",
       "      <td>41053.589327</td>\n",
       "      <td>562.539977</td>\n",
       "      <td>298.800114</td>\n",
       "      <td>20.077289</td>\n",
       "      <td>0.265407</td>\n",
       "    </tr>\n",
       "    <tr>\n",
       "      <th>std</th>\n",
       "      <td>21717.997691</td>\n",
       "      <td>276.659109</td>\n",
       "      <td>259.756294</td>\n",
       "      <td>16.499785</td>\n",
       "      <td>0.974147</td>\n",
       "    </tr>\n",
       "    <tr>\n",
       "      <th>min</th>\n",
       "      <td>1.000000</td>\n",
       "      <td>1.000000</td>\n",
       "      <td>1.000000</td>\n",
       "      <td>1.000000</td>\n",
       "      <td>0.000000</td>\n",
       "    </tr>\n",
       "    <tr>\n",
       "      <th>25%</th>\n",
       "      <td>19061.250000</td>\n",
       "      <td>342.000000</td>\n",
       "      <td>84.000000</td>\n",
       "      <td>8.000000</td>\n",
       "      <td>0.000000</td>\n",
       "    </tr>\n",
       "    <tr>\n",
       "      <th>50%</th>\n",
       "      <td>48903.500000</td>\n",
       "      <td>587.000000</td>\n",
       "      <td>212.000000</td>\n",
       "      <td>16.000000</td>\n",
       "      <td>0.000000</td>\n",
       "    </tr>\n",
       "    <tr>\n",
       "      <th>75%</th>\n",
       "      <td>57992.750000</td>\n",
       "      <td>789.000000</td>\n",
       "      <td>484.000000</td>\n",
       "      <td>26.000000</td>\n",
       "      <td>0.000000</td>\n",
       "    </tr>\n",
       "    <tr>\n",
       "      <th>max</th>\n",
       "      <td>70780.000000</td>\n",
       "      <td>1074.000000</td>\n",
       "      <td>855.000000</td>\n",
       "      <td>108.000000</td>\n",
       "      <td>13.000000</td>\n",
       "    </tr>\n",
       "  </tbody>\n",
       "</table>\n",
       "</div>"
      ],
      "text/plain": [
       "       driverStandingsId        raceId      driverId      position  \\\n",
       "count       33394.000000  33394.000000  33394.000000  33394.000000   \n",
       "mean        41053.589327    562.539977    298.800114     20.077289   \n",
       "std         21717.997691    276.659109    259.756294     16.499785   \n",
       "min             1.000000      1.000000      1.000000      1.000000   \n",
       "25%         19061.250000    342.000000     84.000000      8.000000   \n",
       "50%         48903.500000    587.000000    212.000000     16.000000   \n",
       "75%         57992.750000    789.000000    484.000000     26.000000   \n",
       "max         70780.000000   1074.000000    855.000000    108.000000   \n",
       "\n",
       "               wins  \n",
       "count  33394.000000  \n",
       "mean       0.265407  \n",
       "std        0.974147  \n",
       "min        0.000000  \n",
       "25%        0.000000  \n",
       "50%        0.000000  \n",
       "75%        0.000000  \n",
       "max       13.000000  "
      ]
     },
     "execution_count": 12,
     "metadata": {},
     "output_type": "execute_result"
    }
   ],
   "source": [
    "ds_data.info()\n",
    "ds_data.describe()"
   ]
  },
  {
   "cell_type": "code",
   "execution_count": 13,
   "metadata": {},
   "outputs": [
    {
     "data": {
      "text/html": [
       "<div>\n",
       "<style scoped>\n",
       "    .dataframe tbody tr th:only-of-type {\n",
       "        vertical-align: middle;\n",
       "    }\n",
       "\n",
       "    .dataframe tbody tr th {\n",
       "        vertical-align: top;\n",
       "    }\n",
       "\n",
       "    .dataframe thead th {\n",
       "        text-align: right;\n",
       "    }\n",
       "</style>\n",
       "<table border=\"1\" class=\"dataframe\">\n",
       "  <thead>\n",
       "    <tr style=\"text-align: right;\">\n",
       "      <th></th>\n",
       "      <th>driverId</th>\n",
       "      <th>driverRef</th>\n",
       "      <th>number</th>\n",
       "      <th>code</th>\n",
       "      <th>forename</th>\n",
       "      <th>surname</th>\n",
       "      <th>dob</th>\n",
       "      <th>nationality</th>\n",
       "      <th>url</th>\n",
       "    </tr>\n",
       "  </thead>\n",
       "  <tbody>\n",
       "    <tr>\n",
       "      <th>0</th>\n",
       "      <td>1</td>\n",
       "      <td>hamilton</td>\n",
       "      <td>44</td>\n",
       "      <td>HAM</td>\n",
       "      <td>Lewis</td>\n",
       "      <td>Hamilton</td>\n",
       "      <td>1985-01-07</td>\n",
       "      <td>British</td>\n",
       "      <td>http://en.wikipedia.org/wiki/Lewis_Hamilton</td>\n",
       "    </tr>\n",
       "    <tr>\n",
       "      <th>1</th>\n",
       "      <td>2</td>\n",
       "      <td>heidfeld</td>\n",
       "      <td>\\N</td>\n",
       "      <td>HEI</td>\n",
       "      <td>Nick</td>\n",
       "      <td>Heidfeld</td>\n",
       "      <td>1977-05-10</td>\n",
       "      <td>German</td>\n",
       "      <td>http://en.wikipedia.org/wiki/Nick_Heidfeld</td>\n",
       "    </tr>\n",
       "    <tr>\n",
       "      <th>2</th>\n",
       "      <td>3</td>\n",
       "      <td>rosberg</td>\n",
       "      <td>6</td>\n",
       "      <td>ROS</td>\n",
       "      <td>Nico</td>\n",
       "      <td>Rosberg</td>\n",
       "      <td>1985-06-27</td>\n",
       "      <td>German</td>\n",
       "      <td>http://en.wikipedia.org/wiki/Nico_Rosberg</td>\n",
       "    </tr>\n",
       "    <tr>\n",
       "      <th>3</th>\n",
       "      <td>4</td>\n",
       "      <td>alonso</td>\n",
       "      <td>14</td>\n",
       "      <td>ALO</td>\n",
       "      <td>Fernando</td>\n",
       "      <td>Alonso</td>\n",
       "      <td>1981-07-29</td>\n",
       "      <td>Spanish</td>\n",
       "      <td>http://en.wikipedia.org/wiki/Fernando_Alonso</td>\n",
       "    </tr>\n",
       "    <tr>\n",
       "      <th>4</th>\n",
       "      <td>5</td>\n",
       "      <td>kovalainen</td>\n",
       "      <td>\\N</td>\n",
       "      <td>KOV</td>\n",
       "      <td>Heikki</td>\n",
       "      <td>Kovalainen</td>\n",
       "      <td>1981-10-19</td>\n",
       "      <td>Finnish</td>\n",
       "      <td>http://en.wikipedia.org/wiki/Heikki_Kovalainen</td>\n",
       "    </tr>\n",
       "  </tbody>\n",
       "</table>\n",
       "</div>"
      ],
      "text/plain": [
       "   driverId   driverRef number code  forename     surname         dob  \\\n",
       "0         1    hamilton     44  HAM     Lewis    Hamilton  1985-01-07   \n",
       "1         2    heidfeld     \\N  HEI      Nick    Heidfeld  1977-05-10   \n",
       "2         3     rosberg      6  ROS      Nico     Rosberg  1985-06-27   \n",
       "3         4      alonso     14  ALO  Fernando      Alonso  1981-07-29   \n",
       "4         5  kovalainen     \\N  KOV    Heikki  Kovalainen  1981-10-19   \n",
       "\n",
       "  nationality                                             url  \n",
       "0     British     http://en.wikipedia.org/wiki/Lewis_Hamilton  \n",
       "1      German      http://en.wikipedia.org/wiki/Nick_Heidfeld  \n",
       "2      German       http://en.wikipedia.org/wiki/Nico_Rosberg  \n",
       "3     Spanish    http://en.wikipedia.org/wiki/Fernando_Alonso  \n",
       "4     Finnish  http://en.wikipedia.org/wiki/Heikki_Kovalainen  "
      ]
     },
     "execution_count": 13,
     "metadata": {},
     "output_type": "execute_result"
    }
   ],
   "source": [
    "# load drivers data\n",
    "drivers_data = pd.read_csv('./f1db_csv_mod/drivers_mod.csv')\n",
    "drivers_data.head()"
   ]
  },
  {
   "cell_type": "code",
   "execution_count": 14,
   "metadata": {},
   "outputs": [
    {
     "data": {
      "text/plain": [
       "(854, 9)"
      ]
     },
     "execution_count": 14,
     "metadata": {},
     "output_type": "execute_result"
    }
   ],
   "source": [
    "drivers_data.shape"
   ]
  },
  {
   "cell_type": "code",
   "execution_count": 15,
   "metadata": {},
   "outputs": [
    {
     "name": "stdout",
     "output_type": "stream",
     "text": [
      "<class 'pandas.core.frame.DataFrame'>\n",
      "RangeIndex: 854 entries, 0 to 853\n",
      "Data columns (total 9 columns):\n",
      " #   Column       Non-Null Count  Dtype \n",
      "---  ------       --------------  ----- \n",
      " 0   driverId     854 non-null    int64 \n",
      " 1   driverRef    854 non-null    object\n",
      " 2   number       854 non-null    object\n",
      " 3   code         854 non-null    object\n",
      " 4   forename     854 non-null    object\n",
      " 5   surname      854 non-null    object\n",
      " 6   dob          854 non-null    object\n",
      " 7   nationality  854 non-null    object\n",
      " 8   url          854 non-null    object\n",
      "dtypes: int64(1), object(8)\n",
      "memory usage: 60.2+ KB\n"
     ]
    },
    {
     "data": {
      "text/html": [
       "<div>\n",
       "<style scoped>\n",
       "    .dataframe tbody tr th:only-of-type {\n",
       "        vertical-align: middle;\n",
       "    }\n",
       "\n",
       "    .dataframe tbody tr th {\n",
       "        vertical-align: top;\n",
       "    }\n",
       "\n",
       "    .dataframe thead th {\n",
       "        text-align: right;\n",
       "    }\n",
       "</style>\n",
       "<table border=\"1\" class=\"dataframe\">\n",
       "  <thead>\n",
       "    <tr style=\"text-align: right;\">\n",
       "      <th></th>\n",
       "      <th>driverId</th>\n",
       "    </tr>\n",
       "  </thead>\n",
       "  <tbody>\n",
       "    <tr>\n",
       "      <th>count</th>\n",
       "      <td>854.000000</td>\n",
       "    </tr>\n",
       "    <tr>\n",
       "      <th>mean</th>\n",
       "      <td>427.553864</td>\n",
       "    </tr>\n",
       "    <tr>\n",
       "      <th>std</th>\n",
       "      <td>246.761270</td>\n",
       "    </tr>\n",
       "    <tr>\n",
       "      <th>min</th>\n",
       "      <td>1.000000</td>\n",
       "    </tr>\n",
       "    <tr>\n",
       "      <th>25%</th>\n",
       "      <td>214.250000</td>\n",
       "    </tr>\n",
       "    <tr>\n",
       "      <th>50%</th>\n",
       "      <td>427.500000</td>\n",
       "    </tr>\n",
       "    <tr>\n",
       "      <th>75%</th>\n",
       "      <td>640.750000</td>\n",
       "    </tr>\n",
       "    <tr>\n",
       "      <th>max</th>\n",
       "      <td>855.000000</td>\n",
       "    </tr>\n",
       "  </tbody>\n",
       "</table>\n",
       "</div>"
      ],
      "text/plain": [
       "         driverId\n",
       "count  854.000000\n",
       "mean   427.553864\n",
       "std    246.761270\n",
       "min      1.000000\n",
       "25%    214.250000\n",
       "50%    427.500000\n",
       "75%    640.750000\n",
       "max    855.000000"
      ]
     },
     "execution_count": 15,
     "metadata": {},
     "output_type": "execute_result"
    }
   ],
   "source": [
    "drivers_data.info()\n",
    "drivers_data.describe()"
   ]
  },
  {
   "cell_type": "code",
   "execution_count": 16,
   "metadata": {},
   "outputs": [
    {
     "data": {
      "text/html": [
       "<div>\n",
       "<style scoped>\n",
       "    .dataframe tbody tr th:only-of-type {\n",
       "        vertical-align: middle;\n",
       "    }\n",
       "\n",
       "    .dataframe tbody tr th {\n",
       "        vertical-align: top;\n",
       "    }\n",
       "\n",
       "    .dataframe thead th {\n",
       "        text-align: right;\n",
       "    }\n",
       "</style>\n",
       "<table border=\"1\" class=\"dataframe\">\n",
       "  <thead>\n",
       "    <tr style=\"text-align: right;\">\n",
       "      <th></th>\n",
       "      <th>raceId</th>\n",
       "      <th>driverId</th>\n",
       "      <th>lap</th>\n",
       "      <th>position</th>\n",
       "      <th>time</th>\n",
       "      <th>milliseconds</th>\n",
       "    </tr>\n",
       "  </thead>\n",
       "  <tbody>\n",
       "    <tr>\n",
       "      <th>0</th>\n",
       "      <td>841</td>\n",
       "      <td>20</td>\n",
       "      <td>1</td>\n",
       "      <td>1</td>\n",
       "      <td>1:38.109</td>\n",
       "      <td>98109</td>\n",
       "    </tr>\n",
       "    <tr>\n",
       "      <th>1</th>\n",
       "      <td>841</td>\n",
       "      <td>20</td>\n",
       "      <td>2</td>\n",
       "      <td>1</td>\n",
       "      <td>1:33.006</td>\n",
       "      <td>93006</td>\n",
       "    </tr>\n",
       "    <tr>\n",
       "      <th>2</th>\n",
       "      <td>841</td>\n",
       "      <td>20</td>\n",
       "      <td>3</td>\n",
       "      <td>1</td>\n",
       "      <td>1:32.713</td>\n",
       "      <td>92713</td>\n",
       "    </tr>\n",
       "    <tr>\n",
       "      <th>3</th>\n",
       "      <td>841</td>\n",
       "      <td>20</td>\n",
       "      <td>4</td>\n",
       "      <td>1</td>\n",
       "      <td>1:32.803</td>\n",
       "      <td>92803</td>\n",
       "    </tr>\n",
       "    <tr>\n",
       "      <th>4</th>\n",
       "      <td>841</td>\n",
       "      <td>20</td>\n",
       "      <td>5</td>\n",
       "      <td>1</td>\n",
       "      <td>1:32.342</td>\n",
       "      <td>92342</td>\n",
       "    </tr>\n",
       "  </tbody>\n",
       "</table>\n",
       "</div>"
      ],
      "text/plain": [
       "   raceId  driverId  lap  position      time  milliseconds\n",
       "0     841        20    1         1  1:38.109         98109\n",
       "1     841        20    2         1  1:33.006         93006\n",
       "2     841        20    3         1  1:32.713         92713\n",
       "3     841        20    4         1  1:32.803         92803\n",
       "4     841        20    5         1  1:32.342         92342"
      ]
     },
     "execution_count": 16,
     "metadata": {},
     "output_type": "execute_result"
    }
   ],
   "source": [
    "# load lap times (lt) data\n",
    "lt_data = pd.read_csv('./f1db_csv_mod/lap_times_mod.csv')\n",
    "lt_data.head()"
   ]
  },
  {
   "cell_type": "code",
   "execution_count": 17,
   "metadata": {},
   "outputs": [],
   "source": [
    "#lt_data.info()\n",
    "#lt_data.describe()"
   ]
  },
  {
   "cell_type": "code",
   "execution_count": 18,
   "metadata": {},
   "outputs": [
    {
     "data": {
      "text/html": [
       "<div>\n",
       "<style scoped>\n",
       "    .dataframe tbody tr th:only-of-type {\n",
       "        vertical-align: middle;\n",
       "    }\n",
       "\n",
       "    .dataframe tbody tr th {\n",
       "        vertical-align: top;\n",
       "    }\n",
       "\n",
       "    .dataframe thead th {\n",
       "        text-align: right;\n",
       "    }\n",
       "</style>\n",
       "<table border=\"1\" class=\"dataframe\">\n",
       "  <thead>\n",
       "    <tr style=\"text-align: right;\">\n",
       "      <th></th>\n",
       "      <th>raceId</th>\n",
       "      <th>driverId</th>\n",
       "      <th>stop</th>\n",
       "      <th>lap</th>\n",
       "      <th>time</th>\n",
       "      <th>duration</th>\n",
       "      <th>milliseconds</th>\n",
       "    </tr>\n",
       "  </thead>\n",
       "  <tbody>\n",
       "    <tr>\n",
       "      <th>0</th>\n",
       "      <td>841</td>\n",
       "      <td>153</td>\n",
       "      <td>1</td>\n",
       "      <td>1</td>\n",
       "      <td>17:05:23</td>\n",
       "      <td>26.898</td>\n",
       "      <td>26898</td>\n",
       "    </tr>\n",
       "    <tr>\n",
       "      <th>1</th>\n",
       "      <td>841</td>\n",
       "      <td>30</td>\n",
       "      <td>1</td>\n",
       "      <td>1</td>\n",
       "      <td>17:05:52</td>\n",
       "      <td>25.021</td>\n",
       "      <td>25021</td>\n",
       "    </tr>\n",
       "    <tr>\n",
       "      <th>2</th>\n",
       "      <td>841</td>\n",
       "      <td>17</td>\n",
       "      <td>1</td>\n",
       "      <td>11</td>\n",
       "      <td>17:20:48</td>\n",
       "      <td>23.426</td>\n",
       "      <td>23426</td>\n",
       "    </tr>\n",
       "    <tr>\n",
       "      <th>3</th>\n",
       "      <td>841</td>\n",
       "      <td>4</td>\n",
       "      <td>1</td>\n",
       "      <td>12</td>\n",
       "      <td>17:22:34</td>\n",
       "      <td>23.251</td>\n",
       "      <td>23251</td>\n",
       "    </tr>\n",
       "    <tr>\n",
       "      <th>4</th>\n",
       "      <td>841</td>\n",
       "      <td>13</td>\n",
       "      <td>1</td>\n",
       "      <td>13</td>\n",
       "      <td>17:24:10</td>\n",
       "      <td>23.842</td>\n",
       "      <td>23842</td>\n",
       "    </tr>\n",
       "  </tbody>\n",
       "</table>\n",
       "</div>"
      ],
      "text/plain": [
       "   raceId  driverId  stop  lap      time duration  milliseconds\n",
       "0     841       153     1    1  17:05:23   26.898         26898\n",
       "1     841        30     1    1  17:05:52   25.021         25021\n",
       "2     841        17     1   11  17:20:48   23.426         23426\n",
       "3     841         4     1   12  17:22:34   23.251         23251\n",
       "4     841        13     1   13  17:24:10   23.842         23842"
      ]
     },
     "execution_count": 18,
     "metadata": {},
     "output_type": "execute_result"
    }
   ],
   "source": [
    "# load pit stops (ps) data\n",
    "ps_data = pd.read_csv('./f1db_csv_mod/pit_stops_mod.csv')\n",
    "ps_data.head()"
   ]
  },
  {
   "cell_type": "code",
   "execution_count": 19,
   "metadata": {},
   "outputs": [],
   "source": [
    "#ps_data.info()\n",
    "#ps_data.describe()"
   ]
  },
  {
   "cell_type": "code",
   "execution_count": 20,
   "metadata": {},
   "outputs": [
    {
     "data": {
      "text/html": [
       "<div>\n",
       "<style scoped>\n",
       "    .dataframe tbody tr th:only-of-type {\n",
       "        vertical-align: middle;\n",
       "    }\n",
       "\n",
       "    .dataframe tbody tr th {\n",
       "        vertical-align: top;\n",
       "    }\n",
       "\n",
       "    .dataframe thead th {\n",
       "        text-align: right;\n",
       "    }\n",
       "</style>\n",
       "<table border=\"1\" class=\"dataframe\">\n",
       "  <thead>\n",
       "    <tr style=\"text-align: right;\">\n",
       "      <th></th>\n",
       "      <th>qualifyId</th>\n",
       "      <th>raceId</th>\n",
       "      <th>driverId</th>\n",
       "      <th>constructorId</th>\n",
       "      <th>number</th>\n",
       "      <th>position</th>\n",
       "      <th>q1</th>\n",
       "      <th>q2</th>\n",
       "      <th>q3</th>\n",
       "    </tr>\n",
       "  </thead>\n",
       "  <tbody>\n",
       "    <tr>\n",
       "      <th>0</th>\n",
       "      <td>1</td>\n",
       "      <td>18</td>\n",
       "      <td>1</td>\n",
       "      <td>1</td>\n",
       "      <td>22</td>\n",
       "      <td>1</td>\n",
       "      <td>1:26.572</td>\n",
       "      <td>1:25.187</td>\n",
       "      <td>1:26.714</td>\n",
       "    </tr>\n",
       "    <tr>\n",
       "      <th>1</th>\n",
       "      <td>2</td>\n",
       "      <td>18</td>\n",
       "      <td>9</td>\n",
       "      <td>2</td>\n",
       "      <td>4</td>\n",
       "      <td>2</td>\n",
       "      <td>1:26.103</td>\n",
       "      <td>1:25.315</td>\n",
       "      <td>1:26.869</td>\n",
       "    </tr>\n",
       "    <tr>\n",
       "      <th>2</th>\n",
       "      <td>3</td>\n",
       "      <td>18</td>\n",
       "      <td>5</td>\n",
       "      <td>1</td>\n",
       "      <td>23</td>\n",
       "      <td>3</td>\n",
       "      <td>1:25.664</td>\n",
       "      <td>1:25.452</td>\n",
       "      <td>1:27.079</td>\n",
       "    </tr>\n",
       "    <tr>\n",
       "      <th>3</th>\n",
       "      <td>4</td>\n",
       "      <td>18</td>\n",
       "      <td>13</td>\n",
       "      <td>6</td>\n",
       "      <td>2</td>\n",
       "      <td>4</td>\n",
       "      <td>1:25.994</td>\n",
       "      <td>1:25.691</td>\n",
       "      <td>1:27.178</td>\n",
       "    </tr>\n",
       "    <tr>\n",
       "      <th>4</th>\n",
       "      <td>5</td>\n",
       "      <td>18</td>\n",
       "      <td>2</td>\n",
       "      <td>2</td>\n",
       "      <td>3</td>\n",
       "      <td>5</td>\n",
       "      <td>1:25.960</td>\n",
       "      <td>1:25.518</td>\n",
       "      <td>1:27.236</td>\n",
       "    </tr>\n",
       "  </tbody>\n",
       "</table>\n",
       "</div>"
      ],
      "text/plain": [
       "   qualifyId  raceId  driverId  constructorId  number  position        q1  \\\n",
       "0          1      18         1              1      22         1  1:26.572   \n",
       "1          2      18         9              2       4         2  1:26.103   \n",
       "2          3      18         5              1      23         3  1:25.664   \n",
       "3          4      18        13              6       2         4  1:25.994   \n",
       "4          5      18         2              2       3         5  1:25.960   \n",
       "\n",
       "         q2        q3  \n",
       "0  1:25.187  1:26.714  \n",
       "1  1:25.315  1:26.869  \n",
       "2  1:25.452  1:27.079  \n",
       "3  1:25.691  1:27.178  \n",
       "4  1:25.518  1:27.236  "
      ]
     },
     "execution_count": 20,
     "metadata": {},
     "output_type": "execute_result"
    }
   ],
   "source": [
    "# load qualifying data\n",
    "qualifying_data = pd.read_csv('./f1db_csv_mod/qualifying_mod.csv')\n",
    "qualifying_data.head()"
   ]
  },
  {
   "cell_type": "code",
   "execution_count": 21,
   "metadata": {},
   "outputs": [],
   "source": [
    "#qualifying_data.info()\n",
    "#qualifying_data.describe()"
   ]
  },
  {
   "cell_type": "code",
   "execution_count": 22,
   "metadata": {},
   "outputs": [
    {
     "data": {
      "text/html": [
       "<div>\n",
       "<style scoped>\n",
       "    .dataframe tbody tr th:only-of-type {\n",
       "        vertical-align: middle;\n",
       "    }\n",
       "\n",
       "    .dataframe tbody tr th {\n",
       "        vertical-align: top;\n",
       "    }\n",
       "\n",
       "    .dataframe thead th {\n",
       "        text-align: right;\n",
       "    }\n",
       "</style>\n",
       "<table border=\"1\" class=\"dataframe\">\n",
       "  <thead>\n",
       "    <tr style=\"text-align: right;\">\n",
       "      <th></th>\n",
       "      <th>raceId</th>\n",
       "      <th>round</th>\n",
       "      <th>circuitId</th>\n",
       "      <th>name</th>\n",
       "      <th>date</th>\n",
       "      <th>time</th>\n",
       "      <th>url</th>\n",
       "    </tr>\n",
       "  </thead>\n",
       "  <tbody>\n",
       "    <tr>\n",
       "      <th>0</th>\n",
       "      <td>1</td>\n",
       "      <td>1</td>\n",
       "      <td>1</td>\n",
       "      <td>Australian Grand Prix</td>\n",
       "      <td>3/29/2009</td>\n",
       "      <td>6:00:00</td>\n",
       "      <td>http://en.wikipedia.org/wiki/2009_Australian_G...</td>\n",
       "    </tr>\n",
       "    <tr>\n",
       "      <th>1</th>\n",
       "      <td>2</td>\n",
       "      <td>2</td>\n",
       "      <td>2</td>\n",
       "      <td>Malaysian Grand Prix</td>\n",
       "      <td>4/5/12009</td>\n",
       "      <td>9:00:00</td>\n",
       "      <td>http://en.wikipedia.org/wiki/2009_Malaysian_Gr...</td>\n",
       "    </tr>\n",
       "    <tr>\n",
       "      <th>2</th>\n",
       "      <td>3</td>\n",
       "      <td>3</td>\n",
       "      <td>17</td>\n",
       "      <td>Chinese Grand Prix</td>\n",
       "      <td>4/19/2009</td>\n",
       "      <td>7:00:00</td>\n",
       "      <td>http://en.wikipedia.org/wiki/2009_Chinese_Gran...</td>\n",
       "    </tr>\n",
       "    <tr>\n",
       "      <th>3</th>\n",
       "      <td>4</td>\n",
       "      <td>4</td>\n",
       "      <td>3</td>\n",
       "      <td>Bahrain Grand Prix</td>\n",
       "      <td>4/26/2009</td>\n",
       "      <td>12:00:00</td>\n",
       "      <td>http://en.wikipedia.org/wiki/2009_Bahrain_Gran...</td>\n",
       "    </tr>\n",
       "    <tr>\n",
       "      <th>4</th>\n",
       "      <td>5</td>\n",
       "      <td>5</td>\n",
       "      <td>4</td>\n",
       "      <td>Spanish Grand Prix</td>\n",
       "      <td>5/10/2009</td>\n",
       "      <td>12:00:00</td>\n",
       "      <td>http://en.wikipedia.org/wiki/2009_Spanish_Gran...</td>\n",
       "    </tr>\n",
       "  </tbody>\n",
       "</table>\n",
       "</div>"
      ],
      "text/plain": [
       "   raceId  round  circuitId                   name       date      time  \\\n",
       "0       1      1          1  Australian Grand Prix  3/29/2009   6:00:00   \n",
       "1       2      2          2   Malaysian Grand Prix  4/5/12009   9:00:00   \n",
       "2       3      3         17     Chinese Grand Prix  4/19/2009   7:00:00   \n",
       "3       4      4          3     Bahrain Grand Prix  4/26/2009  12:00:00   \n",
       "4       5      5          4     Spanish Grand Prix  5/10/2009  12:00:00   \n",
       "\n",
       "                                                 url  \n",
       "0  http://en.wikipedia.org/wiki/2009_Australian_G...  \n",
       "1  http://en.wikipedia.org/wiki/2009_Malaysian_Gr...  \n",
       "2  http://en.wikipedia.org/wiki/2009_Chinese_Gran...  \n",
       "3  http://en.wikipedia.org/wiki/2009_Bahrain_Gran...  \n",
       "4  http://en.wikipedia.org/wiki/2009_Spanish_Gran...  "
      ]
     },
     "execution_count": 22,
     "metadata": {},
     "output_type": "execute_result"
    }
   ],
   "source": [
    "# load races data\n",
    "races_data = pd.read_csv('./f1db_csv_mod/races_mod.csv')\n",
    "#races_data = races_data.sort_values(by='date', ascending = False)\n",
    "races_data.head()\n",
    "\n",
    "# latest is 2012"
   ]
  },
  {
   "cell_type": "code",
   "execution_count": 23,
   "metadata": {},
   "outputs": [
    {
     "name": "stdout",
     "output_type": "stream",
     "text": [
      "<class 'pandas.core.frame.DataFrame'>\n",
      "RangeIndex: 1080 entries, 0 to 1079\n",
      "Data columns (total 7 columns):\n",
      " #   Column     Non-Null Count  Dtype \n",
      "---  ------     --------------  ----- \n",
      " 0   raceId     1080 non-null   int64 \n",
      " 1   round      1080 non-null   int64 \n",
      " 2   circuitId  1080 non-null   int64 \n",
      " 3   name       1080 non-null   object\n",
      " 4   date       1070 non-null   object\n",
      " 5   time       1080 non-null   object\n",
      " 6   url        1080 non-null   object\n",
      "dtypes: int64(3), object(4)\n",
      "memory usage: 59.2+ KB\n"
     ]
    },
    {
     "data": {
      "text/html": [
       "<div>\n",
       "<style scoped>\n",
       "    .dataframe tbody tr th:only-of-type {\n",
       "        vertical-align: middle;\n",
       "    }\n",
       "\n",
       "    .dataframe tbody tr th {\n",
       "        vertical-align: top;\n",
       "    }\n",
       "\n",
       "    .dataframe thead th {\n",
       "        text-align: right;\n",
       "    }\n",
       "</style>\n",
       "<table border=\"1\" class=\"dataframe\">\n",
       "  <thead>\n",
       "    <tr style=\"text-align: right;\">\n",
       "      <th></th>\n",
       "      <th>raceId</th>\n",
       "      <th>round</th>\n",
       "      <th>circuitId</th>\n",
       "    </tr>\n",
       "  </thead>\n",
       "  <tbody>\n",
       "    <tr>\n",
       "      <th>count</th>\n",
       "      <td>1080.000000</td>\n",
       "      <td>1080.000000</td>\n",
       "      <td>1080.000000</td>\n",
       "    </tr>\n",
       "    <tr>\n",
       "      <th>mean</th>\n",
       "      <td>542.527778</td>\n",
       "      <td>8.446296</td>\n",
       "      <td>22.450000</td>\n",
       "    </tr>\n",
       "    <tr>\n",
       "      <th>std</th>\n",
       "      <td>314.917085</td>\n",
       "      <td>5.050522</td>\n",
       "      <td>17.675305</td>\n",
       "    </tr>\n",
       "    <tr>\n",
       "      <th>min</th>\n",
       "      <td>1.000000</td>\n",
       "      <td>1.000000</td>\n",
       "      <td>1.000000</td>\n",
       "    </tr>\n",
       "    <tr>\n",
       "      <th>25%</th>\n",
       "      <td>270.750000</td>\n",
       "      <td>4.000000</td>\n",
       "      <td>9.000000</td>\n",
       "    </tr>\n",
       "    <tr>\n",
       "      <th>50%</th>\n",
       "      <td>540.500000</td>\n",
       "      <td>8.000000</td>\n",
       "      <td>18.000000</td>\n",
       "    </tr>\n",
       "    <tr>\n",
       "      <th>75%</th>\n",
       "      <td>810.250000</td>\n",
       "      <td>12.000000</td>\n",
       "      <td>32.000000</td>\n",
       "    </tr>\n",
       "    <tr>\n",
       "      <th>max</th>\n",
       "      <td>1096.000000</td>\n",
       "      <td>23.000000</td>\n",
       "      <td>79.000000</td>\n",
       "    </tr>\n",
       "  </tbody>\n",
       "</table>\n",
       "</div>"
      ],
      "text/plain": [
       "            raceId        round    circuitId\n",
       "count  1080.000000  1080.000000  1080.000000\n",
       "mean    542.527778     8.446296    22.450000\n",
       "std     314.917085     5.050522    17.675305\n",
       "min       1.000000     1.000000     1.000000\n",
       "25%     270.750000     4.000000     9.000000\n",
       "50%     540.500000     8.000000    18.000000\n",
       "75%     810.250000    12.000000    32.000000\n",
       "max    1096.000000    23.000000    79.000000"
      ]
     },
     "execution_count": 23,
     "metadata": {},
     "output_type": "execute_result"
    }
   ],
   "source": [
    "races_data.info()\n",
    "races_data.describe()"
   ]
  },
  {
   "cell_type": "code",
   "execution_count": 24,
   "metadata": {},
   "outputs": [
    {
     "data": {
      "text/html": [
       "<div>\n",
       "<style scoped>\n",
       "    .dataframe tbody tr th:only-of-type {\n",
       "        vertical-align: middle;\n",
       "    }\n",
       "\n",
       "    .dataframe tbody tr th {\n",
       "        vertical-align: top;\n",
       "    }\n",
       "\n",
       "    .dataframe thead th {\n",
       "        text-align: right;\n",
       "    }\n",
       "</style>\n",
       "<table border=\"1\" class=\"dataframe\">\n",
       "  <thead>\n",
       "    <tr style=\"text-align: right;\">\n",
       "      <th></th>\n",
       "      <th>resultId</th>\n",
       "      <th>raceId</th>\n",
       "      <th>driverId</th>\n",
       "      <th>constructorId</th>\n",
       "      <th>number</th>\n",
       "      <th>grid</th>\n",
       "      <th>position</th>\n",
       "      <th>positionText</th>\n",
       "      <th>positionOrder</th>\n",
       "      <th>points</th>\n",
       "      <th>laps</th>\n",
       "      <th>time</th>\n",
       "      <th>milliseconds</th>\n",
       "      <th>fastestLap</th>\n",
       "      <th>rank</th>\n",
       "      <th>fastestLapTime</th>\n",
       "      <th>fastestLapSpeed</th>\n",
       "      <th>statusId</th>\n",
       "    </tr>\n",
       "  </thead>\n",
       "  <tbody>\n",
       "    <tr>\n",
       "      <th>0</th>\n",
       "      <td>1</td>\n",
       "      <td>18</td>\n",
       "      <td>1</td>\n",
       "      <td>1</td>\n",
       "      <td>22</td>\n",
       "      <td>1</td>\n",
       "      <td>1</td>\n",
       "      <td>1</td>\n",
       "      <td>1</td>\n",
       "      <td>10.0</td>\n",
       "      <td>58</td>\n",
       "      <td>34:50.6</td>\n",
       "      <td>5690616</td>\n",
       "      <td>39</td>\n",
       "      <td>2</td>\n",
       "      <td>01:27.5</td>\n",
       "      <td>218.3</td>\n",
       "      <td>1</td>\n",
       "    </tr>\n",
       "    <tr>\n",
       "      <th>1</th>\n",
       "      <td>2</td>\n",
       "      <td>18</td>\n",
       "      <td>2</td>\n",
       "      <td>2</td>\n",
       "      <td>3</td>\n",
       "      <td>5</td>\n",
       "      <td>2</td>\n",
       "      <td>2</td>\n",
       "      <td>2</td>\n",
       "      <td>8.0</td>\n",
       "      <td>58</td>\n",
       "      <td>5.478</td>\n",
       "      <td>5696094</td>\n",
       "      <td>41</td>\n",
       "      <td>3</td>\n",
       "      <td>01:27.7</td>\n",
       "      <td>217.586</td>\n",
       "      <td>1</td>\n",
       "    </tr>\n",
       "    <tr>\n",
       "      <th>2</th>\n",
       "      <td>3</td>\n",
       "      <td>18</td>\n",
       "      <td>3</td>\n",
       "      <td>3</td>\n",
       "      <td>7</td>\n",
       "      <td>7</td>\n",
       "      <td>3</td>\n",
       "      <td>3</td>\n",
       "      <td>3</td>\n",
       "      <td>6.0</td>\n",
       "      <td>58</td>\n",
       "      <td>8.163</td>\n",
       "      <td>5698779</td>\n",
       "      <td>41</td>\n",
       "      <td>5</td>\n",
       "      <td>01:28.1</td>\n",
       "      <td>216.719</td>\n",
       "      <td>1</td>\n",
       "    </tr>\n",
       "    <tr>\n",
       "      <th>3</th>\n",
       "      <td>4</td>\n",
       "      <td>18</td>\n",
       "      <td>4</td>\n",
       "      <td>4</td>\n",
       "      <td>5</td>\n",
       "      <td>11</td>\n",
       "      <td>4</td>\n",
       "      <td>4</td>\n",
       "      <td>4</td>\n",
       "      <td>5.0</td>\n",
       "      <td>58</td>\n",
       "      <td>17.181</td>\n",
       "      <td>5707797</td>\n",
       "      <td>58</td>\n",
       "      <td>7</td>\n",
       "      <td>01:28.6</td>\n",
       "      <td>215.464</td>\n",
       "      <td>1</td>\n",
       "    </tr>\n",
       "    <tr>\n",
       "      <th>4</th>\n",
       "      <td>5</td>\n",
       "      <td>18</td>\n",
       "      <td>5</td>\n",
       "      <td>1</td>\n",
       "      <td>23</td>\n",
       "      <td>3</td>\n",
       "      <td>5</td>\n",
       "      <td>5</td>\n",
       "      <td>5</td>\n",
       "      <td>4.0</td>\n",
       "      <td>58</td>\n",
       "      <td>18.014</td>\n",
       "      <td>5708630</td>\n",
       "      <td>43</td>\n",
       "      <td>1</td>\n",
       "      <td>01:27.4</td>\n",
       "      <td>218.385</td>\n",
       "      <td>1</td>\n",
       "    </tr>\n",
       "  </tbody>\n",
       "</table>\n",
       "</div>"
      ],
      "text/plain": [
       "   resultId  raceId  driverId  constructorId number  grid position  \\\n",
       "0         1      18         1              1     22     1        1   \n",
       "1         2      18         2              2      3     5        2   \n",
       "2         3      18         3              3      7     7        3   \n",
       "3         4      18         4              4      5    11        4   \n",
       "4         5      18         5              1     23     3        5   \n",
       "\n",
       "  positionText  positionOrder  points  laps     time milliseconds fastestLap  \\\n",
       "0            1              1    10.0    58  34:50.6      5690616         39   \n",
       "1            2              2     8.0    58    5.478      5696094         41   \n",
       "2            3              3     6.0    58    8.163      5698779         41   \n",
       "3            4              4     5.0    58   17.181      5707797         58   \n",
       "4            5              5     4.0    58   18.014      5708630         43   \n",
       "\n",
       "  rank fastestLapTime fastestLapSpeed  statusId  \n",
       "0    2        01:27.5           218.3         1  \n",
       "1    3        01:27.7         217.586         1  \n",
       "2    5        01:28.1         216.719         1  \n",
       "3    7        01:28.6         215.464         1  \n",
       "4    1        01:27.4         218.385         1  "
      ]
     },
     "execution_count": 24,
     "metadata": {},
     "output_type": "execute_result"
    }
   ],
   "source": [
    "# load results data\n",
    "results_data = pd.read_csv('./f1db_csv_mod/results_mod.csv')\n",
    "results_data.head()"
   ]
  },
  {
   "cell_type": "code",
   "execution_count": 25,
   "metadata": {},
   "outputs": [
    {
     "data": {
      "text/plain": [
       "(25399, 18)"
      ]
     },
     "execution_count": 25,
     "metadata": {},
     "output_type": "execute_result"
    }
   ],
   "source": [
    "results_data.shape"
   ]
  },
  {
   "cell_type": "code",
   "execution_count": 26,
   "metadata": {},
   "outputs": [
    {
     "name": "stdout",
     "output_type": "stream",
     "text": [
      "<class 'pandas.core.frame.DataFrame'>\n",
      "RangeIndex: 25399 entries, 0 to 25398\n",
      "Data columns (total 18 columns):\n",
      " #   Column           Non-Null Count  Dtype  \n",
      "---  ------           --------------  -----  \n",
      " 0   resultId         25399 non-null  int64  \n",
      " 1   raceId           25399 non-null  int64  \n",
      " 2   driverId         25399 non-null  int64  \n",
      " 3   constructorId    25399 non-null  int64  \n",
      " 4   number           25399 non-null  object \n",
      " 5   grid             25399 non-null  int64  \n",
      " 6   position         25399 non-null  object \n",
      " 7   positionText     25399 non-null  object \n",
      " 8   positionOrder    25399 non-null  int64  \n",
      " 9   points           25399 non-null  float64\n",
      " 10  laps             25399 non-null  int64  \n",
      " 11  time             25399 non-null  object \n",
      " 12  milliseconds     25399 non-null  object \n",
      " 13  fastestLap       25399 non-null  object \n",
      " 14  rank             25399 non-null  object \n",
      " 15  fastestLapTime   25399 non-null  object \n",
      " 16  fastestLapSpeed  25399 non-null  object \n",
      " 17  statusId         25399 non-null  int64  \n",
      "dtypes: float64(1), int64(8), object(9)\n",
      "memory usage: 3.5+ MB\n"
     ]
    },
    {
     "data": {
      "text/html": [
       "<div>\n",
       "<style scoped>\n",
       "    .dataframe tbody tr th:only-of-type {\n",
       "        vertical-align: middle;\n",
       "    }\n",
       "\n",
       "    .dataframe tbody tr th {\n",
       "        vertical-align: top;\n",
       "    }\n",
       "\n",
       "    .dataframe thead th {\n",
       "        text-align: right;\n",
       "    }\n",
       "</style>\n",
       "<table border=\"1\" class=\"dataframe\">\n",
       "  <thead>\n",
       "    <tr style=\"text-align: right;\">\n",
       "      <th></th>\n",
       "      <th>resultId</th>\n",
       "      <th>raceId</th>\n",
       "      <th>driverId</th>\n",
       "      <th>constructorId</th>\n",
       "      <th>grid</th>\n",
       "      <th>positionOrder</th>\n",
       "      <th>points</th>\n",
       "      <th>laps</th>\n",
       "      <th>statusId</th>\n",
       "    </tr>\n",
       "  </thead>\n",
       "  <tbody>\n",
       "    <tr>\n",
       "      <th>count</th>\n",
       "      <td>25399.000000</td>\n",
       "      <td>25399.000000</td>\n",
       "      <td>25399.000000</td>\n",
       "      <td>25399.000000</td>\n",
       "      <td>25399.000000</td>\n",
       "      <td>25399.000000</td>\n",
       "      <td>25399.000000</td>\n",
       "      <td>25399.000000</td>\n",
       "      <td>25399.000000</td>\n",
       "    </tr>\n",
       "    <tr>\n",
       "      <th>mean</th>\n",
       "      <td>12700.761999</td>\n",
       "      <td>521.818576</td>\n",
       "      <td>253.809914</td>\n",
       "      <td>47.809993</td>\n",
       "      <td>11.198000</td>\n",
       "      <td>13.186976</td>\n",
       "      <td>1.822082</td>\n",
       "      <td>45.849443</td>\n",
       "      <td>17.666522</td>\n",
       "    </tr>\n",
       "    <tr>\n",
       "      <th>std</th>\n",
       "      <td>7333.289896</td>\n",
       "      <td>292.937855</td>\n",
       "      <td>261.237589</td>\n",
       "      <td>58.784504</td>\n",
       "      <td>7.264033</td>\n",
       "      <td>8.932839</td>\n",
       "      <td>4.075745</td>\n",
       "      <td>29.962512</td>\n",
       "      <td>26.075967</td>\n",
       "    </tr>\n",
       "    <tr>\n",
       "      <th>min</th>\n",
       "      <td>1.000000</td>\n",
       "      <td>1.000000</td>\n",
       "      <td>1.000000</td>\n",
       "      <td>1.000000</td>\n",
       "      <td>0.000000</td>\n",
       "      <td>1.000000</td>\n",
       "      <td>0.000000</td>\n",
       "      <td>0.000000</td>\n",
       "      <td>1.000000</td>\n",
       "    </tr>\n",
       "    <tr>\n",
       "      <th>25%</th>\n",
       "      <td>6350.500000</td>\n",
       "      <td>289.000000</td>\n",
       "      <td>56.000000</td>\n",
       "      <td>6.000000</td>\n",
       "      <td>5.000000</td>\n",
       "      <td>7.000000</td>\n",
       "      <td>0.000000</td>\n",
       "      <td>21.000000</td>\n",
       "      <td>1.000000</td>\n",
       "    </tr>\n",
       "    <tr>\n",
       "      <th>50%</th>\n",
       "      <td>12700.000000</td>\n",
       "      <td>506.000000</td>\n",
       "      <td>160.000000</td>\n",
       "      <td>25.000000</td>\n",
       "      <td>11.000000</td>\n",
       "      <td>13.000000</td>\n",
       "      <td>0.000000</td>\n",
       "      <td>52.000000</td>\n",
       "      <td>11.000000</td>\n",
       "    </tr>\n",
       "    <tr>\n",
       "      <th>75%</th>\n",
       "      <td>19049.500000</td>\n",
       "      <td>768.000000</td>\n",
       "      <td>353.500000</td>\n",
       "      <td>58.000000</td>\n",
       "      <td>17.000000</td>\n",
       "      <td>19.000000</td>\n",
       "      <td>2.000000</td>\n",
       "      <td>66.000000</td>\n",
       "      <td>14.000000</td>\n",
       "    </tr>\n",
       "    <tr>\n",
       "      <th>max</th>\n",
       "      <td>25404.000000</td>\n",
       "      <td>1073.000000</td>\n",
       "      <td>854.000000</td>\n",
       "      <td>214.000000</td>\n",
       "      <td>34.000000</td>\n",
       "      <td>99.000000</td>\n",
       "      <td>50.000000</td>\n",
       "      <td>200.000000</td>\n",
       "      <td>139.000000</td>\n",
       "    </tr>\n",
       "  </tbody>\n",
       "</table>\n",
       "</div>"
      ],
      "text/plain": [
       "           resultId        raceId      driverId  constructorId          grid  \\\n",
       "count  25399.000000  25399.000000  25399.000000   25399.000000  25399.000000   \n",
       "mean   12700.761999    521.818576    253.809914      47.809993     11.198000   \n",
       "std     7333.289896    292.937855    261.237589      58.784504      7.264033   \n",
       "min        1.000000      1.000000      1.000000       1.000000      0.000000   \n",
       "25%     6350.500000    289.000000     56.000000       6.000000      5.000000   \n",
       "50%    12700.000000    506.000000    160.000000      25.000000     11.000000   \n",
       "75%    19049.500000    768.000000    353.500000      58.000000     17.000000   \n",
       "max    25404.000000   1073.000000    854.000000     214.000000     34.000000   \n",
       "\n",
       "       positionOrder        points          laps      statusId  \n",
       "count   25399.000000  25399.000000  25399.000000  25399.000000  \n",
       "mean       13.186976      1.822082     45.849443     17.666522  \n",
       "std         8.932839      4.075745     29.962512     26.075967  \n",
       "min         1.000000      0.000000      0.000000      1.000000  \n",
       "25%         7.000000      0.000000     21.000000      1.000000  \n",
       "50%        13.000000      0.000000     52.000000     11.000000  \n",
       "75%        19.000000      2.000000     66.000000     14.000000  \n",
       "max        99.000000     50.000000    200.000000    139.000000  "
      ]
     },
     "execution_count": 26,
     "metadata": {},
     "output_type": "execute_result"
    }
   ],
   "source": [
    "results_data.info()\n",
    "results_data.describe()"
   ]
  },
  {
   "cell_type": "code",
   "execution_count": 27,
   "metadata": {},
   "outputs": [
    {
     "data": {
      "text/html": [
       "<div>\n",
       "<style scoped>\n",
       "    .dataframe tbody tr th:only-of-type {\n",
       "        vertical-align: middle;\n",
       "    }\n",
       "\n",
       "    .dataframe tbody tr th {\n",
       "        vertical-align: top;\n",
       "    }\n",
       "\n",
       "    .dataframe thead th {\n",
       "        text-align: right;\n",
       "    }\n",
       "</style>\n",
       "<table border=\"1\" class=\"dataframe\">\n",
       "  <thead>\n",
       "    <tr style=\"text-align: right;\">\n",
       "      <th></th>\n",
       "      <th>year</th>\n",
       "      <th>url</th>\n",
       "    </tr>\n",
       "  </thead>\n",
       "  <tbody>\n",
       "    <tr>\n",
       "      <th>0</th>\n",
       "      <td>2009</td>\n",
       "      <td>https://en.wikipedia.org/wiki/2009_Formula_One...</td>\n",
       "    </tr>\n",
       "    <tr>\n",
       "      <th>1</th>\n",
       "      <td>2008</td>\n",
       "      <td>https://en.wikipedia.org/wiki/2008_Formula_One...</td>\n",
       "    </tr>\n",
       "    <tr>\n",
       "      <th>2</th>\n",
       "      <td>2007</td>\n",
       "      <td>https://en.wikipedia.org/wiki/2007_Formula_One...</td>\n",
       "    </tr>\n",
       "    <tr>\n",
       "      <th>3</th>\n",
       "      <td>2006</td>\n",
       "      <td>https://en.wikipedia.org/wiki/2006_Formula_One...</td>\n",
       "    </tr>\n",
       "    <tr>\n",
       "      <th>4</th>\n",
       "      <td>2005</td>\n",
       "      <td>https://en.wikipedia.org/wiki/2005_Formula_One...</td>\n",
       "    </tr>\n",
       "  </tbody>\n",
       "</table>\n",
       "</div>"
      ],
      "text/plain": [
       "   year                                                url\n",
       "0  2009  https://en.wikipedia.org/wiki/2009_Formula_One...\n",
       "1  2008  https://en.wikipedia.org/wiki/2008_Formula_One...\n",
       "2  2007  https://en.wikipedia.org/wiki/2007_Formula_One...\n",
       "3  2006  https://en.wikipedia.org/wiki/2006_Formula_One...\n",
       "4  2005  https://en.wikipedia.org/wiki/2005_Formula_One..."
      ]
     },
     "execution_count": 27,
     "metadata": {},
     "output_type": "execute_result"
    }
   ],
   "source": [
    "# load seasons data\n",
    "seasons_data = pd.read_csv('./f1db_csv_mod/seasons_mod.csv')\n",
    "seasons_data.head()"
   ]
  },
  {
   "cell_type": "code",
   "execution_count": 28,
   "metadata": {},
   "outputs": [],
   "source": [
    "#seasons_data.info()\n",
    "#seasons_data.describe()"
   ]
  },
  {
   "cell_type": "code",
   "execution_count": 29,
   "metadata": {},
   "outputs": [
    {
     "data": {
      "text/html": [
       "<div>\n",
       "<style scoped>\n",
       "    .dataframe tbody tr th:only-of-type {\n",
       "        vertical-align: middle;\n",
       "    }\n",
       "\n",
       "    .dataframe tbody tr th {\n",
       "        vertical-align: top;\n",
       "    }\n",
       "\n",
       "    .dataframe thead th {\n",
       "        text-align: right;\n",
       "    }\n",
       "</style>\n",
       "<table border=\"1\" class=\"dataframe\">\n",
       "  <thead>\n",
       "    <tr style=\"text-align: right;\">\n",
       "      <th></th>\n",
       "      <th>statusId</th>\n",
       "      <th>status</th>\n",
       "    </tr>\n",
       "  </thead>\n",
       "  <tbody>\n",
       "    <tr>\n",
       "      <th>0</th>\n",
       "      <td>1</td>\n",
       "      <td>Finished</td>\n",
       "    </tr>\n",
       "    <tr>\n",
       "      <th>1</th>\n",
       "      <td>2</td>\n",
       "      <td>Disqualified</td>\n",
       "    </tr>\n",
       "    <tr>\n",
       "      <th>2</th>\n",
       "      <td>3</td>\n",
       "      <td>Accident</td>\n",
       "    </tr>\n",
       "    <tr>\n",
       "      <th>3</th>\n",
       "      <td>4</td>\n",
       "      <td>Collision</td>\n",
       "    </tr>\n",
       "    <tr>\n",
       "      <th>4</th>\n",
       "      <td>5</td>\n",
       "      <td>Engine</td>\n",
       "    </tr>\n",
       "  </tbody>\n",
       "</table>\n",
       "</div>"
      ],
      "text/plain": [
       "   statusId        status\n",
       "0         1      Finished\n",
       "1         2  Disqualified\n",
       "2         3      Accident\n",
       "3         4     Collision\n",
       "4         5        Engine"
      ]
     },
     "execution_count": 29,
     "metadata": {},
     "output_type": "execute_result"
    }
   ],
   "source": [
    "# load status data\n",
    "status_mod = pd.read_csv('./f1db_csv_mod/status_mod.csv')\n",
    "status_mod.head()"
   ]
  },
  {
   "cell_type": "code",
   "execution_count": 30,
   "metadata": {},
   "outputs": [
    {
     "name": "stdout",
     "output_type": "stream",
     "text": [
      "<class 'pandas.core.frame.DataFrame'>\n",
      "RangeIndex: 137 entries, 0 to 136\n",
      "Data columns (total 2 columns):\n",
      " #   Column    Non-Null Count  Dtype \n",
      "---  ------    --------------  ----- \n",
      " 0   statusId  137 non-null    int64 \n",
      " 1   status    137 non-null    object\n",
      "dtypes: int64(1), object(1)\n",
      "memory usage: 2.3+ KB\n"
     ]
    },
    {
     "data": {
      "text/html": [
       "<div>\n",
       "<style scoped>\n",
       "    .dataframe tbody tr th:only-of-type {\n",
       "        vertical-align: middle;\n",
       "    }\n",
       "\n",
       "    .dataframe tbody tr th {\n",
       "        vertical-align: top;\n",
       "    }\n",
       "\n",
       "    .dataframe thead th {\n",
       "        text-align: right;\n",
       "    }\n",
       "</style>\n",
       "<table border=\"1\" class=\"dataframe\">\n",
       "  <thead>\n",
       "    <tr style=\"text-align: right;\">\n",
       "      <th></th>\n",
       "      <th>statusId</th>\n",
       "    </tr>\n",
       "  </thead>\n",
       "  <tbody>\n",
       "    <tr>\n",
       "      <th>count</th>\n",
       "      <td>137.000000</td>\n",
       "    </tr>\n",
       "    <tr>\n",
       "      <th>mean</th>\n",
       "      <td>70.226277</td>\n",
       "    </tr>\n",
       "    <tr>\n",
       "      <th>std</th>\n",
       "      <td>40.519602</td>\n",
       "    </tr>\n",
       "    <tr>\n",
       "      <th>min</th>\n",
       "      <td>1.000000</td>\n",
       "    </tr>\n",
       "    <tr>\n",
       "      <th>25%</th>\n",
       "      <td>35.000000</td>\n",
       "    </tr>\n",
       "    <tr>\n",
       "      <th>50%</th>\n",
       "      <td>71.000000</td>\n",
       "    </tr>\n",
       "    <tr>\n",
       "      <th>75%</th>\n",
       "      <td>105.000000</td>\n",
       "    </tr>\n",
       "    <tr>\n",
       "      <th>max</th>\n",
       "      <td>139.000000</td>\n",
       "    </tr>\n",
       "  </tbody>\n",
       "</table>\n",
       "</div>"
      ],
      "text/plain": [
       "         statusId\n",
       "count  137.000000\n",
       "mean    70.226277\n",
       "std     40.519602\n",
       "min      1.000000\n",
       "25%     35.000000\n",
       "50%     71.000000\n",
       "75%    105.000000\n",
       "max    139.000000"
      ]
     },
     "execution_count": 30,
     "metadata": {},
     "output_type": "execute_result"
    }
   ],
   "source": [
    "status_mod.info()\n",
    "status_mod.describe()"
   ]
  },
  {
   "cell_type": "code",
   "execution_count": null,
   "metadata": {},
   "outputs": [],
   "source": []
  },
  {
   "cell_type": "markdown",
   "metadata": {},
   "source": [
    "#### Exploring the Data"
   ]
  },
  {
   "cell_type": "code",
   "execution_count": 31,
   "metadata": {},
   "outputs": [
    {
     "data": {
      "text/html": [
       "<div>\n",
       "<style scoped>\n",
       "    .dataframe tbody tr th:only-of-type {\n",
       "        vertical-align: middle;\n",
       "    }\n",
       "\n",
       "    .dataframe tbody tr th {\n",
       "        vertical-align: top;\n",
       "    }\n",
       "\n",
       "    .dataframe thead th {\n",
       "        text-align: right;\n",
       "    }\n",
       "</style>\n",
       "<table border=\"1\" class=\"dataframe\">\n",
       "  <thead>\n",
       "    <tr style=\"text-align: right;\">\n",
       "      <th></th>\n",
       "      <th>driverStandingsId</th>\n",
       "      <th>raceId</th>\n",
       "      <th>driverId</th>\n",
       "      <th>points</th>\n",
       "      <th>position</th>\n",
       "      <th>positionText</th>\n",
       "      <th>wins</th>\n",
       "    </tr>\n",
       "  </thead>\n",
       "  <tbody>\n",
       "    <tr>\n",
       "      <th>0</th>\n",
       "      <td>1</td>\n",
       "      <td>18</td>\n",
       "      <td>1</td>\n",
       "      <td>10</td>\n",
       "      <td>1</td>\n",
       "      <td>1</td>\n",
       "      <td>1</td>\n",
       "    </tr>\n",
       "    <tr>\n",
       "      <th>1</th>\n",
       "      <td>2</td>\n",
       "      <td>18</td>\n",
       "      <td>2</td>\n",
       "      <td>8</td>\n",
       "      <td>2</td>\n",
       "      <td>2</td>\n",
       "      <td>0</td>\n",
       "    </tr>\n",
       "    <tr>\n",
       "      <th>2</th>\n",
       "      <td>3</td>\n",
       "      <td>18</td>\n",
       "      <td>3</td>\n",
       "      <td>6</td>\n",
       "      <td>3</td>\n",
       "      <td>3</td>\n",
       "      <td>0</td>\n",
       "    </tr>\n",
       "    <tr>\n",
       "      <th>3</th>\n",
       "      <td>4</td>\n",
       "      <td>18</td>\n",
       "      <td>4</td>\n",
       "      <td>5</td>\n",
       "      <td>4</td>\n",
       "      <td>4</td>\n",
       "      <td>0</td>\n",
       "    </tr>\n",
       "    <tr>\n",
       "      <th>4</th>\n",
       "      <td>5</td>\n",
       "      <td>18</td>\n",
       "      <td>5</td>\n",
       "      <td>4</td>\n",
       "      <td>5</td>\n",
       "      <td>5</td>\n",
       "      <td>0</td>\n",
       "    </tr>\n",
       "  </tbody>\n",
       "</table>\n",
       "</div>"
      ],
      "text/plain": [
       "   driverStandingsId  raceId  driverId points  position positionText  wins\n",
       "0                  1      18         1     10         1            1     1\n",
       "1                  2      18         2      8         2            2     0\n",
       "2                  3      18         3      6         3            3     0\n",
       "3                  4      18         4      5         4            4     0\n",
       "4                  5      18         5      4         5            5     0"
      ]
     },
     "execution_count": 31,
     "metadata": {},
     "output_type": "execute_result"
    }
   ],
   "source": [
    "ds_data.head()"
   ]
  },
  {
   "cell_type": "code",
   "execution_count": 32,
   "metadata": {},
   "outputs": [
    {
     "name": "stdout",
     "output_type": "stream",
     "text": [
      "(33394, 7)\n"
     ]
    }
   ],
   "source": [
    "print(ds_data.shape)"
   ]
  },
  {
   "cell_type": "code",
   "execution_count": 33,
   "metadata": {},
   "outputs": [
    {
     "data": {
      "text/html": [
       "<div>\n",
       "<style scoped>\n",
       "    .dataframe tbody tr th:only-of-type {\n",
       "        vertical-align: middle;\n",
       "    }\n",
       "\n",
       "    .dataframe tbody tr th {\n",
       "        vertical-align: top;\n",
       "    }\n",
       "\n",
       "    .dataframe thead th {\n",
       "        text-align: right;\n",
       "    }\n",
       "</style>\n",
       "<table border=\"1\" class=\"dataframe\">\n",
       "  <thead>\n",
       "    <tr style=\"text-align: right;\">\n",
       "      <th></th>\n",
       "      <th>driverId</th>\n",
       "      <th>driverRef</th>\n",
       "      <th>number</th>\n",
       "      <th>code</th>\n",
       "      <th>forename</th>\n",
       "      <th>surname</th>\n",
       "      <th>dob</th>\n",
       "      <th>nationality</th>\n",
       "      <th>url</th>\n",
       "    </tr>\n",
       "  </thead>\n",
       "  <tbody>\n",
       "    <tr>\n",
       "      <th>0</th>\n",
       "      <td>1</td>\n",
       "      <td>hamilton</td>\n",
       "      <td>44</td>\n",
       "      <td>HAM</td>\n",
       "      <td>Lewis</td>\n",
       "      <td>Hamilton</td>\n",
       "      <td>1985-01-07</td>\n",
       "      <td>British</td>\n",
       "      <td>http://en.wikipedia.org/wiki/Lewis_Hamilton</td>\n",
       "    </tr>\n",
       "    <tr>\n",
       "      <th>1</th>\n",
       "      <td>2</td>\n",
       "      <td>heidfeld</td>\n",
       "      <td>\\N</td>\n",
       "      <td>HEI</td>\n",
       "      <td>Nick</td>\n",
       "      <td>Heidfeld</td>\n",
       "      <td>1977-05-10</td>\n",
       "      <td>German</td>\n",
       "      <td>http://en.wikipedia.org/wiki/Nick_Heidfeld</td>\n",
       "    </tr>\n",
       "    <tr>\n",
       "      <th>2</th>\n",
       "      <td>3</td>\n",
       "      <td>rosberg</td>\n",
       "      <td>6</td>\n",
       "      <td>ROS</td>\n",
       "      <td>Nico</td>\n",
       "      <td>Rosberg</td>\n",
       "      <td>1985-06-27</td>\n",
       "      <td>German</td>\n",
       "      <td>http://en.wikipedia.org/wiki/Nico_Rosberg</td>\n",
       "    </tr>\n",
       "    <tr>\n",
       "      <th>3</th>\n",
       "      <td>4</td>\n",
       "      <td>alonso</td>\n",
       "      <td>14</td>\n",
       "      <td>ALO</td>\n",
       "      <td>Fernando</td>\n",
       "      <td>Alonso</td>\n",
       "      <td>1981-07-29</td>\n",
       "      <td>Spanish</td>\n",
       "      <td>http://en.wikipedia.org/wiki/Fernando_Alonso</td>\n",
       "    </tr>\n",
       "    <tr>\n",
       "      <th>4</th>\n",
       "      <td>5</td>\n",
       "      <td>kovalainen</td>\n",
       "      <td>\\N</td>\n",
       "      <td>KOV</td>\n",
       "      <td>Heikki</td>\n",
       "      <td>Kovalainen</td>\n",
       "      <td>1981-10-19</td>\n",
       "      <td>Finnish</td>\n",
       "      <td>http://en.wikipedia.org/wiki/Heikki_Kovalainen</td>\n",
       "    </tr>\n",
       "  </tbody>\n",
       "</table>\n",
       "</div>"
      ],
      "text/plain": [
       "   driverId   driverRef number code  forename     surname         dob  \\\n",
       "0         1    hamilton     44  HAM     Lewis    Hamilton  1985-01-07   \n",
       "1         2    heidfeld     \\N  HEI      Nick    Heidfeld  1977-05-10   \n",
       "2         3     rosberg      6  ROS      Nico     Rosberg  1985-06-27   \n",
       "3         4      alonso     14  ALO  Fernando      Alonso  1981-07-29   \n",
       "4         5  kovalainen     \\N  KOV    Heikki  Kovalainen  1981-10-19   \n",
       "\n",
       "  nationality                                             url  \n",
       "0     British     http://en.wikipedia.org/wiki/Lewis_Hamilton  \n",
       "1      German      http://en.wikipedia.org/wiki/Nick_Heidfeld  \n",
       "2      German       http://en.wikipedia.org/wiki/Nico_Rosberg  \n",
       "3     Spanish    http://en.wikipedia.org/wiki/Fernando_Alonso  \n",
       "4     Finnish  http://en.wikipedia.org/wiki/Heikki_Kovalainen  "
      ]
     },
     "execution_count": 33,
     "metadata": {},
     "output_type": "execute_result"
    }
   ],
   "source": [
    "drivers_data.head()"
   ]
  },
  {
   "cell_type": "code",
   "execution_count": 34,
   "metadata": {},
   "outputs": [
    {
     "name": "stdout",
     "output_type": "stream",
     "text": [
      "(854, 9)\n"
     ]
    }
   ],
   "source": [
    "print(drivers_data.shape)"
   ]
  },
  {
   "cell_type": "code",
   "execution_count": 35,
   "metadata": {},
   "outputs": [
    {
     "data": {
      "text/html": [
       "<div>\n",
       "<style scoped>\n",
       "    .dataframe tbody tr th:only-of-type {\n",
       "        vertical-align: middle;\n",
       "    }\n",
       "\n",
       "    .dataframe tbody tr th {\n",
       "        vertical-align: top;\n",
       "    }\n",
       "\n",
       "    .dataframe thead th {\n",
       "        text-align: right;\n",
       "    }\n",
       "</style>\n",
       "<table border=\"1\" class=\"dataframe\">\n",
       "  <thead>\n",
       "    <tr style=\"text-align: right;\">\n",
       "      <th></th>\n",
       "      <th>resultId</th>\n",
       "      <th>raceId</th>\n",
       "      <th>driverId</th>\n",
       "      <th>constructorId</th>\n",
       "      <th>number</th>\n",
       "      <th>grid</th>\n",
       "      <th>position</th>\n",
       "      <th>positionText</th>\n",
       "      <th>positionOrder</th>\n",
       "      <th>points</th>\n",
       "      <th>laps</th>\n",
       "      <th>time</th>\n",
       "      <th>milliseconds</th>\n",
       "      <th>fastestLap</th>\n",
       "      <th>rank</th>\n",
       "      <th>fastestLapTime</th>\n",
       "      <th>fastestLapSpeed</th>\n",
       "      <th>statusId</th>\n",
       "    </tr>\n",
       "  </thead>\n",
       "  <tbody>\n",
       "    <tr>\n",
       "      <th>0</th>\n",
       "      <td>1</td>\n",
       "      <td>18</td>\n",
       "      <td>1</td>\n",
       "      <td>1</td>\n",
       "      <td>22</td>\n",
       "      <td>1</td>\n",
       "      <td>1</td>\n",
       "      <td>1</td>\n",
       "      <td>1</td>\n",
       "      <td>10.0</td>\n",
       "      <td>58</td>\n",
       "      <td>34:50.6</td>\n",
       "      <td>5690616</td>\n",
       "      <td>39</td>\n",
       "      <td>2</td>\n",
       "      <td>01:27.5</td>\n",
       "      <td>218.3</td>\n",
       "      <td>1</td>\n",
       "    </tr>\n",
       "    <tr>\n",
       "      <th>1</th>\n",
       "      <td>2</td>\n",
       "      <td>18</td>\n",
       "      <td>2</td>\n",
       "      <td>2</td>\n",
       "      <td>3</td>\n",
       "      <td>5</td>\n",
       "      <td>2</td>\n",
       "      <td>2</td>\n",
       "      <td>2</td>\n",
       "      <td>8.0</td>\n",
       "      <td>58</td>\n",
       "      <td>5.478</td>\n",
       "      <td>5696094</td>\n",
       "      <td>41</td>\n",
       "      <td>3</td>\n",
       "      <td>01:27.7</td>\n",
       "      <td>217.586</td>\n",
       "      <td>1</td>\n",
       "    </tr>\n",
       "    <tr>\n",
       "      <th>2</th>\n",
       "      <td>3</td>\n",
       "      <td>18</td>\n",
       "      <td>3</td>\n",
       "      <td>3</td>\n",
       "      <td>7</td>\n",
       "      <td>7</td>\n",
       "      <td>3</td>\n",
       "      <td>3</td>\n",
       "      <td>3</td>\n",
       "      <td>6.0</td>\n",
       "      <td>58</td>\n",
       "      <td>8.163</td>\n",
       "      <td>5698779</td>\n",
       "      <td>41</td>\n",
       "      <td>5</td>\n",
       "      <td>01:28.1</td>\n",
       "      <td>216.719</td>\n",
       "      <td>1</td>\n",
       "    </tr>\n",
       "    <tr>\n",
       "      <th>3</th>\n",
       "      <td>4</td>\n",
       "      <td>18</td>\n",
       "      <td>4</td>\n",
       "      <td>4</td>\n",
       "      <td>5</td>\n",
       "      <td>11</td>\n",
       "      <td>4</td>\n",
       "      <td>4</td>\n",
       "      <td>4</td>\n",
       "      <td>5.0</td>\n",
       "      <td>58</td>\n",
       "      <td>17.181</td>\n",
       "      <td>5707797</td>\n",
       "      <td>58</td>\n",
       "      <td>7</td>\n",
       "      <td>01:28.6</td>\n",
       "      <td>215.464</td>\n",
       "      <td>1</td>\n",
       "    </tr>\n",
       "    <tr>\n",
       "      <th>4</th>\n",
       "      <td>5</td>\n",
       "      <td>18</td>\n",
       "      <td>5</td>\n",
       "      <td>1</td>\n",
       "      <td>23</td>\n",
       "      <td>3</td>\n",
       "      <td>5</td>\n",
       "      <td>5</td>\n",
       "      <td>5</td>\n",
       "      <td>4.0</td>\n",
       "      <td>58</td>\n",
       "      <td>18.014</td>\n",
       "      <td>5708630</td>\n",
       "      <td>43</td>\n",
       "      <td>1</td>\n",
       "      <td>01:27.4</td>\n",
       "      <td>218.385</td>\n",
       "      <td>1</td>\n",
       "    </tr>\n",
       "  </tbody>\n",
       "</table>\n",
       "</div>"
      ],
      "text/plain": [
       "   resultId  raceId  driverId  constructorId number  grid position  \\\n",
       "0         1      18         1              1     22     1        1   \n",
       "1         2      18         2              2      3     5        2   \n",
       "2         3      18         3              3      7     7        3   \n",
       "3         4      18         4              4      5    11        4   \n",
       "4         5      18         5              1     23     3        5   \n",
       "\n",
       "  positionText  positionOrder  points  laps     time milliseconds fastestLap  \\\n",
       "0            1              1    10.0    58  34:50.6      5690616         39   \n",
       "1            2              2     8.0    58    5.478      5696094         41   \n",
       "2            3              3     6.0    58    8.163      5698779         41   \n",
       "3            4              4     5.0    58   17.181      5707797         58   \n",
       "4            5              5     4.0    58   18.014      5708630         43   \n",
       "\n",
       "  rank fastestLapTime fastestLapSpeed  statusId  \n",
       "0    2        01:27.5           218.3         1  \n",
       "1    3        01:27.7         217.586         1  \n",
       "2    5        01:28.1         216.719         1  \n",
       "3    7        01:28.6         215.464         1  \n",
       "4    1        01:27.4         218.385         1  "
      ]
     },
     "execution_count": 35,
     "metadata": {},
     "output_type": "execute_result"
    }
   ],
   "source": [
    "results_data.head()"
   ]
  },
  {
   "cell_type": "code",
   "execution_count": 36,
   "metadata": {},
   "outputs": [
    {
     "name": "stdout",
     "output_type": "stream",
     "text": [
      "(25399, 18)\n"
     ]
    }
   ],
   "source": [
    "print(results_data.shape)"
   ]
  },
  {
   "cell_type": "code",
   "execution_count": 37,
   "metadata": {},
   "outputs": [
    {
     "data": {
      "text/html": [
       "<div>\n",
       "<style scoped>\n",
       "    .dataframe tbody tr th:only-of-type {\n",
       "        vertical-align: middle;\n",
       "    }\n",
       "\n",
       "    .dataframe tbody tr th {\n",
       "        vertical-align: top;\n",
       "    }\n",
       "\n",
       "    .dataframe thead th {\n",
       "        text-align: right;\n",
       "    }\n",
       "</style>\n",
       "<table border=\"1\" class=\"dataframe\">\n",
       "  <thead>\n",
       "    <tr style=\"text-align: right;\">\n",
       "      <th></th>\n",
       "      <th>raceId</th>\n",
       "      <th>round</th>\n",
       "      <th>circuitId</th>\n",
       "      <th>name</th>\n",
       "      <th>date</th>\n",
       "      <th>time</th>\n",
       "      <th>url</th>\n",
       "    </tr>\n",
       "  </thead>\n",
       "  <tbody>\n",
       "    <tr>\n",
       "      <th>0</th>\n",
       "      <td>1</td>\n",
       "      <td>1</td>\n",
       "      <td>1</td>\n",
       "      <td>Australian Grand Prix</td>\n",
       "      <td>3/29/2009</td>\n",
       "      <td>6:00:00</td>\n",
       "      <td>http://en.wikipedia.org/wiki/2009_Australian_G...</td>\n",
       "    </tr>\n",
       "    <tr>\n",
       "      <th>1</th>\n",
       "      <td>2</td>\n",
       "      <td>2</td>\n",
       "      <td>2</td>\n",
       "      <td>Malaysian Grand Prix</td>\n",
       "      <td>4/5/12009</td>\n",
       "      <td>9:00:00</td>\n",
       "      <td>http://en.wikipedia.org/wiki/2009_Malaysian_Gr...</td>\n",
       "    </tr>\n",
       "    <tr>\n",
       "      <th>2</th>\n",
       "      <td>3</td>\n",
       "      <td>3</td>\n",
       "      <td>17</td>\n",
       "      <td>Chinese Grand Prix</td>\n",
       "      <td>4/19/2009</td>\n",
       "      <td>7:00:00</td>\n",
       "      <td>http://en.wikipedia.org/wiki/2009_Chinese_Gran...</td>\n",
       "    </tr>\n",
       "    <tr>\n",
       "      <th>3</th>\n",
       "      <td>4</td>\n",
       "      <td>4</td>\n",
       "      <td>3</td>\n",
       "      <td>Bahrain Grand Prix</td>\n",
       "      <td>4/26/2009</td>\n",
       "      <td>12:00:00</td>\n",
       "      <td>http://en.wikipedia.org/wiki/2009_Bahrain_Gran...</td>\n",
       "    </tr>\n",
       "    <tr>\n",
       "      <th>4</th>\n",
       "      <td>5</td>\n",
       "      <td>5</td>\n",
       "      <td>4</td>\n",
       "      <td>Spanish Grand Prix</td>\n",
       "      <td>5/10/2009</td>\n",
       "      <td>12:00:00</td>\n",
       "      <td>http://en.wikipedia.org/wiki/2009_Spanish_Gran...</td>\n",
       "    </tr>\n",
       "  </tbody>\n",
       "</table>\n",
       "</div>"
      ],
      "text/plain": [
       "   raceId  round  circuitId                   name       date      time  \\\n",
       "0       1      1          1  Australian Grand Prix  3/29/2009   6:00:00   \n",
       "1       2      2          2   Malaysian Grand Prix  4/5/12009   9:00:00   \n",
       "2       3      3         17     Chinese Grand Prix  4/19/2009   7:00:00   \n",
       "3       4      4          3     Bahrain Grand Prix  4/26/2009  12:00:00   \n",
       "4       5      5          4     Spanish Grand Prix  5/10/2009  12:00:00   \n",
       "\n",
       "                                                 url  \n",
       "0  http://en.wikipedia.org/wiki/2009_Australian_G...  \n",
       "1  http://en.wikipedia.org/wiki/2009_Malaysian_Gr...  \n",
       "2  http://en.wikipedia.org/wiki/2009_Chinese_Gran...  \n",
       "3  http://en.wikipedia.org/wiki/2009_Bahrain_Gran...  \n",
       "4  http://en.wikipedia.org/wiki/2009_Spanish_Gran...  "
      ]
     },
     "execution_count": 37,
     "metadata": {},
     "output_type": "execute_result"
    }
   ],
   "source": [
    "races_data.head()"
   ]
  },
  {
   "cell_type": "code",
   "execution_count": 38,
   "metadata": {},
   "outputs": [
    {
     "name": "stdout",
     "output_type": "stream",
     "text": [
      "(1080, 7)\n"
     ]
    }
   ],
   "source": [
    "print(races_data.shape)"
   ]
  },
  {
   "cell_type": "code",
   "execution_count": 39,
   "metadata": {},
   "outputs": [
    {
     "data": {
      "text/html": [
       "<div>\n",
       "<style scoped>\n",
       "    .dataframe tbody tr th:only-of-type {\n",
       "        vertical-align: middle;\n",
       "    }\n",
       "\n",
       "    .dataframe tbody tr th {\n",
       "        vertical-align: top;\n",
       "    }\n",
       "\n",
       "    .dataframe thead th {\n",
       "        text-align: right;\n",
       "    }\n",
       "</style>\n",
       "<table border=\"1\" class=\"dataframe\">\n",
       "  <thead>\n",
       "    <tr style=\"text-align: right;\">\n",
       "      <th></th>\n",
       "      <th>statusId</th>\n",
       "      <th>status</th>\n",
       "    </tr>\n",
       "  </thead>\n",
       "  <tbody>\n",
       "    <tr>\n",
       "      <th>0</th>\n",
       "      <td>1</td>\n",
       "      <td>Finished</td>\n",
       "    </tr>\n",
       "    <tr>\n",
       "      <th>1</th>\n",
       "      <td>2</td>\n",
       "      <td>Disqualified</td>\n",
       "    </tr>\n",
       "    <tr>\n",
       "      <th>2</th>\n",
       "      <td>3</td>\n",
       "      <td>Accident</td>\n",
       "    </tr>\n",
       "    <tr>\n",
       "      <th>3</th>\n",
       "      <td>4</td>\n",
       "      <td>Collision</td>\n",
       "    </tr>\n",
       "    <tr>\n",
       "      <th>4</th>\n",
       "      <td>5</td>\n",
       "      <td>Engine</td>\n",
       "    </tr>\n",
       "  </tbody>\n",
       "</table>\n",
       "</div>"
      ],
      "text/plain": [
       "   statusId        status\n",
       "0         1      Finished\n",
       "1         2  Disqualified\n",
       "2         3      Accident\n",
       "3         4     Collision\n",
       "4         5        Engine"
      ]
     },
     "execution_count": 39,
     "metadata": {},
     "output_type": "execute_result"
    }
   ],
   "source": [
    "status_mod.head()"
   ]
  },
  {
   "cell_type": "code",
   "execution_count": null,
   "metadata": {},
   "outputs": [],
   "source": []
  },
  {
   "cell_type": "markdown",
   "metadata": {},
   "source": [
    "### Step 2: Data Wrangling on multiple tables "
   ]
  },
  {
   "cell_type": "markdown",
   "metadata": {},
   "source": [
    "#### Prediction problem - will Driver Nick Heidfeld finish the race?"
   ]
  },
  {
   "cell_type": "code",
   "execution_count": 40,
   "metadata": {},
   "outputs": [
    {
     "data": {
      "text/html": [
       "<div>\n",
       "<style scoped>\n",
       "    .dataframe tbody tr th:only-of-type {\n",
       "        vertical-align: middle;\n",
       "    }\n",
       "\n",
       "    .dataframe tbody tr th {\n",
       "        vertical-align: top;\n",
       "    }\n",
       "\n",
       "    .dataframe thead th {\n",
       "        text-align: right;\n",
       "    }\n",
       "</style>\n",
       "<table border=\"1\" class=\"dataframe\">\n",
       "  <thead>\n",
       "    <tr style=\"text-align: right;\">\n",
       "      <th></th>\n",
       "      <th>driverId</th>\n",
       "      <th>forename</th>\n",
       "      <th>surname</th>\n",
       "    </tr>\n",
       "  </thead>\n",
       "  <tbody>\n",
       "    <tr>\n",
       "      <th>0</th>\n",
       "      <td>1</td>\n",
       "      <td>Lewis</td>\n",
       "      <td>Hamilton</td>\n",
       "    </tr>\n",
       "    <tr>\n",
       "      <th>1</th>\n",
       "      <td>2</td>\n",
       "      <td>Nick</td>\n",
       "      <td>Heidfeld</td>\n",
       "    </tr>\n",
       "    <tr>\n",
       "      <th>2</th>\n",
       "      <td>3</td>\n",
       "      <td>Nico</td>\n",
       "      <td>Rosberg</td>\n",
       "    </tr>\n",
       "    <tr>\n",
       "      <th>3</th>\n",
       "      <td>4</td>\n",
       "      <td>Fernando</td>\n",
       "      <td>Alonso</td>\n",
       "    </tr>\n",
       "    <tr>\n",
       "      <th>4</th>\n",
       "      <td>5</td>\n",
       "      <td>Heikki</td>\n",
       "      <td>Kovalainen</td>\n",
       "    </tr>\n",
       "    <tr>\n",
       "      <th>5</th>\n",
       "      <td>6</td>\n",
       "      <td>Kazuki</td>\n",
       "      <td>Nakajima</td>\n",
       "    </tr>\n",
       "    <tr>\n",
       "      <th>6</th>\n",
       "      <td>7</td>\n",
       "      <td>Sébastien</td>\n",
       "      <td>Bourdais</td>\n",
       "    </tr>\n",
       "    <tr>\n",
       "      <th>7</th>\n",
       "      <td>8</td>\n",
       "      <td>Kimi</td>\n",
       "      <td>Räikkönen</td>\n",
       "    </tr>\n",
       "    <tr>\n",
       "      <th>8</th>\n",
       "      <td>9</td>\n",
       "      <td>Robert</td>\n",
       "      <td>Kubica</td>\n",
       "    </tr>\n",
       "    <tr>\n",
       "      <th>9</th>\n",
       "      <td>10</td>\n",
       "      <td>Timo</td>\n",
       "      <td>Glock</td>\n",
       "    </tr>\n",
       "    <tr>\n",
       "      <th>10</th>\n",
       "      <td>11</td>\n",
       "      <td>Takuma</td>\n",
       "      <td>Sato</td>\n",
       "    </tr>\n",
       "  </tbody>\n",
       "</table>\n",
       "</div>"
      ],
      "text/plain": [
       "    driverId   forename     surname\n",
       "0          1      Lewis    Hamilton\n",
       "1          2       Nick    Heidfeld\n",
       "2          3       Nico     Rosberg\n",
       "3          4   Fernando      Alonso\n",
       "4          5     Heikki  Kovalainen\n",
       "5          6     Kazuki    Nakajima\n",
       "6          7  Sébastien    Bourdais\n",
       "7          8       Kimi   Räikkönen\n",
       "8          9     Robert      Kubica\n",
       "9         10       Timo       Glock\n",
       "10        11     Takuma        Sato"
      ]
     },
     "execution_count": 40,
     "metadata": {},
     "output_type": "execute_result"
    }
   ],
   "source": [
    "# for drivers_data table, subsetting to three columns instead\n",
    "\n",
    "drivers_data = drivers_data.loc[0:10,['driverId','forename','surname']]\n",
    "drivers_data"
   ]
  },
  {
   "cell_type": "code",
   "execution_count": 41,
   "metadata": {},
   "outputs": [
    {
     "data": {
      "text/html": [
       "<div>\n",
       "<style scoped>\n",
       "    .dataframe tbody tr th:only-of-type {\n",
       "        vertical-align: middle;\n",
       "    }\n",
       "\n",
       "    .dataframe tbody tr th {\n",
       "        vertical-align: top;\n",
       "    }\n",
       "\n",
       "    .dataframe thead th {\n",
       "        text-align: right;\n",
       "    }\n",
       "</style>\n",
       "<table border=\"1\" class=\"dataframe\">\n",
       "  <thead>\n",
       "    <tr style=\"text-align: right;\">\n",
       "      <th></th>\n",
       "      <th>statusId</th>\n",
       "      <th>status</th>\n",
       "    </tr>\n",
       "  </thead>\n",
       "  <tbody>\n",
       "    <tr>\n",
       "      <th>0</th>\n",
       "      <td>1</td>\n",
       "      <td>Finished</td>\n",
       "    </tr>\n",
       "    <tr>\n",
       "      <th>1</th>\n",
       "      <td>2</td>\n",
       "      <td>Disqualified</td>\n",
       "    </tr>\n",
       "    <tr>\n",
       "      <th>2</th>\n",
       "      <td>3</td>\n",
       "      <td>Accident</td>\n",
       "    </tr>\n",
       "    <tr>\n",
       "      <th>3</th>\n",
       "      <td>4</td>\n",
       "      <td>Collision</td>\n",
       "    </tr>\n",
       "    <tr>\n",
       "      <th>4</th>\n",
       "      <td>5</td>\n",
       "      <td>Engine</td>\n",
       "    </tr>\n",
       "    <tr>\n",
       "      <th>...</th>\n",
       "      <td>...</td>\n",
       "      <td>...</td>\n",
       "    </tr>\n",
       "    <tr>\n",
       "      <th>132</th>\n",
       "      <td>135</td>\n",
       "      <td>Brake duct</td>\n",
       "    </tr>\n",
       "    <tr>\n",
       "      <th>133</th>\n",
       "      <td>136</td>\n",
       "      <td>Seat</td>\n",
       "    </tr>\n",
       "    <tr>\n",
       "      <th>134</th>\n",
       "      <td>137</td>\n",
       "      <td>Damage</td>\n",
       "    </tr>\n",
       "    <tr>\n",
       "      <th>135</th>\n",
       "      <td>138</td>\n",
       "      <td>Debris</td>\n",
       "    </tr>\n",
       "    <tr>\n",
       "      <th>136</th>\n",
       "      <td>139</td>\n",
       "      <td>Illness</td>\n",
       "    </tr>\n",
       "  </tbody>\n",
       "</table>\n",
       "<p>137 rows × 2 columns</p>\n",
       "</div>"
      ],
      "text/plain": [
       "     statusId        status\n",
       "0           1      Finished\n",
       "1           2  Disqualified\n",
       "2           3      Accident\n",
       "3           4     Collision\n",
       "4           5        Engine\n",
       "..        ...           ...\n",
       "132       135    Brake duct\n",
       "133       136          Seat\n",
       "134       137        Damage\n",
       "135       138        Debris\n",
       "136       139       Illness\n",
       "\n",
       "[137 rows x 2 columns]"
      ]
     },
     "execution_count": 41,
     "metadata": {},
     "output_type": "execute_result"
    }
   ],
   "source": [
    "# to check what each statusId mean\n",
    "status_mod"
   ]
  },
  {
   "cell_type": "code",
   "execution_count": 42,
   "metadata": {},
   "outputs": [
    {
     "data": {
      "text/html": [
       "<div>\n",
       "<style scoped>\n",
       "    .dataframe tbody tr th:only-of-type {\n",
       "        vertical-align: middle;\n",
       "    }\n",
       "\n",
       "    .dataframe tbody tr th {\n",
       "        vertical-align: top;\n",
       "    }\n",
       "\n",
       "    .dataframe thead th {\n",
       "        text-align: right;\n",
       "    }\n",
       "</style>\n",
       "<table border=\"1\" class=\"dataframe\">\n",
       "  <thead>\n",
       "    <tr style=\"text-align: right;\">\n",
       "      <th></th>\n",
       "      <th>resultId</th>\n",
       "      <th>raceId</th>\n",
       "      <th>driverId</th>\n",
       "      <th>constructorId</th>\n",
       "      <th>number</th>\n",
       "      <th>grid</th>\n",
       "      <th>position</th>\n",
       "      <th>positionText</th>\n",
       "      <th>positionOrder</th>\n",
       "      <th>points</th>\n",
       "      <th>laps</th>\n",
       "      <th>time</th>\n",
       "      <th>milliseconds</th>\n",
       "      <th>fastestLap</th>\n",
       "      <th>rank</th>\n",
       "      <th>fastestLapTime</th>\n",
       "      <th>fastestLapSpeed</th>\n",
       "      <th>statusId</th>\n",
       "    </tr>\n",
       "  </thead>\n",
       "  <tbody>\n",
       "    <tr>\n",
       "      <th>0</th>\n",
       "      <td>1</td>\n",
       "      <td>18</td>\n",
       "      <td>1</td>\n",
       "      <td>1</td>\n",
       "      <td>22</td>\n",
       "      <td>1</td>\n",
       "      <td>1</td>\n",
       "      <td>1</td>\n",
       "      <td>1</td>\n",
       "      <td>10.0</td>\n",
       "      <td>58</td>\n",
       "      <td>34:50.6</td>\n",
       "      <td>5690616</td>\n",
       "      <td>39</td>\n",
       "      <td>2</td>\n",
       "      <td>01:27.5</td>\n",
       "      <td>218.3</td>\n",
       "      <td>1</td>\n",
       "    </tr>\n",
       "    <tr>\n",
       "      <th>1</th>\n",
       "      <td>2</td>\n",
       "      <td>18</td>\n",
       "      <td>2</td>\n",
       "      <td>2</td>\n",
       "      <td>3</td>\n",
       "      <td>5</td>\n",
       "      <td>2</td>\n",
       "      <td>2</td>\n",
       "      <td>2</td>\n",
       "      <td>8.0</td>\n",
       "      <td>58</td>\n",
       "      <td>5.478</td>\n",
       "      <td>5696094</td>\n",
       "      <td>41</td>\n",
       "      <td>3</td>\n",
       "      <td>01:27.7</td>\n",
       "      <td>217.586</td>\n",
       "      <td>1</td>\n",
       "    </tr>\n",
       "    <tr>\n",
       "      <th>2</th>\n",
       "      <td>3</td>\n",
       "      <td>18</td>\n",
       "      <td>3</td>\n",
       "      <td>3</td>\n",
       "      <td>7</td>\n",
       "      <td>7</td>\n",
       "      <td>3</td>\n",
       "      <td>3</td>\n",
       "      <td>3</td>\n",
       "      <td>6.0</td>\n",
       "      <td>58</td>\n",
       "      <td>8.163</td>\n",
       "      <td>5698779</td>\n",
       "      <td>41</td>\n",
       "      <td>5</td>\n",
       "      <td>01:28.1</td>\n",
       "      <td>216.719</td>\n",
       "      <td>1</td>\n",
       "    </tr>\n",
       "    <tr>\n",
       "      <th>3</th>\n",
       "      <td>4</td>\n",
       "      <td>18</td>\n",
       "      <td>4</td>\n",
       "      <td>4</td>\n",
       "      <td>5</td>\n",
       "      <td>11</td>\n",
       "      <td>4</td>\n",
       "      <td>4</td>\n",
       "      <td>4</td>\n",
       "      <td>5.0</td>\n",
       "      <td>58</td>\n",
       "      <td>17.181</td>\n",
       "      <td>5707797</td>\n",
       "      <td>58</td>\n",
       "      <td>7</td>\n",
       "      <td>01:28.6</td>\n",
       "      <td>215.464</td>\n",
       "      <td>1</td>\n",
       "    </tr>\n",
       "    <tr>\n",
       "      <th>4</th>\n",
       "      <td>5</td>\n",
       "      <td>18</td>\n",
       "      <td>5</td>\n",
       "      <td>1</td>\n",
       "      <td>23</td>\n",
       "      <td>3</td>\n",
       "      <td>5</td>\n",
       "      <td>5</td>\n",
       "      <td>5</td>\n",
       "      <td>4.0</td>\n",
       "      <td>58</td>\n",
       "      <td>18.014</td>\n",
       "      <td>5708630</td>\n",
       "      <td>43</td>\n",
       "      <td>1</td>\n",
       "      <td>01:27.4</td>\n",
       "      <td>218.385</td>\n",
       "      <td>1</td>\n",
       "    </tr>\n",
       "  </tbody>\n",
       "</table>\n",
       "</div>"
      ],
      "text/plain": [
       "   resultId  raceId  driverId  constructorId number  grid position  \\\n",
       "0         1      18         1              1     22     1        1   \n",
       "1         2      18         2              2      3     5        2   \n",
       "2         3      18         3              3      7     7        3   \n",
       "3         4      18         4              4      5    11        4   \n",
       "4         5      18         5              1     23     3        5   \n",
       "\n",
       "  positionText  positionOrder  points  laps     time milliseconds fastestLap  \\\n",
       "0            1              1    10.0    58  34:50.6      5690616         39   \n",
       "1            2              2     8.0    58    5.478      5696094         41   \n",
       "2            3              3     6.0    58    8.163      5698779         41   \n",
       "3            4              4     5.0    58   17.181      5707797         58   \n",
       "4            5              5     4.0    58   18.014      5708630         43   \n",
       "\n",
       "  rank fastestLapTime fastestLapSpeed  statusId  \n",
       "0    2        01:27.5           218.3         1  \n",
       "1    3        01:27.7         217.586         1  \n",
       "2    5        01:28.1         216.719         1  \n",
       "3    7        01:28.6         215.464         1  \n",
       "4    1        01:27.4         218.385         1  "
      ]
     },
     "execution_count": 42,
     "metadata": {},
     "output_type": "execute_result"
    }
   ],
   "source": [
    "results_data.head()"
   ]
  },
  {
   "cell_type": "code",
   "execution_count": 43,
   "metadata": {},
   "outputs": [
    {
     "data": {
      "text/html": [
       "<div>\n",
       "<style scoped>\n",
       "    .dataframe tbody tr th:only-of-type {\n",
       "        vertical-align: middle;\n",
       "    }\n",
       "\n",
       "    .dataframe tbody tr th {\n",
       "        vertical-align: top;\n",
       "    }\n",
       "\n",
       "    .dataframe thead th {\n",
       "        text-align: right;\n",
       "    }\n",
       "</style>\n",
       "<table border=\"1\" class=\"dataframe\">\n",
       "  <thead>\n",
       "    <tr style=\"text-align: right;\">\n",
       "      <th></th>\n",
       "      <th>resultId</th>\n",
       "      <th>driverId</th>\n",
       "      <th>raceId</th>\n",
       "      <th>points</th>\n",
       "      <th>fastestLapTime</th>\n",
       "      <th>statusId</th>\n",
       "    </tr>\n",
       "  </thead>\n",
       "  <tbody>\n",
       "    <tr>\n",
       "      <th>0</th>\n",
       "      <td>1</td>\n",
       "      <td>1</td>\n",
       "      <td>18</td>\n",
       "      <td>10.0</td>\n",
       "      <td>01:27.5</td>\n",
       "      <td>1</td>\n",
       "    </tr>\n",
       "    <tr>\n",
       "      <th>1</th>\n",
       "      <td>2</td>\n",
       "      <td>2</td>\n",
       "      <td>18</td>\n",
       "      <td>8.0</td>\n",
       "      <td>01:27.7</td>\n",
       "      <td>1</td>\n",
       "    </tr>\n",
       "    <tr>\n",
       "      <th>2</th>\n",
       "      <td>3</td>\n",
       "      <td>3</td>\n",
       "      <td>18</td>\n",
       "      <td>6.0</td>\n",
       "      <td>01:28.1</td>\n",
       "      <td>1</td>\n",
       "    </tr>\n",
       "    <tr>\n",
       "      <th>3</th>\n",
       "      <td>4</td>\n",
       "      <td>4</td>\n",
       "      <td>18</td>\n",
       "      <td>5.0</td>\n",
       "      <td>01:28.6</td>\n",
       "      <td>1</td>\n",
       "    </tr>\n",
       "    <tr>\n",
       "      <th>4</th>\n",
       "      <td>5</td>\n",
       "      <td>5</td>\n",
       "      <td>18</td>\n",
       "      <td>4.0</td>\n",
       "      <td>01:27.4</td>\n",
       "      <td>1</td>\n",
       "    </tr>\n",
       "    <tr>\n",
       "      <th>...</th>\n",
       "      <td>...</td>\n",
       "      <td>...</td>\n",
       "      <td>...</td>\n",
       "      <td>...</td>\n",
       "      <td>...</td>\n",
       "      <td>...</td>\n",
       "    </tr>\n",
       "    <tr>\n",
       "      <th>25394</th>\n",
       "      <td>25400</td>\n",
       "      <td>815</td>\n",
       "      <td>1073</td>\n",
       "      <td>0.0</td>\n",
       "      <td>01:26.4</td>\n",
       "      <td>5</td>\n",
       "    </tr>\n",
       "    <tr>\n",
       "      <th>25395</th>\n",
       "      <td>25401</td>\n",
       "      <td>849</td>\n",
       "      <td>1073</td>\n",
       "      <td>0.0</td>\n",
       "      <td>01:29.3</td>\n",
       "      <td>3</td>\n",
       "    </tr>\n",
       "    <tr>\n",
       "      <th>25396</th>\n",
       "      <td>25402</td>\n",
       "      <td>841</td>\n",
       "      <td>1073</td>\n",
       "      <td>0.0</td>\n",
       "      <td>01:29.4</td>\n",
       "      <td>6</td>\n",
       "    </tr>\n",
       "    <tr>\n",
       "      <th>25397</th>\n",
       "      <td>25403</td>\n",
       "      <td>847</td>\n",
       "      <td>1073</td>\n",
       "      <td>0.0</td>\n",
       "      <td>01:30.6</td>\n",
       "      <td>6</td>\n",
       "    </tr>\n",
       "    <tr>\n",
       "      <th>25398</th>\n",
       "      <td>25404</td>\n",
       "      <td>8</td>\n",
       "      <td>1073</td>\n",
       "      <td>0.0</td>\n",
       "      <td>01:29.7</td>\n",
       "      <td>23</td>\n",
       "    </tr>\n",
       "  </tbody>\n",
       "</table>\n",
       "<p>25399 rows × 6 columns</p>\n",
       "</div>"
      ],
      "text/plain": [
       "       resultId  driverId  raceId  points fastestLapTime  statusId\n",
       "0             1         1      18    10.0        01:27.5         1\n",
       "1             2         2      18     8.0        01:27.7         1\n",
       "2             3         3      18     6.0        01:28.1         1\n",
       "3             4         4      18     5.0        01:28.6         1\n",
       "4             5         5      18     4.0        01:27.4         1\n",
       "...         ...       ...     ...     ...            ...       ...\n",
       "25394     25400       815    1073     0.0        01:26.4         5\n",
       "25395     25401       849    1073     0.0        01:29.3         3\n",
       "25396     25402       841    1073     0.0        01:29.4         6\n",
       "25397     25403       847    1073     0.0        01:30.6         6\n",
       "25398     25404         8    1073     0.0        01:29.7        23\n",
       "\n",
       "[25399 rows x 6 columns]"
      ]
     },
     "metadata": {},
     "output_type": "display_data"
    }
   ],
   "source": [
    "# from table above, subsetting to these columns instead\n",
    "results_cols = results_data[['resultId','driverId', 'raceId','points','fastestLapTime', 'statusId']]\n",
    "#results_cols.tail()\n",
    "display(results_cols)"
   ]
  },
  {
   "cell_type": "code",
   "execution_count": 44,
   "metadata": {},
   "outputs": [
    {
     "data": {
      "text/html": [
       "<div>\n",
       "<style scoped>\n",
       "    .dataframe tbody tr th:only-of-type {\n",
       "        vertical-align: middle;\n",
       "    }\n",
       "\n",
       "    .dataframe tbody tr th {\n",
       "        vertical-align: top;\n",
       "    }\n",
       "\n",
       "    .dataframe thead th {\n",
       "        text-align: right;\n",
       "    }\n",
       "</style>\n",
       "<table border=\"1\" class=\"dataframe\">\n",
       "  <thead>\n",
       "    <tr style=\"text-align: right;\">\n",
       "      <th></th>\n",
       "      <th>raceId</th>\n",
       "      <th>round</th>\n",
       "      <th>circuitId</th>\n",
       "      <th>name</th>\n",
       "      <th>date</th>\n",
       "      <th>time</th>\n",
       "      <th>url</th>\n",
       "    </tr>\n",
       "  </thead>\n",
       "  <tbody>\n",
       "    <tr>\n",
       "      <th>0</th>\n",
       "      <td>1</td>\n",
       "      <td>1</td>\n",
       "      <td>1</td>\n",
       "      <td>Australian Grand Prix</td>\n",
       "      <td>3/29/2009</td>\n",
       "      <td>6:00:00</td>\n",
       "      <td>http://en.wikipedia.org/wiki/2009_Australian_G...</td>\n",
       "    </tr>\n",
       "    <tr>\n",
       "      <th>1</th>\n",
       "      <td>2</td>\n",
       "      <td>2</td>\n",
       "      <td>2</td>\n",
       "      <td>Malaysian Grand Prix</td>\n",
       "      <td>4/5/12009</td>\n",
       "      <td>9:00:00</td>\n",
       "      <td>http://en.wikipedia.org/wiki/2009_Malaysian_Gr...</td>\n",
       "    </tr>\n",
       "    <tr>\n",
       "      <th>2</th>\n",
       "      <td>3</td>\n",
       "      <td>3</td>\n",
       "      <td>17</td>\n",
       "      <td>Chinese Grand Prix</td>\n",
       "      <td>4/19/2009</td>\n",
       "      <td>7:00:00</td>\n",
       "      <td>http://en.wikipedia.org/wiki/2009_Chinese_Gran...</td>\n",
       "    </tr>\n",
       "    <tr>\n",
       "      <th>3</th>\n",
       "      <td>4</td>\n",
       "      <td>4</td>\n",
       "      <td>3</td>\n",
       "      <td>Bahrain Grand Prix</td>\n",
       "      <td>4/26/2009</td>\n",
       "      <td>12:00:00</td>\n",
       "      <td>http://en.wikipedia.org/wiki/2009_Bahrain_Gran...</td>\n",
       "    </tr>\n",
       "    <tr>\n",
       "      <th>4</th>\n",
       "      <td>5</td>\n",
       "      <td>5</td>\n",
       "      <td>4</td>\n",
       "      <td>Spanish Grand Prix</td>\n",
       "      <td>5/10/2009</td>\n",
       "      <td>12:00:00</td>\n",
       "      <td>http://en.wikipedia.org/wiki/2009_Spanish_Gran...</td>\n",
       "    </tr>\n",
       "  </tbody>\n",
       "</table>\n",
       "</div>"
      ],
      "text/plain": [
       "   raceId  round  circuitId                   name       date      time  \\\n",
       "0       1      1          1  Australian Grand Prix  3/29/2009   6:00:00   \n",
       "1       2      2          2   Malaysian Grand Prix  4/5/12009   9:00:00   \n",
       "2       3      3         17     Chinese Grand Prix  4/19/2009   7:00:00   \n",
       "3       4      4          3     Bahrain Grand Prix  4/26/2009  12:00:00   \n",
       "4       5      5          4     Spanish Grand Prix  5/10/2009  12:00:00   \n",
       "\n",
       "                                                 url  \n",
       "0  http://en.wikipedia.org/wiki/2009_Australian_G...  \n",
       "1  http://en.wikipedia.org/wiki/2009_Malaysian_Gr...  \n",
       "2  http://en.wikipedia.org/wiki/2009_Chinese_Gran...  \n",
       "3  http://en.wikipedia.org/wiki/2009_Bahrain_Gran...  \n",
       "4  http://en.wikipedia.org/wiki/2009_Spanish_Gran...  "
      ]
     },
     "execution_count": 44,
     "metadata": {},
     "output_type": "execute_result"
    }
   ],
   "source": [
    "races_data.head()"
   ]
  },
  {
   "cell_type": "code",
   "execution_count": 45,
   "metadata": {},
   "outputs": [],
   "source": [
    "#races_data.info()"
   ]
  },
  {
   "cell_type": "code",
   "execution_count": 46,
   "metadata": {},
   "outputs": [
    {
     "data": {
      "text/html": [
       "<div>\n",
       "<style scoped>\n",
       "    .dataframe tbody tr th:only-of-type {\n",
       "        vertical-align: middle;\n",
       "    }\n",
       "\n",
       "    .dataframe tbody tr th {\n",
       "        vertical-align: top;\n",
       "    }\n",
       "\n",
       "    .dataframe thead th {\n",
       "        text-align: right;\n",
       "    }\n",
       "</style>\n",
       "<table border=\"1\" class=\"dataframe\">\n",
       "  <thead>\n",
       "    <tr style=\"text-align: right;\">\n",
       "      <th></th>\n",
       "      <th>raceId</th>\n",
       "      <th>round</th>\n",
       "      <th>circuitId</th>\n",
       "      <th>name</th>\n",
       "      <th>date</th>\n",
       "      <th>time</th>\n",
       "    </tr>\n",
       "  </thead>\n",
       "  <tbody>\n",
       "    <tr>\n",
       "      <th>0</th>\n",
       "      <td>1</td>\n",
       "      <td>1</td>\n",
       "      <td>1</td>\n",
       "      <td>Australian Grand Prix</td>\n",
       "      <td>3/29/2009</td>\n",
       "      <td>6:00:00</td>\n",
       "    </tr>\n",
       "    <tr>\n",
       "      <th>1</th>\n",
       "      <td>2</td>\n",
       "      <td>2</td>\n",
       "      <td>2</td>\n",
       "      <td>Malaysian Grand Prix</td>\n",
       "      <td>4/5/12009</td>\n",
       "      <td>9:00:00</td>\n",
       "    </tr>\n",
       "    <tr>\n",
       "      <th>2</th>\n",
       "      <td>3</td>\n",
       "      <td>3</td>\n",
       "      <td>17</td>\n",
       "      <td>Chinese Grand Prix</td>\n",
       "      <td>4/19/2009</td>\n",
       "      <td>7:00:00</td>\n",
       "    </tr>\n",
       "    <tr>\n",
       "      <th>3</th>\n",
       "      <td>4</td>\n",
       "      <td>4</td>\n",
       "      <td>3</td>\n",
       "      <td>Bahrain Grand Prix</td>\n",
       "      <td>4/26/2009</td>\n",
       "      <td>12:00:00</td>\n",
       "    </tr>\n",
       "    <tr>\n",
       "      <th>4</th>\n",
       "      <td>5</td>\n",
       "      <td>5</td>\n",
       "      <td>4</td>\n",
       "      <td>Spanish Grand Prix</td>\n",
       "      <td>5/10/2009</td>\n",
       "      <td>12:00:00</td>\n",
       "    </tr>\n",
       "    <tr>\n",
       "      <th>...</th>\n",
       "      <td>...</td>\n",
       "      <td>...</td>\n",
       "      <td>...</td>\n",
       "      <td>...</td>\n",
       "      <td>...</td>\n",
       "      <td>...</td>\n",
       "    </tr>\n",
       "    <tr>\n",
       "      <th>1075</th>\n",
       "      <td>1092</td>\n",
       "      <td>19</td>\n",
       "      <td>22</td>\n",
       "      <td>Japanese Grand Prix</td>\n",
       "      <td>10/9/2022</td>\n",
       "      <td>5:10:00</td>\n",
       "    </tr>\n",
       "    <tr>\n",
       "      <th>1076</th>\n",
       "      <td>1093</td>\n",
       "      <td>20</td>\n",
       "      <td>69</td>\n",
       "      <td>United States Grand Prix</td>\n",
       "      <td>10/23/2022</td>\n",
       "      <td>19:00:00</td>\n",
       "    </tr>\n",
       "    <tr>\n",
       "      <th>1077</th>\n",
       "      <td>1094</td>\n",
       "      <td>21</td>\n",
       "      <td>32</td>\n",
       "      <td>Mexico City Grand Prix</td>\n",
       "      <td>10/30/2022</td>\n",
       "      <td>19:00:00</td>\n",
       "    </tr>\n",
       "    <tr>\n",
       "      <th>1078</th>\n",
       "      <td>1095</td>\n",
       "      <td>22</td>\n",
       "      <td>18</td>\n",
       "      <td>São Paulo Grand Prix</td>\n",
       "      <td>11/13/2022</td>\n",
       "      <td>17:00:00</td>\n",
       "    </tr>\n",
       "    <tr>\n",
       "      <th>1079</th>\n",
       "      <td>1096</td>\n",
       "      <td>23</td>\n",
       "      <td>24</td>\n",
       "      <td>Abu Dhabi Grand Prix</td>\n",
       "      <td>11/20/2022</td>\n",
       "      <td>13:00:00</td>\n",
       "    </tr>\n",
       "  </tbody>\n",
       "</table>\n",
       "<p>1080 rows × 6 columns</p>\n",
       "</div>"
      ],
      "text/plain": [
       "      raceId  round  circuitId                      name        date      time\n",
       "0          1      1          1     Australian Grand Prix   3/29/2009   6:00:00\n",
       "1          2      2          2      Malaysian Grand Prix   4/5/12009   9:00:00\n",
       "2          3      3         17        Chinese Grand Prix   4/19/2009   7:00:00\n",
       "3          4      4          3        Bahrain Grand Prix   4/26/2009  12:00:00\n",
       "4          5      5          4        Spanish Grand Prix   5/10/2009  12:00:00\n",
       "...      ...    ...        ...                       ...         ...       ...\n",
       "1075    1092     19         22       Japanese Grand Prix   10/9/2022   5:10:00\n",
       "1076    1093     20         69  United States Grand Prix  10/23/2022  19:00:00\n",
       "1077    1094     21         32    Mexico City Grand Prix  10/30/2022  19:00:00\n",
       "1078    1095     22         18      São Paulo Grand Prix  11/13/2022  17:00:00\n",
       "1079    1096     23         24      Abu Dhabi Grand Prix  11/20/2022  13:00:00\n",
       "\n",
       "[1080 rows x 6 columns]"
      ]
     },
     "metadata": {},
     "output_type": "display_data"
    }
   ],
   "source": [
    "# for races_data, subsetting it to 6 columns instead\n",
    "race_cols = races_data[['raceId', 'round','circuitId','name','date', 'time']]\n",
    "#race_cols.tail()\n",
    "display(race_cols)"
   ]
  },
  {
   "cell_type": "code",
   "execution_count": 47,
   "metadata": {},
   "outputs": [
    {
     "data": {
      "text/html": [
       "<div>\n",
       "<style scoped>\n",
       "    .dataframe tbody tr th:only-of-type {\n",
       "        vertical-align: middle;\n",
       "    }\n",
       "\n",
       "    .dataframe tbody tr th {\n",
       "        vertical-align: top;\n",
       "    }\n",
       "\n",
       "    .dataframe thead th {\n",
       "        text-align: right;\n",
       "    }\n",
       "</style>\n",
       "<table border=\"1\" class=\"dataframe\">\n",
       "  <thead>\n",
       "    <tr style=\"text-align: right;\">\n",
       "      <th></th>\n",
       "      <th>circuitId</th>\n",
       "      <th>circuitRef</th>\n",
       "      <th>name</th>\n",
       "      <th>location</th>\n",
       "      <th>country</th>\n",
       "      <th>lat</th>\n",
       "      <th>lng</th>\n",
       "      <th>alt</th>\n",
       "      <th>url</th>\n",
       "    </tr>\n",
       "  </thead>\n",
       "  <tbody>\n",
       "    <tr>\n",
       "      <th>0</th>\n",
       "      <td>1</td>\n",
       "      <td>albert_park</td>\n",
       "      <td>Albert Park Grand Prix Circuit</td>\n",
       "      <td>Melbourne</td>\n",
       "      <td>Australia</td>\n",
       "      <td>-37.84970</td>\n",
       "      <td>144.96800</td>\n",
       "      <td>10</td>\n",
       "      <td>http://en.wikipedia.org/wiki/Melbourne_Grand_P...</td>\n",
       "    </tr>\n",
       "    <tr>\n",
       "      <th>1</th>\n",
       "      <td>2</td>\n",
       "      <td>sepang</td>\n",
       "      <td>Sepang International Circuit</td>\n",
       "      <td>Kuala Lumpur</td>\n",
       "      <td>Malaysia</td>\n",
       "      <td>2.76083</td>\n",
       "      <td>101.73800</td>\n",
       "      <td>18</td>\n",
       "      <td>http://en.wikipedia.org/wiki/Sepang_Internatio...</td>\n",
       "    </tr>\n",
       "    <tr>\n",
       "      <th>2</th>\n",
       "      <td>3</td>\n",
       "      <td>bahrain</td>\n",
       "      <td>Bahrain International Circuit</td>\n",
       "      <td>Sakhir</td>\n",
       "      <td>Bahrain</td>\n",
       "      <td>26.03250</td>\n",
       "      <td>50.51060</td>\n",
       "      <td>7</td>\n",
       "      <td>http://en.wikipedia.org/wiki/Bahrain_Internati...</td>\n",
       "    </tr>\n",
       "    <tr>\n",
       "      <th>3</th>\n",
       "      <td>4</td>\n",
       "      <td>catalunya</td>\n",
       "      <td>Circuit de Barcelona-Catalunya</td>\n",
       "      <td>Montmeló</td>\n",
       "      <td>Spain</td>\n",
       "      <td>41.57000</td>\n",
       "      <td>2.26111</td>\n",
       "      <td>109</td>\n",
       "      <td>http://en.wikipedia.org/wiki/Circuit_de_Barcel...</td>\n",
       "    </tr>\n",
       "    <tr>\n",
       "      <th>4</th>\n",
       "      <td>5</td>\n",
       "      <td>istanbul</td>\n",
       "      <td>Istanbul Park</td>\n",
       "      <td>Istanbul</td>\n",
       "      <td>Turkey</td>\n",
       "      <td>40.95170</td>\n",
       "      <td>29.40500</td>\n",
       "      <td>130</td>\n",
       "      <td>http://en.wikipedia.org/wiki/Istanbul_Park</td>\n",
       "    </tr>\n",
       "  </tbody>\n",
       "</table>\n",
       "</div>"
      ],
      "text/plain": [
       "   circuitId   circuitRef                            name      location  \\\n",
       "0          1  albert_park  Albert Park Grand Prix Circuit     Melbourne   \n",
       "1          2       sepang    Sepang International Circuit  Kuala Lumpur   \n",
       "2          3      bahrain   Bahrain International Circuit        Sakhir   \n",
       "3          4    catalunya  Circuit de Barcelona-Catalunya      Montmeló   \n",
       "4          5     istanbul                   Istanbul Park      Istanbul   \n",
       "\n",
       "     country       lat        lng  alt  \\\n",
       "0  Australia -37.84970  144.96800   10   \n",
       "1   Malaysia   2.76083  101.73800   18   \n",
       "2    Bahrain  26.03250   50.51060    7   \n",
       "3      Spain  41.57000    2.26111  109   \n",
       "4     Turkey  40.95170   29.40500  130   \n",
       "\n",
       "                                                 url  \n",
       "0  http://en.wikipedia.org/wiki/Melbourne_Grand_P...  \n",
       "1  http://en.wikipedia.org/wiki/Sepang_Internatio...  \n",
       "2  http://en.wikipedia.org/wiki/Bahrain_Internati...  \n",
       "3  http://en.wikipedia.org/wiki/Circuit_de_Barcel...  \n",
       "4         http://en.wikipedia.org/wiki/Istanbul_Park  "
      ]
     },
     "execution_count": 47,
     "metadata": {},
     "output_type": "execute_result"
    }
   ],
   "source": [
    "circuits_data.head()"
   ]
  },
  {
   "cell_type": "code",
   "execution_count": 48,
   "metadata": {},
   "outputs": [
    {
     "data": {
      "text/html": [
       "<div>\n",
       "<style scoped>\n",
       "    .dataframe tbody tr th:only-of-type {\n",
       "        vertical-align: middle;\n",
       "    }\n",
       "\n",
       "    .dataframe tbody tr th {\n",
       "        vertical-align: top;\n",
       "    }\n",
       "\n",
       "    .dataframe thead th {\n",
       "        text-align: right;\n",
       "    }\n",
       "</style>\n",
       "<table border=\"1\" class=\"dataframe\">\n",
       "  <thead>\n",
       "    <tr style=\"text-align: right;\">\n",
       "      <th></th>\n",
       "      <th>circuitId</th>\n",
       "      <th>name</th>\n",
       "      <th>location</th>\n",
       "      <th>country</th>\n",
       "    </tr>\n",
       "  </thead>\n",
       "  <tbody>\n",
       "    <tr>\n",
       "      <th>0</th>\n",
       "      <td>1</td>\n",
       "      <td>Albert Park Grand Prix Circuit</td>\n",
       "      <td>Melbourne</td>\n",
       "      <td>Australia</td>\n",
       "    </tr>\n",
       "    <tr>\n",
       "      <th>1</th>\n",
       "      <td>2</td>\n",
       "      <td>Sepang International Circuit</td>\n",
       "      <td>Kuala Lumpur</td>\n",
       "      <td>Malaysia</td>\n",
       "    </tr>\n",
       "    <tr>\n",
       "      <th>2</th>\n",
       "      <td>3</td>\n",
       "      <td>Bahrain International Circuit</td>\n",
       "      <td>Sakhir</td>\n",
       "      <td>Bahrain</td>\n",
       "    </tr>\n",
       "    <tr>\n",
       "      <th>3</th>\n",
       "      <td>4</td>\n",
       "      <td>Circuit de Barcelona-Catalunya</td>\n",
       "      <td>Montmeló</td>\n",
       "      <td>Spain</td>\n",
       "    </tr>\n",
       "    <tr>\n",
       "      <th>4</th>\n",
       "      <td>5</td>\n",
       "      <td>Istanbul Park</td>\n",
       "      <td>Istanbul</td>\n",
       "      <td>Turkey</td>\n",
       "    </tr>\n",
       "    <tr>\n",
       "      <th>...</th>\n",
       "      <td>...</td>\n",
       "      <td>...</td>\n",
       "      <td>...</td>\n",
       "      <td>...</td>\n",
       "    </tr>\n",
       "    <tr>\n",
       "      <th>74</th>\n",
       "      <td>75</td>\n",
       "      <td>Autódromo Internacional do Algarve</td>\n",
       "      <td>Portimão</td>\n",
       "      <td>Portugal</td>\n",
       "    </tr>\n",
       "    <tr>\n",
       "      <th>75</th>\n",
       "      <td>76</td>\n",
       "      <td>Autodromo Internazionale del Mugello</td>\n",
       "      <td>Mugello</td>\n",
       "      <td>Italy</td>\n",
       "    </tr>\n",
       "    <tr>\n",
       "      <th>76</th>\n",
       "      <td>77</td>\n",
       "      <td>Jeddah Street Circuit</td>\n",
       "      <td>Jeddah</td>\n",
       "      <td>Saudi Arabia</td>\n",
       "    </tr>\n",
       "    <tr>\n",
       "      <th>77</th>\n",
       "      <td>78</td>\n",
       "      <td>Losail International Circuit</td>\n",
       "      <td>Al Daayen</td>\n",
       "      <td>Qatar</td>\n",
       "    </tr>\n",
       "    <tr>\n",
       "      <th>78</th>\n",
       "      <td>79</td>\n",
       "      <td>Miami International Autodrome</td>\n",
       "      <td>Miami</td>\n",
       "      <td>United States</td>\n",
       "    </tr>\n",
       "  </tbody>\n",
       "</table>\n",
       "<p>79 rows × 4 columns</p>\n",
       "</div>"
      ],
      "text/plain": [
       "    circuitId                                  name      location  \\\n",
       "0           1        Albert Park Grand Prix Circuit     Melbourne   \n",
       "1           2          Sepang International Circuit  Kuala Lumpur   \n",
       "2           3         Bahrain International Circuit        Sakhir   \n",
       "3           4        Circuit de Barcelona-Catalunya      Montmeló   \n",
       "4           5                         Istanbul Park      Istanbul   \n",
       "..        ...                                   ...           ...   \n",
       "74         75    Autódromo Internacional do Algarve      Portimão   \n",
       "75         76  Autodromo Internazionale del Mugello       Mugello   \n",
       "76         77                 Jeddah Street Circuit        Jeddah   \n",
       "77         78          Losail International Circuit     Al Daayen   \n",
       "78         79         Miami International Autodrome         Miami   \n",
       "\n",
       "          country  \n",
       "0       Australia  \n",
       "1        Malaysia  \n",
       "2         Bahrain  \n",
       "3           Spain  \n",
       "4          Turkey  \n",
       "..            ...  \n",
       "74       Portugal  \n",
       "75          Italy  \n",
       "76   Saudi Arabia  \n",
       "77          Qatar  \n",
       "78  United States  \n",
       "\n",
       "[79 rows x 4 columns]"
      ]
     },
     "metadata": {},
     "output_type": "display_data"
    }
   ],
   "source": [
    "# Extra, not used in tabular dataset\n",
    "# for circuits_data, subsetting it to these columns instead\n",
    "circuits_cols = circuits_data[['circuitId', 'name','location','country']]\n",
    "#circuits_cols.tail()\n",
    "display(circuits_cols)"
   ]
  },
  {
   "cell_type": "code",
   "execution_count": 49,
   "metadata": {},
   "outputs": [
    {
     "data": {
      "text/html": [
       "<div>\n",
       "<style scoped>\n",
       "    .dataframe tbody tr th:only-of-type {\n",
       "        vertical-align: middle;\n",
       "    }\n",
       "\n",
       "    .dataframe tbody tr th {\n",
       "        vertical-align: top;\n",
       "    }\n",
       "\n",
       "    .dataframe thead th {\n",
       "        text-align: right;\n",
       "    }\n",
       "</style>\n",
       "<table border=\"1\" class=\"dataframe\">\n",
       "  <thead>\n",
       "    <tr style=\"text-align: right;\">\n",
       "      <th></th>\n",
       "      <th>driverStandingsId</th>\n",
       "      <th>raceId</th>\n",
       "      <th>driverId</th>\n",
       "      <th>points</th>\n",
       "      <th>position</th>\n",
       "      <th>positionText</th>\n",
       "      <th>wins</th>\n",
       "    </tr>\n",
       "  </thead>\n",
       "  <tbody>\n",
       "    <tr>\n",
       "      <th>0</th>\n",
       "      <td>1</td>\n",
       "      <td>18</td>\n",
       "      <td>1</td>\n",
       "      <td>10</td>\n",
       "      <td>1</td>\n",
       "      <td>1</td>\n",
       "      <td>1</td>\n",
       "    </tr>\n",
       "    <tr>\n",
       "      <th>1</th>\n",
       "      <td>2</td>\n",
       "      <td>18</td>\n",
       "      <td>2</td>\n",
       "      <td>8</td>\n",
       "      <td>2</td>\n",
       "      <td>2</td>\n",
       "      <td>0</td>\n",
       "    </tr>\n",
       "    <tr>\n",
       "      <th>2</th>\n",
       "      <td>3</td>\n",
       "      <td>18</td>\n",
       "      <td>3</td>\n",
       "      <td>6</td>\n",
       "      <td>3</td>\n",
       "      <td>3</td>\n",
       "      <td>0</td>\n",
       "    </tr>\n",
       "    <tr>\n",
       "      <th>3</th>\n",
       "      <td>4</td>\n",
       "      <td>18</td>\n",
       "      <td>4</td>\n",
       "      <td>5</td>\n",
       "      <td>4</td>\n",
       "      <td>4</td>\n",
       "      <td>0</td>\n",
       "    </tr>\n",
       "    <tr>\n",
       "      <th>4</th>\n",
       "      <td>5</td>\n",
       "      <td>18</td>\n",
       "      <td>5</td>\n",
       "      <td>4</td>\n",
       "      <td>5</td>\n",
       "      <td>5</td>\n",
       "      <td>0</td>\n",
       "    </tr>\n",
       "  </tbody>\n",
       "</table>\n",
       "</div>"
      ],
      "text/plain": [
       "   driverStandingsId  raceId  driverId points  position positionText  wins\n",
       "0                  1      18         1     10         1            1     1\n",
       "1                  2      18         2      8         2            2     0\n",
       "2                  3      18         3      6         3            3     0\n",
       "3                  4      18         4      5         4            4     0\n",
       "4                  5      18         5      4         5            5     0"
      ]
     },
     "execution_count": 49,
     "metadata": {},
     "output_type": "execute_result"
    }
   ],
   "source": [
    "ds_data.head()"
   ]
  },
  {
   "cell_type": "code",
   "execution_count": 50,
   "metadata": {},
   "outputs": [
    {
     "data": {
      "text/html": [
       "<div>\n",
       "<style scoped>\n",
       "    .dataframe tbody tr th:only-of-type {\n",
       "        vertical-align: middle;\n",
       "    }\n",
       "\n",
       "    .dataframe tbody tr th {\n",
       "        vertical-align: top;\n",
       "    }\n",
       "\n",
       "    .dataframe thead th {\n",
       "        text-align: right;\n",
       "    }\n",
       "</style>\n",
       "<table border=\"1\" class=\"dataframe\">\n",
       "  <thead>\n",
       "    <tr style=\"text-align: right;\">\n",
       "      <th></th>\n",
       "      <th>driverId</th>\n",
       "      <th>points</th>\n",
       "      <th>position</th>\n",
       "      <th>wins</th>\n",
       "    </tr>\n",
       "  </thead>\n",
       "  <tbody>\n",
       "    <tr>\n",
       "      <th>33389</th>\n",
       "      <td>840</td>\n",
       "      <td>0</td>\n",
       "      <td>16</td>\n",
       "      <td>0</td>\n",
       "    </tr>\n",
       "    <tr>\n",
       "      <th>33390</th>\n",
       "      <td>852</td>\n",
       "      <td>0</td>\n",
       "      <td>17</td>\n",
       "      <td>0</td>\n",
       "    </tr>\n",
       "    <tr>\n",
       "      <th>33391</th>\n",
       "      <td>830</td>\n",
       "      <td>0</td>\n",
       "      <td>18</td>\n",
       "      <td>0</td>\n",
       "    </tr>\n",
       "    <tr>\n",
       "      <th>33392</th>\n",
       "      <td>20</td>\n",
       "      <td>0</td>\n",
       "      <td>19</td>\n",
       "      <td>0</td>\n",
       "    </tr>\n",
       "    <tr>\n",
       "      <th>33393</th>\n",
       "      <td>855</td>\n",
       "      <td>0</td>\n",
       "      <td>20</td>\n",
       "      <td>0</td>\n",
       "    </tr>\n",
       "  </tbody>\n",
       "</table>\n",
       "</div>"
      ],
      "text/plain": [
       "       driverId points  position  wins\n",
       "33389       840      0        16     0\n",
       "33390       852      0        17     0\n",
       "33391       830      0        18     0\n",
       "33392        20      0        19     0\n",
       "33393       855      0        20     0"
      ]
     },
     "execution_count": 50,
     "metadata": {},
     "output_type": "execute_result"
    }
   ],
   "source": [
    "# Extra, not used in tabular dataset\n",
    "# for ds_data, subsetting it to 6 columns instead\n",
    "ds_cols = ds_data[['driverId','points','position','wins']]\n",
    "ds_cols.tail()"
   ]
  },
  {
   "cell_type": "code",
   "execution_count": null,
   "metadata": {},
   "outputs": [],
   "source": []
  },
  {
   "cell_type": "markdown",
   "metadata": {},
   "source": [
    "#### Merging tables"
   ]
  },
  {
   "cell_type": "code",
   "execution_count": 51,
   "metadata": {},
   "outputs": [
    {
     "data": {
      "text/html": [
       "<div>\n",
       "<style scoped>\n",
       "    .dataframe tbody tr th:only-of-type {\n",
       "        vertical-align: middle;\n",
       "    }\n",
       "\n",
       "    .dataframe tbody tr th {\n",
       "        vertical-align: top;\n",
       "    }\n",
       "\n",
       "    .dataframe thead th {\n",
       "        text-align: right;\n",
       "    }\n",
       "</style>\n",
       "<table border=\"1\" class=\"dataframe\">\n",
       "  <thead>\n",
       "    <tr style=\"text-align: right;\">\n",
       "      <th></th>\n",
       "      <th>statusId</th>\n",
       "      <th>status</th>\n",
       "    </tr>\n",
       "  </thead>\n",
       "  <tbody>\n",
       "    <tr>\n",
       "      <th>0</th>\n",
       "      <td>1</td>\n",
       "      <td>Finished</td>\n",
       "    </tr>\n",
       "    <tr>\n",
       "      <th>1</th>\n",
       "      <td>2</td>\n",
       "      <td>Disqualified</td>\n",
       "    </tr>\n",
       "    <tr>\n",
       "      <th>2</th>\n",
       "      <td>3</td>\n",
       "      <td>Accident</td>\n",
       "    </tr>\n",
       "    <tr>\n",
       "      <th>3</th>\n",
       "      <td>4</td>\n",
       "      <td>Collision</td>\n",
       "    </tr>\n",
       "    <tr>\n",
       "      <th>4</th>\n",
       "      <td>5</td>\n",
       "      <td>Engine</td>\n",
       "    </tr>\n",
       "  </tbody>\n",
       "</table>\n",
       "</div>"
      ],
      "text/plain": [
       "   statusId        status\n",
       "0         1      Finished\n",
       "1         2  Disqualified\n",
       "2         3      Accident\n",
       "3         4     Collision\n",
       "4         5        Engine"
      ]
     },
     "execution_count": 51,
     "metadata": {},
     "output_type": "execute_result"
    }
   ],
   "source": [
    "# to check what the tables meant again\n",
    "status_mod.head()"
   ]
  },
  {
   "cell_type": "code",
   "execution_count": 52,
   "metadata": {},
   "outputs": [
    {
     "data": {
      "text/html": [
       "<div>\n",
       "<style scoped>\n",
       "    .dataframe tbody tr th:only-of-type {\n",
       "        vertical-align: middle;\n",
       "    }\n",
       "\n",
       "    .dataframe tbody tr th {\n",
       "        vertical-align: top;\n",
       "    }\n",
       "\n",
       "    .dataframe thead th {\n",
       "        text-align: right;\n",
       "    }\n",
       "</style>\n",
       "<table border=\"1\" class=\"dataframe\">\n",
       "  <thead>\n",
       "    <tr style=\"text-align: right;\">\n",
       "      <th></th>\n",
       "      <th>resultId</th>\n",
       "      <th>driverId</th>\n",
       "      <th>raceId</th>\n",
       "      <th>points</th>\n",
       "      <th>fastestLapTime</th>\n",
       "      <th>statusId</th>\n",
       "    </tr>\n",
       "  </thead>\n",
       "  <tbody>\n",
       "    <tr>\n",
       "      <th>0</th>\n",
       "      <td>1</td>\n",
       "      <td>1</td>\n",
       "      <td>18</td>\n",
       "      <td>10.0</td>\n",
       "      <td>01:27.5</td>\n",
       "      <td>1</td>\n",
       "    </tr>\n",
       "    <tr>\n",
       "      <th>1</th>\n",
       "      <td>2</td>\n",
       "      <td>2</td>\n",
       "      <td>18</td>\n",
       "      <td>8.0</td>\n",
       "      <td>01:27.7</td>\n",
       "      <td>1</td>\n",
       "    </tr>\n",
       "    <tr>\n",
       "      <th>2</th>\n",
       "      <td>3</td>\n",
       "      <td>3</td>\n",
       "      <td>18</td>\n",
       "      <td>6.0</td>\n",
       "      <td>01:28.1</td>\n",
       "      <td>1</td>\n",
       "    </tr>\n",
       "    <tr>\n",
       "      <th>3</th>\n",
       "      <td>4</td>\n",
       "      <td>4</td>\n",
       "      <td>18</td>\n",
       "      <td>5.0</td>\n",
       "      <td>01:28.6</td>\n",
       "      <td>1</td>\n",
       "    </tr>\n",
       "    <tr>\n",
       "      <th>4</th>\n",
       "      <td>5</td>\n",
       "      <td>5</td>\n",
       "      <td>18</td>\n",
       "      <td>4.0</td>\n",
       "      <td>01:27.4</td>\n",
       "      <td>1</td>\n",
       "    </tr>\n",
       "  </tbody>\n",
       "</table>\n",
       "</div>"
      ],
      "text/plain": [
       "   resultId  driverId  raceId  points fastestLapTime  statusId\n",
       "0         1         1      18    10.0        01:27.5         1\n",
       "1         2         2      18     8.0        01:27.7         1\n",
       "2         3         3      18     6.0        01:28.1         1\n",
       "3         4         4      18     5.0        01:28.6         1\n",
       "4         5         5      18     4.0        01:27.4         1"
      ]
     },
     "execution_count": 52,
     "metadata": {},
     "output_type": "execute_result"
    }
   ],
   "source": [
    "# to check what the tables meant again\n",
    "results_cols.head()"
   ]
  },
  {
   "cell_type": "code",
   "execution_count": 53,
   "metadata": {},
   "outputs": [
    {
     "data": {
      "text/html": [
       "<div>\n",
       "<style scoped>\n",
       "    .dataframe tbody tr th:only-of-type {\n",
       "        vertical-align: middle;\n",
       "    }\n",
       "\n",
       "    .dataframe tbody tr th {\n",
       "        vertical-align: top;\n",
       "    }\n",
       "\n",
       "    .dataframe thead th {\n",
       "        text-align: right;\n",
       "    }\n",
       "</style>\n",
       "<table border=\"1\" class=\"dataframe\">\n",
       "  <thead>\n",
       "    <tr style=\"text-align: right;\">\n",
       "      <th></th>\n",
       "      <th>driverId</th>\n",
       "      <th>forename</th>\n",
       "      <th>surname</th>\n",
       "      <th>resultId</th>\n",
       "      <th>raceId</th>\n",
       "      <th>points</th>\n",
       "      <th>fastestLapTime</th>\n",
       "      <th>statusId</th>\n",
       "    </tr>\n",
       "  </thead>\n",
       "  <tbody>\n",
       "    <tr>\n",
       "      <th>0</th>\n",
       "      <td>1</td>\n",
       "      <td>Lewis</td>\n",
       "      <td>Hamilton</td>\n",
       "      <td>1</td>\n",
       "      <td>18</td>\n",
       "      <td>10.0</td>\n",
       "      <td>01:27.5</td>\n",
       "      <td>1</td>\n",
       "    </tr>\n",
       "    <tr>\n",
       "      <th>1</th>\n",
       "      <td>1</td>\n",
       "      <td>Lewis</td>\n",
       "      <td>Hamilton</td>\n",
       "      <td>27</td>\n",
       "      <td>19</td>\n",
       "      <td>4.0</td>\n",
       "      <td>01:35.5</td>\n",
       "      <td>1</td>\n",
       "    </tr>\n",
       "    <tr>\n",
       "      <th>2</th>\n",
       "      <td>1</td>\n",
       "      <td>Lewis</td>\n",
       "      <td>Hamilton</td>\n",
       "      <td>57</td>\n",
       "      <td>20</td>\n",
       "      <td>0.0</td>\n",
       "      <td>01:35.5</td>\n",
       "      <td>11</td>\n",
       "    </tr>\n",
       "    <tr>\n",
       "      <th>3</th>\n",
       "      <td>1</td>\n",
       "      <td>Lewis</td>\n",
       "      <td>Hamilton</td>\n",
       "      <td>69</td>\n",
       "      <td>21</td>\n",
       "      <td>6.0</td>\n",
       "      <td>01:22.0</td>\n",
       "      <td>1</td>\n",
       "    </tr>\n",
       "    <tr>\n",
       "      <th>4</th>\n",
       "      <td>1</td>\n",
       "      <td>Lewis</td>\n",
       "      <td>Hamilton</td>\n",
       "      <td>90</td>\n",
       "      <td>22</td>\n",
       "      <td>8.0</td>\n",
       "      <td>01:26.5</td>\n",
       "      <td>1</td>\n",
       "    </tr>\n",
       "    <tr>\n",
       "      <th>...</th>\n",
       "      <td>...</td>\n",
       "      <td>...</td>\n",
       "      <td>...</td>\n",
       "      <td>...</td>\n",
       "      <td>...</td>\n",
       "      <td>...</td>\n",
       "      <td>...</td>\n",
       "      <td>...</td>\n",
       "    </tr>\n",
       "    <tr>\n",
       "      <th>1821</th>\n",
       "      <td>11</td>\n",
       "      <td>Takuma</td>\n",
       "      <td>Sato</td>\n",
       "      <td>2466</td>\n",
       "      <td>136</td>\n",
       "      <td>0.0</td>\n",
       "      <td>\\N</td>\n",
       "      <td>11</td>\n",
       "    </tr>\n",
       "    <tr>\n",
       "      <th>1822</th>\n",
       "      <td>11</td>\n",
       "      <td>Takuma</td>\n",
       "      <td>Sato</td>\n",
       "      <td>2487</td>\n",
       "      <td>137</td>\n",
       "      <td>0.0</td>\n",
       "      <td>\\N</td>\n",
       "      <td>11</td>\n",
       "    </tr>\n",
       "    <tr>\n",
       "      <th>1823</th>\n",
       "      <td>11</td>\n",
       "      <td>Takuma</td>\n",
       "      <td>Sato</td>\n",
       "      <td>2508</td>\n",
       "      <td>138</td>\n",
       "      <td>0.0</td>\n",
       "      <td>\\N</td>\n",
       "      <td>11</td>\n",
       "    </tr>\n",
       "    <tr>\n",
       "      <th>1824</th>\n",
       "      <td>11</td>\n",
       "      <td>Takuma</td>\n",
       "      <td>Sato</td>\n",
       "      <td>2527</td>\n",
       "      <td>139</td>\n",
       "      <td>0.0</td>\n",
       "      <td>\\N</td>\n",
       "      <td>11</td>\n",
       "    </tr>\n",
       "    <tr>\n",
       "      <th>1825</th>\n",
       "      <td>11</td>\n",
       "      <td>Takuma</td>\n",
       "      <td>Sato</td>\n",
       "      <td>2541</td>\n",
       "      <td>140</td>\n",
       "      <td>2.0</td>\n",
       "      <td>\\N</td>\n",
       "      <td>1</td>\n",
       "    </tr>\n",
       "  </tbody>\n",
       "</table>\n",
       "<p>1826 rows × 8 columns</p>\n",
       "</div>"
      ],
      "text/plain": [
       "      driverId forename   surname  resultId  raceId  points fastestLapTime  \\\n",
       "0            1    Lewis  Hamilton         1      18    10.0        01:27.5   \n",
       "1            1    Lewis  Hamilton        27      19     4.0        01:35.5   \n",
       "2            1    Lewis  Hamilton        57      20     0.0        01:35.5   \n",
       "3            1    Lewis  Hamilton        69      21     6.0        01:22.0   \n",
       "4            1    Lewis  Hamilton        90      22     8.0        01:26.5   \n",
       "...        ...      ...       ...       ...     ...     ...            ...   \n",
       "1821        11   Takuma      Sato      2466     136     0.0             \\N   \n",
       "1822        11   Takuma      Sato      2487     137     0.0             \\N   \n",
       "1823        11   Takuma      Sato      2508     138     0.0             \\N   \n",
       "1824        11   Takuma      Sato      2527     139     0.0             \\N   \n",
       "1825        11   Takuma      Sato      2541     140     2.0             \\N   \n",
       "\n",
       "      statusId  \n",
       "0            1  \n",
       "1            1  \n",
       "2           11  \n",
       "3            1  \n",
       "4            1  \n",
       "...        ...  \n",
       "1821        11  \n",
       "1822        11  \n",
       "1823        11  \n",
       "1824        11  \n",
       "1825         1  \n",
       "\n",
       "[1826 rows x 8 columns]"
      ]
     },
     "metadata": {},
     "output_type": "display_data"
    }
   ],
   "source": [
    "# merge drivers_data and results_cols\n",
    "driver_results = pd.merge(drivers_data,results_cols,on='driverId',how='inner').drop_duplicates()\n",
    "display(driver_results)"
   ]
  },
  {
   "cell_type": "code",
   "execution_count": 54,
   "metadata": {},
   "outputs": [
    {
     "data": {
      "text/html": [
       "<div>\n",
       "<style scoped>\n",
       "    .dataframe tbody tr th:only-of-type {\n",
       "        vertical-align: middle;\n",
       "    }\n",
       "\n",
       "    .dataframe tbody tr th {\n",
       "        vertical-align: top;\n",
       "    }\n",
       "\n",
       "    .dataframe thead th {\n",
       "        text-align: right;\n",
       "    }\n",
       "</style>\n",
       "<table border=\"1\" class=\"dataframe\">\n",
       "  <thead>\n",
       "    <tr style=\"text-align: right;\">\n",
       "      <th></th>\n",
       "      <th>statusId</th>\n",
       "      <th>status</th>\n",
       "      <th>driverId</th>\n",
       "      <th>forename</th>\n",
       "      <th>surname</th>\n",
       "      <th>resultId</th>\n",
       "      <th>raceId</th>\n",
       "      <th>points</th>\n",
       "      <th>fastestLapTime</th>\n",
       "    </tr>\n",
       "  </thead>\n",
       "  <tbody>\n",
       "    <tr>\n",
       "      <th>0</th>\n",
       "      <td>1</td>\n",
       "      <td>Finished</td>\n",
       "      <td>1</td>\n",
       "      <td>Lewis</td>\n",
       "      <td>Hamilton</td>\n",
       "      <td>1</td>\n",
       "      <td>18</td>\n",
       "      <td>10.0</td>\n",
       "      <td>01:27.5</td>\n",
       "    </tr>\n",
       "    <tr>\n",
       "      <th>1</th>\n",
       "      <td>1</td>\n",
       "      <td>Finished</td>\n",
       "      <td>1</td>\n",
       "      <td>Lewis</td>\n",
       "      <td>Hamilton</td>\n",
       "      <td>27</td>\n",
       "      <td>19</td>\n",
       "      <td>4.0</td>\n",
       "      <td>01:35.5</td>\n",
       "    </tr>\n",
       "    <tr>\n",
       "      <th>2</th>\n",
       "      <td>1</td>\n",
       "      <td>Finished</td>\n",
       "      <td>1</td>\n",
       "      <td>Lewis</td>\n",
       "      <td>Hamilton</td>\n",
       "      <td>69</td>\n",
       "      <td>21</td>\n",
       "      <td>6.0</td>\n",
       "      <td>01:22.0</td>\n",
       "    </tr>\n",
       "    <tr>\n",
       "      <th>3</th>\n",
       "      <td>1</td>\n",
       "      <td>Finished</td>\n",
       "      <td>1</td>\n",
       "      <td>Lewis</td>\n",
       "      <td>Hamilton</td>\n",
       "      <td>90</td>\n",
       "      <td>22</td>\n",
       "      <td>8.0</td>\n",
       "      <td>01:26.5</td>\n",
       "    </tr>\n",
       "    <tr>\n",
       "      <th>4</th>\n",
       "      <td>1</td>\n",
       "      <td>Finished</td>\n",
       "      <td>1</td>\n",
       "      <td>Lewis</td>\n",
       "      <td>Hamilton</td>\n",
       "      <td>109</td>\n",
       "      <td>23</td>\n",
       "      <td>10.0</td>\n",
       "      <td>01:18.5</td>\n",
       "    </tr>\n",
       "    <tr>\n",
       "      <th>...</th>\n",
       "      <td>...</td>\n",
       "      <td>...</td>\n",
       "      <td>...</td>\n",
       "      <td>...</td>\n",
       "      <td>...</td>\n",
       "      <td>...</td>\n",
       "      <td>...</td>\n",
       "      <td>...</td>\n",
       "      <td>...</td>\n",
       "    </tr>\n",
       "    <tr>\n",
       "      <th>1821</th>\n",
       "      <td>131</td>\n",
       "      <td>Power Unit</td>\n",
       "      <td>4</td>\n",
       "      <td>Fernando</td>\n",
       "      <td>Alonso</td>\n",
       "      <td>23514</td>\n",
       "      <td>975</td>\n",
       "      <td>0.0</td>\n",
       "      <td>01:15.9</td>\n",
       "    </tr>\n",
       "    <tr>\n",
       "      <th>1822</th>\n",
       "      <td>131</td>\n",
       "      <td>Power Unit</td>\n",
       "      <td>4</td>\n",
       "      <td>Fernando</td>\n",
       "      <td>Alonso</td>\n",
       "      <td>23579</td>\n",
       "      <td>978</td>\n",
       "      <td>0.0</td>\n",
       "      <td>01:34.3</td>\n",
       "    </tr>\n",
       "    <tr>\n",
       "      <th>1823</th>\n",
       "      <td>131</td>\n",
       "      <td>Power Unit</td>\n",
       "      <td>8</td>\n",
       "      <td>Kimi</td>\n",
       "      <td>Räikkönen</td>\n",
       "      <td>22733</td>\n",
       "      <td>936</td>\n",
       "      <td>0.0</td>\n",
       "      <td>01:27.0</td>\n",
       "    </tr>\n",
       "    <tr>\n",
       "      <th>1824</th>\n",
       "      <td>132</td>\n",
       "      <td>ERS</td>\n",
       "      <td>4</td>\n",
       "      <td>Fernando</td>\n",
       "      <td>Alonso</td>\n",
       "      <td>22573</td>\n",
       "      <td>927</td>\n",
       "      <td>0.0</td>\n",
       "      <td>01:48.5</td>\n",
       "    </tr>\n",
       "    <tr>\n",
       "      <th>1825</th>\n",
       "      <td>135</td>\n",
       "      <td>Brake duct</td>\n",
       "      <td>8</td>\n",
       "      <td>Kimi</td>\n",
       "      <td>Räikkönen</td>\n",
       "      <td>22852</td>\n",
       "      <td>942</td>\n",
       "      <td>0.0</td>\n",
       "      <td>01:46.2</td>\n",
       "    </tr>\n",
       "  </tbody>\n",
       "</table>\n",
       "<p>1826 rows × 9 columns</p>\n",
       "</div>"
      ],
      "text/plain": [
       "      statusId      status  driverId  forename    surname  resultId  raceId  \\\n",
       "0            1    Finished         1     Lewis   Hamilton         1      18   \n",
       "1            1    Finished         1     Lewis   Hamilton        27      19   \n",
       "2            1    Finished         1     Lewis   Hamilton        69      21   \n",
       "3            1    Finished         1     Lewis   Hamilton        90      22   \n",
       "4            1    Finished         1     Lewis   Hamilton       109      23   \n",
       "...        ...         ...       ...       ...        ...       ...     ...   \n",
       "1821       131  Power Unit         4  Fernando     Alonso     23514     975   \n",
       "1822       131  Power Unit         4  Fernando     Alonso     23579     978   \n",
       "1823       131  Power Unit         8      Kimi  Räikkönen     22733     936   \n",
       "1824       132         ERS         4  Fernando     Alonso     22573     927   \n",
       "1825       135  Brake duct         8      Kimi  Räikkönen     22852     942   \n",
       "\n",
       "      points fastestLapTime  \n",
       "0       10.0        01:27.5  \n",
       "1        4.0        01:35.5  \n",
       "2        6.0        01:22.0  \n",
       "3        8.0        01:26.5  \n",
       "4       10.0        01:18.5  \n",
       "...      ...            ...  \n",
       "1821     0.0        01:15.9  \n",
       "1822     0.0        01:34.3  \n",
       "1823     0.0        01:27.0  \n",
       "1824     0.0        01:48.5  \n",
       "1825     0.0        01:46.2  \n",
       "\n",
       "[1826 rows x 9 columns]"
      ]
     },
     "metadata": {},
     "output_type": "display_data"
    }
   ],
   "source": [
    "# merge status_mod, and driver_results\n",
    "driver_results = pd.merge(status_mod,driver_results,on='statusId',how='inner').drop_duplicates()\n",
    "display(driver_results)"
   ]
  },
  {
   "cell_type": "code",
   "execution_count": 55,
   "metadata": {},
   "outputs": [
    {
     "data": {
      "text/html": [
       "<div>\n",
       "<style scoped>\n",
       "    .dataframe tbody tr th:only-of-type {\n",
       "        vertical-align: middle;\n",
       "    }\n",
       "\n",
       "    .dataframe tbody tr th {\n",
       "        vertical-align: top;\n",
       "    }\n",
       "\n",
       "    .dataframe thead th {\n",
       "        text-align: right;\n",
       "    }\n",
       "</style>\n",
       "<table border=\"1\" class=\"dataframe\">\n",
       "  <thead>\n",
       "    <tr style=\"text-align: right;\">\n",
       "      <th></th>\n",
       "      <th>statusId</th>\n",
       "      <th>status</th>\n",
       "      <th>driverId</th>\n",
       "      <th>forename</th>\n",
       "      <th>surname</th>\n",
       "      <th>resultId</th>\n",
       "      <th>raceId</th>\n",
       "      <th>points</th>\n",
       "      <th>fastestLapTime</th>\n",
       "      <th>round</th>\n",
       "      <th>circuitId</th>\n",
       "      <th>name</th>\n",
       "      <th>date</th>\n",
       "      <th>time</th>\n",
       "    </tr>\n",
       "  </thead>\n",
       "  <tbody>\n",
       "    <tr>\n",
       "      <th>0</th>\n",
       "      <td>1</td>\n",
       "      <td>Finished</td>\n",
       "      <td>1</td>\n",
       "      <td>Lewis</td>\n",
       "      <td>Hamilton</td>\n",
       "      <td>1</td>\n",
       "      <td>18</td>\n",
       "      <td>10.0</td>\n",
       "      <td>01:27.5</td>\n",
       "      <td>1</td>\n",
       "      <td>1</td>\n",
       "      <td>Australian Grand Prix</td>\n",
       "      <td>3/16/2008</td>\n",
       "      <td>4:30:00</td>\n",
       "    </tr>\n",
       "    <tr>\n",
       "      <th>1</th>\n",
       "      <td>1</td>\n",
       "      <td>Finished</td>\n",
       "      <td>2</td>\n",
       "      <td>Nick</td>\n",
       "      <td>Heidfeld</td>\n",
       "      <td>2</td>\n",
       "      <td>18</td>\n",
       "      <td>8.0</td>\n",
       "      <td>01:27.7</td>\n",
       "      <td>1</td>\n",
       "      <td>1</td>\n",
       "      <td>Australian Grand Prix</td>\n",
       "      <td>3/16/2008</td>\n",
       "      <td>4:30:00</td>\n",
       "    </tr>\n",
       "    <tr>\n",
       "      <th>2</th>\n",
       "      <td>1</td>\n",
       "      <td>Finished</td>\n",
       "      <td>3</td>\n",
       "      <td>Nico</td>\n",
       "      <td>Rosberg</td>\n",
       "      <td>3</td>\n",
       "      <td>18</td>\n",
       "      <td>6.0</td>\n",
       "      <td>01:28.1</td>\n",
       "      <td>1</td>\n",
       "      <td>1</td>\n",
       "      <td>Australian Grand Prix</td>\n",
       "      <td>3/16/2008</td>\n",
       "      <td>4:30:00</td>\n",
       "    </tr>\n",
       "    <tr>\n",
       "      <th>3</th>\n",
       "      <td>1</td>\n",
       "      <td>Finished</td>\n",
       "      <td>4</td>\n",
       "      <td>Fernando</td>\n",
       "      <td>Alonso</td>\n",
       "      <td>4</td>\n",
       "      <td>18</td>\n",
       "      <td>5.0</td>\n",
       "      <td>01:28.6</td>\n",
       "      <td>1</td>\n",
       "      <td>1</td>\n",
       "      <td>Australian Grand Prix</td>\n",
       "      <td>3/16/2008</td>\n",
       "      <td>4:30:00</td>\n",
       "    </tr>\n",
       "    <tr>\n",
       "      <th>4</th>\n",
       "      <td>1</td>\n",
       "      <td>Finished</td>\n",
       "      <td>5</td>\n",
       "      <td>Heikki</td>\n",
       "      <td>Kovalainen</td>\n",
       "      <td>5</td>\n",
       "      <td>18</td>\n",
       "      <td>4.0</td>\n",
       "      <td>01:27.4</td>\n",
       "      <td>1</td>\n",
       "      <td>1</td>\n",
       "      <td>Australian Grand Prix</td>\n",
       "      <td>3/16/2008</td>\n",
       "      <td>4:30:00</td>\n",
       "    </tr>\n",
       "    <tr>\n",
       "      <th>...</th>\n",
       "      <td>...</td>\n",
       "      <td>...</td>\n",
       "      <td>...</td>\n",
       "      <td>...</td>\n",
       "      <td>...</td>\n",
       "      <td>...</td>\n",
       "      <td>...</td>\n",
       "      <td>...</td>\n",
       "      <td>...</td>\n",
       "      <td>...</td>\n",
       "      <td>...</td>\n",
       "      <td>...</td>\n",
       "      <td>...</td>\n",
       "      <td>...</td>\n",
       "    </tr>\n",
       "    <tr>\n",
       "      <th>1821</th>\n",
       "      <td>54</td>\n",
       "      <td>Withdrew</td>\n",
       "      <td>2</td>\n",
       "      <td>Nick</td>\n",
       "      <td>Heidfeld</td>\n",
       "      <td>1313</td>\n",
       "      <td>79</td>\n",
       "      <td>0.0</td>\n",
       "      <td>\\N</td>\n",
       "      <td>9</td>\n",
       "      <td>19</td>\n",
       "      <td>United States Grand Prix</td>\n",
       "      <td>6/19/2005</td>\n",
       "      <td>14:00:00</td>\n",
       "    </tr>\n",
       "    <tr>\n",
       "      <th>1822</th>\n",
       "      <td>54</td>\n",
       "      <td>Withdrew</td>\n",
       "      <td>4</td>\n",
       "      <td>Fernando</td>\n",
       "      <td>Alonso</td>\n",
       "      <td>1305</td>\n",
       "      <td>79</td>\n",
       "      <td>0.0</td>\n",
       "      <td>\\N</td>\n",
       "      <td>9</td>\n",
       "      <td>19</td>\n",
       "      <td>United States Grand Prix</td>\n",
       "      <td>6/19/2005</td>\n",
       "      <td>14:00:00</td>\n",
       "    </tr>\n",
       "    <tr>\n",
       "      <th>1823</th>\n",
       "      <td>54</td>\n",
       "      <td>Withdrew</td>\n",
       "      <td>8</td>\n",
       "      <td>Kimi</td>\n",
       "      <td>Räikkönen</td>\n",
       "      <td>1302</td>\n",
       "      <td>79</td>\n",
       "      <td>0.0</td>\n",
       "      <td>\\N</td>\n",
       "      <td>9</td>\n",
       "      <td>19</td>\n",
       "      <td>United States Grand Prix</td>\n",
       "      <td>6/19/2005</td>\n",
       "      <td>14:00:00</td>\n",
       "    </tr>\n",
       "    <tr>\n",
       "      <th>1824</th>\n",
       "      <td>54</td>\n",
       "      <td>Withdrew</td>\n",
       "      <td>11</td>\n",
       "      <td>Takuma</td>\n",
       "      <td>Sato</td>\n",
       "      <td>1306</td>\n",
       "      <td>79</td>\n",
       "      <td>0.0</td>\n",
       "      <td>\\N</td>\n",
       "      <td>9</td>\n",
       "      <td>19</td>\n",
       "      <td>United States Grand Prix</td>\n",
       "      <td>6/19/2005</td>\n",
       "      <td>14:00:00</td>\n",
       "    </tr>\n",
       "    <tr>\n",
       "      <th>1825</th>\n",
       "      <td>91</td>\n",
       "      <td>Alternator</td>\n",
       "      <td>2</td>\n",
       "      <td>Nick</td>\n",
       "      <td>Heidfeld</td>\n",
       "      <td>3161</td>\n",
       "      <td>168</td>\n",
       "      <td>0.0</td>\n",
       "      <td>\\N</td>\n",
       "      <td>11</td>\n",
       "      <td>10</td>\n",
       "      <td>German Grand Prix</td>\n",
       "      <td>7/30/2000</td>\n",
       "      <td>\\N</td>\n",
       "    </tr>\n",
       "  </tbody>\n",
       "</table>\n",
       "<p>1826 rows × 14 columns</p>\n",
       "</div>"
      ],
      "text/plain": [
       "      statusId      status  driverId  forename     surname  resultId  raceId  \\\n",
       "0            1    Finished         1     Lewis    Hamilton         1      18   \n",
       "1            1    Finished         2      Nick    Heidfeld         2      18   \n",
       "2            1    Finished         3      Nico     Rosberg         3      18   \n",
       "3            1    Finished         4  Fernando      Alonso         4      18   \n",
       "4            1    Finished         5    Heikki  Kovalainen         5      18   \n",
       "...        ...         ...       ...       ...         ...       ...     ...   \n",
       "1821        54    Withdrew         2      Nick    Heidfeld      1313      79   \n",
       "1822        54    Withdrew         4  Fernando      Alonso      1305      79   \n",
       "1823        54    Withdrew         8      Kimi   Räikkönen      1302      79   \n",
       "1824        54    Withdrew        11    Takuma        Sato      1306      79   \n",
       "1825        91  Alternator         2      Nick    Heidfeld      3161     168   \n",
       "\n",
       "      points fastestLapTime  round  circuitId                      name  \\\n",
       "0       10.0        01:27.5      1          1     Australian Grand Prix   \n",
       "1        8.0        01:27.7      1          1     Australian Grand Prix   \n",
       "2        6.0        01:28.1      1          1     Australian Grand Prix   \n",
       "3        5.0        01:28.6      1          1     Australian Grand Prix   \n",
       "4        4.0        01:27.4      1          1     Australian Grand Prix   \n",
       "...      ...            ...    ...        ...                       ...   \n",
       "1821     0.0             \\N      9         19  United States Grand Prix   \n",
       "1822     0.0             \\N      9         19  United States Grand Prix   \n",
       "1823     0.0             \\N      9         19  United States Grand Prix   \n",
       "1824     0.0             \\N      9         19  United States Grand Prix   \n",
       "1825     0.0             \\N     11         10         German Grand Prix   \n",
       "\n",
       "           date      time  \n",
       "0     3/16/2008   4:30:00  \n",
       "1     3/16/2008   4:30:00  \n",
       "2     3/16/2008   4:30:00  \n",
       "3     3/16/2008   4:30:00  \n",
       "4     3/16/2008   4:30:00  \n",
       "...         ...       ...  \n",
       "1821  6/19/2005  14:00:00  \n",
       "1822  6/19/2005  14:00:00  \n",
       "1823  6/19/2005  14:00:00  \n",
       "1824  6/19/2005  14:00:00  \n",
       "1825  7/30/2000        \\N  \n",
       "\n",
       "[1826 rows x 14 columns]"
      ]
     },
     "metadata": {},
     "output_type": "display_data"
    }
   ],
   "source": [
    "# merge driver_results, and race_cols\n",
    "driver_results = pd.merge(driver_results,race_cols,on='raceId',how='inner').drop_duplicates()\n",
    "display(driver_results)"
   ]
  },
  {
   "cell_type": "code",
   "execution_count": 56,
   "metadata": {},
   "outputs": [
    {
     "data": {
      "text/html": [
       "<div>\n",
       "<style scoped>\n",
       "    .dataframe tbody tr th:only-of-type {\n",
       "        vertical-align: middle;\n",
       "    }\n",
       "\n",
       "    .dataframe tbody tr th {\n",
       "        vertical-align: top;\n",
       "    }\n",
       "\n",
       "    .dataframe thead th {\n",
       "        text-align: right;\n",
       "    }\n",
       "</style>\n",
       "<table border=\"1\" class=\"dataframe\">\n",
       "  <thead>\n",
       "    <tr style=\"text-align: right;\">\n",
       "      <th></th>\n",
       "      <th>statusId</th>\n",
       "      <th>status</th>\n",
       "      <th>driverId</th>\n",
       "      <th>forename</th>\n",
       "      <th>surname</th>\n",
       "      <th>resultId</th>\n",
       "      <th>raceId</th>\n",
       "      <th>points</th>\n",
       "      <th>fastestLapTime</th>\n",
       "      <th>round</th>\n",
       "      <th>circuitId</th>\n",
       "      <th>name</th>\n",
       "      <th>date</th>\n",
       "      <th>time</th>\n",
       "    </tr>\n",
       "  </thead>\n",
       "  <tbody>\n",
       "    <tr>\n",
       "      <th>0</th>\n",
       "      <td>1</td>\n",
       "      <td>Finished</td>\n",
       "      <td>1</td>\n",
       "      <td>Lewis</td>\n",
       "      <td>Hamilton</td>\n",
       "      <td>1</td>\n",
       "      <td>18</td>\n",
       "      <td>10.0</td>\n",
       "      <td>01:27.5</td>\n",
       "      <td>1</td>\n",
       "      <td>1</td>\n",
       "      <td>Australian Grand Prix</td>\n",
       "      <td>3/16/2008</td>\n",
       "      <td>4:30:00</td>\n",
       "    </tr>\n",
       "    <tr>\n",
       "      <th>1</th>\n",
       "      <td>1</td>\n",
       "      <td>Finished</td>\n",
       "      <td>2</td>\n",
       "      <td>Nick</td>\n",
       "      <td>Heidfeld</td>\n",
       "      <td>2</td>\n",
       "      <td>18</td>\n",
       "      <td>8.0</td>\n",
       "      <td>01:27.7</td>\n",
       "      <td>1</td>\n",
       "      <td>1</td>\n",
       "      <td>Australian Grand Prix</td>\n",
       "      <td>3/16/2008</td>\n",
       "      <td>4:30:00</td>\n",
       "    </tr>\n",
       "    <tr>\n",
       "      <th>2</th>\n",
       "      <td>1</td>\n",
       "      <td>Finished</td>\n",
       "      <td>3</td>\n",
       "      <td>Nico</td>\n",
       "      <td>Rosberg</td>\n",
       "      <td>3</td>\n",
       "      <td>18</td>\n",
       "      <td>6.0</td>\n",
       "      <td>01:28.1</td>\n",
       "      <td>1</td>\n",
       "      <td>1</td>\n",
       "      <td>Australian Grand Prix</td>\n",
       "      <td>3/16/2008</td>\n",
       "      <td>4:30:00</td>\n",
       "    </tr>\n",
       "    <tr>\n",
       "      <th>3</th>\n",
       "      <td>1</td>\n",
       "      <td>Finished</td>\n",
       "      <td>4</td>\n",
       "      <td>Fernando</td>\n",
       "      <td>Alonso</td>\n",
       "      <td>4</td>\n",
       "      <td>18</td>\n",
       "      <td>5.0</td>\n",
       "      <td>01:28.6</td>\n",
       "      <td>1</td>\n",
       "      <td>1</td>\n",
       "      <td>Australian Grand Prix</td>\n",
       "      <td>3/16/2008</td>\n",
       "      <td>4:30:00</td>\n",
       "    </tr>\n",
       "    <tr>\n",
       "      <th>4</th>\n",
       "      <td>1</td>\n",
       "      <td>Finished</td>\n",
       "      <td>5</td>\n",
       "      <td>Heikki</td>\n",
       "      <td>Kovalainen</td>\n",
       "      <td>5</td>\n",
       "      <td>18</td>\n",
       "      <td>4.0</td>\n",
       "      <td>01:27.4</td>\n",
       "      <td>1</td>\n",
       "      <td>1</td>\n",
       "      <td>Australian Grand Prix</td>\n",
       "      <td>3/16/2008</td>\n",
       "      <td>4:30:00</td>\n",
       "    </tr>\n",
       "  </tbody>\n",
       "</table>\n",
       "</div>"
      ],
      "text/plain": [
       "   statusId    status  driverId  forename     surname  resultId  raceId  \\\n",
       "0         1  Finished         1     Lewis    Hamilton         1      18   \n",
       "1         1  Finished         2      Nick    Heidfeld         2      18   \n",
       "2         1  Finished         3      Nico     Rosberg         3      18   \n",
       "3         1  Finished         4  Fernando      Alonso         4      18   \n",
       "4         1  Finished         5    Heikki  Kovalainen         5      18   \n",
       "\n",
       "   points fastestLapTime  round  circuitId                   name       date  \\\n",
       "0    10.0        01:27.5      1          1  Australian Grand Prix  3/16/2008   \n",
       "1     8.0        01:27.7      1          1  Australian Grand Prix  3/16/2008   \n",
       "2     6.0        01:28.1      1          1  Australian Grand Prix  3/16/2008   \n",
       "3     5.0        01:28.6      1          1  Australian Grand Prix  3/16/2008   \n",
       "4     4.0        01:27.4      1          1  Australian Grand Prix  3/16/2008   \n",
       "\n",
       "      time  \n",
       "0  4:30:00  \n",
       "1  4:30:00  \n",
       "2  4:30:00  \n",
       "3  4:30:00  \n",
       "4  4:30:00  "
      ]
     },
     "execution_count": 56,
     "metadata": {},
     "output_type": "execute_result"
    }
   ],
   "source": [
    "driver_results.head()"
   ]
  },
  {
   "cell_type": "code",
   "execution_count": 57,
   "metadata": {},
   "outputs": [],
   "source": [
    "# filter out only driver Nick Heideld\n",
    "#driver_results = driver_results[(driver_results['forename'] == 'Nick') & (driver_results['surname'] == 'Heideld')]\n",
    "driver_results = driver_results[(driver_results['driverId'] == 2)]\n"
   ]
  },
  {
   "cell_type": "code",
   "execution_count": 58,
   "metadata": {},
   "outputs": [
    {
     "data": {
      "text/html": [
       "<div>\n",
       "<style scoped>\n",
       "    .dataframe tbody tr th:only-of-type {\n",
       "        vertical-align: middle;\n",
       "    }\n",
       "\n",
       "    .dataframe tbody tr th {\n",
       "        vertical-align: top;\n",
       "    }\n",
       "\n",
       "    .dataframe thead th {\n",
       "        text-align: right;\n",
       "    }\n",
       "</style>\n",
       "<table border=\"1\" class=\"dataframe\">\n",
       "  <thead>\n",
       "    <tr style=\"text-align: right;\">\n",
       "      <th></th>\n",
       "      <th>statusId</th>\n",
       "      <th>status</th>\n",
       "      <th>driverId</th>\n",
       "      <th>forename</th>\n",
       "      <th>surname</th>\n",
       "      <th>resultId</th>\n",
       "      <th>raceId</th>\n",
       "      <th>points</th>\n",
       "      <th>fastestLapTime</th>\n",
       "      <th>round</th>\n",
       "      <th>circuitId</th>\n",
       "      <th>name</th>\n",
       "      <th>date</th>\n",
       "      <th>time</th>\n",
       "    </tr>\n",
       "  </thead>\n",
       "  <tbody>\n",
       "    <tr>\n",
       "      <th>1</th>\n",
       "      <td>1</td>\n",
       "      <td>Finished</td>\n",
       "      <td>2</td>\n",
       "      <td>Nick</td>\n",
       "      <td>Heidfeld</td>\n",
       "      <td>2</td>\n",
       "      <td>18</td>\n",
       "      <td>8.0</td>\n",
       "      <td>01:27.7</td>\n",
       "      <td>1</td>\n",
       "      <td>1</td>\n",
       "      <td>Australian Grand Prix</td>\n",
       "      <td>3/16/2008</td>\n",
       "      <td>4:30:00</td>\n",
       "    </tr>\n",
       "    <tr>\n",
       "      <th>12</th>\n",
       "      <td>1</td>\n",
       "      <td>Finished</td>\n",
       "      <td>2</td>\n",
       "      <td>Nick</td>\n",
       "      <td>Heidfeld</td>\n",
       "      <td>28</td>\n",
       "      <td>19</td>\n",
       "      <td>3.0</td>\n",
       "      <td>01:35.4</td>\n",
       "      <td>2</td>\n",
       "      <td>2</td>\n",
       "      <td>Malaysian Grand Prix</td>\n",
       "      <td>3/23/2008</td>\n",
       "      <td>7:00:00</td>\n",
       "    </tr>\n",
       "    <tr>\n",
       "      <th>23</th>\n",
       "      <td>1</td>\n",
       "      <td>Finished</td>\n",
       "      <td>2</td>\n",
       "      <td>Nick</td>\n",
       "      <td>Heidfeld</td>\n",
       "      <td>75</td>\n",
       "      <td>21</td>\n",
       "      <td>0.0</td>\n",
       "      <td>01:22.5</td>\n",
       "      <td>4</td>\n",
       "      <td>4</td>\n",
       "      <td>Spanish Grand Prix</td>\n",
       "      <td>4/27/2008</td>\n",
       "      <td>12:00:00</td>\n",
       "    </tr>\n",
       "    <tr>\n",
       "      <th>34</th>\n",
       "      <td>1</td>\n",
       "      <td>Finished</td>\n",
       "      <td>2</td>\n",
       "      <td>Nick</td>\n",
       "      <td>Heidfeld</td>\n",
       "      <td>93</td>\n",
       "      <td>22</td>\n",
       "      <td>4.0</td>\n",
       "      <td>01:27.2</td>\n",
       "      <td>5</td>\n",
       "      <td>5</td>\n",
       "      <td>Turkish Grand Prix</td>\n",
       "      <td>5/11/2008</td>\n",
       "      <td>12:00:00</td>\n",
       "    </tr>\n",
       "    <tr>\n",
       "      <th>52</th>\n",
       "      <td>14</td>\n",
       "      <td>+4 Laps</td>\n",
       "      <td>2</td>\n",
       "      <td>Nick</td>\n",
       "      <td>Heidfeld</td>\n",
       "      <td>122</td>\n",
       "      <td>23</td>\n",
       "      <td>0.0</td>\n",
       "      <td>01:20.3</td>\n",
       "      <td>6</td>\n",
       "      <td>6</td>\n",
       "      <td>Monaco Grand Prix</td>\n",
       "      <td>5/25/2008</td>\n",
       "      <td>12:00:00</td>\n",
       "    </tr>\n",
       "    <tr>\n",
       "      <th>...</th>\n",
       "      <td>...</td>\n",
       "      <td>...</td>\n",
       "      <td>...</td>\n",
       "      <td>...</td>\n",
       "      <td>...</td>\n",
       "      <td>...</td>\n",
       "      <td>...</td>\n",
       "      <td>...</td>\n",
       "      <td>...</td>\n",
       "      <td>...</td>\n",
       "      <td>...</td>\n",
       "      <td>...</td>\n",
       "      <td>...</td>\n",
       "      <td>...</td>\n",
       "    </tr>\n",
       "    <tr>\n",
       "      <th>1817</th>\n",
       "      <td>20</td>\n",
       "      <td>Spun off</td>\n",
       "      <td>2</td>\n",
       "      <td>Nick</td>\n",
       "      <td>Heidfeld</td>\n",
       "      <td>2595</td>\n",
       "      <td>142</td>\n",
       "      <td>0.0</td>\n",
       "      <td>\\N</td>\n",
       "      <td>2</td>\n",
       "      <td>2</td>\n",
       "      <td>Malaysian Grand Prix</td>\n",
       "      <td>3/18/2001</td>\n",
       "      <td>\\N</td>\n",
       "    </tr>\n",
       "    <tr>\n",
       "      <th>1819</th>\n",
       "      <td>20</td>\n",
       "      <td>Spun off</td>\n",
       "      <td>2</td>\n",
       "      <td>Nick</td>\n",
       "      <td>Heidfeld</td>\n",
       "      <td>3228</td>\n",
       "      <td>171</td>\n",
       "      <td>0.0</td>\n",
       "      <td>\\N</td>\n",
       "      <td>14</td>\n",
       "      <td>14</td>\n",
       "      <td>Italian Grand Prix</td>\n",
       "      <td>9/10/2000</td>\n",
       "      <td>\\N</td>\n",
       "    </tr>\n",
       "    <tr>\n",
       "      <th>1820</th>\n",
       "      <td>22</td>\n",
       "      <td>Suspension</td>\n",
       "      <td>2</td>\n",
       "      <td>Nick</td>\n",
       "      <td>Heidfeld</td>\n",
       "      <td>3277</td>\n",
       "      <td>173</td>\n",
       "      <td>0.0</td>\n",
       "      <td>\\N</td>\n",
       "      <td>16</td>\n",
       "      <td>22</td>\n",
       "      <td>Japanese Grand Prix</td>\n",
       "      <td>10/8/2000</td>\n",
       "      <td>\\N</td>\n",
       "    </tr>\n",
       "    <tr>\n",
       "      <th>1821</th>\n",
       "      <td>54</td>\n",
       "      <td>Withdrew</td>\n",
       "      <td>2</td>\n",
       "      <td>Nick</td>\n",
       "      <td>Heidfeld</td>\n",
       "      <td>1313</td>\n",
       "      <td>79</td>\n",
       "      <td>0.0</td>\n",
       "      <td>\\N</td>\n",
       "      <td>9</td>\n",
       "      <td>19</td>\n",
       "      <td>United States Grand Prix</td>\n",
       "      <td>6/19/2005</td>\n",
       "      <td>14:00:00</td>\n",
       "    </tr>\n",
       "    <tr>\n",
       "      <th>1825</th>\n",
       "      <td>91</td>\n",
       "      <td>Alternator</td>\n",
       "      <td>2</td>\n",
       "      <td>Nick</td>\n",
       "      <td>Heidfeld</td>\n",
       "      <td>3161</td>\n",
       "      <td>168</td>\n",
       "      <td>0.0</td>\n",
       "      <td>\\N</td>\n",
       "      <td>11</td>\n",
       "      <td>10</td>\n",
       "      <td>German Grand Prix</td>\n",
       "      <td>7/30/2000</td>\n",
       "      <td>\\N</td>\n",
       "    </tr>\n",
       "  </tbody>\n",
       "</table>\n",
       "<p>184 rows × 14 columns</p>\n",
       "</div>"
      ],
      "text/plain": [
       "      statusId      status  driverId forename   surname  resultId  raceId  \\\n",
       "1            1    Finished         2     Nick  Heidfeld         2      18   \n",
       "12           1    Finished         2     Nick  Heidfeld        28      19   \n",
       "23           1    Finished         2     Nick  Heidfeld        75      21   \n",
       "34           1    Finished         2     Nick  Heidfeld        93      22   \n",
       "52          14     +4 Laps         2     Nick  Heidfeld       122      23   \n",
       "...        ...         ...       ...      ...       ...       ...     ...   \n",
       "1817        20    Spun off         2     Nick  Heidfeld      2595     142   \n",
       "1819        20    Spun off         2     Nick  Heidfeld      3228     171   \n",
       "1820        22  Suspension         2     Nick  Heidfeld      3277     173   \n",
       "1821        54    Withdrew         2     Nick  Heidfeld      1313      79   \n",
       "1825        91  Alternator         2     Nick  Heidfeld      3161     168   \n",
       "\n",
       "      points fastestLapTime  round  circuitId                      name  \\\n",
       "1        8.0        01:27.7      1          1     Australian Grand Prix   \n",
       "12       3.0        01:35.4      2          2      Malaysian Grand Prix   \n",
       "23       0.0        01:22.5      4          4        Spanish Grand Prix   \n",
       "34       4.0        01:27.2      5          5        Turkish Grand Prix   \n",
       "52       0.0        01:20.3      6          6         Monaco Grand Prix   \n",
       "...      ...            ...    ...        ...                       ...   \n",
       "1817     0.0             \\N      2          2      Malaysian Grand Prix   \n",
       "1819     0.0             \\N     14         14        Italian Grand Prix   \n",
       "1820     0.0             \\N     16         22       Japanese Grand Prix   \n",
       "1821     0.0             \\N      9         19  United States Grand Prix   \n",
       "1825     0.0             \\N     11         10         German Grand Prix   \n",
       "\n",
       "           date      time  \n",
       "1     3/16/2008   4:30:00  \n",
       "12    3/23/2008   7:00:00  \n",
       "23    4/27/2008  12:00:00  \n",
       "34    5/11/2008  12:00:00  \n",
       "52    5/25/2008  12:00:00  \n",
       "...         ...       ...  \n",
       "1817  3/18/2001        \\N  \n",
       "1819  9/10/2000        \\N  \n",
       "1820  10/8/2000        \\N  \n",
       "1821  6/19/2005  14:00:00  \n",
       "1825  7/30/2000        \\N  \n",
       "\n",
       "[184 rows x 14 columns]"
      ]
     },
     "metadata": {},
     "output_type": "display_data"
    }
   ],
   "source": [
    "display(driver_results)"
   ]
  },
  {
   "cell_type": "code",
   "execution_count": 59,
   "metadata": {},
   "outputs": [],
   "source": [
    "# removing driverId column, along with forename and surname here, \n",
    "# since there is only 1 driver Id that uniquely represents Nick Heidfeld, found through filtering\n",
    "driver_results = driver_results.drop(['driverId','forename', 'surname', 'date', 'time', 'fastestLapTime'], axis = 1)"
   ]
  },
  {
   "cell_type": "code",
   "execution_count": 60,
   "metadata": {},
   "outputs": [
    {
     "data": {
      "text/html": [
       "<div>\n",
       "<style scoped>\n",
       "    .dataframe tbody tr th:only-of-type {\n",
       "        vertical-align: middle;\n",
       "    }\n",
       "\n",
       "    .dataframe tbody tr th {\n",
       "        vertical-align: top;\n",
       "    }\n",
       "\n",
       "    .dataframe thead th {\n",
       "        text-align: right;\n",
       "    }\n",
       "</style>\n",
       "<table border=\"1\" class=\"dataframe\">\n",
       "  <thead>\n",
       "    <tr style=\"text-align: right;\">\n",
       "      <th></th>\n",
       "      <th>statusId</th>\n",
       "      <th>status</th>\n",
       "      <th>resultId</th>\n",
       "      <th>raceId</th>\n",
       "      <th>points</th>\n",
       "      <th>round</th>\n",
       "      <th>circuitId</th>\n",
       "      <th>name</th>\n",
       "    </tr>\n",
       "  </thead>\n",
       "  <tbody>\n",
       "    <tr>\n",
       "      <th>1</th>\n",
       "      <td>1</td>\n",
       "      <td>Finished</td>\n",
       "      <td>2</td>\n",
       "      <td>18</td>\n",
       "      <td>8.0</td>\n",
       "      <td>1</td>\n",
       "      <td>1</td>\n",
       "      <td>Australian Grand Prix</td>\n",
       "    </tr>\n",
       "    <tr>\n",
       "      <th>12</th>\n",
       "      <td>1</td>\n",
       "      <td>Finished</td>\n",
       "      <td>28</td>\n",
       "      <td>19</td>\n",
       "      <td>3.0</td>\n",
       "      <td>2</td>\n",
       "      <td>2</td>\n",
       "      <td>Malaysian Grand Prix</td>\n",
       "    </tr>\n",
       "    <tr>\n",
       "      <th>23</th>\n",
       "      <td>1</td>\n",
       "      <td>Finished</td>\n",
       "      <td>75</td>\n",
       "      <td>21</td>\n",
       "      <td>0.0</td>\n",
       "      <td>4</td>\n",
       "      <td>4</td>\n",
       "      <td>Spanish Grand Prix</td>\n",
       "    </tr>\n",
       "    <tr>\n",
       "      <th>34</th>\n",
       "      <td>1</td>\n",
       "      <td>Finished</td>\n",
       "      <td>93</td>\n",
       "      <td>22</td>\n",
       "      <td>4.0</td>\n",
       "      <td>5</td>\n",
       "      <td>5</td>\n",
       "      <td>Turkish Grand Prix</td>\n",
       "    </tr>\n",
       "    <tr>\n",
       "      <th>52</th>\n",
       "      <td>14</td>\n",
       "      <td>+4 Laps</td>\n",
       "      <td>122</td>\n",
       "      <td>23</td>\n",
       "      <td>0.0</td>\n",
       "      <td>6</td>\n",
       "      <td>6</td>\n",
       "      <td>Monaco Grand Prix</td>\n",
       "    </tr>\n",
       "    <tr>\n",
       "      <th>...</th>\n",
       "      <td>...</td>\n",
       "      <td>...</td>\n",
       "      <td>...</td>\n",
       "      <td>...</td>\n",
       "      <td>...</td>\n",
       "      <td>...</td>\n",
       "      <td>...</td>\n",
       "      <td>...</td>\n",
       "    </tr>\n",
       "    <tr>\n",
       "      <th>1817</th>\n",
       "      <td>20</td>\n",
       "      <td>Spun off</td>\n",
       "      <td>2595</td>\n",
       "      <td>142</td>\n",
       "      <td>0.0</td>\n",
       "      <td>2</td>\n",
       "      <td>2</td>\n",
       "      <td>Malaysian Grand Prix</td>\n",
       "    </tr>\n",
       "    <tr>\n",
       "      <th>1819</th>\n",
       "      <td>20</td>\n",
       "      <td>Spun off</td>\n",
       "      <td>3228</td>\n",
       "      <td>171</td>\n",
       "      <td>0.0</td>\n",
       "      <td>14</td>\n",
       "      <td>14</td>\n",
       "      <td>Italian Grand Prix</td>\n",
       "    </tr>\n",
       "    <tr>\n",
       "      <th>1820</th>\n",
       "      <td>22</td>\n",
       "      <td>Suspension</td>\n",
       "      <td>3277</td>\n",
       "      <td>173</td>\n",
       "      <td>0.0</td>\n",
       "      <td>16</td>\n",
       "      <td>22</td>\n",
       "      <td>Japanese Grand Prix</td>\n",
       "    </tr>\n",
       "    <tr>\n",
       "      <th>1821</th>\n",
       "      <td>54</td>\n",
       "      <td>Withdrew</td>\n",
       "      <td>1313</td>\n",
       "      <td>79</td>\n",
       "      <td>0.0</td>\n",
       "      <td>9</td>\n",
       "      <td>19</td>\n",
       "      <td>United States Grand Prix</td>\n",
       "    </tr>\n",
       "    <tr>\n",
       "      <th>1825</th>\n",
       "      <td>91</td>\n",
       "      <td>Alternator</td>\n",
       "      <td>3161</td>\n",
       "      <td>168</td>\n",
       "      <td>0.0</td>\n",
       "      <td>11</td>\n",
       "      <td>10</td>\n",
       "      <td>German Grand Prix</td>\n",
       "    </tr>\n",
       "  </tbody>\n",
       "</table>\n",
       "<p>184 rows × 8 columns</p>\n",
       "</div>"
      ],
      "text/plain": [
       "      statusId      status  resultId  raceId  points  round  circuitId  \\\n",
       "1            1    Finished         2      18     8.0      1          1   \n",
       "12           1    Finished        28      19     3.0      2          2   \n",
       "23           1    Finished        75      21     0.0      4          4   \n",
       "34           1    Finished        93      22     4.0      5          5   \n",
       "52          14     +4 Laps       122      23     0.0      6          6   \n",
       "...        ...         ...       ...     ...     ...    ...        ...   \n",
       "1817        20    Spun off      2595     142     0.0      2          2   \n",
       "1819        20    Spun off      3228     171     0.0     14         14   \n",
       "1820        22  Suspension      3277     173     0.0     16         22   \n",
       "1821        54    Withdrew      1313      79     0.0      9         19   \n",
       "1825        91  Alternator      3161     168     0.0     11         10   \n",
       "\n",
       "                          name  \n",
       "1        Australian Grand Prix  \n",
       "12        Malaysian Grand Prix  \n",
       "23          Spanish Grand Prix  \n",
       "34          Turkish Grand Prix  \n",
       "52           Monaco Grand Prix  \n",
       "...                        ...  \n",
       "1817      Malaysian Grand Prix  \n",
       "1819        Italian Grand Prix  \n",
       "1820       Japanese Grand Prix  \n",
       "1821  United States Grand Prix  \n",
       "1825         German Grand Prix  \n",
       "\n",
       "[184 rows x 8 columns]"
      ]
     },
     "metadata": {},
     "output_type": "display_data"
    }
   ],
   "source": [
    "display(driver_results)"
   ]
  },
  {
   "cell_type": "code",
   "execution_count": null,
   "metadata": {},
   "outputs": [],
   "source": []
  },
  {
   "cell_type": "markdown",
   "metadata": {},
   "source": [
    "### Step 3: Data Cleansing and Transformation"
   ]
  },
  {
   "cell_type": "code",
   "execution_count": 61,
   "metadata": {},
   "outputs": [
    {
     "data": {
      "text/html": [
       "<div>\n",
       "<style scoped>\n",
       "    .dataframe tbody tr th:only-of-type {\n",
       "        vertical-align: middle;\n",
       "    }\n",
       "\n",
       "    .dataframe tbody tr th {\n",
       "        vertical-align: top;\n",
       "    }\n",
       "\n",
       "    .dataframe thead th {\n",
       "        text-align: right;\n",
       "    }\n",
       "</style>\n",
       "<table border=\"1\" class=\"dataframe\">\n",
       "  <thead>\n",
       "    <tr style=\"text-align: right;\">\n",
       "      <th></th>\n",
       "      <th>statusId</th>\n",
       "      <th>status</th>\n",
       "      <th>resultId</th>\n",
       "      <th>raceId</th>\n",
       "      <th>points</th>\n",
       "      <th>round</th>\n",
       "      <th>circuitId</th>\n",
       "      <th>name</th>\n",
       "    </tr>\n",
       "  </thead>\n",
       "  <tbody>\n",
       "    <tr>\n",
       "      <th>1</th>\n",
       "      <td>1</td>\n",
       "      <td>Finished</td>\n",
       "      <td>2</td>\n",
       "      <td>18</td>\n",
       "      <td>8.0</td>\n",
       "      <td>1</td>\n",
       "      <td>1</td>\n",
       "      <td>Australian Grand Prix</td>\n",
       "    </tr>\n",
       "    <tr>\n",
       "      <th>12</th>\n",
       "      <td>1</td>\n",
       "      <td>Finished</td>\n",
       "      <td>28</td>\n",
       "      <td>19</td>\n",
       "      <td>3.0</td>\n",
       "      <td>2</td>\n",
       "      <td>2</td>\n",
       "      <td>Malaysian Grand Prix</td>\n",
       "    </tr>\n",
       "    <tr>\n",
       "      <th>23</th>\n",
       "      <td>1</td>\n",
       "      <td>Finished</td>\n",
       "      <td>75</td>\n",
       "      <td>21</td>\n",
       "      <td>0.0</td>\n",
       "      <td>4</td>\n",
       "      <td>4</td>\n",
       "      <td>Spanish Grand Prix</td>\n",
       "    </tr>\n",
       "    <tr>\n",
       "      <th>34</th>\n",
       "      <td>1</td>\n",
       "      <td>Finished</td>\n",
       "      <td>93</td>\n",
       "      <td>22</td>\n",
       "      <td>4.0</td>\n",
       "      <td>5</td>\n",
       "      <td>5</td>\n",
       "      <td>Turkish Grand Prix</td>\n",
       "    </tr>\n",
       "    <tr>\n",
       "      <th>52</th>\n",
       "      <td>14</td>\n",
       "      <td>+4 Laps</td>\n",
       "      <td>122</td>\n",
       "      <td>23</td>\n",
       "      <td>0.0</td>\n",
       "      <td>6</td>\n",
       "      <td>6</td>\n",
       "      <td>Monaco Grand Prix</td>\n",
       "    </tr>\n",
       "  </tbody>\n",
       "</table>\n",
       "</div>"
      ],
      "text/plain": [
       "    statusId    status  resultId  raceId  points  round  circuitId  \\\n",
       "1          1  Finished         2      18     8.0      1          1   \n",
       "12         1  Finished        28      19     3.0      2          2   \n",
       "23         1  Finished        75      21     0.0      4          4   \n",
       "34         1  Finished        93      22     4.0      5          5   \n",
       "52        14   +4 Laps       122      23     0.0      6          6   \n",
       "\n",
       "                     name  \n",
       "1   Australian Grand Prix  \n",
       "12   Malaysian Grand Prix  \n",
       "23     Spanish Grand Prix  \n",
       "34     Turkish Grand Prix  \n",
       "52      Monaco Grand Prix  "
      ]
     },
     "execution_count": 61,
     "metadata": {},
     "output_type": "execute_result"
    }
   ],
   "source": [
    "driver_results.head()"
   ]
  },
  {
   "cell_type": "code",
   "execution_count": 62,
   "metadata": {},
   "outputs": [
    {
     "data": {
      "text/plain": [
       "status    0.0\n",
       "name      0.0\n",
       "dtype: float64"
      ]
     },
     "execution_count": 62,
     "metadata": {},
     "output_type": "execute_result"
    }
   ],
   "source": [
    "# find categorical variables\n",
    "cat_cols = [c for c in driver_results.columns if driver_results[c].dtypes =='O']\n",
    "driver_results[cat_cols].isnull().mean().sort_values()"
   ]
  },
  {
   "cell_type": "code",
   "execution_count": 63,
   "metadata": {},
   "outputs": [
    {
     "data": {
      "text/plain": [
       "statusId     0.0\n",
       "resultId     0.0\n",
       "raceId       0.0\n",
       "points       0.0\n",
       "round        0.0\n",
       "circuitId    0.0\n",
       "dtype: float64"
      ]
     },
     "execution_count": 63,
     "metadata": {},
     "output_type": "execute_result"
    }
   ],
   "source": [
    "# find numerical variables\n",
    "num_cols = [n for n in driver_results.columns if driver_results[n].dtypes !='O']\n",
    "driver_results[num_cols].isnull().mean().sort_values()"
   ]
  },
  {
   "cell_type": "markdown",
   "metadata": {},
   "source": [
    "#### Distribution of numerical variables <a id=\"Distribution\"></a>\n",
    "\n",
    "[back to report](#NumericalData)"
   ]
  },
  {
   "cell_type": "code",
   "execution_count": 64,
   "metadata": {},
   "outputs": [
    {
     "data": {
      "image/png": "[encoded data removed]",
      "text/plain": [
       "<Figure size 864x864 with 6 Axes>"
      ]
     },
     "metadata": {
      "needs_background": "light"
     },
     "output_type": "display_data"
    }
   ],
   "source": [
    "# distribution of num variables\n",
    "# plot the histogram to the num variables\n",
    "driver_results[num_cols].hist(bins=30, figsize=(12,12))\n",
    "plt.show()"
   ]
  },
  {
   "cell_type": "code",
   "execution_count": 65,
   "metadata": {},
   "outputs": [
    {
     "data": {
      "text/plain": [
       "<AxesSubplot:ylabel='resultId'>"
      ]
     },
     "execution_count": 65,
     "metadata": {},
     "output_type": "execute_result"
    },
    {
     "data": {
      "image/png": "[encoded data removed]",
      "text/plain": [
       "<Figure size 144x288 with 1 Axes>"
      ]
     },
     "metadata": {
      "needs_background": "light"
     },
     "output_type": "display_data"
    }
   ],
   "source": [
    "# find outliers for resultId\n",
    "plt.figure(figsize=(2, 4))\n",
    "sns.boxplot(y=driver_results['resultId'])\n",
    "# there are outliers for this variable"
   ]
  },
  {
   "cell_type": "code",
   "execution_count": 66,
   "metadata": {},
   "outputs": [
    {
     "data": {
      "text/plain": [
       "<AxesSubplot:ylabel='raceId'>"
      ]
     },
     "execution_count": 66,
     "metadata": {},
     "output_type": "execute_result"
    },
    {
     "data": {
      "image/png": "[encoded data removed]",
      "text/plain": [
       "<Figure size 144x288 with 1 Axes>"
      ]
     },
     "metadata": {
      "needs_background": "light"
     },
     "output_type": "display_data"
    }
   ],
   "source": [
    "# find outliers for raceId\n",
    "plt.figure(figsize=(2, 4))\n",
    "sns.boxplot(y=driver_results['raceId'])\n",
    "# there are outliers for this variable"
   ]
  },
  {
   "cell_type": "code",
   "execution_count": 67,
   "metadata": {},
   "outputs": [
    {
     "data": {
      "text/plain": [
       "<AxesSubplot:ylabel='points'>"
      ]
     },
     "execution_count": 67,
     "metadata": {},
     "output_type": "execute_result"
    },
    {
     "data": {
      "image/png": "[encoded data removed]",
      "text/plain": [
       "<Figure size 144x288 with 1 Axes>"
      ]
     },
     "metadata": {
      "needs_background": "light"
     },
     "output_type": "display_data"
    }
   ],
   "source": [
    "# find outliers for points\n",
    "plt.figure(figsize=(2, 4))\n",
    "sns.boxplot(y=driver_results['points'])\n",
    "# there are outliers for this variable "
   ]
  },
  {
   "cell_type": "code",
   "execution_count": 68,
   "metadata": {},
   "outputs": [
    {
     "data": {
      "text/plain": [
       "<AxesSubplot:ylabel='statusId'>"
      ]
     },
     "execution_count": 68,
     "metadata": {},
     "output_type": "execute_result"
    },
    {
     "data": {
      "image/png": "[encoded data removed]",
      "text/plain": [
       "<Figure size 144x288 with 1 Axes>"
      ]
     },
     "metadata": {
      "needs_background": "light"
     },
     "output_type": "display_data"
    }
   ],
   "source": [
    "# find outliers for statusId\n",
    "plt.figure(figsize=(2, 4))\n",
    "sns.boxplot(y=driver_results['statusId'])\n",
    "# there are outliers for this variable"
   ]
  },
  {
   "cell_type": "code",
   "execution_count": 69,
   "metadata": {},
   "outputs": [
    {
     "data": {
      "text/plain": [
       "<AxesSubplot:ylabel='circuitId'>"
      ]
     },
     "execution_count": 69,
     "metadata": {},
     "output_type": "execute_result"
    },
    {
     "data": {
      "image/png": "[encoded data removed]",
      "text/plain": [
       "<Figure size 144x288 with 1 Axes>"
      ]
     },
     "metadata": {
      "needs_background": "light"
     },
     "output_type": "display_data"
    }
   ],
   "source": [
    "# find outliers for circuitId\n",
    "plt.figure(figsize=(2, 4))\n",
    "sns.boxplot(y=driver_results['circuitId'])\n",
    "# there are no outliers for this variable"
   ]
  },
  {
   "cell_type": "code",
   "execution_count": 70,
   "metadata": {},
   "outputs": [
    {
     "data": {
      "text/plain": [
       "<AxesSubplot:ylabel='round'>"
      ]
     },
     "execution_count": 70,
     "metadata": {},
     "output_type": "execute_result"
    },
    {
     "data": {
      "image/png": "[encoded data removed]",
      "text/plain": [
       "<Figure size 144x288 with 1 Axes>"
      ]
     },
     "metadata": {
      "needs_background": "light"
     },
     "output_type": "display_data"
    }
   ],
   "source": [
    "# find outliers for round\n",
    "plt.figure(figsize=(2, 4))\n",
    "sns.boxplot(y=driver_results['round'])\n",
    "# there are no outliers for this variable"
   ]
  },
  {
   "cell_type": "code",
   "execution_count": null,
   "metadata": {},
   "outputs": [],
   "source": []
  },
  {
   "cell_type": "code",
   "execution_count": 71,
   "metadata": {},
   "outputs": [],
   "source": [
    "# for outlier trimming for points, resultId, raceId, statusId, circuitId, and round\n",
    "\n",
    "def find_boundaries(df, variable, distance):\n",
    "\n",
    "    # Let's calculate the boundaries outside which sit the outliers\n",
    "    # for skewed distributions\n",
    "\n",
    "    # distance passed as an argument, gives us the option to\n",
    "    # estimate 1.5 times or 3 times the IQR to calculate\n",
    "    # the boundaries.\n",
    "\n",
    "    IQR = df[variable].quantile(0.75) - df[variable].quantile(0.25)\n",
    "\n",
    "    lower_boundary = df[variable].quantile(0.25) - (IQR * distance)\n",
    "    upper_boundary = df[variable].quantile(0.75) + (IQR * distance)\n",
    "\n",
    "    return upper_boundary, lower_boundary"
   ]
  },
  {
   "cell_type": "markdown",
   "metadata": {},
   "source": [
    "#### for the variable 'points' <a id=\"points\"></a>\n",
    "\n",
    "[back to report](#DataTransformation)"
   ]
  },
  {
   "cell_type": "code",
   "execution_count": 72,
   "metadata": {},
   "outputs": [
    {
     "data": {
      "text/plain": [
       "(5.0, -3.0)"
      ]
     },
     "execution_count": 72,
     "metadata": {},
     "output_type": "execute_result"
    }
   ],
   "source": [
    "# find limits for points\n",
    "\n",
    "points_upper_limit, points_lower_limit = find_boundaries(driver_results, 'points', 1.5)\n",
    "points_upper_limit, points_lower_limit"
   ]
  },
  {
   "cell_type": "code",
   "execution_count": 73,
   "metadata": {},
   "outputs": [],
   "source": [
    "# flag the outliers in the data set for points\n",
    "\n",
    "outliers_points = np.where(driver_results['points'] > points_upper_limit, True,\n",
    "                       np.where(driver_results['points'] < points_lower_limit, True, False))"
   ]
  },
  {
   "cell_type": "code",
   "execution_count": 74,
   "metadata": {},
   "outputs": [
    {
     "data": {
      "text/plain": [
       "(172, 8)"
      ]
     },
     "execution_count": 74,
     "metadata": {},
     "output_type": "execute_result"
    }
   ],
   "source": [
    "# trim the dataset by removing only points outliers\n",
    "\n",
    "driver_results = driver_results.loc[~outliers_points]\n",
    "\n",
    "driver_results.shape"
   ]
  },
  {
   "cell_type": "code",
   "execution_count": 75,
   "metadata": {},
   "outputs": [
    {
     "data": {
      "text/plain": [
       "<AxesSubplot:ylabel='points'>"
      ]
     },
     "execution_count": 75,
     "metadata": {},
     "output_type": "execute_result"
    },
    {
     "data": {
      "image/png": "[encoded data removed]",
      "text/plain": [
       "<Figure size 144x288 with 1 Axes>"
      ]
     },
     "metadata": {
      "needs_background": "light"
     },
     "output_type": "display_data"
    }
   ],
   "source": [
    "plt.figure(figsize=(2, 4))\n",
    "sns.boxplot(y=driver_results['points'])"
   ]
  },
  {
   "cell_type": "markdown",
   "metadata": {},
   "source": [
    "#### for the variable 'resultId' <a id=\"resultId\"></a>\n",
    "\n",
    "[back to report](#DataTransformation)"
   ]
  },
  {
   "cell_type": "code",
   "execution_count": 76,
   "metadata": {},
   "outputs": [
    {
     "data": {
      "text/plain": [
       "(5936.875, -1844.125)"
      ]
     },
     "execution_count": 76,
     "metadata": {},
     "output_type": "execute_result"
    }
   ],
   "source": [
    "# find limits for resultId\n",
    "\n",
    "points_upper_limit, points_lower_limit = find_boundaries(driver_results, 'resultId', 1.5)\n",
    "points_upper_limit, points_lower_limit"
   ]
  },
  {
   "cell_type": "code",
   "execution_count": 77,
   "metadata": {},
   "outputs": [],
   "source": [
    "# flag the outliers in the data set for resultId\n",
    "\n",
    "outliers_points = np.where(driver_results['resultId'] > points_upper_limit, True,\n",
    "                       np.where(driver_results['resultId'] < points_lower_limit, True, False))"
   ]
  },
  {
   "cell_type": "code",
   "execution_count": 78,
   "metadata": {},
   "outputs": [
    {
     "data": {
      "text/plain": [
       "(141, 8)"
      ]
     },
     "execution_count": 78,
     "metadata": {},
     "output_type": "execute_result"
    }
   ],
   "source": [
    "# trim the dataset by removing only resultId outliers\n",
    "\n",
    "driver_results = driver_results.loc[~outliers_points]\n",
    "\n",
    "driver_results.shape"
   ]
  },
  {
   "cell_type": "code",
   "execution_count": 79,
   "metadata": {},
   "outputs": [
    {
     "data": {
      "text/plain": [
       "<AxesSubplot:ylabel='resultId'>"
      ]
     },
     "execution_count": 79,
     "metadata": {},
     "output_type": "execute_result"
    },
    {
     "data": {
      "image/png": "[encoded data removed]",
      "text/plain": [
       "<Figure size 144x288 with 1 Axes>"
      ]
     },
     "metadata": {
      "needs_background": "light"
     },
     "output_type": "display_data"
    }
   ],
   "source": [
    "plt.figure(figsize=(2, 4))\n",
    "sns.boxplot(y=driver_results['resultId'])"
   ]
  },
  {
   "cell_type": "markdown",
   "metadata": {},
   "source": [
    "#### for the variable 'raceId' <a id=\"raceId\"></a>\n",
    "\n",
    "[back to report](#DataTransformation)"
   ]
  },
  {
   "cell_type": "code",
   "execution_count": 80,
   "metadata": {},
   "outputs": [
    {
     "data": {
      "text/plain": [
       "(256.5, -59.5)"
      ]
     },
     "execution_count": 80,
     "metadata": {},
     "output_type": "execute_result"
    }
   ],
   "source": [
    "# find limits for raceId\n",
    "\n",
    "points_upper_limit, points_lower_limit = find_boundaries(driver_results, 'raceId', 1.5)\n",
    "points_upper_limit, points_lower_limit"
   ]
  },
  {
   "cell_type": "code",
   "execution_count": 81,
   "metadata": {},
   "outputs": [],
   "source": [
    "# flag the outliers in the data set for raceId\n",
    "\n",
    "outliers_points = np.where(driver_results['raceId'] > points_upper_limit, True,\n",
    "                       np.where(driver_results['raceId'] < points_lower_limit, True, False))"
   ]
  },
  {
   "cell_type": "code",
   "execution_count": 82,
   "metadata": {},
   "outputs": [
    {
     "data": {
      "text/plain": [
       "(141, 8)"
      ]
     },
     "execution_count": 82,
     "metadata": {},
     "output_type": "execute_result"
    }
   ],
   "source": [
    "# trim the dataset by removing only raceId outliers\n",
    "\n",
    "driver_results = driver_results.loc[~outliers_points]\n",
    "\n",
    "driver_results.shape"
   ]
  },
  {
   "cell_type": "code",
   "execution_count": 83,
   "metadata": {},
   "outputs": [
    {
     "data": {
      "text/plain": [
       "<AxesSubplot:ylabel='raceId'>"
      ]
     },
     "execution_count": 83,
     "metadata": {},
     "output_type": "execute_result"
    },
    {
     "data": {
      "image/png": "[encoded data removed]",
      "text/plain": [
       "<Figure size 144x288 with 1 Axes>"
      ]
     },
     "metadata": {
      "needs_background": "light"
     },
     "output_type": "display_data"
    }
   ],
   "source": [
    "plt.figure(figsize=(2, 4))\n",
    "sns.boxplot(y=driver_results['raceId'])"
   ]
  },
  {
   "cell_type": "markdown",
   "metadata": {},
   "source": [
    "#### for the variable 'statusId' <a id=\"statusId\"></a>\n",
    "\n",
    "[back to report](#DataTransformation)"
   ]
  },
  {
   "cell_type": "code",
   "execution_count": 84,
   "metadata": {},
   "outputs": [
    {
     "data": {
      "text/plain": [
       "(26.0, -14.0)"
      ]
     },
     "execution_count": 84,
     "metadata": {},
     "output_type": "execute_result"
    }
   ],
   "source": [
    "# find limits for statusId\n",
    "\n",
    "points_upper_limit, points_lower_limit = find_boundaries(driver_results, 'statusId', 1.5)\n",
    "points_upper_limit, points_lower_limit"
   ]
  },
  {
   "cell_type": "code",
   "execution_count": 85,
   "metadata": {},
   "outputs": [],
   "source": [
    "# flag the outliers in the data set for statusId\n",
    "\n",
    "outliers_points = np.where(driver_results['statusId'] > points_upper_limit, True,\n",
    "                       np.where(driver_results['statusId'] < points_lower_limit, True, False))"
   ]
  },
  {
   "cell_type": "code",
   "execution_count": 86,
   "metadata": {},
   "outputs": [
    {
     "data": {
      "text/plain": [
       "(134, 8)"
      ]
     },
     "execution_count": 86,
     "metadata": {},
     "output_type": "execute_result"
    }
   ],
   "source": [
    "# trim the dataset by removing only statusId outliers\n",
    "\n",
    "driver_results = driver_results.loc[~outliers_points]\n",
    "\n",
    "driver_results.shape"
   ]
  },
  {
   "cell_type": "code",
   "execution_count": 87,
   "metadata": {},
   "outputs": [
    {
     "data": {
      "text/plain": [
       "<AxesSubplot:ylabel='statusId'>"
      ]
     },
     "execution_count": 87,
     "metadata": {},
     "output_type": "execute_result"
    },
    {
     "data": {
      "image/png": "[encoded data removed]",
      "text/plain": [
       "<Figure size 144x288 with 1 Axes>"
      ]
     },
     "metadata": {
      "needs_background": "light"
     },
     "output_type": "display_data"
    }
   ],
   "source": [
    "plt.figure(figsize=(2, 4))\n",
    "sns.boxplot(y=driver_results['statusId'])"
   ]
  },
  {
   "cell_type": "markdown",
   "metadata": {},
   "source": [
    "#### Heat Map for Correlations between variables <a id=\"heatmap\"></a>\n",
    "\n",
    "[back to report](#Others)"
   ]
  },
  {
   "cell_type": "code",
   "execution_count": 88,
   "metadata": {},
   "outputs": [
    {
     "data": {
      "text/html": [
       "<div>\n",
       "<style scoped>\n",
       "    .dataframe tbody tr th:only-of-type {\n",
       "        vertical-align: middle;\n",
       "    }\n",
       "\n",
       "    .dataframe tbody tr th {\n",
       "        vertical-align: top;\n",
       "    }\n",
       "\n",
       "    .dataframe thead th {\n",
       "        text-align: right;\n",
       "    }\n",
       "</style>\n",
       "<table border=\"1\" class=\"dataframe\">\n",
       "  <thead>\n",
       "    <tr style=\"text-align: right;\">\n",
       "      <th></th>\n",
       "      <th>statusId</th>\n",
       "      <th>resultId</th>\n",
       "      <th>raceId</th>\n",
       "      <th>points</th>\n",
       "      <th>round</th>\n",
       "      <th>circuitId</th>\n",
       "    </tr>\n",
       "  </thead>\n",
       "  <tbody>\n",
       "    <tr>\n",
       "      <th>statusId</th>\n",
       "      <td>1.000000</td>\n",
       "      <td>0.399114</td>\n",
       "      <td>0.398407</td>\n",
       "      <td>-0.510762</td>\n",
       "      <td>-0.051563</td>\n",
       "      <td>0.002306</td>\n",
       "    </tr>\n",
       "    <tr>\n",
       "      <th>resultId</th>\n",
       "      <td>0.399114</td>\n",
       "      <td>1.000000</td>\n",
       "      <td>0.999877</td>\n",
       "      <td>-0.483640</td>\n",
       "      <td>0.085634</td>\n",
       "      <td>0.170945</td>\n",
       "    </tr>\n",
       "    <tr>\n",
       "      <th>raceId</th>\n",
       "      <td>0.398407</td>\n",
       "      <td>0.999877</td>\n",
       "      <td>1.000000</td>\n",
       "      <td>-0.479082</td>\n",
       "      <td>0.084710</td>\n",
       "      <td>0.171645</td>\n",
       "    </tr>\n",
       "    <tr>\n",
       "      <th>points</th>\n",
       "      <td>-0.510762</td>\n",
       "      <td>-0.483640</td>\n",
       "      <td>-0.479082</td>\n",
       "      <td>1.000000</td>\n",
       "      <td>-0.079342</td>\n",
       "      <td>-0.160470</td>\n",
       "    </tr>\n",
       "    <tr>\n",
       "      <th>round</th>\n",
       "      <td>-0.051563</td>\n",
       "      <td>0.085634</td>\n",
       "      <td>0.084710</td>\n",
       "      <td>-0.079342</td>\n",
       "      <td>1.000000</td>\n",
       "      <td>0.501046</td>\n",
       "    </tr>\n",
       "    <tr>\n",
       "      <th>circuitId</th>\n",
       "      <td>0.002306</td>\n",
       "      <td>0.170945</td>\n",
       "      <td>0.171645</td>\n",
       "      <td>-0.160470</td>\n",
       "      <td>0.501046</td>\n",
       "      <td>1.000000</td>\n",
       "    </tr>\n",
       "  </tbody>\n",
       "</table>\n",
       "</div>"
      ],
      "text/plain": [
       "           statusId  resultId    raceId    points     round  circuitId\n",
       "statusId   1.000000  0.399114  0.398407 -0.510762 -0.051563   0.002306\n",
       "resultId   0.399114  1.000000  0.999877 -0.483640  0.085634   0.170945\n",
       "raceId     0.398407  0.999877  1.000000 -0.479082  0.084710   0.171645\n",
       "points    -0.510762 -0.483640 -0.479082  1.000000 -0.079342  -0.160470\n",
       "round     -0.051563  0.085634  0.084710 -0.079342  1.000000   0.501046\n",
       "circuitId  0.002306  0.170945  0.171645 -0.160470  0.501046   1.000000"
      ]
     },
     "execution_count": 88,
     "metadata": {},
     "output_type": "execute_result"
    }
   ],
   "source": [
    "driver_results.corr()"
   ]
  },
  {
   "cell_type": "code",
   "execution_count": 89,
   "metadata": {},
   "outputs": [
    {
     "data": {
      "image/png": "[encoded data removed]",
      "text/plain": [
       "<Figure size 1080x1080 with 2 Axes>"
      ]
     },
     "metadata": {
      "needs_background": "light"
     },
     "output_type": "display_data"
    }
   ],
   "source": [
    "colormap = plt.cm.viridis\n",
    "plt.figure(figsize=(15,15))\n",
    "plt.title('Driver results data Correlation of Features', size=15)\n",
    "ax = sns.heatmap(driver_results.corr(), cmap=colormap, annot=True)\n",
    "bottom, top = ax.get_ylim()\n",
    "ax.set_ylim(bottom + 0.5, top - 0.5)\n",
    "plt.show()"
   ]
  },
  {
   "cell_type": "code",
   "execution_count": 90,
   "metadata": {},
   "outputs": [],
   "source": [
    "# Numerical data transformation"
   ]
  },
  {
   "cell_type": "code",
   "execution_count": 91,
   "metadata": {},
   "outputs": [],
   "source": [
    "# plot histogram and Q-Q plots to have a look at the variable distribution\n",
    "\n",
    "def diagnostic_plots(df, variable):\n",
    "    \n",
    "    # function to plot a histogram and a Q-Q plot\n",
    "    # side by side, for a certain variable\n",
    "    \n",
    "    plt.figure(figsize=(15,6))\n",
    "    plt.subplot(1, 2, 1)\n",
    "    df[variable].hist(bins=30)\n",
    "\n",
    "    plt.subplot(1, 2, 2)\n",
    "    stats.probplot(df[variable], dist=\"norm\", plot=plt)\n",
    "\n",
    "    plt.show()"
   ]
  },
  {
   "cell_type": "markdown",
   "metadata": {},
   "source": [
    "#### for variable points"
   ]
  },
  {
   "cell_type": "code",
   "execution_count": 92,
   "metadata": {},
   "outputs": [],
   "source": [
    "# make a copy of the dataframe where we will store the modified variables, to explore various types of transformations\n",
    "\n",
    "data_test = driver_results.copy()"
   ]
  },
  {
   "cell_type": "code",
   "execution_count": 93,
   "metadata": {},
   "outputs": [
    {
     "data": {
      "image/png": "[encoded data removed]",
      "text/plain": [
       "<Figure size 1080x432 with 2 Axes>"
      ]
     },
     "metadata": {
      "needs_background": "light"
     },
     "output_type": "display_data"
    }
   ],
   "source": [
    "# check original distribution\n",
    "diagnostic_plots(data_test, 'points')"
   ]
  },
  {
   "cell_type": "code",
   "execution_count": 94,
   "metadata": {},
   "outputs": [
    {
     "data": {
      "text/plain": [
       "PowerTransformer(exp=0.3333333333333333, variables=['points'])"
      ]
     },
     "execution_count": 94,
     "metadata": {},
     "output_type": "execute_result"
    }
   ],
   "source": [
    "# using Cube root Transformations with Feature Engine\n",
    "\n",
    "# set up PowerTransformer with the cube root exponent\n",
    "et = PowerTransformer(variables = ['points'], exp=1/3) # for cube root\n",
    "\n",
    "# fit transformer to data \n",
    "et.fit(data_test)"
   ]
  },
  {
   "cell_type": "code",
   "execution_count": 95,
   "metadata": {},
   "outputs": [],
   "source": [
    "# transform indicated variables within our dataframe\n",
    "data_test_tf = et.transform(data_test)"
   ]
  },
  {
   "cell_type": "code",
   "execution_count": 96,
   "metadata": {},
   "outputs": [
    {
     "data": {
      "image/png": "[encoded data removed]",
      "text/plain": [
       "<Figure size 1080x432 with 2 Axes>"
      ]
     },
     "metadata": {
      "needs_background": "light"
     },
     "output_type": "display_data"
    }
   ],
   "source": [
    "# visualize the trasnformation\n",
    "\n",
    "diagnostic_plots(data_test_tf, 'points')"
   ]
  },
  {
   "cell_type": "code",
   "execution_count": 97,
   "metadata": {},
   "outputs": [],
   "source": [
    "# using Reciprocal Transformations with Feature Engine \n",
    "\n",
    "# initialize the transformer\n",
    "#rt = ReciprocalTransformer(variables = ['points'])\n",
    "\n",
    "# fit transformer to the entire dataframe\n",
    "#rt.fit(data_test)\n",
    "\n",
    "# cant be applied due to 'some variables containing the value zero', hence can't apply reciprocal transformation."
   ]
  },
  {
   "cell_type": "code",
   "execution_count": 98,
   "metadata": {},
   "outputs": [],
   "source": [
    "# using Box-Cox transformation with Feature Engine\n",
    "# initialize the transformer with variables to transform\n",
    "#bct = BoxCoxTransformer(variables = ['points'])\n",
    "\n",
    "# fit transformer to the data set\n",
    "#bct.fit(data_test)\n",
    "\n",
    "# cant be applied as 'Data must be positive.'"
   ]
  },
  {
   "cell_type": "code",
   "execution_count": 99,
   "metadata": {},
   "outputs": [
    {
     "data": {
      "text/plain": [
       "PowerTransformer(variables=['points'])"
      ]
     },
     "execution_count": 99,
     "metadata": {},
     "output_type": "execute_result"
    }
   ],
   "source": [
    "# using Square root Transformations with Feature Engine\n",
    "\n",
    "# set up PowerTransformer with the square root exponent\n",
    "et = PowerTransformer(variables = ['points'], exp=1/2) # for square root\n",
    "\n",
    "# fit transformer to data \n",
    "et.fit(data_test)"
   ]
  },
  {
   "cell_type": "code",
   "execution_count": 100,
   "metadata": {},
   "outputs": [],
   "source": [
    "# transform indicated variables within our dataframe\n",
    "data_test_tf = et.transform(data_test)"
   ]
  },
  {
   "cell_type": "code",
   "execution_count": 101,
   "metadata": {},
   "outputs": [
    {
     "data": {
      "image/png": "[encoded data removed]",
      "text/plain": [
       "<Figure size 1080x432 with 2 Axes>"
      ]
     },
     "metadata": {
      "needs_background": "light"
     },
     "output_type": "display_data"
    }
   ],
   "source": [
    "# visualize the trasnformation\n",
    "\n",
    "diagnostic_plots(data_test_tf, 'points')"
   ]
  },
  {
   "cell_type": "markdown",
   "metadata": {},
   "source": [
    "After looking and comparing at the transformations, I decided that the variable points does not require any transformations. "
   ]
  },
  {
   "cell_type": "code",
   "execution_count": null,
   "metadata": {},
   "outputs": [],
   "source": []
  },
  {
   "cell_type": "markdown",
   "metadata": {},
   "source": [
    "#### for variable round"
   ]
  },
  {
   "cell_type": "code",
   "execution_count": 102,
   "metadata": {},
   "outputs": [],
   "source": [
    "# make a copy of the dataframe where we will store the modified variables, to explore various types of transformations\n",
    "\n",
    "data_test = driver_results.copy()"
   ]
  },
  {
   "cell_type": "code",
   "execution_count": 103,
   "metadata": {},
   "outputs": [
    {
     "data": {
      "image/png": "[encoded data removed]",
      "text/plain": [
       "<Figure size 1080x432 with 2 Axes>"
      ]
     },
     "metadata": {
      "needs_background": "light"
     },
     "output_type": "display_data"
    }
   ],
   "source": [
    "# check original distribution\n",
    "diagnostic_plots(data_test, 'round')"
   ]
  },
  {
   "cell_type": "code",
   "execution_count": 104,
   "metadata": {},
   "outputs": [
    {
     "data": {
      "text/plain": [
       "ReciprocalTransformer(variables=['round'])"
      ]
     },
     "execution_count": 104,
     "metadata": {},
     "output_type": "execute_result"
    }
   ],
   "source": [
    "# using Reciprocal Transformations with Feature Engine \n",
    "\n",
    "# initialize the transformer\n",
    "rt = ReciprocalTransformer(variables = ['round'])\n",
    "\n",
    "# fit transformer to the entire dataframe\n",
    "rt.fit(data_test)\n"
   ]
  },
  {
   "cell_type": "code",
   "execution_count": 105,
   "metadata": {},
   "outputs": [],
   "source": [
    "# transform the indicated variable within our data set\n",
    "data_test_tf = rt.transform(data_test)"
   ]
  },
  {
   "cell_type": "code",
   "execution_count": 106,
   "metadata": {},
   "outputs": [
    {
     "data": {
      "image/png": "[encoded data removed]",
      "text/plain": [
       "<Figure size 1080x432 with 2 Axes>"
      ]
     },
     "metadata": {
      "needs_background": "light"
     },
     "output_type": "display_data"
    }
   ],
   "source": [
    "# visualize the trasnformation - reciprocal \n",
    "\n",
    "diagnostic_plots(data_test_tf, 'round')"
   ]
  },
  {
   "cell_type": "code",
   "execution_count": 107,
   "metadata": {},
   "outputs": [
    {
     "data": {
      "text/plain": [
       "PowerTransformer(exp=0.3333333333333333, variables=['round'])"
      ]
     },
     "execution_count": 107,
     "metadata": {},
     "output_type": "execute_result"
    }
   ],
   "source": [
    "# using Cube root Transformations with Feature Engine\n",
    "\n",
    "# set up PowerTransformer with the cube root exponent\n",
    "et = PowerTransformer(variables = ['round'], exp=1/3) # for cube root\n",
    "\n",
    "# fit transformer to data \n",
    "et.fit(data_test)"
   ]
  },
  {
   "cell_type": "code",
   "execution_count": 108,
   "metadata": {},
   "outputs": [],
   "source": [
    "# transform indicated variables within our dataframe\n",
    "data_test_tf = et.transform(data_test)"
   ]
  },
  {
   "cell_type": "code",
   "execution_count": 109,
   "metadata": {},
   "outputs": [
    {
     "data": {
      "image/png": "[encoded data removed]",
      "text/plain": [
       "<Figure size 1080x432 with 2 Axes>"
      ]
     },
     "metadata": {
      "needs_background": "light"
     },
     "output_type": "display_data"
    }
   ],
   "source": [
    "# visualize the trasnformation - cube root\n",
    "\n",
    "diagnostic_plots(data_test_tf, 'round')"
   ]
  },
  {
   "cell_type": "code",
   "execution_count": 110,
   "metadata": {},
   "outputs": [
    {
     "data": {
      "text/plain": [
       "PowerTransformer(variables=['round'])"
      ]
     },
     "execution_count": 110,
     "metadata": {},
     "output_type": "execute_result"
    }
   ],
   "source": [
    "# using Square root Transformations with Feature Engine\n",
    "\n",
    "# set up PowerTransformer with the cube root exponent\n",
    "et = PowerTransformer(variables = ['round'], exp=1/2) # for square root\n",
    "\n",
    "# fit transformer to data \n",
    "et.fit(data_test)"
   ]
  },
  {
   "cell_type": "code",
   "execution_count": 111,
   "metadata": {},
   "outputs": [],
   "source": [
    "# transform indicated variables within our dataframe\n",
    "data_test_tf = et.transform(data_test)"
   ]
  },
  {
   "cell_type": "code",
   "execution_count": 112,
   "metadata": {},
   "outputs": [
    {
     "data": {
      "image/png": "[encoded data removed]",
      "text/plain": [
       "<Figure size 1080x432 with 2 Axes>"
      ]
     },
     "metadata": {
      "needs_background": "light"
     },
     "output_type": "display_data"
    }
   ],
   "source": [
    "# visualize the trasnformation - square root\n",
    "\n",
    "diagnostic_plots(data_test_tf, 'round')"
   ]
  },
  {
   "cell_type": "code",
   "execution_count": 113,
   "metadata": {},
   "outputs": [
    {
     "data": {
      "text/plain": [
       "BoxCoxTransformer(variables=['round'])"
      ]
     },
     "execution_count": 113,
     "metadata": {},
     "output_type": "execute_result"
    }
   ],
   "source": [
    "# using Box-Cox transformation with Feature Engine\n",
    "\n",
    "# initialize the transformer with variables to transform\n",
    "bct = BoxCoxTransformer(variables = ['round'])\n",
    "\n",
    "# fit transformer to the data set\n",
    "bct.fit(data_test)"
   ]
  },
  {
   "cell_type": "code",
   "execution_count": 114,
   "metadata": {},
   "outputs": [],
   "source": [
    "# transform indicated variables within our dataframe\n",
    "data_test_tf = et.transform(data_test)"
   ]
  },
  {
   "cell_type": "code",
   "execution_count": 115,
   "metadata": {},
   "outputs": [
    {
     "data": {
      "image/png": "[encoded data removed]",
      "text/plain": [
       "<Figure size 1080x432 with 2 Axes>"
      ]
     },
     "metadata": {
      "needs_background": "light"
     },
     "output_type": "display_data"
    }
   ],
   "source": [
    "# visualize the trasnformation - box-cot\n",
    "\n",
    "diagnostic_plots(data_test_tf, 'round')"
   ]
  },
  {
   "cell_type": "markdown",
   "metadata": {},
   "source": [
    "After using the few transformation, I have decided to use Square root Transformations with Feature Engine for the variable 'round'"
   ]
  },
  {
   "cell_type": "code",
   "execution_count": 116,
   "metadata": {},
   "outputs": [
    {
     "data": {
      "text/plain": [
       "PowerTransformer(variables=['round'])"
      ]
     },
     "execution_count": 116,
     "metadata": {},
     "output_type": "execute_result"
    }
   ],
   "source": [
    "# using Square root Transformations with Feature Engine\n",
    "\n",
    "# set up PowerTransformer with the cube root exponent\n",
    "et = PowerTransformer(variables = ['round'], exp=1/2) # for square root\n",
    "\n",
    "# fit transformer to data \n",
    "et.fit(driver_results)"
   ]
  },
  {
   "cell_type": "code",
   "execution_count": 117,
   "metadata": {},
   "outputs": [],
   "source": [
    "# transform indicated variables within our dataframe\n",
    "driver_results_tf = et.transform(driver_results)"
   ]
  },
  {
   "cell_type": "code",
   "execution_count": 118,
   "metadata": {},
   "outputs": [
    {
     "data": {
      "image/png": "[encoded data removed]",
      "text/plain": [
       "<Figure size 1080x432 with 2 Axes>"
      ]
     },
     "metadata": {
      "needs_background": "light"
     },
     "output_type": "display_data"
    }
   ],
   "source": [
    "# visualize the trasnformation - square root\n",
    "\n",
    "diagnostic_plots(driver_results_tf, 'round')"
   ]
  },
  {
   "cell_type": "code",
   "execution_count": null,
   "metadata": {},
   "outputs": [],
   "source": []
  },
  {
   "cell_type": "markdown",
   "metadata": {},
   "source": [
    "#### for variable circuitId"
   ]
  },
  {
   "cell_type": "code",
   "execution_count": 119,
   "metadata": {},
   "outputs": [],
   "source": [
    "# make a copy of the dataframe where we will store the modified variables, to explore various types of transformations\n",
    "\n",
    "data_test = driver_results.copy()"
   ]
  },
  {
   "cell_type": "code",
   "execution_count": 120,
   "metadata": {},
   "outputs": [
    {
     "data": {
      "image/png": "[encoded data removed]",
      "text/plain": [
       "<Figure size 1080x432 with 2 Axes>"
      ]
     },
     "metadata": {
      "needs_background": "light"
     },
     "output_type": "display_data"
    }
   ],
   "source": [
    "# check original distribution for circuitId, using data_test to explore various transformations\n",
    "diagnostic_plots(data_test, 'circuitId')"
   ]
  },
  {
   "cell_type": "code",
   "execution_count": 121,
   "metadata": {},
   "outputs": [
    {
     "data": {
      "text/plain": [
       "ReciprocalTransformer(variables=['circuitId'])"
      ]
     },
     "execution_count": 121,
     "metadata": {},
     "output_type": "execute_result"
    }
   ],
   "source": [
    "# using Reciprocal Transformations with Feature Engine \n",
    "\n",
    "# initialize the transformer\n",
    "rt = ReciprocalTransformer(variables = ['circuitId'])\n",
    "\n",
    "# fit transformer to the entire dataframe\n",
    "rt.fit(data_test)\n"
   ]
  },
  {
   "cell_type": "code",
   "execution_count": 122,
   "metadata": {},
   "outputs": [],
   "source": [
    "# transform the indicated variable within our data set\n",
    "data_test_tf = rt.transform(data_test)"
   ]
  },
  {
   "cell_type": "code",
   "execution_count": 123,
   "metadata": {},
   "outputs": [
    {
     "data": {
      "image/png": "[encoded data removed]",
      "text/plain": [
       "<Figure size 1080x432 with 2 Axes>"
      ]
     },
     "metadata": {
      "needs_background": "light"
     },
     "output_type": "display_data"
    }
   ],
   "source": [
    "# visualize the trasnformation - reciprocal \n",
    "\n",
    "diagnostic_plots(data_test_tf, 'circuitId')"
   ]
  },
  {
   "cell_type": "code",
   "execution_count": 124,
   "metadata": {},
   "outputs": [
    {
     "data": {
      "text/plain": [
       "PowerTransformer(variables=['circuitId'])"
      ]
     },
     "execution_count": 124,
     "metadata": {},
     "output_type": "execute_result"
    }
   ],
   "source": [
    "# using Square root Transformations with Feature Engine\n",
    "\n",
    "# set up PowerTransformer with the cube root exponent\n",
    "et = PowerTransformer(variables = ['circuitId'], exp=1/2) # for square root\n",
    "\n",
    "# fit transformer to data \n",
    "et.fit(data_test)"
   ]
  },
  {
   "cell_type": "code",
   "execution_count": 125,
   "metadata": {},
   "outputs": [],
   "source": [
    "# transform indicated variables within our dataframe\n",
    "data_test_tf = et.transform(data_test)"
   ]
  },
  {
   "cell_type": "code",
   "execution_count": 126,
   "metadata": {},
   "outputs": [
    {
     "data": {
      "image/png": "[encoded data removed]",
      "text/plain": [
       "<Figure size 1080x432 with 2 Axes>"
      ]
     },
     "metadata": {
      "needs_background": "light"
     },
     "output_type": "display_data"
    }
   ],
   "source": [
    "# visualize the trasnformation - square root\n",
    "\n",
    "diagnostic_plots(data_test_tf, 'circuitId')"
   ]
  },
  {
   "cell_type": "code",
   "execution_count": 127,
   "metadata": {},
   "outputs": [
    {
     "data": {
      "text/plain": [
       "BoxCoxTransformer(variables=['circuitId'])"
      ]
     },
     "execution_count": 127,
     "metadata": {},
     "output_type": "execute_result"
    }
   ],
   "source": [
    "# using Box-Cox transformation with Feature Engine\n",
    "\n",
    "# initialize the transformer with variables to transform\n",
    "bct = BoxCoxTransformer(variables = ['circuitId'])\n",
    "\n",
    "# fit transformer to the data set\n",
    "bct.fit(data_test)"
   ]
  },
  {
   "cell_type": "code",
   "execution_count": 128,
   "metadata": {},
   "outputs": [],
   "source": [
    "# transform indicated variables within our dataframe\n",
    "data_test_tf = et.transform(data_test)"
   ]
  },
  {
   "cell_type": "code",
   "execution_count": 129,
   "metadata": {},
   "outputs": [
    {
     "data": {
      "image/png": "[encoded data removed]",
      "text/plain": [
       "<Figure size 1080x432 with 2 Axes>"
      ]
     },
     "metadata": {
      "needs_background": "light"
     },
     "output_type": "display_data"
    }
   ],
   "source": [
    "# visualize the trasnformation - box-cot\n",
    "\n",
    "diagnostic_plots(data_test_tf, 'circuitId')"
   ]
  },
  {
   "cell_type": "markdown",
   "metadata": {},
   "source": [
    "After using the few transformation, I have decided to use Box-Cox Transformations with Feature Engine for variable 'circuitId'"
   ]
  },
  {
   "cell_type": "code",
   "execution_count": 130,
   "metadata": {},
   "outputs": [
    {
     "data": {
      "text/plain": [
       "BoxCoxTransformer(variables=['circuitId'])"
      ]
     },
     "execution_count": 130,
     "metadata": {},
     "output_type": "execute_result"
    }
   ],
   "source": [
    "# using Box-Cox transformation with Feature Engine\n",
    "\n",
    "# initialize the transformer with variables to transform\n",
    "bct = BoxCoxTransformer(variables = ['circuitId'])\n",
    "\n",
    "# fit transformer to the data set\n",
    "bct.fit(driver_results)"
   ]
  },
  {
   "cell_type": "code",
   "execution_count": 131,
   "metadata": {},
   "outputs": [],
   "source": [
    "# transform indicated variables within our dataframe\n",
    "driver_results_tf = et.transform(driver_results)"
   ]
  },
  {
   "cell_type": "code",
   "execution_count": 132,
   "metadata": {},
   "outputs": [
    {
     "data": {
      "image/png": "[encoded data removed]",
      "text/plain": [
       "<Figure size 1080x432 with 2 Axes>"
      ]
     },
     "metadata": {
      "needs_background": "light"
     },
     "output_type": "display_data"
    }
   ],
   "source": [
    "# visualize the trasnformation - box-cot\n",
    "\n",
    "diagnostic_plots(driver_results_tf, 'circuitId')"
   ]
  },
  {
   "cell_type": "code",
   "execution_count": null,
   "metadata": {},
   "outputs": [],
   "source": []
  },
  {
   "cell_type": "code",
   "execution_count": 133,
   "metadata": {},
   "outputs": [
    {
     "data": {
      "text/plain": [
       "status    0.0\n",
       "name      0.0\n",
       "dtype: float64"
      ]
     },
     "execution_count": 133,
     "metadata": {},
     "output_type": "execute_result"
    }
   ],
   "source": [
    "# to check the null values for categorical variables again\n",
    "driver_results[cat_cols].isnull().mean().sort_values()"
   ]
  },
  {
   "cell_type": "code",
   "execution_count": 134,
   "metadata": {},
   "outputs": [
    {
     "data": {
      "text/plain": [
       "((93, 8), (41, 8))"
      ]
     },
     "execution_count": 134,
     "metadata": {},
     "output_type": "execute_result"
    }
   ],
   "source": [
    "# Separate the data into training (70%) and testing sets (30%)\n",
    "# Target Variable is \"statusId\"\n",
    "X_train, X_test, y_train, y_test = train_test_split(\n",
    "    driver_results, driver_results['statusId'], test_size=0.3, random_state=0)\n",
    "\n",
    "X_train.shape, X_test.shape"
   ]
  },
  {
   "cell_type": "code",
   "execution_count": null,
   "metadata": {},
   "outputs": [],
   "source": []
  },
  {
   "cell_type": "markdown",
   "metadata": {},
   "source": [
    "#### for Categorical Data Encoding"
   ]
  },
  {
   "cell_type": "markdown",
   "metadata": {},
   "source": [
    "#### One Hot Encoding <a id=\"OneHot\"></a>\n",
    "\n",
    "[back to report](#CategoricalData)"
   ]
  },
  {
   "cell_type": "code",
   "execution_count": 135,
   "metadata": {},
   "outputs": [
    {
     "data": {
      "text/html": [
       "<div>\n",
       "<style scoped>\n",
       "    .dataframe tbody tr th:only-of-type {\n",
       "        vertical-align: middle;\n",
       "    }\n",
       "\n",
       "    .dataframe tbody tr th {\n",
       "        vertical-align: top;\n",
       "    }\n",
       "\n",
       "    .dataframe thead th {\n",
       "        text-align: right;\n",
       "    }\n",
       "</style>\n",
       "<table border=\"1\" class=\"dataframe\">\n",
       "  <thead>\n",
       "    <tr style=\"text-align: right;\">\n",
       "      <th></th>\n",
       "      <th>statusId</th>\n",
       "      <th>status</th>\n",
       "      <th>resultId</th>\n",
       "      <th>raceId</th>\n",
       "      <th>points</th>\n",
       "      <th>round</th>\n",
       "      <th>circuitId</th>\n",
       "      <th>name</th>\n",
       "    </tr>\n",
       "  </thead>\n",
       "  <tbody>\n",
       "    <tr>\n",
       "      <th>12</th>\n",
       "      <td>1</td>\n",
       "      <td>Finished</td>\n",
       "      <td>28</td>\n",
       "      <td>19</td>\n",
       "      <td>3.0</td>\n",
       "      <td>2</td>\n",
       "      <td>2</td>\n",
       "      <td>Malaysian Grand Prix</td>\n",
       "    </tr>\n",
       "    <tr>\n",
       "      <th>23</th>\n",
       "      <td>1</td>\n",
       "      <td>Finished</td>\n",
       "      <td>75</td>\n",
       "      <td>21</td>\n",
       "      <td>0.0</td>\n",
       "      <td>4</td>\n",
       "      <td>4</td>\n",
       "      <td>Spanish Grand Prix</td>\n",
       "    </tr>\n",
       "    <tr>\n",
       "      <th>34</th>\n",
       "      <td>1</td>\n",
       "      <td>Finished</td>\n",
       "      <td>93</td>\n",
       "      <td>22</td>\n",
       "      <td>4.0</td>\n",
       "      <td>5</td>\n",
       "      <td>5</td>\n",
       "      <td>Turkish Grand Prix</td>\n",
       "    </tr>\n",
       "    <tr>\n",
       "      <th>52</th>\n",
       "      <td>14</td>\n",
       "      <td>+4 Laps</td>\n",
       "      <td>122</td>\n",
       "      <td>23</td>\n",
       "      <td>0.0</td>\n",
       "      <td>6</td>\n",
       "      <td>6</td>\n",
       "      <td>Monaco Grand Prix</td>\n",
       "    </tr>\n",
       "    <tr>\n",
       "      <th>54</th>\n",
       "      <td>1</td>\n",
       "      <td>Finished</td>\n",
       "      <td>161</td>\n",
       "      <td>25</td>\n",
       "      <td>0.0</td>\n",
       "      <td>8</td>\n",
       "      <td>8</td>\n",
       "      <td>French Grand Prix</td>\n",
       "    </tr>\n",
       "  </tbody>\n",
       "</table>\n",
       "</div>"
      ],
      "text/plain": [
       "    statusId    status  resultId  raceId  points  round  circuitId  \\\n",
       "12         1  Finished        28      19     3.0      2          2   \n",
       "23         1  Finished        75      21     0.0      4          4   \n",
       "34         1  Finished        93      22     4.0      5          5   \n",
       "52        14   +4 Laps       122      23     0.0      6          6   \n",
       "54         1  Finished       161      25     0.0      8          8   \n",
       "\n",
       "                    name  \n",
       "12  Malaysian Grand Prix  \n",
       "23    Spanish Grand Prix  \n",
       "34    Turkish Grand Prix  \n",
       "52     Monaco Grand Prix  \n",
       "54     French Grand Prix  "
      ]
     },
     "execution_count": 135,
     "metadata": {},
     "output_type": "execute_result"
    }
   ],
   "source": [
    "# for one hot encoding\n",
    "driver_results.head()"
   ]
  },
  {
   "cell_type": "code",
   "execution_count": 136,
   "metadata": {},
   "outputs": [],
   "source": [
    "# let's create the encoder\n",
    "from feature_engine.encoding import OneHotEncoder\n",
    "\n",
    "ohe_enc = OneHotEncoder(\n",
    "    top_categories=None,\n",
    "    drop_last=False)  # to return k-1, false to return k "
   ]
  },
  {
   "cell_type": "code",
   "execution_count": 137,
   "metadata": {},
   "outputs": [
    {
     "data": {
      "text/plain": [
       "OneHotEncoder()"
      ]
     },
     "execution_count": 137,
     "metadata": {},
     "output_type": "execute_result"
    }
   ],
   "source": [
    "ohe_enc.fit(X_train)"
   ]
  },
  {
   "cell_type": "code",
   "execution_count": 138,
   "metadata": {},
   "outputs": [
    {
     "data": {
      "text/plain": [
       "['status', 'name']"
      ]
     },
     "execution_count": 138,
     "metadata": {},
     "output_type": "execute_result"
    }
   ],
   "source": [
    "# see which variables the encoder will encode\n",
    "\n",
    "ohe_enc.variables_"
   ]
  },
  {
   "cell_type": "code",
   "execution_count": 139,
   "metadata": {},
   "outputs": [
    {
     "data": {
      "text/html": [
       "<div>\n",
       "<style scoped>\n",
       "    .dataframe tbody tr th:only-of-type {\n",
       "        vertical-align: middle;\n",
       "    }\n",
       "\n",
       "    .dataframe tbody tr th {\n",
       "        vertical-align: top;\n",
       "    }\n",
       "\n",
       "    .dataframe thead th {\n",
       "        text-align: right;\n",
       "    }\n",
       "</style>\n",
       "<table border=\"1\" class=\"dataframe\">\n",
       "  <thead>\n",
       "    <tr style=\"text-align: right;\">\n",
       "      <th></th>\n",
       "      <th>statusId</th>\n",
       "      <th>resultId</th>\n",
       "      <th>raceId</th>\n",
       "      <th>points</th>\n",
       "      <th>round</th>\n",
       "      <th>circuitId</th>\n",
       "      <th>status_Finished</th>\n",
       "      <th>status_+1 Lap</th>\n",
       "      <th>status_Engine</th>\n",
       "      <th>status_Accident</th>\n",
       "      <th>...</th>\n",
       "      <th>name_European Grand Prix</th>\n",
       "      <th>name_United States Grand Prix</th>\n",
       "      <th>name_Chinese Grand Prix</th>\n",
       "      <th>name_Italian Grand Prix</th>\n",
       "      <th>name_French Grand Prix</th>\n",
       "      <th>name_Japanese Grand Prix</th>\n",
       "      <th>name_British Grand Prix</th>\n",
       "      <th>name_Austrian Grand Prix</th>\n",
       "      <th>name_Turkish Grand Prix</th>\n",
       "      <th>name_Singapore Grand Prix</th>\n",
       "    </tr>\n",
       "  </thead>\n",
       "  <tbody>\n",
       "    <tr>\n",
       "      <th>180</th>\n",
       "      <td>1</td>\n",
       "      <td>416</td>\n",
       "      <td>38</td>\n",
       "      <td>5.0</td>\n",
       "      <td>3</td>\n",
       "      <td>3</td>\n",
       "      <td>1</td>\n",
       "      <td>0</td>\n",
       "      <td>0</td>\n",
       "      <td>0</td>\n",
       "      <td>...</td>\n",
       "      <td>0</td>\n",
       "      <td>0</td>\n",
       "      <td>0</td>\n",
       "      <td>0</td>\n",
       "      <td>0</td>\n",
       "      <td>0</td>\n",
       "      <td>0</td>\n",
       "      <td>0</td>\n",
       "      <td>0</td>\n",
       "      <td>0</td>\n",
       "    </tr>\n",
       "    <tr>\n",
       "      <th>1522</th>\n",
       "      <td>11</td>\n",
       "      <td>1228</td>\n",
       "      <td>75</td>\n",
       "      <td>0.0</td>\n",
       "      <td>5</td>\n",
       "      <td>4</td>\n",
       "      <td>0</td>\n",
       "      <td>1</td>\n",
       "      <td>0</td>\n",
       "      <td>0</td>\n",
       "      <td>...</td>\n",
       "      <td>0</td>\n",
       "      <td>0</td>\n",
       "      <td>0</td>\n",
       "      <td>0</td>\n",
       "      <td>0</td>\n",
       "      <td>0</td>\n",
       "      <td>0</td>\n",
       "      <td>0</td>\n",
       "      <td>0</td>\n",
       "      <td>0</td>\n",
       "    </tr>\n",
       "    <tr>\n",
       "      <th>1292</th>\n",
       "      <td>1</td>\n",
       "      <td>2650</td>\n",
       "      <td>145</td>\n",
       "      <td>1.0</td>\n",
       "      <td>5</td>\n",
       "      <td>4</td>\n",
       "      <td>1</td>\n",
       "      <td>0</td>\n",
       "      <td>0</td>\n",
       "      <td>0</td>\n",
       "      <td>...</td>\n",
       "      <td>0</td>\n",
       "      <td>0</td>\n",
       "      <td>0</td>\n",
       "      <td>0</td>\n",
       "      <td>0</td>\n",
       "      <td>0</td>\n",
       "      <td>0</td>\n",
       "      <td>0</td>\n",
       "      <td>0</td>\n",
       "      <td>0</td>\n",
       "    </tr>\n",
       "    <tr>\n",
       "      <th>1764</th>\n",
       "      <td>5</td>\n",
       "      <td>3213</td>\n",
       "      <td>170</td>\n",
       "      <td>0.0</td>\n",
       "      <td>13</td>\n",
       "      <td>13</td>\n",
       "      <td>0</td>\n",
       "      <td>0</td>\n",
       "      <td>1</td>\n",
       "      <td>0</td>\n",
       "      <td>...</td>\n",
       "      <td>0</td>\n",
       "      <td>0</td>\n",
       "      <td>0</td>\n",
       "      <td>0</td>\n",
       "      <td>0</td>\n",
       "      <td>0</td>\n",
       "      <td>0</td>\n",
       "      <td>0</td>\n",
       "      <td>0</td>\n",
       "      <td>0</td>\n",
       "    </tr>\n",
       "    <tr>\n",
       "      <th>1514</th>\n",
       "      <td>3</td>\n",
       "      <td>1157</td>\n",
       "      <td>71</td>\n",
       "      <td>0.0</td>\n",
       "      <td>1</td>\n",
       "      <td>1</td>\n",
       "      <td>0</td>\n",
       "      <td>0</td>\n",
       "      <td>0</td>\n",
       "      <td>1</td>\n",
       "      <td>...</td>\n",
       "      <td>0</td>\n",
       "      <td>0</td>\n",
       "      <td>0</td>\n",
       "      <td>0</td>\n",
       "      <td>0</td>\n",
       "      <td>0</td>\n",
       "      <td>0</td>\n",
       "      <td>0</td>\n",
       "      <td>0</td>\n",
       "      <td>0</td>\n",
       "    </tr>\n",
       "  </tbody>\n",
       "</table>\n",
       "<p>5 rows × 41 columns</p>\n",
       "</div>"
      ],
      "text/plain": [
       "      statusId  resultId  raceId  points  round  circuitId  status_Finished  \\\n",
       "180          1       416      38     5.0      3          3                1   \n",
       "1522        11      1228      75     0.0      5          4                0   \n",
       "1292         1      2650     145     1.0      5          4                1   \n",
       "1764         5      3213     170     0.0     13         13                0   \n",
       "1514         3      1157      71     0.0      1          1                0   \n",
       "\n",
       "      status_+1 Lap  status_Engine  status_Accident  ...  \\\n",
       "180               0              0                0  ...   \n",
       "1522              1              0                0  ...   \n",
       "1292              0              0                0  ...   \n",
       "1764              0              1                0  ...   \n",
       "1514              0              0                1  ...   \n",
       "\n",
       "      name_European Grand Prix  name_United States Grand Prix  \\\n",
       "180                          0                              0   \n",
       "1522                         0                              0   \n",
       "1292                         0                              0   \n",
       "1764                         0                              0   \n",
       "1514                         0                              0   \n",
       "\n",
       "      name_Chinese Grand Prix  name_Italian Grand Prix  \\\n",
       "180                         0                        0   \n",
       "1522                        0                        0   \n",
       "1292                        0                        0   \n",
       "1764                        0                        0   \n",
       "1514                        0                        0   \n",
       "\n",
       "      name_French Grand Prix  name_Japanese Grand Prix  \\\n",
       "180                        0                         0   \n",
       "1522                       0                         0   \n",
       "1292                       0                         0   \n",
       "1764                       0                         0   \n",
       "1514                       0                         0   \n",
       "\n",
       "      name_British Grand Prix  name_Austrian Grand Prix  \\\n",
       "180                         0                         0   \n",
       "1522                        0                         0   \n",
       "1292                        0                         0   \n",
       "1764                        0                         0   \n",
       "1514                        0                         0   \n",
       "\n",
       "      name_Turkish Grand Prix  name_Singapore Grand Prix  \n",
       "180                         0                          0  \n",
       "1522                        0                          0  \n",
       "1292                        0                          0  \n",
       "1764                        0                          0  \n",
       "1514                        0                          0  \n",
       "\n",
       "[5 rows x 41 columns]"
      ]
     },
     "execution_count": 139,
     "metadata": {},
     "output_type": "execute_result"
    }
   ],
   "source": [
    "X_train = ohe_enc.transform(X_train)\n",
    "X_test = ohe_enc.transform(X_test)\n",
    "\n",
    "X_train.head()"
   ]
  },
  {
   "cell_type": "code",
   "execution_count": 140,
   "metadata": {},
   "outputs": [
    {
     "data": {
      "text/html": [
       "<div>\n",
       "<style scoped>\n",
       "    .dataframe tbody tr th:only-of-type {\n",
       "        vertical-align: middle;\n",
       "    }\n",
       "\n",
       "    .dataframe tbody tr th {\n",
       "        vertical-align: top;\n",
       "    }\n",
       "\n",
       "    .dataframe thead th {\n",
       "        text-align: right;\n",
       "    }\n",
       "</style>\n",
       "<table border=\"1\" class=\"dataframe\">\n",
       "  <thead>\n",
       "    <tr style=\"text-align: right;\">\n",
       "      <th></th>\n",
       "      <th>statusId</th>\n",
       "      <th>resultId</th>\n",
       "      <th>raceId</th>\n",
       "      <th>points</th>\n",
       "      <th>round</th>\n",
       "      <th>circuitId</th>\n",
       "      <th>status_Finished</th>\n",
       "      <th>status_+1 Lap</th>\n",
       "      <th>status_Engine</th>\n",
       "      <th>status_Accident</th>\n",
       "      <th>...</th>\n",
       "      <th>name_European Grand Prix</th>\n",
       "      <th>name_United States Grand Prix</th>\n",
       "      <th>name_Chinese Grand Prix</th>\n",
       "      <th>name_Italian Grand Prix</th>\n",
       "      <th>name_French Grand Prix</th>\n",
       "      <th>name_Japanese Grand Prix</th>\n",
       "      <th>name_British Grand Prix</th>\n",
       "      <th>name_Austrian Grand Prix</th>\n",
       "      <th>name_Turkish Grand Prix</th>\n",
       "      <th>name_Singapore Grand Prix</th>\n",
       "    </tr>\n",
       "  </thead>\n",
       "  <tbody>\n",
       "    <tr>\n",
       "      <th>1716</th>\n",
       "      <td>11</td>\n",
       "      <td>2875</td>\n",
       "      <td>155</td>\n",
       "      <td>0.0</td>\n",
       "      <td>15</td>\n",
       "      <td>14</td>\n",
       "      <td>0</td>\n",
       "      <td>1</td>\n",
       "      <td>0</td>\n",
       "      <td>0</td>\n",
       "      <td>...</td>\n",
       "      <td>0</td>\n",
       "      <td>0</td>\n",
       "      <td>0</td>\n",
       "      <td>1</td>\n",
       "      <td>0</td>\n",
       "      <td>0</td>\n",
       "      <td>0</td>\n",
       "      <td>0</td>\n",
       "      <td>0</td>\n",
       "      <td>0</td>\n",
       "    </tr>\n",
       "    <tr>\n",
       "      <th>1597</th>\n",
       "      <td>11</td>\n",
       "      <td>1827</td>\n",
       "      <td>105</td>\n",
       "      <td>0.0</td>\n",
       "      <td>16</td>\n",
       "      <td>17</td>\n",
       "      <td>0</td>\n",
       "      <td>1</td>\n",
       "      <td>0</td>\n",
       "      <td>0</td>\n",
       "      <td>...</td>\n",
       "      <td>0</td>\n",
       "      <td>0</td>\n",
       "      <td>1</td>\n",
       "      <td>0</td>\n",
       "      <td>0</td>\n",
       "      <td>0</td>\n",
       "      <td>0</td>\n",
       "      <td>0</td>\n",
       "      <td>0</td>\n",
       "      <td>0</td>\n",
       "    </tr>\n",
       "    <tr>\n",
       "      <th>1207</th>\n",
       "      <td>1</td>\n",
       "      <td>705</td>\n",
       "      <td>51</td>\n",
       "      <td>2.0</td>\n",
       "      <td>16</td>\n",
       "      <td>17</td>\n",
       "      <td>1</td>\n",
       "      <td>0</td>\n",
       "      <td>0</td>\n",
       "      <td>0</td>\n",
       "      <td>...</td>\n",
       "      <td>0</td>\n",
       "      <td>0</td>\n",
       "      <td>1</td>\n",
       "      <td>0</td>\n",
       "      <td>0</td>\n",
       "      <td>0</td>\n",
       "      <td>0</td>\n",
       "      <td>0</td>\n",
       "      <td>0</td>\n",
       "      <td>0</td>\n",
       "    </tr>\n",
       "    <tr>\n",
       "      <th>114</th>\n",
       "      <td>1</td>\n",
       "      <td>273</td>\n",
       "      <td>31</td>\n",
       "      <td>4.0</td>\n",
       "      <td>14</td>\n",
       "      <td>14</td>\n",
       "      <td>1</td>\n",
       "      <td>0</td>\n",
       "      <td>0</td>\n",
       "      <td>0</td>\n",
       "      <td>...</td>\n",
       "      <td>0</td>\n",
       "      <td>0</td>\n",
       "      <td>0</td>\n",
       "      <td>1</td>\n",
       "      <td>0</td>\n",
       "      <td>0</td>\n",
       "      <td>0</td>\n",
       "      <td>0</td>\n",
       "      <td>0</td>\n",
       "      <td>0</td>\n",
       "    </tr>\n",
       "    <tr>\n",
       "      <th>1744</th>\n",
       "      <td>4</td>\n",
       "      <td>2710</td>\n",
       "      <td>147</td>\n",
       "      <td>0.0</td>\n",
       "      <td>7</td>\n",
       "      <td>6</td>\n",
       "      <td>0</td>\n",
       "      <td>0</td>\n",
       "      <td>0</td>\n",
       "      <td>0</td>\n",
       "      <td>...</td>\n",
       "      <td>0</td>\n",
       "      <td>0</td>\n",
       "      <td>0</td>\n",
       "      <td>0</td>\n",
       "      <td>0</td>\n",
       "      <td>0</td>\n",
       "      <td>0</td>\n",
       "      <td>0</td>\n",
       "      <td>0</td>\n",
       "      <td>0</td>\n",
       "    </tr>\n",
       "  </tbody>\n",
       "</table>\n",
       "<p>5 rows × 41 columns</p>\n",
       "</div>"
      ],
      "text/plain": [
       "      statusId  resultId  raceId  points  round  circuitId  status_Finished  \\\n",
       "1716        11      2875     155     0.0     15         14                0   \n",
       "1597        11      1827     105     0.0     16         17                0   \n",
       "1207         1       705      51     2.0     16         17                1   \n",
       "114          1       273      31     4.0     14         14                1   \n",
       "1744         4      2710     147     0.0      7          6                0   \n",
       "\n",
       "      status_+1 Lap  status_Engine  status_Accident  ...  \\\n",
       "1716              1              0                0  ...   \n",
       "1597              1              0                0  ...   \n",
       "1207              0              0                0  ...   \n",
       "114               0              0                0  ...   \n",
       "1744              0              0                0  ...   \n",
       "\n",
       "      name_European Grand Prix  name_United States Grand Prix  \\\n",
       "1716                         0                              0   \n",
       "1597                         0                              0   \n",
       "1207                         0                              0   \n",
       "114                          0                              0   \n",
       "1744                         0                              0   \n",
       "\n",
       "      name_Chinese Grand Prix  name_Italian Grand Prix  \\\n",
       "1716                        0                        1   \n",
       "1597                        1                        0   \n",
       "1207                        1                        0   \n",
       "114                         0                        1   \n",
       "1744                        0                        0   \n",
       "\n",
       "      name_French Grand Prix  name_Japanese Grand Prix  \\\n",
       "1716                       0                         0   \n",
       "1597                       0                         0   \n",
       "1207                       0                         0   \n",
       "114                        0                         0   \n",
       "1744                       0                         0   \n",
       "\n",
       "      name_British Grand Prix  name_Austrian Grand Prix  \\\n",
       "1716                        0                         0   \n",
       "1597                        0                         0   \n",
       "1207                        0                         0   \n",
       "114                         0                         0   \n",
       "1744                        0                         0   \n",
       "\n",
       "      name_Turkish Grand Prix  name_Singapore Grand Prix  \n",
       "1716                        0                          0  \n",
       "1597                        0                          0  \n",
       "1207                        0                          0  \n",
       "114                         0                          0  \n",
       "1744                        0                          0  \n",
       "\n",
       "[5 rows x 41 columns]"
      ]
     },
     "execution_count": 140,
     "metadata": {},
     "output_type": "execute_result"
    }
   ],
   "source": [
    "X_test.head() # encoded test set"
   ]
  },
  {
   "cell_type": "code",
   "execution_count": null,
   "metadata": {},
   "outputs": [],
   "source": []
  },
  {
   "cell_type": "markdown",
   "metadata": {},
   "source": [
    "#### Target mean encoding with Feature Engine <a id=\"Target\"></a>\n",
    "\n",
    "[back to report](#CategoricalData)"
   ]
  },
  {
   "cell_type": "code",
   "execution_count": 141,
   "metadata": {},
   "outputs": [],
   "source": [
    "# for Target mean encoding with Feature Engine - got null / nan values\n",
    "#X_train_TM = X_train \n",
    "#X_test_TM = X_test\n",
    "#y_train_TM = y_train"
   ]
  },
  {
   "cell_type": "code",
   "execution_count": 142,
   "metadata": {},
   "outputs": [],
   "source": [
    "# let's create the encoder\n",
    "\n",
    "#mean_enc = MeanEncoder(variables=None)"
   ]
  },
  {
   "cell_type": "code",
   "execution_count": 143,
   "metadata": {},
   "outputs": [],
   "source": [
    "# when fitting the transformer, we need to pass the target as well\n",
    "# just like with any Scikit-learn predictor class\n",
    "\n",
    "#mean_enc.fit(X_train_TM, y_train_TM)"
   ]
  },
  {
   "cell_type": "code",
   "execution_count": 144,
   "metadata": {},
   "outputs": [],
   "source": [
    "# variables that will be encoded\n",
    "\n",
    "#mean_enc.variables_"
   ]
  },
  {
   "cell_type": "code",
   "execution_count": 145,
   "metadata": {},
   "outputs": [],
   "source": [
    "# in the encoder dict we can observe the target mean per category\n",
    "# per variable\n",
    "\n",
    "#mean_enc.encoder_dict_"
   ]
  },
  {
   "cell_type": "code",
   "execution_count": 146,
   "metadata": {},
   "outputs": [],
   "source": [
    "# let's transform train and test set\n",
    "\n",
    "#X_train_enc = mean_enc.transform(X_train_TM)\n",
    "#X_test_enc = mean_enc.transform(X_test_TM)"
   ]
  },
  {
   "cell_type": "code",
   "execution_count": 147,
   "metadata": {},
   "outputs": [],
   "source": [
    "#X_train_enc.head()"
   ]
  },
  {
   "cell_type": "code",
   "execution_count": 148,
   "metadata": {},
   "outputs": [],
   "source": [
    "#X_test_enc.head()"
   ]
  },
  {
   "cell_type": "code",
   "execution_count": null,
   "metadata": {},
   "outputs": [],
   "source": []
  },
  {
   "cell_type": "markdown",
   "metadata": {},
   "source": [
    "#### Ordinal integer encoding with Pandas <a id=\"OrdinalInteger\"></a>\n",
    "\n",
    "[back to report](#CategoricalData)"
   ]
  },
  {
   "cell_type": "code",
   "execution_count": 149,
   "metadata": {},
   "outputs": [],
   "source": [
    "# explore the relationship between the variable and target"
   ]
  },
  {
   "cell_type": "code",
   "execution_count": 150,
   "metadata": {},
   "outputs": [],
   "source": [
    "#X_train.groupby(['status'])['statusId'].mean().plot()\n",
    "#plt.title('Relationship between status and the target')\n",
    "#plt.ylabel('Mean of target')\n",
    "#plt.show()"
   ]
  },
  {
   "cell_type": "code",
   "execution_count": 151,
   "metadata": {},
   "outputs": [],
   "source": [
    "#X_train.groupby(['name'])['statusId'].mean().plot()\n",
    "#plt.title('Relationship between name and the target')\n",
    "#plt.ylabel('Mean of target')\n",
    "#plt.show()"
   ]
  },
  {
   "cell_type": "code",
   "execution_count": 152,
   "metadata": {},
   "outputs": [],
   "source": [
    "# for ordinal integer encoding with Pandas\n",
    "#X_train_panda = X_train \n",
    "#X_test_panda = X_test"
   ]
  },
  {
   "cell_type": "code",
   "execution_count": 153,
   "metadata": {},
   "outputs": [],
   "source": [
    "# for the variable status, to 'test' this method of encoding first\n",
    "\n",
    "# let's order the labels in status according to the mean target value\n",
    "#X_train.groupby(['status'])['statusId'].mean().sort_values()"
   ]
  },
  {
   "cell_type": "code",
   "execution_count": 154,
   "metadata": {},
   "outputs": [],
   "source": [
    "# generate an ordered list with the labels of status\n",
    "\n",
    "#ordered_labels = X_train.groupby(['status'])['statusId'].mean().sort_values().index\n",
    "\n",
    "#ordered_labels"
   ]
  },
  {
   "cell_type": "code",
   "execution_count": 155,
   "metadata": {},
   "outputs": [],
   "source": [
    "# next create a dictionary with the mappings of categories to numbers\n",
    "\n",
    "#ordinal_mapping = {k: i for i, k in enumerate(ordered_labels, 0)}\n",
    "\n",
    "#ordinal_mapping"
   ]
  },
  {
   "cell_type": "code",
   "execution_count": 156,
   "metadata": {},
   "outputs": [],
   "source": [
    "# inspect the encoded variable\n",
    "#X_train['status'].head()"
   ]
  },
  {
   "cell_type": "code",
   "execution_count": 157,
   "metadata": {},
   "outputs": [],
   "source": [
    "# replace the labels with the ordered numbers\n",
    "\n",
    "#X_train['status'] = X_train['status'].map(ordinal_mapping)\n",
    "#X_test['status'] = X_test['status'].map(ordinal_mapping)"
   ]
  },
  {
   "cell_type": "code",
   "execution_count": 158,
   "metadata": {},
   "outputs": [],
   "source": [
    "# inspect the encoded variable\n",
    "#X_train['status'].head()"
   ]
  },
  {
   "cell_type": "code",
   "execution_count": 159,
   "metadata": {},
   "outputs": [],
   "source": [
    "# explore the monotonic relationship\n",
    "\n",
    "#X_train.groupby(['status'])['statusId'].mean().plot()\n",
    "#plt.title('Relationship between status and the target')\n",
    "#plt.ylabel('Mean of target')\n",
    "#plt.show()"
   ]
  },
  {
   "cell_type": "code",
   "execution_count": 160,
   "metadata": {},
   "outputs": [],
   "source": [
    "# for the variable name\n",
    "\n",
    "# let's order the labels in name according to the mean target value\n",
    "#X_train.groupby(['name'])['statusId'].mean().sort_values()"
   ]
  },
  {
   "cell_type": "code",
   "execution_count": 161,
   "metadata": {},
   "outputs": [],
   "source": [
    "# generate an ordered list with the labels of name\n",
    "\n",
    "#ordered_labels = X_train.groupby(['name'])['statusId'].mean().sort_values().index\n",
    "\n",
    "#ordered_labels"
   ]
  },
  {
   "cell_type": "code",
   "execution_count": 162,
   "metadata": {},
   "outputs": [],
   "source": [
    "# next create a dictionary with the mappings of categories to numbers\n",
    "\n",
    "#ordinal_mapping = {k: i for i, k in enumerate(ordered_labels, 0)}\n",
    "\n",
    "#ordinal_mapping"
   ]
  },
  {
   "cell_type": "code",
   "execution_count": 163,
   "metadata": {},
   "outputs": [],
   "source": [
    "# inspect the encoded variable\n",
    "#X_train['name'].head()"
   ]
  },
  {
   "cell_type": "code",
   "execution_count": 164,
   "metadata": {},
   "outputs": [],
   "source": [
    "# replace the labels with the ordered numbers\n",
    "\n",
    "#X_train['name'] = X_train['name'].map(ordinal_mapping)\n",
    "#X_test['name'] = X_test['name'].map(ordinal_mapping)"
   ]
  },
  {
   "cell_type": "code",
   "execution_count": 165,
   "metadata": {},
   "outputs": [],
   "source": [
    "# inspect the encoded variable\n",
    "#X_train['name'].head()"
   ]
  },
  {
   "cell_type": "code",
   "execution_count": 166,
   "metadata": {},
   "outputs": [],
   "source": [
    "# explore the monotonic relationship\n",
    "\n",
    "#X_train.groupby(['name'])['statusId'].mean().plot()\n",
    "#plt.title('Relationship between status and the target')\n",
    "#plt.ylabel('Mean of target')\n",
    "#plt.show()"
   ]
  },
  {
   "cell_type": "markdown",
   "metadata": {},
   "source": [
    "After comparing the results of the various encoding, I decided to use one hot encoding as it did not produce any null values."
   ]
  },
  {
   "cell_type": "code",
   "execution_count": null,
   "metadata": {},
   "outputs": [],
   "source": []
  },
  {
   "cell_type": "markdown",
   "metadata": {},
   "source": [
    "#### Variable Binning or Discretization"
   ]
  },
  {
   "cell_type": "code",
   "execution_count": 167,
   "metadata": {},
   "outputs": [
    {
     "data": {
      "text/plain": [
       "KBinsDiscretizer(encode='ordinal', n_bins=10, strategy='uniform')"
      ]
     },
     "execution_count": 167,
     "metadata": {},
     "output_type": "execute_result"
    }
   ],
   "source": [
    " # set up an equal-width discretizer into 10 intervals\n",
    "\n",
    "disc = KBinsDiscretizer(n_bins=10, encode='ordinal', strategy='uniform')\n",
    "\n",
    "# let's fit the discretizer so it learns the interval limits\n",
    "disc.fit(X_train[['points', 'round', 'circuitId']])  # might add more variables here, see how"
   ]
  },
  {
   "cell_type": "code",
   "execution_count": 168,
   "metadata": {},
   "outputs": [
    {
     "data": {
      "text/plain": [
       "array([array([0. , 0.5, 1. , 1.5, 2. , 2.5, 3. , 3.5, 4. , 4.5, 5. ]),\n",
       "       array([ 1. ,  2.7,  4.4,  6.1,  7.8,  9.5, 11.2, 12.9, 14.6, 16.3, 18. ]),\n",
       "       array([ 1. ,  3.2,  5.4,  7.6,  9.8, 12. , 14.2, 16.4, 18.6, 20.8, 23. ])],\n",
       "      dtype=object)"
      ]
     },
     "execution_count": 168,
     "metadata": {},
     "output_type": "execute_result"
    }
   ],
   "source": [
    "# the interval limits are stored in the bin_edges_attribute\n",
    "\n",
    "disc.bin_edges_ # same as interval limits"
   ]
  },
  {
   "cell_type": "code",
   "execution_count": 169,
   "metadata": {},
   "outputs": [
    {
     "data": {
      "text/html": [
       "<div>\n",
       "<style scoped>\n",
       "    .dataframe tbody tr th:only-of-type {\n",
       "        vertical-align: middle;\n",
       "    }\n",
       "\n",
       "    .dataframe tbody tr th {\n",
       "        vertical-align: top;\n",
       "    }\n",
       "\n",
       "    .dataframe thead th {\n",
       "        text-align: right;\n",
       "    }\n",
       "</style>\n",
       "<table border=\"1\" class=\"dataframe\">\n",
       "  <thead>\n",
       "    <tr style=\"text-align: right;\">\n",
       "      <th></th>\n",
       "      <th>points</th>\n",
       "      <th>round</th>\n",
       "      <th>circuitId</th>\n",
       "    </tr>\n",
       "  </thead>\n",
       "  <tbody>\n",
       "    <tr>\n",
       "      <th>0</th>\n",
       "      <td>9.0</td>\n",
       "      <td>1.0</td>\n",
       "      <td>0.0</td>\n",
       "    </tr>\n",
       "    <tr>\n",
       "      <th>1</th>\n",
       "      <td>0.0</td>\n",
       "      <td>2.0</td>\n",
       "      <td>1.0</td>\n",
       "    </tr>\n",
       "    <tr>\n",
       "      <th>2</th>\n",
       "      <td>2.0</td>\n",
       "      <td>2.0</td>\n",
       "      <td>1.0</td>\n",
       "    </tr>\n",
       "    <tr>\n",
       "      <th>3</th>\n",
       "      <td>0.0</td>\n",
       "      <td>7.0</td>\n",
       "      <td>5.0</td>\n",
       "    </tr>\n",
       "    <tr>\n",
       "      <th>4</th>\n",
       "      <td>0.0</td>\n",
       "      <td>0.0</td>\n",
       "      <td>0.0</td>\n",
       "    </tr>\n",
       "  </tbody>\n",
       "</table>\n",
       "</div>"
      ],
      "text/plain": [
       "   points  round  circuitId\n",
       "0     9.0    1.0        0.0\n",
       "1     0.0    2.0        1.0\n",
       "2     2.0    2.0        1.0\n",
       "3     0.0    7.0        5.0\n",
       "4     0.0    0.0        0.0"
      ]
     },
     "execution_count": 169,
     "metadata": {},
     "output_type": "execute_result"
    }
   ],
   "source": [
    "# transform the train set, with Sklearn returning Numpy arrays\n",
    "train_t = disc.transform(X_train[['points', 'round', 'circuitId']])\n",
    "\n",
    "# transform array to dataframe\n",
    "train_t = pd.DataFrame(train_t, columns = ['points', 'round', 'circuitId'])\n",
    "\n",
    "train_t.head()"
   ]
  },
  {
   "cell_type": "code",
   "execution_count": 170,
   "metadata": {},
   "outputs": [
    {
     "data": {
      "text/html": [
       "<div>\n",
       "<style scoped>\n",
       "    .dataframe tbody tr th:only-of-type {\n",
       "        vertical-align: middle;\n",
       "    }\n",
       "\n",
       "    .dataframe tbody tr th {\n",
       "        vertical-align: top;\n",
       "    }\n",
       "\n",
       "    .dataframe thead th {\n",
       "        text-align: right;\n",
       "    }\n",
       "</style>\n",
       "<table border=\"1\" class=\"dataframe\">\n",
       "  <thead>\n",
       "    <tr style=\"text-align: right;\">\n",
       "      <th></th>\n",
       "      <th>points</th>\n",
       "      <th>round</th>\n",
       "      <th>circuitId</th>\n",
       "    </tr>\n",
       "  </thead>\n",
       "  <tbody>\n",
       "    <tr>\n",
       "      <th>0</th>\n",
       "      <td>0.0</td>\n",
       "      <td>8.0</td>\n",
       "      <td>5.0</td>\n",
       "    </tr>\n",
       "    <tr>\n",
       "      <th>1</th>\n",
       "      <td>0.0</td>\n",
       "      <td>8.0</td>\n",
       "      <td>7.0</td>\n",
       "    </tr>\n",
       "    <tr>\n",
       "      <th>2</th>\n",
       "      <td>4.0</td>\n",
       "      <td>8.0</td>\n",
       "      <td>7.0</td>\n",
       "    </tr>\n",
       "    <tr>\n",
       "      <th>3</th>\n",
       "      <td>8.0</td>\n",
       "      <td>7.0</td>\n",
       "      <td>5.0</td>\n",
       "    </tr>\n",
       "    <tr>\n",
       "      <th>4</th>\n",
       "      <td>0.0</td>\n",
       "      <td>3.0</td>\n",
       "      <td>2.0</td>\n",
       "    </tr>\n",
       "  </tbody>\n",
       "</table>\n",
       "</div>"
      ],
      "text/plain": [
       "   points  round  circuitId\n",
       "0     0.0    8.0        5.0\n",
       "1     0.0    8.0        7.0\n",
       "2     4.0    8.0        7.0\n",
       "3     8.0    7.0        5.0\n",
       "4     0.0    3.0        2.0"
      ]
     },
     "execution_count": 170,
     "metadata": {},
     "output_type": "execute_result"
    }
   ],
   "source": [
    "# same thing for test set\n",
    "\n",
    "test_t = disc.transform(X_test[['points', 'round', 'circuitId']])\n",
    "\n",
    "test_t = pd.DataFrame(test_t, columns = ['points', 'round', 'circuitId'])\n",
    "\n",
    "test_t.head()"
   ]
  },
  {
   "cell_type": "markdown",
   "metadata": {},
   "source": [
    "#### for points <a id=\"binningpoints\"></a>\n",
    "\n",
    "[back to report](#Others)"
   ]
  },
  {
   "cell_type": "code",
   "execution_count": 171,
   "metadata": {},
   "outputs": [
    {
     "data": {
      "text/plain": [
       "Text(0, 0.5, 'Number of observations per bin')"
      ]
     },
     "execution_count": 171,
     "metadata": {},
     "output_type": "execute_result"
    },
    {
     "data": {
      "image/png": "[encoded data removed]",
      "text/plain": [
       "<Figure size 432x288 with 1 Axes>"
      ]
     },
     "metadata": {
      "needs_background": "light"
     },
     "output_type": "display_data"
    }
   ],
   "source": [
    "# if the distributions in train and test set are similar, we should expect similar propotion of\n",
    "# observations in the different intervals in the train and test set\n",
    "\n",
    "t1 = train_t.groupby(['points'])['points'].count() / len(train_t)\n",
    "t2 = test_t.groupby(['points'])['points'].count() / len(test_t)\n",
    "\n",
    "tmp = pd.concat([t1, t2], axis=1)\n",
    "tmp.columns = ['train', 'test']\n",
    "tmp.plot.bar()\n",
    "plt.xticks(rotation=45)\n",
    "plt.ylabel('Number of observations per bin')"
   ]
  },
  {
   "cell_type": "markdown",
   "metadata": {},
   "source": [
    "#### for round <a id=\"binninground\"></a>\n",
    "\n",
    "[back to report](#Others)"
   ]
  },
  {
   "cell_type": "code",
   "execution_count": 172,
   "metadata": {},
   "outputs": [
    {
     "data": {
      "text/plain": [
       "Text(0, 0.5, 'Number of observations per bin')"
      ]
     },
     "execution_count": 172,
     "metadata": {},
     "output_type": "execute_result"
    },
    {
     "data": {
      "image/png": "[encoded data removed]",
      "text/plain": [
       "<Figure size 432x288 with 1 Axes>"
      ]
     },
     "metadata": {
      "needs_background": "light"
     },
     "output_type": "display_data"
    }
   ],
   "source": [
    "# if the distributions in train and test set are similar, we should expect similar propotion of\n",
    "# observations in the different intervals in the train and test set\n",
    "\n",
    "t1 = train_t.groupby(['round'])['round'].count() / len(train_t)\n",
    "t2 = test_t.groupby(['round'])['round'].count() / len(test_t)\n",
    "\n",
    "tmp = pd.concat([t1, t2], axis=1)\n",
    "tmp.columns = ['train', 'test']\n",
    "tmp.plot.bar()\n",
    "plt.xticks(rotation=45)\n",
    "plt.ylabel('Number of observations per bin')"
   ]
  },
  {
   "cell_type": "code",
   "execution_count": null,
   "metadata": {},
   "outputs": [],
   "source": []
  },
  {
   "cell_type": "markdown",
   "metadata": {},
   "source": [
    "#### for circuitId <a id=\"binningcircuitId\"></a>\n",
    "\n",
    "[back to report](#Others)"
   ]
  },
  {
   "cell_type": "code",
   "execution_count": 173,
   "metadata": {},
   "outputs": [
    {
     "data": {
      "text/plain": [
       "Text(0, 0.5, 'Number of observations per bin')"
      ]
     },
     "execution_count": 173,
     "metadata": {},
     "output_type": "execute_result"
    },
    {
     "data": {
      "image/png": "[encoded data removed]",
      "text/plain": [
       "<Figure size 432x288 with 1 Axes>"
      ]
     },
     "metadata": {
      "needs_background": "light"
     },
     "output_type": "display_data"
    }
   ],
   "source": [
    "# if the distributions in train and test set are similar, we should expect similar propotion of\n",
    "# observations in the different intervals in the train and test set\n",
    "\n",
    "t1 = train_t.groupby(['circuitId'])['circuitId'].count() / len(train_t)\n",
    "t2 = test_t.groupby(['circuitId'])['circuitId'].count() / len(test_t)\n",
    "\n",
    "tmp = pd.concat([t1, t2], axis=1)\n",
    "tmp.columns = ['train', 'test']\n",
    "tmp.plot.bar()\n",
    "plt.xticks(rotation=45)\n",
    "plt.ylabel('Number of observations per bin')"
   ]
  },
  {
   "cell_type": "code",
   "execution_count": null,
   "metadata": {},
   "outputs": [],
   "source": []
  },
  {
   "cell_type": "markdown",
   "metadata": {},
   "source": [
    "### Feature Scaling"
   ]
  },
  {
   "cell_type": "markdown",
   "metadata": {},
   "source": [
    "#### Mean-normalization <a id=\"meannormal\"></a>\n",
    "\n",
    "[back to report](#Others)"
   ]
  },
  {
   "cell_type": "code",
   "execution_count": 174,
   "metadata": {},
   "outputs": [],
   "source": [
    "# Using Mean-normalization"
   ]
  },
  {
   "cell_type": "code",
   "execution_count": 175,
   "metadata": {},
   "outputs": [
    {
     "data": {
      "text/plain": [
       "statusId                            7.290323\n",
       "resultId                         1771.344086\n",
       "raceId                            102.193548\n",
       "points                              0.956989\n",
       "round                               9.268817\n",
       "circuitId                          11.451613\n",
       "status_Finished                     0.290323\n",
       "status_+1 Lap                       0.301075\n",
       "status_Engine                       0.086022\n",
       "status_Accident                     0.032258\n",
       "status_+4 Laps                      0.032258\n",
       "status_+2 Laps                      0.086022\n",
       "status_Transmission                 0.021505\n",
       "status_Suspension                   0.021505\n",
       "status_Hydraulics                   0.010753\n",
       "status_Collision                    0.075269\n",
       "status_Electrical                   0.010753\n",
       "status_Spun off                     0.010753\n",
       "status_Brakes                       0.010753\n",
       "status_Clutch                       0.010753\n",
       "name_Bahrain Grand Prix             0.032258\n",
       "name_Spanish Grand Prix             0.064516\n",
       "name_Belgian Grand Prix             0.053763\n",
       "name_Australian Grand Prix          0.053763\n",
       "name_Monaco Grand Prix              0.064516\n",
       "name_Hungarian Grand Prix           0.064516\n",
       "name_Canadian Grand Prix            0.064516\n",
       "name_Malaysian Grand Prix           0.053763\n",
       "name_Brazilian Grand Prix           0.075269\n",
       "name_German Grand Prix              0.043011\n",
       "name_San Marino Grand Prix          0.043011\n",
       "name_European Grand Prix            0.043011\n",
       "name_United States Grand Prix       0.075269\n",
       "name_Chinese Grand Prix             0.021505\n",
       "name_Italian Grand Prix             0.032258\n",
       "name_French Grand Prix              0.064516\n",
       "name_Japanese Grand Prix            0.053763\n",
       "name_British Grand Prix             0.053763\n",
       "name_Austrian Grand Prix            0.021505\n",
       "name_Turkish Grand Prix             0.010753\n",
       "name_Singapore Grand Prix           0.010753\n",
       "dtype: float64"
      ]
     },
     "execution_count": 175,
     "metadata": {},
     "output_type": "execute_result"
    }
   ],
   "source": [
    "# Learn the mean from the train set\n",
    "\n",
    "means = X_train.mean(axis=0)\n",
    "means"
   ]
  },
  {
   "cell_type": "code",
   "execution_count": 176,
   "metadata": {},
   "outputs": [
    {
     "data": {
      "text/plain": [
       "statusId                           22.0\n",
       "resultId                         3274.0\n",
       "raceId                            155.0\n",
       "points                              5.0\n",
       "round                              17.0\n",
       "circuitId                          22.0\n",
       "status_Finished                     1.0\n",
       "status_+1 Lap                       1.0\n",
       "status_Engine                       1.0\n",
       "status_Accident                     1.0\n",
       "status_+4 Laps                      1.0\n",
       "status_+2 Laps                      1.0\n",
       "status_Transmission                 1.0\n",
       "status_Suspension                   1.0\n",
       "status_Hydraulics                   1.0\n",
       "status_Collision                    1.0\n",
       "status_Electrical                   1.0\n",
       "status_Spun off                     1.0\n",
       "status_Brakes                       1.0\n",
       "status_Clutch                       1.0\n",
       "name_Bahrain Grand Prix             1.0\n",
       "name_Spanish Grand Prix             1.0\n",
       "name_Belgian Grand Prix             1.0\n",
       "name_Australian Grand Prix          1.0\n",
       "name_Monaco Grand Prix              1.0\n",
       "name_Hungarian Grand Prix           1.0\n",
       "name_Canadian Grand Prix            1.0\n",
       "name_Malaysian Grand Prix           1.0\n",
       "name_Brazilian Grand Prix           1.0\n",
       "name_German Grand Prix              1.0\n",
       "name_San Marino Grand Prix          1.0\n",
       "name_European Grand Prix            1.0\n",
       "name_United States Grand Prix       1.0\n",
       "name_Chinese Grand Prix             1.0\n",
       "name_Italian Grand Prix             1.0\n",
       "name_French Grand Prix              1.0\n",
       "name_Japanese Grand Prix            1.0\n",
       "name_British Grand Prix             1.0\n",
       "name_Austrian Grand Prix            1.0\n",
       "name_Turkish Grand Prix             1.0\n",
       "name_Singapore Grand Prix           1.0\n",
       "dtype: float64"
      ]
     },
     "execution_count": 176,
     "metadata": {},
     "output_type": "execute_result"
    }
   ],
   "source": [
    "# Now learn the min and max values, and the value range from the train set\n",
    "\n",
    "ranges = X_train.max(axis=0)-X_train.min(axis=0)\n",
    "ranges"
   ]
  },
  {
   "cell_type": "code",
   "execution_count": 177,
   "metadata": {},
   "outputs": [],
   "source": [
    "X_train_scaled_mn = (X_train - means) / ranges\n",
    "X_test_scaled_mn = (X_test - means) / ranges"
   ]
  },
  {
   "cell_type": "code",
   "execution_count": 178,
   "metadata": {},
   "outputs": [
    {
     "data": {
      "text/html": [
       "<div>\n",
       "<style scoped>\n",
       "    .dataframe tbody tr th:only-of-type {\n",
       "        vertical-align: middle;\n",
       "    }\n",
       "\n",
       "    .dataframe tbody tr th {\n",
       "        vertical-align: top;\n",
       "    }\n",
       "\n",
       "    .dataframe thead th {\n",
       "        text-align: right;\n",
       "    }\n",
       "</style>\n",
       "<table border=\"1\" class=\"dataframe\">\n",
       "  <thead>\n",
       "    <tr style=\"text-align: right;\">\n",
       "      <th></th>\n",
       "      <th>statusId</th>\n",
       "      <th>resultId</th>\n",
       "      <th>raceId</th>\n",
       "      <th>points</th>\n",
       "      <th>round</th>\n",
       "      <th>circuitId</th>\n",
       "      <th>status_Finished</th>\n",
       "      <th>status_+1 Lap</th>\n",
       "      <th>status_Engine</th>\n",
       "      <th>status_Accident</th>\n",
       "      <th>...</th>\n",
       "      <th>name_European Grand Prix</th>\n",
       "      <th>name_United States Grand Prix</th>\n",
       "      <th>name_Chinese Grand Prix</th>\n",
       "      <th>name_Italian Grand Prix</th>\n",
       "      <th>name_French Grand Prix</th>\n",
       "      <th>name_Japanese Grand Prix</th>\n",
       "      <th>name_British Grand Prix</th>\n",
       "      <th>name_Austrian Grand Prix</th>\n",
       "      <th>name_Turkish Grand Prix</th>\n",
       "      <th>name_Singapore Grand Prix</th>\n",
       "    </tr>\n",
       "  </thead>\n",
       "  <tbody>\n",
       "    <tr>\n",
       "      <th>180</th>\n",
       "      <td>1</td>\n",
       "      <td>416</td>\n",
       "      <td>38</td>\n",
       "      <td>5.0</td>\n",
       "      <td>3</td>\n",
       "      <td>3</td>\n",
       "      <td>1</td>\n",
       "      <td>0</td>\n",
       "      <td>0</td>\n",
       "      <td>0</td>\n",
       "      <td>...</td>\n",
       "      <td>0</td>\n",
       "      <td>0</td>\n",
       "      <td>0</td>\n",
       "      <td>0</td>\n",
       "      <td>0</td>\n",
       "      <td>0</td>\n",
       "      <td>0</td>\n",
       "      <td>0</td>\n",
       "      <td>0</td>\n",
       "      <td>0</td>\n",
       "    </tr>\n",
       "    <tr>\n",
       "      <th>1522</th>\n",
       "      <td>11</td>\n",
       "      <td>1228</td>\n",
       "      <td>75</td>\n",
       "      <td>0.0</td>\n",
       "      <td>5</td>\n",
       "      <td>4</td>\n",
       "      <td>0</td>\n",
       "      <td>1</td>\n",
       "      <td>0</td>\n",
       "      <td>0</td>\n",
       "      <td>...</td>\n",
       "      <td>0</td>\n",
       "      <td>0</td>\n",
       "      <td>0</td>\n",
       "      <td>0</td>\n",
       "      <td>0</td>\n",
       "      <td>0</td>\n",
       "      <td>0</td>\n",
       "      <td>0</td>\n",
       "      <td>0</td>\n",
       "      <td>0</td>\n",
       "    </tr>\n",
       "    <tr>\n",
       "      <th>1292</th>\n",
       "      <td>1</td>\n",
       "      <td>2650</td>\n",
       "      <td>145</td>\n",
       "      <td>1.0</td>\n",
       "      <td>5</td>\n",
       "      <td>4</td>\n",
       "      <td>1</td>\n",
       "      <td>0</td>\n",
       "      <td>0</td>\n",
       "      <td>0</td>\n",
       "      <td>...</td>\n",
       "      <td>0</td>\n",
       "      <td>0</td>\n",
       "      <td>0</td>\n",
       "      <td>0</td>\n",
       "      <td>0</td>\n",
       "      <td>0</td>\n",
       "      <td>0</td>\n",
       "      <td>0</td>\n",
       "      <td>0</td>\n",
       "      <td>0</td>\n",
       "    </tr>\n",
       "    <tr>\n",
       "      <th>1764</th>\n",
       "      <td>5</td>\n",
       "      <td>3213</td>\n",
       "      <td>170</td>\n",
       "      <td>0.0</td>\n",
       "      <td>13</td>\n",
       "      <td>13</td>\n",
       "      <td>0</td>\n",
       "      <td>0</td>\n",
       "      <td>1</td>\n",
       "      <td>0</td>\n",
       "      <td>...</td>\n",
       "      <td>0</td>\n",
       "      <td>0</td>\n",
       "      <td>0</td>\n",
       "      <td>0</td>\n",
       "      <td>0</td>\n",
       "      <td>0</td>\n",
       "      <td>0</td>\n",
       "      <td>0</td>\n",
       "      <td>0</td>\n",
       "      <td>0</td>\n",
       "    </tr>\n",
       "    <tr>\n",
       "      <th>1514</th>\n",
       "      <td>3</td>\n",
       "      <td>1157</td>\n",
       "      <td>71</td>\n",
       "      <td>0.0</td>\n",
       "      <td>1</td>\n",
       "      <td>1</td>\n",
       "      <td>0</td>\n",
       "      <td>0</td>\n",
       "      <td>0</td>\n",
       "      <td>1</td>\n",
       "      <td>...</td>\n",
       "      <td>0</td>\n",
       "      <td>0</td>\n",
       "      <td>0</td>\n",
       "      <td>0</td>\n",
       "      <td>0</td>\n",
       "      <td>0</td>\n",
       "      <td>0</td>\n",
       "      <td>0</td>\n",
       "      <td>0</td>\n",
       "      <td>0</td>\n",
       "    </tr>\n",
       "  </tbody>\n",
       "</table>\n",
       "<p>5 rows × 41 columns</p>\n",
       "</div>"
      ],
      "text/plain": [
       "      statusId  resultId  raceId  points  round  circuitId  status_Finished  \\\n",
       "180          1       416      38     5.0      3          3                1   \n",
       "1522        11      1228      75     0.0      5          4                0   \n",
       "1292         1      2650     145     1.0      5          4                1   \n",
       "1764         5      3213     170     0.0     13         13                0   \n",
       "1514         3      1157      71     0.0      1          1                0   \n",
       "\n",
       "      status_+1 Lap  status_Engine  status_Accident  ...  \\\n",
       "180               0              0                0  ...   \n",
       "1522              1              0                0  ...   \n",
       "1292              0              0                0  ...   \n",
       "1764              0              1                0  ...   \n",
       "1514              0              0                1  ...   \n",
       "\n",
       "      name_European Grand Prix  name_United States Grand Prix  \\\n",
       "180                          0                              0   \n",
       "1522                         0                              0   \n",
       "1292                         0                              0   \n",
       "1764                         0                              0   \n",
       "1514                         0                              0   \n",
       "\n",
       "      name_Chinese Grand Prix  name_Italian Grand Prix  \\\n",
       "180                         0                        0   \n",
       "1522                        0                        0   \n",
       "1292                        0                        0   \n",
       "1764                        0                        0   \n",
       "1514                        0                        0   \n",
       "\n",
       "      name_French Grand Prix  name_Japanese Grand Prix  \\\n",
       "180                        0                         0   \n",
       "1522                       0                         0   \n",
       "1292                       0                         0   \n",
       "1764                       0                         0   \n",
       "1514                       0                         0   \n",
       "\n",
       "      name_British Grand Prix  name_Austrian Grand Prix  \\\n",
       "180                         0                         0   \n",
       "1522                        0                         0   \n",
       "1292                        0                         0   \n",
       "1764                        0                         0   \n",
       "1514                        0                         0   \n",
       "\n",
       "      name_Turkish Grand Prix  name_Singapore Grand Prix  \n",
       "180                         0                          0  \n",
       "1522                        0                          0  \n",
       "1292                        0                          0  \n",
       "1764                        0                          0  \n",
       "1514                        0                          0  \n",
       "\n",
       "[5 rows x 41 columns]"
      ]
     },
     "execution_count": 178,
     "metadata": {},
     "output_type": "execute_result"
    }
   ],
   "source": [
    "X_train.head()"
   ]
  },
  {
   "cell_type": "code",
   "execution_count": 179,
   "metadata": {},
   "outputs": [
    {
     "data": {
      "text/html": [
       "<div>\n",
       "<style scoped>\n",
       "    .dataframe tbody tr th:only-of-type {\n",
       "        vertical-align: middle;\n",
       "    }\n",
       "\n",
       "    .dataframe tbody tr th {\n",
       "        vertical-align: top;\n",
       "    }\n",
       "\n",
       "    .dataframe thead th {\n",
       "        text-align: right;\n",
       "    }\n",
       "</style>\n",
       "<table border=\"1\" class=\"dataframe\">\n",
       "  <thead>\n",
       "    <tr style=\"text-align: right;\">\n",
       "      <th></th>\n",
       "      <th>statusId</th>\n",
       "      <th>resultId</th>\n",
       "      <th>raceId</th>\n",
       "      <th>points</th>\n",
       "      <th>round</th>\n",
       "      <th>circuitId</th>\n",
       "      <th>status_Finished</th>\n",
       "      <th>status_+1 Lap</th>\n",
       "      <th>status_Engine</th>\n",
       "      <th>status_Accident</th>\n",
       "      <th>...</th>\n",
       "      <th>name_European Grand Prix</th>\n",
       "      <th>name_United States Grand Prix</th>\n",
       "      <th>name_Chinese Grand Prix</th>\n",
       "      <th>name_Italian Grand Prix</th>\n",
       "      <th>name_French Grand Prix</th>\n",
       "      <th>name_Japanese Grand Prix</th>\n",
       "      <th>name_British Grand Prix</th>\n",
       "      <th>name_Austrian Grand Prix</th>\n",
       "      <th>name_Turkish Grand Prix</th>\n",
       "      <th>name_Singapore Grand Prix</th>\n",
       "    </tr>\n",
       "  </thead>\n",
       "  <tbody>\n",
       "    <tr>\n",
       "      <th>180</th>\n",
       "      <td>-0.285924</td>\n",
       "      <td>-0.413972</td>\n",
       "      <td>-0.414152</td>\n",
       "      <td>0.808602</td>\n",
       "      <td>-0.368754</td>\n",
       "      <td>-0.384164</td>\n",
       "      <td>0.709677</td>\n",
       "      <td>-0.301075</td>\n",
       "      <td>-0.086022</td>\n",
       "      <td>-0.032258</td>\n",
       "      <td>...</td>\n",
       "      <td>-0.043011</td>\n",
       "      <td>-0.075269</td>\n",
       "      <td>-0.021505</td>\n",
       "      <td>-0.032258</td>\n",
       "      <td>-0.064516</td>\n",
       "      <td>-0.053763</td>\n",
       "      <td>-0.053763</td>\n",
       "      <td>-0.021505</td>\n",
       "      <td>-0.010753</td>\n",
       "      <td>-0.010753</td>\n",
       "    </tr>\n",
       "    <tr>\n",
       "      <th>1522</th>\n",
       "      <td>0.168622</td>\n",
       "      <td>-0.165957</td>\n",
       "      <td>-0.175442</td>\n",
       "      <td>-0.191398</td>\n",
       "      <td>-0.251107</td>\n",
       "      <td>-0.338710</td>\n",
       "      <td>-0.290323</td>\n",
       "      <td>0.698925</td>\n",
       "      <td>-0.086022</td>\n",
       "      <td>-0.032258</td>\n",
       "      <td>...</td>\n",
       "      <td>-0.043011</td>\n",
       "      <td>-0.075269</td>\n",
       "      <td>-0.021505</td>\n",
       "      <td>-0.032258</td>\n",
       "      <td>-0.064516</td>\n",
       "      <td>-0.053763</td>\n",
       "      <td>-0.053763</td>\n",
       "      <td>-0.021505</td>\n",
       "      <td>-0.010753</td>\n",
       "      <td>-0.010753</td>\n",
       "    </tr>\n",
       "    <tr>\n",
       "      <th>1292</th>\n",
       "      <td>-0.285924</td>\n",
       "      <td>0.268374</td>\n",
       "      <td>0.276171</td>\n",
       "      <td>0.008602</td>\n",
       "      <td>-0.251107</td>\n",
       "      <td>-0.338710</td>\n",
       "      <td>0.709677</td>\n",
       "      <td>-0.301075</td>\n",
       "      <td>-0.086022</td>\n",
       "      <td>-0.032258</td>\n",
       "      <td>...</td>\n",
       "      <td>-0.043011</td>\n",
       "      <td>-0.075269</td>\n",
       "      <td>-0.021505</td>\n",
       "      <td>-0.032258</td>\n",
       "      <td>-0.064516</td>\n",
       "      <td>-0.053763</td>\n",
       "      <td>-0.053763</td>\n",
       "      <td>-0.021505</td>\n",
       "      <td>-0.010753</td>\n",
       "      <td>-0.010753</td>\n",
       "    </tr>\n",
       "    <tr>\n",
       "      <th>1764</th>\n",
       "      <td>-0.104106</td>\n",
       "      <td>0.440335</td>\n",
       "      <td>0.437461</td>\n",
       "      <td>-0.191398</td>\n",
       "      <td>0.219481</td>\n",
       "      <td>0.070381</td>\n",
       "      <td>-0.290323</td>\n",
       "      <td>-0.301075</td>\n",
       "      <td>0.913978</td>\n",
       "      <td>-0.032258</td>\n",
       "      <td>...</td>\n",
       "      <td>-0.043011</td>\n",
       "      <td>-0.075269</td>\n",
       "      <td>-0.021505</td>\n",
       "      <td>-0.032258</td>\n",
       "      <td>-0.064516</td>\n",
       "      <td>-0.053763</td>\n",
       "      <td>-0.053763</td>\n",
       "      <td>-0.021505</td>\n",
       "      <td>-0.010753</td>\n",
       "      <td>-0.010753</td>\n",
       "    </tr>\n",
       "    <tr>\n",
       "      <th>1514</th>\n",
       "      <td>-0.195015</td>\n",
       "      <td>-0.187643</td>\n",
       "      <td>-0.201249</td>\n",
       "      <td>-0.191398</td>\n",
       "      <td>-0.486401</td>\n",
       "      <td>-0.475073</td>\n",
       "      <td>-0.290323</td>\n",
       "      <td>-0.301075</td>\n",
       "      <td>-0.086022</td>\n",
       "      <td>0.967742</td>\n",
       "      <td>...</td>\n",
       "      <td>-0.043011</td>\n",
       "      <td>-0.075269</td>\n",
       "      <td>-0.021505</td>\n",
       "      <td>-0.032258</td>\n",
       "      <td>-0.064516</td>\n",
       "      <td>-0.053763</td>\n",
       "      <td>-0.053763</td>\n",
       "      <td>-0.021505</td>\n",
       "      <td>-0.010753</td>\n",
       "      <td>-0.010753</td>\n",
       "    </tr>\n",
       "    <tr>\n",
       "      <th>...</th>\n",
       "      <td>...</td>\n",
       "      <td>...</td>\n",
       "      <td>...</td>\n",
       "      <td>...</td>\n",
       "      <td>...</td>\n",
       "      <td>...</td>\n",
       "      <td>...</td>\n",
       "      <td>...</td>\n",
       "      <td>...</td>\n",
       "      <td>...</td>\n",
       "      <td>...</td>\n",
       "      <td>...</td>\n",
       "      <td>...</td>\n",
       "      <td>...</td>\n",
       "      <td>...</td>\n",
       "      <td>...</td>\n",
       "      <td>...</td>\n",
       "      <td>...</td>\n",
       "      <td>...</td>\n",
       "      <td>...</td>\n",
       "      <td>...</td>\n",
       "    </tr>\n",
       "    <tr>\n",
       "      <th>124</th>\n",
       "      <td>-0.285924</td>\n",
       "      <td>-0.451235</td>\n",
       "      <td>-0.452862</td>\n",
       "      <td>0.408602</td>\n",
       "      <td>0.337128</td>\n",
       "      <td>0.161290</td>\n",
       "      <td>0.709677</td>\n",
       "      <td>-0.301075</td>\n",
       "      <td>-0.086022</td>\n",
       "      <td>-0.032258</td>\n",
       "      <td>...</td>\n",
       "      <td>-0.043011</td>\n",
       "      <td>-0.075269</td>\n",
       "      <td>-0.021505</td>\n",
       "      <td>-0.032258</td>\n",
       "      <td>-0.064516</td>\n",
       "      <td>-0.053763</td>\n",
       "      <td>-0.053763</td>\n",
       "      <td>-0.021505</td>\n",
       "      <td>-0.010753</td>\n",
       "      <td>0.989247</td>\n",
       "    </tr>\n",
       "    <tr>\n",
       "      <th>1753</th>\n",
       "      <td>-0.149560</td>\n",
       "      <td>0.418649</td>\n",
       "      <td>0.418106</td>\n",
       "      <td>-0.191398</td>\n",
       "      <td>0.043011</td>\n",
       "      <td>0.524927</td>\n",
       "      <td>-0.290323</td>\n",
       "      <td>-0.301075</td>\n",
       "      <td>-0.086022</td>\n",
       "      <td>-0.032258</td>\n",
       "      <td>...</td>\n",
       "      <td>-0.043011</td>\n",
       "      <td>-0.075269</td>\n",
       "      <td>-0.021505</td>\n",
       "      <td>-0.032258</td>\n",
       "      <td>-0.064516</td>\n",
       "      <td>-0.053763</td>\n",
       "      <td>-0.053763</td>\n",
       "      <td>0.978495</td>\n",
       "      <td>-0.010753</td>\n",
       "      <td>-0.010753</td>\n",
       "    </tr>\n",
       "    <tr>\n",
       "      <th>1593</th>\n",
       "      <td>0.214076</td>\n",
       "      <td>-0.001632</td>\n",
       "      <td>-0.001249</td>\n",
       "      <td>-0.191398</td>\n",
       "      <td>0.219481</td>\n",
       "      <td>-0.020528</td>\n",
       "      <td>-0.290323</td>\n",
       "      <td>-0.301075</td>\n",
       "      <td>-0.086022</td>\n",
       "      <td>-0.032258</td>\n",
       "      <td>...</td>\n",
       "      <td>-0.043011</td>\n",
       "      <td>-0.075269</td>\n",
       "      <td>-0.021505</td>\n",
       "      <td>-0.032258</td>\n",
       "      <td>-0.064516</td>\n",
       "      <td>-0.053763</td>\n",
       "      <td>-0.053763</td>\n",
       "      <td>-0.021505</td>\n",
       "      <td>-0.010753</td>\n",
       "      <td>-0.010753</td>\n",
       "    </tr>\n",
       "    <tr>\n",
       "      <th>1786</th>\n",
       "      <td>0.168622</td>\n",
       "      <td>0.152308</td>\n",
       "      <td>0.160042</td>\n",
       "      <td>-0.191398</td>\n",
       "      <td>-0.309930</td>\n",
       "      <td>0.434018</td>\n",
       "      <td>-0.290323</td>\n",
       "      <td>0.698925</td>\n",
       "      <td>-0.086022</td>\n",
       "      <td>-0.032258</td>\n",
       "      <td>...</td>\n",
       "      <td>-0.043011</td>\n",
       "      <td>-0.075269</td>\n",
       "      <td>-0.021505</td>\n",
       "      <td>-0.032258</td>\n",
       "      <td>-0.064516</td>\n",
       "      <td>-0.053763</td>\n",
       "      <td>-0.053763</td>\n",
       "      <td>-0.021505</td>\n",
       "      <td>-0.010753</td>\n",
       "      <td>-0.010753</td>\n",
       "    </tr>\n",
       "    <tr>\n",
       "      <th>1478</th>\n",
       "      <td>0.168622</td>\n",
       "      <td>-0.271944</td>\n",
       "      <td>-0.278668</td>\n",
       "      <td>0.208602</td>\n",
       "      <td>-0.133460</td>\n",
       "      <td>-0.247801</td>\n",
       "      <td>-0.290323</td>\n",
       "      <td>0.698925</td>\n",
       "      <td>-0.086022</td>\n",
       "      <td>-0.032258</td>\n",
       "      <td>...</td>\n",
       "      <td>-0.043011</td>\n",
       "      <td>-0.075269</td>\n",
       "      <td>-0.021505</td>\n",
       "      <td>-0.032258</td>\n",
       "      <td>-0.064516</td>\n",
       "      <td>-0.053763</td>\n",
       "      <td>-0.053763</td>\n",
       "      <td>-0.021505</td>\n",
       "      <td>-0.010753</td>\n",
       "      <td>-0.010753</td>\n",
       "    </tr>\n",
       "  </tbody>\n",
       "</table>\n",
       "<p>93 rows × 41 columns</p>\n",
       "</div>"
      ],
      "text/plain": [
       "      statusId  resultId    raceId    points     round  circuitId  \\\n",
       "180  -0.285924 -0.413972 -0.414152  0.808602 -0.368754  -0.384164   \n",
       "1522  0.168622 -0.165957 -0.175442 -0.191398 -0.251107  -0.338710   \n",
       "1292 -0.285924  0.268374  0.276171  0.008602 -0.251107  -0.338710   \n",
       "1764 -0.104106  0.440335  0.437461 -0.191398  0.219481   0.070381   \n",
       "1514 -0.195015 -0.187643 -0.201249 -0.191398 -0.486401  -0.475073   \n",
       "...        ...       ...       ...       ...       ...        ...   \n",
       "124  -0.285924 -0.451235 -0.452862  0.408602  0.337128   0.161290   \n",
       "1753 -0.149560  0.418649  0.418106 -0.191398  0.043011   0.524927   \n",
       "1593  0.214076 -0.001632 -0.001249 -0.191398  0.219481  -0.020528   \n",
       "1786  0.168622  0.152308  0.160042 -0.191398 -0.309930   0.434018   \n",
       "1478  0.168622 -0.271944 -0.278668  0.208602 -0.133460  -0.247801   \n",
       "\n",
       "      status_Finished  status_+1 Lap  status_Engine  status_Accident  ...  \\\n",
       "180          0.709677      -0.301075      -0.086022        -0.032258  ...   \n",
       "1522        -0.290323       0.698925      -0.086022        -0.032258  ...   \n",
       "1292         0.709677      -0.301075      -0.086022        -0.032258  ...   \n",
       "1764        -0.290323      -0.301075       0.913978        -0.032258  ...   \n",
       "1514        -0.290323      -0.301075      -0.086022         0.967742  ...   \n",
       "...               ...            ...            ...              ...  ...   \n",
       "124          0.709677      -0.301075      -0.086022        -0.032258  ...   \n",
       "1753        -0.290323      -0.301075      -0.086022        -0.032258  ...   \n",
       "1593        -0.290323      -0.301075      -0.086022        -0.032258  ...   \n",
       "1786        -0.290323       0.698925      -0.086022        -0.032258  ...   \n",
       "1478        -0.290323       0.698925      -0.086022        -0.032258  ...   \n",
       "\n",
       "      name_European Grand Prix  name_United States Grand Prix  \\\n",
       "180                  -0.043011                      -0.075269   \n",
       "1522                 -0.043011                      -0.075269   \n",
       "1292                 -0.043011                      -0.075269   \n",
       "1764                 -0.043011                      -0.075269   \n",
       "1514                 -0.043011                      -0.075269   \n",
       "...                        ...                            ...   \n",
       "124                  -0.043011                      -0.075269   \n",
       "1753                 -0.043011                      -0.075269   \n",
       "1593                 -0.043011                      -0.075269   \n",
       "1786                 -0.043011                      -0.075269   \n",
       "1478                 -0.043011                      -0.075269   \n",
       "\n",
       "      name_Chinese Grand Prix  name_Italian Grand Prix  \\\n",
       "180                 -0.021505                -0.032258   \n",
       "1522                -0.021505                -0.032258   \n",
       "1292                -0.021505                -0.032258   \n",
       "1764                -0.021505                -0.032258   \n",
       "1514                -0.021505                -0.032258   \n",
       "...                       ...                      ...   \n",
       "124                 -0.021505                -0.032258   \n",
       "1753                -0.021505                -0.032258   \n",
       "1593                -0.021505                -0.032258   \n",
       "1786                -0.021505                -0.032258   \n",
       "1478                -0.021505                -0.032258   \n",
       "\n",
       "      name_French Grand Prix  name_Japanese Grand Prix  \\\n",
       "180                -0.064516                 -0.053763   \n",
       "1522               -0.064516                 -0.053763   \n",
       "1292               -0.064516                 -0.053763   \n",
       "1764               -0.064516                 -0.053763   \n",
       "1514               -0.064516                 -0.053763   \n",
       "...                      ...                       ...   \n",
       "124                -0.064516                 -0.053763   \n",
       "1753               -0.064516                 -0.053763   \n",
       "1593               -0.064516                 -0.053763   \n",
       "1786               -0.064516                 -0.053763   \n",
       "1478               -0.064516                 -0.053763   \n",
       "\n",
       "      name_British Grand Prix  name_Austrian Grand Prix  \\\n",
       "180                 -0.053763                 -0.021505   \n",
       "1522                -0.053763                 -0.021505   \n",
       "1292                -0.053763                 -0.021505   \n",
       "1764                -0.053763                 -0.021505   \n",
       "1514                -0.053763                 -0.021505   \n",
       "...                       ...                       ...   \n",
       "124                 -0.053763                 -0.021505   \n",
       "1753                -0.053763                  0.978495   \n",
       "1593                -0.053763                 -0.021505   \n",
       "1786                -0.053763                 -0.021505   \n",
       "1478                -0.053763                 -0.021505   \n",
       "\n",
       "      name_Turkish Grand Prix  name_Singapore Grand Prix  \n",
       "180                 -0.010753                  -0.010753  \n",
       "1522                -0.010753                  -0.010753  \n",
       "1292                -0.010753                  -0.010753  \n",
       "1764                -0.010753                  -0.010753  \n",
       "1514                -0.010753                  -0.010753  \n",
       "...                       ...                        ...  \n",
       "124                 -0.010753                   0.989247  \n",
       "1753                -0.010753                  -0.010753  \n",
       "1593                -0.010753                  -0.010753  \n",
       "1786                -0.010753                  -0.010753  \n",
       "1478                -0.010753                  -0.010753  \n",
       "\n",
       "[93 rows x 41 columns]"
      ]
     },
     "execution_count": 179,
     "metadata": {},
     "output_type": "execute_result"
    }
   ],
   "source": [
    "X_train_scaled_mn"
   ]
  },
  {
   "cell_type": "code",
   "execution_count": 180,
   "metadata": {},
   "outputs": [
    {
     "data": {
      "image/png": "[encoded data removed]",
      "text/plain": [
       "<Figure size 864x360 with 2 Axes>"
      ]
     },
     "metadata": {
      "needs_background": "light"
     },
     "output_type": "display_data"
    }
   ],
   "source": [
    "# compare the variable distributions before and after scaling\n",
    "\n",
    "# points, round, circuitId\n",
    "fig, (ax1, ax2) = plt.subplots(ncols=2, figsize=(12, 5))\n",
    "\n",
    "# before scaling\n",
    "ax1.set_title('Before Scaling')\n",
    "sns.kdeplot(X_train['points'], ax=ax1, label ='points')\n",
    "sns.kdeplot(X_train['round'], ax=ax1, label ='round')\n",
    "sns.kdeplot(X_train['circuitId'], ax=ax1, label ='circuitId')\n",
    "ax1.legend()\n",
    "\n",
    "# after scaling\n",
    "ax2.set_title('After Scaling')\n",
    "sns.kdeplot(X_train_scaled_mn['points'], ax=ax2, label ='points')\n",
    "sns.kdeplot(X_train_scaled_mn['round'], ax=ax2, label ='round')\n",
    "sns.kdeplot(X_train_scaled_mn['circuitId'], ax=ax2, label ='circuitId')\n",
    "ax2.legend()\n",
    "plt.show()"
   ]
  },
  {
   "cell_type": "code",
   "execution_count": null,
   "metadata": {},
   "outputs": [],
   "source": []
  },
  {
   "cell_type": "markdown",
   "metadata": {},
   "source": [
    "#### Standardization from sklearn <a id=\"standardization\"></a>\n",
    "\n",
    "[back to report](#Others)"
   ]
  },
  {
   "cell_type": "code",
   "execution_count": 181,
   "metadata": {},
   "outputs": [],
   "source": [
    "# Using Standardization from sklearn"
   ]
  },
  {
   "cell_type": "code",
   "execution_count": 182,
   "metadata": {},
   "outputs": [],
   "source": [
    "# set up the scaler\n",
    "scaler = StandardScaler()\n",
    "\n",
    "# fit the scaler to the train set, it will learn the parameters\n",
    "scaler.fit(X_train)\n",
    "\n",
    "# transform train and test sets\n",
    "X_train_scaled_ss = scaler.transform(X_train)\n",
    "X_test_scaled_ss = scaler.transform(X_test)"
   ]
  },
  {
   "cell_type": "code",
   "execution_count": 183,
   "metadata": {},
   "outputs": [
    {
     "data": {
      "text/plain": [
       "array([7.29032258e+00, 1.77134409e+03, 1.02193548e+02, 9.56989247e-01,\n",
       "       9.26881720e+00, 1.14516129e+01, 2.90322581e-01, 3.01075269e-01,\n",
       "       8.60215054e-02, 3.22580645e-02, 3.22580645e-02, 8.60215054e-02,\n",
       "       2.15053763e-02, 2.15053763e-02, 1.07526882e-02, 7.52688172e-02,\n",
       "       1.07526882e-02, 1.07526882e-02, 1.07526882e-02, 1.07526882e-02,\n",
       "       3.22580645e-02, 6.45161290e-02, 5.37634409e-02, 5.37634409e-02,\n",
       "       6.45161290e-02, 6.45161290e-02, 6.45161290e-02, 5.37634409e-02,\n",
       "       7.52688172e-02, 4.30107527e-02, 4.30107527e-02, 4.30107527e-02,\n",
       "       7.52688172e-02, 2.15053763e-02, 3.22580645e-02, 6.45161290e-02,\n",
       "       5.37634409e-02, 5.37634409e-02, 2.15053763e-02, 1.07526882e-02,\n",
       "       1.07526882e-02])"
      ]
     },
     "execution_count": 183,
     "metadata": {},
     "output_type": "execute_result"
    }
   ],
   "source": [
    "# the scaler stores the mean of the features, learned from train set\n",
    "\n",
    "scaler.mean_"
   ]
  },
  {
   "cell_type": "code",
   "execution_count": 184,
   "metadata": {},
   "outputs": [
    {
     "data": {
      "text/plain": [
       "array([5.47836536e+00, 9.55563759e+02, 4.57372717e+01, 1.55828675e+00,\n",
       "       5.03138491e+00, 6.77997705e+00, 4.53911203e-01, 4.58725355e-01,\n",
       "       2.80395802e-01, 1.76684696e-01, 1.76684696e-01, 2.80395802e-01,\n",
       "       1.45061694e-01, 1.45061694e-01, 1.03136162e-01, 2.63824605e-01,\n",
       "       1.03136162e-01, 1.03136162e-01, 1.03136162e-01, 1.03136162e-01,\n",
       "       1.76684696e-01, 2.45670100e-01, 2.25550290e-01, 2.25550290e-01,\n",
       "       2.45670100e-01, 2.45670100e-01, 2.45670100e-01, 2.25550290e-01,\n",
       "       2.63824605e-01, 2.02881315e-01, 2.02881315e-01, 2.02881315e-01,\n",
       "       2.63824605e-01, 1.45061694e-01, 1.76684696e-01, 2.45670100e-01,\n",
       "       2.25550290e-01, 2.25550290e-01, 1.45061694e-01, 1.03136162e-01,\n",
       "       1.03136162e-01])"
      ]
     },
     "execution_count": 184,
     "metadata": {},
     "output_type": "execute_result"
    }
   ],
   "source": [
    "# the scaler stores the standard deviation of the features,\n",
    "# learned from train set\n",
    "\n",
    "scaler.scale_"
   ]
  },
  {
   "cell_type": "code",
   "execution_count": 185,
   "metadata": {},
   "outputs": [],
   "source": [
    "# transform the returned NumPy arrays to dataframes\n",
    "\n",
    "X_train_scaled_ss = pd.DataFrame(X_train_scaled_ss, columns=X_train.columns)\n",
    "X_test_scaled_ss = pd.DataFrame(X_test_scaled_ss, columns=X_test.columns)"
   ]
  },
  {
   "cell_type": "code",
   "execution_count": 186,
   "metadata": {},
   "outputs": [
    {
     "data": {
      "image/png": "[encoded data removed]",
      "text/plain": [
       "<Figure size 864x360 with 2 Axes>"
      ]
     },
     "metadata": {
      "needs_background": "light"
     },
     "output_type": "display_data"
    }
   ],
   "source": [
    "# let's compare the variable distributions before and after scaling\n",
    "\n",
    "# points, round, circuitId\n",
    "fig, (ax1, ax2) = plt.subplots(ncols=2, figsize=(12, 5))\n",
    "\n",
    "# before scaling\n",
    "ax1.set_title('Before Scaling')\n",
    "sns.kdeplot(X_train['points'], ax=ax1, label ='points')\n",
    "sns.kdeplot(X_train['round'], ax=ax1, label ='round')\n",
    "sns.kdeplot(X_train['circuitId'], ax=ax1, label ='circuitId')\n",
    "ax1.legend()\n",
    "\n",
    "# after scaling\n",
    "ax2.set_title('After Scaling')\n",
    "sns.kdeplot(X_train_scaled_ss['points'], ax=ax2, label ='points')\n",
    "sns.kdeplot(X_train_scaled_ss['round'], ax=ax2, label ='round')\n",
    "sns.kdeplot(X_train_scaled_ss['circuitId'], ax=ax2, label ='circuitId')\n",
    "ax2.legend()\n",
    "plt.show()"
   ]
  },
  {
   "cell_type": "code",
   "execution_count": null,
   "metadata": {},
   "outputs": [],
   "source": []
  },
  {
   "cell_type": "markdown",
   "metadata": {},
   "source": [
    "#### MinMaxScaling <a id=\"minmax\"></a>\n",
    "\n",
    "[back to report](#Others)"
   ]
  },
  {
   "cell_type": "code",
   "execution_count": 187,
   "metadata": {},
   "outputs": [],
   "source": [
    "# MinMaxScaling "
   ]
  },
  {
   "cell_type": "code",
   "execution_count": 188,
   "metadata": {},
   "outputs": [],
   "source": [
    "# the scaler - for min-max scaling\n",
    "from sklearn.preprocessing import MinMaxScaler"
   ]
  },
  {
   "cell_type": "code",
   "execution_count": 189,
   "metadata": {},
   "outputs": [],
   "source": [
    "# set up the scaler\n",
    "scaler = MinMaxScaler()\n",
    "\n",
    "# fit the scaler to the train set, it will learn the parameters\n",
    "scaler.fit(X_train)\n",
    "\n",
    "# transform train and test sets\n",
    "X_train_scaled_mms = scaler.transform(X_train)\n",
    "X_test_scaled_mms = scaler.transform(X_test)"
   ]
  },
  {
   "cell_type": "code",
   "execution_count": 190,
   "metadata": {},
   "outputs": [
    {
     "data": {
      "text/plain": [
       "array([2.300e+01, 3.302e+03, 1.740e+02, 5.000e+00, 1.800e+01, 2.300e+01,\n",
       "       1.000e+00, 1.000e+00, 1.000e+00, 1.000e+00, 1.000e+00, 1.000e+00,\n",
       "       1.000e+00, 1.000e+00, 1.000e+00, 1.000e+00, 1.000e+00, 1.000e+00,\n",
       "       1.000e+00, 1.000e+00, 1.000e+00, 1.000e+00, 1.000e+00, 1.000e+00,\n",
       "       1.000e+00, 1.000e+00, 1.000e+00, 1.000e+00, 1.000e+00, 1.000e+00,\n",
       "       1.000e+00, 1.000e+00, 1.000e+00, 1.000e+00, 1.000e+00, 1.000e+00,\n",
       "       1.000e+00, 1.000e+00, 1.000e+00, 1.000e+00, 1.000e+00])"
      ]
     },
     "execution_count": 190,
     "metadata": {},
     "output_type": "execute_result"
    }
   ],
   "source": [
    "# the scaler stores the maximum values of the features, learned from train set\n",
    "scaler.data_max_"
   ]
  },
  {
   "cell_type": "code",
   "execution_count": 191,
   "metadata": {},
   "outputs": [
    {
     "data": {
      "text/plain": [
       "array([-0.04545455, -0.00855223, -0.12258065,  0.        , -0.05882353,\n",
       "       -0.04545455,  0.        ,  0.        ,  0.        ,  0.        ,\n",
       "        0.        ,  0.        ,  0.        ,  0.        ,  0.        ,\n",
       "        0.        ,  0.        ,  0.        ,  0.        ,  0.        ,\n",
       "        0.        ,  0.        ,  0.        ,  0.        ,  0.        ,\n",
       "        0.        ,  0.        ,  0.        ,  0.        ,  0.        ,\n",
       "        0.        ,  0.        ,  0.        ,  0.        ,  0.        ,\n",
       "        0.        ,  0.        ,  0.        ,  0.        ,  0.        ,\n",
       "        0.        ])"
      ]
     },
     "execution_count": 191,
     "metadata": {},
     "output_type": "execute_result"
    }
   ],
   "source": [
    "# the scaler stores the minimum values of the features, learned from train set\n",
    "scaler.min_"
   ]
  },
  {
   "cell_type": "code",
   "execution_count": 192,
   "metadata": {},
   "outputs": [
    {
     "data": {
      "text/plain": [
       "array([2.200e+01, 3.274e+03, 1.550e+02, 5.000e+00, 1.700e+01, 2.200e+01,\n",
       "       1.000e+00, 1.000e+00, 1.000e+00, 1.000e+00, 1.000e+00, 1.000e+00,\n",
       "       1.000e+00, 1.000e+00, 1.000e+00, 1.000e+00, 1.000e+00, 1.000e+00,\n",
       "       1.000e+00, 1.000e+00, 1.000e+00, 1.000e+00, 1.000e+00, 1.000e+00,\n",
       "       1.000e+00, 1.000e+00, 1.000e+00, 1.000e+00, 1.000e+00, 1.000e+00,\n",
       "       1.000e+00, 1.000e+00, 1.000e+00, 1.000e+00, 1.000e+00, 1.000e+00,\n",
       "       1.000e+00, 1.000e+00, 1.000e+00, 1.000e+00, 1.000e+00])"
      ]
     },
     "execution_count": 192,
     "metadata": {},
     "output_type": "execute_result"
    }
   ],
   "source": [
    "# the scaler also stores the value range (max -  min)\n",
    "\n",
    "scaler.data_range_"
   ]
  },
  {
   "cell_type": "code",
   "execution_count": 193,
   "metadata": {},
   "outputs": [],
   "source": [
    "# Transform the returned NumPy arrays to dataframes\n",
    "X_train_scaled_mms = pd.DataFrame(X_train_scaled_mms, columns=X_train.columns)\n",
    "X_test_scaled_mms = pd.DataFrame(X_test_scaled_mms, columns=X_test.columns)"
   ]
  },
  {
   "cell_type": "code",
   "execution_count": 194,
   "metadata": {},
   "outputs": [
    {
     "data": {
      "image/png": "[encoded data removed]",
      "text/plain": [
       "<Figure size 864x360 with 2 Axes>"
      ]
     },
     "metadata": {
      "needs_background": "light"
     },
     "output_type": "display_data"
    }
   ],
   "source": [
    "# let's compare the variable distributions before and after scaling\n",
    "\n",
    "# points, round, circuitId\n",
    "fig, (ax1, ax2) = plt.subplots(ncols=2, figsize=(12, 5))\n",
    "\n",
    "# before scaling\n",
    "ax1.set_title('Before Scaling')\n",
    "sns.kdeplot(X_train['points'], ax=ax1, label ='points')\n",
    "sns.kdeplot(X_train['round'], ax=ax1, label ='round')\n",
    "sns.kdeplot(X_train['circuitId'], ax=ax1, label ='circuitId')\n",
    "ax1.legend()\n",
    "\n",
    "# after scaling\n",
    "ax2.set_title('After Scaling')\n",
    "sns.kdeplot(X_train_scaled_mms['points'], ax=ax2, label ='points')\n",
    "sns.kdeplot(X_train_scaled_mms['round'], ax=ax2, label ='round')\n",
    "sns.kdeplot(X_train_scaled_mms['circuitId'], ax=ax2, label ='circuitId')\n",
    "ax2.legend()\n",
    "plt.show()"
   ]
  },
  {
   "cell_type": "code",
   "execution_count": null,
   "metadata": {},
   "outputs": [],
   "source": []
  },
  {
   "cell_type": "markdown",
   "metadata": {},
   "source": [
    "### Step 4: Machine Learning Modelling "
   ]
  },
  {
   "cell_type": "markdown",
   "metadata": {},
   "source": [
    "#### Number of rows and columns in final dataset <a id=\"finalset\"></a>\n",
    "\n",
    "[back to report](#MachineLearningModel)"
   ]
  },
  {
   "cell_type": "code",
   "execution_count": 195,
   "metadata": {},
   "outputs": [
    {
     "data": {
      "text/html": [
       "<div>\n",
       "<style scoped>\n",
       "    .dataframe tbody tr th:only-of-type {\n",
       "        vertical-align: middle;\n",
       "    }\n",
       "\n",
       "    .dataframe tbody tr th {\n",
       "        vertical-align: top;\n",
       "    }\n",
       "\n",
       "    .dataframe thead th {\n",
       "        text-align: right;\n",
       "    }\n",
       "</style>\n",
       "<table border=\"1\" class=\"dataframe\">\n",
       "  <thead>\n",
       "    <tr style=\"text-align: right;\">\n",
       "      <th></th>\n",
       "      <th>statusId</th>\n",
       "      <th>status</th>\n",
       "      <th>resultId</th>\n",
       "      <th>raceId</th>\n",
       "      <th>points</th>\n",
       "      <th>round</th>\n",
       "      <th>circuitId</th>\n",
       "      <th>name</th>\n",
       "    </tr>\n",
       "  </thead>\n",
       "  <tbody>\n",
       "    <tr>\n",
       "      <th>12</th>\n",
       "      <td>1</td>\n",
       "      <td>Finished</td>\n",
       "      <td>28</td>\n",
       "      <td>19</td>\n",
       "      <td>3.0</td>\n",
       "      <td>2</td>\n",
       "      <td>2</td>\n",
       "      <td>Malaysian Grand Prix</td>\n",
       "    </tr>\n",
       "    <tr>\n",
       "      <th>23</th>\n",
       "      <td>1</td>\n",
       "      <td>Finished</td>\n",
       "      <td>75</td>\n",
       "      <td>21</td>\n",
       "      <td>0.0</td>\n",
       "      <td>4</td>\n",
       "      <td>4</td>\n",
       "      <td>Spanish Grand Prix</td>\n",
       "    </tr>\n",
       "    <tr>\n",
       "      <th>34</th>\n",
       "      <td>1</td>\n",
       "      <td>Finished</td>\n",
       "      <td>93</td>\n",
       "      <td>22</td>\n",
       "      <td>4.0</td>\n",
       "      <td>5</td>\n",
       "      <td>5</td>\n",
       "      <td>Turkish Grand Prix</td>\n",
       "    </tr>\n",
       "    <tr>\n",
       "      <th>52</th>\n",
       "      <td>14</td>\n",
       "      <td>+4 Laps</td>\n",
       "      <td>122</td>\n",
       "      <td>23</td>\n",
       "      <td>0.0</td>\n",
       "      <td>6</td>\n",
       "      <td>6</td>\n",
       "      <td>Monaco Grand Prix</td>\n",
       "    </tr>\n",
       "    <tr>\n",
       "      <th>54</th>\n",
       "      <td>1</td>\n",
       "      <td>Finished</td>\n",
       "      <td>161</td>\n",
       "      <td>25</td>\n",
       "      <td>0.0</td>\n",
       "      <td>8</td>\n",
       "      <td>8</td>\n",
       "      <td>French Grand Prix</td>\n",
       "    </tr>\n",
       "    <tr>\n",
       "      <th>...</th>\n",
       "      <td>...</td>\n",
       "      <td>...</td>\n",
       "      <td>...</td>\n",
       "      <td>...</td>\n",
       "      <td>...</td>\n",
       "      <td>...</td>\n",
       "      <td>...</td>\n",
       "      <td>...</td>\n",
       "    </tr>\n",
       "    <tr>\n",
       "      <th>1813</th>\n",
       "      <td>23</td>\n",
       "      <td>Brakes</td>\n",
       "      <td>2252</td>\n",
       "      <td>126</td>\n",
       "      <td>0.0</td>\n",
       "      <td>3</td>\n",
       "      <td>18</td>\n",
       "      <td>Brazilian Grand Prix</td>\n",
       "    </tr>\n",
       "    <tr>\n",
       "      <th>1815</th>\n",
       "      <td>13</td>\n",
       "      <td>+3 Laps</td>\n",
       "      <td>3034</td>\n",
       "      <td>162</td>\n",
       "      <td>0.0</td>\n",
       "      <td>5</td>\n",
       "      <td>4</td>\n",
       "      <td>Spanish Grand Prix</td>\n",
       "    </tr>\n",
       "    <tr>\n",
       "      <th>1817</th>\n",
       "      <td>20</td>\n",
       "      <td>Spun off</td>\n",
       "      <td>2595</td>\n",
       "      <td>142</td>\n",
       "      <td>0.0</td>\n",
       "      <td>2</td>\n",
       "      <td>2</td>\n",
       "      <td>Malaysian Grand Prix</td>\n",
       "    </tr>\n",
       "    <tr>\n",
       "      <th>1819</th>\n",
       "      <td>20</td>\n",
       "      <td>Spun off</td>\n",
       "      <td>3228</td>\n",
       "      <td>171</td>\n",
       "      <td>0.0</td>\n",
       "      <td>14</td>\n",
       "      <td>14</td>\n",
       "      <td>Italian Grand Prix</td>\n",
       "    </tr>\n",
       "    <tr>\n",
       "      <th>1820</th>\n",
       "      <td>22</td>\n",
       "      <td>Suspension</td>\n",
       "      <td>3277</td>\n",
       "      <td>173</td>\n",
       "      <td>0.0</td>\n",
       "      <td>16</td>\n",
       "      <td>22</td>\n",
       "      <td>Japanese Grand Prix</td>\n",
       "    </tr>\n",
       "  </tbody>\n",
       "</table>\n",
       "<p>134 rows × 8 columns</p>\n",
       "</div>"
      ],
      "text/plain": [
       "      statusId      status  resultId  raceId  points  round  circuitId  \\\n",
       "12           1    Finished        28      19     3.0      2          2   \n",
       "23           1    Finished        75      21     0.0      4          4   \n",
       "34           1    Finished        93      22     4.0      5          5   \n",
       "52          14     +4 Laps       122      23     0.0      6          6   \n",
       "54           1    Finished       161      25     0.0      8          8   \n",
       "...        ...         ...       ...     ...     ...    ...        ...   \n",
       "1813        23      Brakes      2252     126     0.0      3         18   \n",
       "1815        13     +3 Laps      3034     162     0.0      5          4   \n",
       "1817        20    Spun off      2595     142     0.0      2          2   \n",
       "1819        20    Spun off      3228     171     0.0     14         14   \n",
       "1820        22  Suspension      3277     173     0.0     16         22   \n",
       "\n",
       "                      name  \n",
       "12    Malaysian Grand Prix  \n",
       "23      Spanish Grand Prix  \n",
       "34      Turkish Grand Prix  \n",
       "52       Monaco Grand Prix  \n",
       "54       French Grand Prix  \n",
       "...                    ...  \n",
       "1813  Brazilian Grand Prix  \n",
       "1815    Spanish Grand Prix  \n",
       "1817  Malaysian Grand Prix  \n",
       "1819    Italian Grand Prix  \n",
       "1820   Japanese Grand Prix  \n",
       "\n",
       "[134 rows x 8 columns]"
      ]
     },
     "metadata": {},
     "output_type": "display_data"
    }
   ],
   "source": [
    "display(driver_results)"
   ]
  },
  {
   "cell_type": "markdown",
   "metadata": {},
   "source": [
    "### Linear Regression Model"
   ]
  },
  {
   "cell_type": "markdown",
   "metadata": {},
   "source": [
    "#### Feature Engine Mean-normalization"
   ]
  },
  {
   "cell_type": "code",
   "execution_count": 196,
   "metadata": {},
   "outputs": [],
   "source": [
    "# for feature engine mean-normalization"
   ]
  },
  {
   "cell_type": "code",
   "execution_count": 197,
   "metadata": {},
   "outputs": [],
   "source": [
    "X_train_final = X_train_scaled_mn\n",
    "X_test_final = X_test_scaled_mn\n",
    "\n",
    "y_train_final = y_train\n",
    "y_test_final = y_test"
   ]
  },
  {
   "cell_type": "code",
   "execution_count": 198,
   "metadata": {},
   "outputs": [],
   "source": [
    "from sklearn.linear_model import LinearRegression\n",
    "from sklearn.metrics import mean_squared_error\n",
    "from sklearn.metrics import r2_score"
   ]
  },
  {
   "cell_type": "code",
   "execution_count": 199,
   "metadata": {},
   "outputs": [
    {
     "name": "stdout",
     "output_type": "stream",
     "text": [
      "train_rmse: 3.6134918884317314e-29 \n",
      " test_rmse: 0.12410788785701897\n",
      "train_r-sq: 1.0 \n",
      " test_r-sq: 0.9955810946478089\n"
     ]
    }
   ],
   "source": [
    "# Build Linear Regression Model\n",
    "model_linear_regression = LinearRegression()\n",
    "model_linear_regression.fit(X_train_final, y_train_final)\n",
    "\n",
    "# Evaluate the Linear Regression Model using Root Mean Square Error (RMSE)\n",
    "print('train_rmse:', mean_squared_error(y_train_final, model_linear_regression.predict(X_train_final)), \n",
    "      '\\n test_rmse:', mean_squared_error(y_test_final, model_linear_regression.predict(X_test_final)))\n",
    "\n",
    "# Evaluate the Linear Regression Model using R-Square\n",
    "# The closer the r-square value to 1, the better the model performance\n",
    "print('train_r-sq:', r2_score(y_train_final, model_linear_regression.predict(X_train_final)), \n",
    "      '\\n test_r-sq:', r2_score(y_test_final, model_linear_regression.predict(X_test_final)))"
   ]
  },
  {
   "cell_type": "code",
   "execution_count": null,
   "metadata": {},
   "outputs": [],
   "source": []
  },
  {
   "cell_type": "markdown",
   "metadata": {},
   "source": [
    "#### Standardization from sklearn"
   ]
  },
  {
   "cell_type": "code",
   "execution_count": 200,
   "metadata": {},
   "outputs": [],
   "source": [
    "# for Standardization from sklearn"
   ]
  },
  {
   "cell_type": "code",
   "execution_count": 201,
   "metadata": {},
   "outputs": [],
   "source": [
    "X_train_final = X_train_scaled_ss\n",
    "X_test_final = X_test_scaled_ss\n",
    "\n",
    "y_train_final = y_train\n",
    "y_test_final = y_test"
   ]
  },
  {
   "cell_type": "code",
   "execution_count": 202,
   "metadata": {},
   "outputs": [
    {
     "name": "stdout",
     "output_type": "stream",
     "text": [
      "train_rmse: 4.255607700530985e-29 \n",
      " test_rmse: 0.23571505828876735\n",
      "train_r-sq: 1.0 \n",
      " test_r-sq: 0.9916072817719347\n"
     ]
    }
   ],
   "source": [
    "# Build Linear Regression Model\n",
    "model_linear_regression = LinearRegression()\n",
    "model_linear_regression.fit(X_train_final, y_train_final)\n",
    "\n",
    "# Evaluate the Linear Regression Model using Root Mean Square Error (RMSE)\n",
    "print('train_rmse:', mean_squared_error(y_train_final, model_linear_regression.predict(X_train_final)), \n",
    "      '\\n test_rmse:', mean_squared_error(y_test_final, model_linear_regression.predict(X_test_final)))\n",
    "\n",
    "# Evaluate the Linear Regression Model using R-Square\n",
    "# The closer the r-square value to 1, the better the model performance\n",
    "print('train_r-sq:', r2_score(y_train_final, model_linear_regression.predict(X_train_final)), \n",
    "      '\\n test_r-sq:', r2_score(y_test_final, model_linear_regression.predict(X_test_final)))"
   ]
  },
  {
   "cell_type": "code",
   "execution_count": null,
   "metadata": {},
   "outputs": [],
   "source": []
  },
  {
   "cell_type": "markdown",
   "metadata": {},
   "source": [
    "#### MinMaxScaling"
   ]
  },
  {
   "cell_type": "code",
   "execution_count": 203,
   "metadata": {},
   "outputs": [],
   "source": [
    "# for MinMaxScaling "
   ]
  },
  {
   "cell_type": "code",
   "execution_count": 204,
   "metadata": {},
   "outputs": [],
   "source": [
    "X_train_final = X_train_scaled_mms\n",
    "X_test_final = X_test_scaled_mms\n",
    "\n",
    "y_train_final = y_train\n",
    "y_test_final = y_test"
   ]
  },
  {
   "cell_type": "code",
   "execution_count": 205,
   "metadata": {},
   "outputs": [
    {
     "name": "stdout",
     "output_type": "stream",
     "text": [
      "train_rmse: 2.5048454334598365e-29 \n",
      " test_rmse: 0.1241078878570187\n",
      "train_r-sq: 1.0 \n",
      " test_r-sq: 0.9955810946478089\n"
     ]
    }
   ],
   "source": [
    "# Build Linear Regression Model\n",
    "model_linear_regression = LinearRegression()\n",
    "model_linear_regression.fit(X_train_final, y_train_final)\n",
    "\n",
    "# Evaluate the Linear Regression Model using Root Mean Square Error (RMSE)\n",
    "print('train_rmse:', mean_squared_error(y_train_final, model_linear_regression.predict(X_train_final)), \n",
    "      '\\n test_rmse:', mean_squared_error(y_test_final, model_linear_regression.predict(X_test_final)))\n",
    "\n",
    "# Evaluate the Linear Regression Model using R-Square\n",
    "# The closer the r-square value to 1, the better the model performance\n",
    "print('train_r-sq:', r2_score(y_train_final, model_linear_regression.predict(X_train_final)), \n",
    "      '\\n test_r-sq:', r2_score(y_test_final, model_linear_regression.predict(X_test_final)))"
   ]
  },
  {
   "cell_type": "code",
   "execution_count": null,
   "metadata": {},
   "outputs": [],
   "source": []
  },
  {
   "cell_type": "markdown",
   "metadata": {},
   "source": [
    "#### For Naïve Baseline Model"
   ]
  },
  {
   "cell_type": "code",
   "execution_count": 206,
   "metadata": {},
   "outputs": [
    {
     "name": "stdout",
     "output_type": "stream",
     "text": [
      "(93, 41)\n",
      "<class 'pandas.core.frame.DataFrame'>\n"
     ]
    },
    {
     "data": {
      "text/html": [
       "<div>\n",
       "<style scoped>\n",
       "    .dataframe tbody tr th:only-of-type {\n",
       "        vertical-align: middle;\n",
       "    }\n",
       "\n",
       "    .dataframe tbody tr th {\n",
       "        vertical-align: top;\n",
       "    }\n",
       "\n",
       "    .dataframe thead th {\n",
       "        text-align: right;\n",
       "    }\n",
       "</style>\n",
       "<table border=\"1\" class=\"dataframe\">\n",
       "  <thead>\n",
       "    <tr style=\"text-align: right;\">\n",
       "      <th></th>\n",
       "      <th>statusId</th>\n",
       "      <th>resultId</th>\n",
       "      <th>raceId</th>\n",
       "      <th>points</th>\n",
       "      <th>round</th>\n",
       "      <th>circuitId</th>\n",
       "      <th>status_Finished</th>\n",
       "      <th>status_+1 Lap</th>\n",
       "      <th>status_Engine</th>\n",
       "      <th>status_Accident</th>\n",
       "      <th>...</th>\n",
       "      <th>name_European Grand Prix</th>\n",
       "      <th>name_United States Grand Prix</th>\n",
       "      <th>name_Chinese Grand Prix</th>\n",
       "      <th>name_Italian Grand Prix</th>\n",
       "      <th>name_French Grand Prix</th>\n",
       "      <th>name_Japanese Grand Prix</th>\n",
       "      <th>name_British Grand Prix</th>\n",
       "      <th>name_Austrian Grand Prix</th>\n",
       "      <th>name_Turkish Grand Prix</th>\n",
       "      <th>name_Singapore Grand Prix</th>\n",
       "    </tr>\n",
       "  </thead>\n",
       "  <tbody>\n",
       "    <tr>\n",
       "      <th>0</th>\n",
       "      <td>0.000000</td>\n",
       "      <td>0.118509</td>\n",
       "      <td>0.122581</td>\n",
       "      <td>1.0</td>\n",
       "      <td>0.117647</td>\n",
       "      <td>0.090909</td>\n",
       "      <td>1.0</td>\n",
       "      <td>0.0</td>\n",
       "      <td>0.0</td>\n",
       "      <td>0.0</td>\n",
       "      <td>...</td>\n",
       "      <td>0.0</td>\n",
       "      <td>0.0</td>\n",
       "      <td>0.0</td>\n",
       "      <td>0.0</td>\n",
       "      <td>0.0</td>\n",
       "      <td>0.0</td>\n",
       "      <td>0.0</td>\n",
       "      <td>0.0</td>\n",
       "      <td>0.0</td>\n",
       "      <td>0.0</td>\n",
       "    </tr>\n",
       "    <tr>\n",
       "      <th>1</th>\n",
       "      <td>0.454545</td>\n",
       "      <td>0.366524</td>\n",
       "      <td>0.361290</td>\n",
       "      <td>0.0</td>\n",
       "      <td>0.235294</td>\n",
       "      <td>0.136364</td>\n",
       "      <td>0.0</td>\n",
       "      <td>1.0</td>\n",
       "      <td>0.0</td>\n",
       "      <td>0.0</td>\n",
       "      <td>...</td>\n",
       "      <td>0.0</td>\n",
       "      <td>0.0</td>\n",
       "      <td>0.0</td>\n",
       "      <td>0.0</td>\n",
       "      <td>0.0</td>\n",
       "      <td>0.0</td>\n",
       "      <td>0.0</td>\n",
       "      <td>0.0</td>\n",
       "      <td>0.0</td>\n",
       "      <td>0.0</td>\n",
       "    </tr>\n",
       "    <tr>\n",
       "      <th>2</th>\n",
       "      <td>0.000000</td>\n",
       "      <td>0.800855</td>\n",
       "      <td>0.812903</td>\n",
       "      <td>0.2</td>\n",
       "      <td>0.235294</td>\n",
       "      <td>0.136364</td>\n",
       "      <td>1.0</td>\n",
       "      <td>0.0</td>\n",
       "      <td>0.0</td>\n",
       "      <td>0.0</td>\n",
       "      <td>...</td>\n",
       "      <td>0.0</td>\n",
       "      <td>0.0</td>\n",
       "      <td>0.0</td>\n",
       "      <td>0.0</td>\n",
       "      <td>0.0</td>\n",
       "      <td>0.0</td>\n",
       "      <td>0.0</td>\n",
       "      <td>0.0</td>\n",
       "      <td>0.0</td>\n",
       "      <td>0.0</td>\n",
       "    </tr>\n",
       "    <tr>\n",
       "      <th>3</th>\n",
       "      <td>0.181818</td>\n",
       "      <td>0.972816</td>\n",
       "      <td>0.974194</td>\n",
       "      <td>0.0</td>\n",
       "      <td>0.705882</td>\n",
       "      <td>0.545455</td>\n",
       "      <td>0.0</td>\n",
       "      <td>0.0</td>\n",
       "      <td>1.0</td>\n",
       "      <td>0.0</td>\n",
       "      <td>...</td>\n",
       "      <td>0.0</td>\n",
       "      <td>0.0</td>\n",
       "      <td>0.0</td>\n",
       "      <td>0.0</td>\n",
       "      <td>0.0</td>\n",
       "      <td>0.0</td>\n",
       "      <td>0.0</td>\n",
       "      <td>0.0</td>\n",
       "      <td>0.0</td>\n",
       "      <td>0.0</td>\n",
       "    </tr>\n",
       "    <tr>\n",
       "      <th>4</th>\n",
       "      <td>0.090909</td>\n",
       "      <td>0.344838</td>\n",
       "      <td>0.335484</td>\n",
       "      <td>0.0</td>\n",
       "      <td>0.000000</td>\n",
       "      <td>0.000000</td>\n",
       "      <td>0.0</td>\n",
       "      <td>0.0</td>\n",
       "      <td>0.0</td>\n",
       "      <td>1.0</td>\n",
       "      <td>...</td>\n",
       "      <td>0.0</td>\n",
       "      <td>0.0</td>\n",
       "      <td>0.0</td>\n",
       "      <td>0.0</td>\n",
       "      <td>0.0</td>\n",
       "      <td>0.0</td>\n",
       "      <td>0.0</td>\n",
       "      <td>0.0</td>\n",
       "      <td>0.0</td>\n",
       "      <td>0.0</td>\n",
       "    </tr>\n",
       "  </tbody>\n",
       "</table>\n",
       "<p>5 rows × 41 columns</p>\n",
       "</div>"
      ],
      "text/plain": [
       "   statusId  resultId    raceId  points     round  circuitId  status_Finished  \\\n",
       "0  0.000000  0.118509  0.122581     1.0  0.117647   0.090909              1.0   \n",
       "1  0.454545  0.366524  0.361290     0.0  0.235294   0.136364              0.0   \n",
       "2  0.000000  0.800855  0.812903     0.2  0.235294   0.136364              1.0   \n",
       "3  0.181818  0.972816  0.974194     0.0  0.705882   0.545455              0.0   \n",
       "4  0.090909  0.344838  0.335484     0.0  0.000000   0.000000              0.0   \n",
       "\n",
       "   status_+1 Lap  status_Engine  status_Accident  ...  \\\n",
       "0            0.0            0.0              0.0  ...   \n",
       "1            1.0            0.0              0.0  ...   \n",
       "2            0.0            0.0              0.0  ...   \n",
       "3            0.0            1.0              0.0  ...   \n",
       "4            0.0            0.0              1.0  ...   \n",
       "\n",
       "   name_European Grand Prix  name_United States Grand Prix  \\\n",
       "0                       0.0                            0.0   \n",
       "1                       0.0                            0.0   \n",
       "2                       0.0                            0.0   \n",
       "3                       0.0                            0.0   \n",
       "4                       0.0                            0.0   \n",
       "\n",
       "   name_Chinese Grand Prix  name_Italian Grand Prix  name_French Grand Prix  \\\n",
       "0                      0.0                      0.0                     0.0   \n",
       "1                      0.0                      0.0                     0.0   \n",
       "2                      0.0                      0.0                     0.0   \n",
       "3                      0.0                      0.0                     0.0   \n",
       "4                      0.0                      0.0                     0.0   \n",
       "\n",
       "   name_Japanese Grand Prix  name_British Grand Prix  \\\n",
       "0                       0.0                      0.0   \n",
       "1                       0.0                      0.0   \n",
       "2                       0.0                      0.0   \n",
       "3                       0.0                      0.0   \n",
       "4                       0.0                      0.0   \n",
       "\n",
       "   name_Austrian Grand Prix  name_Turkish Grand Prix  \\\n",
       "0                       0.0                      0.0   \n",
       "1                       0.0                      0.0   \n",
       "2                       0.0                      0.0   \n",
       "3                       0.0                      0.0   \n",
       "4                       0.0                      0.0   \n",
       "\n",
       "   name_Singapore Grand Prix  \n",
       "0                        0.0  \n",
       "1                        0.0  \n",
       "2                        0.0  \n",
       "3                        0.0  \n",
       "4                        0.0  \n",
       "\n",
       "[5 rows x 41 columns]"
      ]
     },
     "execution_count": 206,
     "metadata": {},
     "output_type": "execute_result"
    }
   ],
   "source": [
    "# examine X_train_scaled_mms, as it has the best fit and model performance among the 3 methods\n",
    "\n",
    "print(X_train_scaled_mms.shape)\n",
    "print(type(X_train_scaled_mms))\n",
    "X_train_scaled_mms[0:5]"
   ]
  },
  {
   "cell_type": "code",
   "execution_count": 207,
   "metadata": {},
   "outputs": [
    {
     "name": "stdout",
     "output_type": "stream",
     "text": [
      "(41, 41)\n",
      "<class 'pandas.core.frame.DataFrame'>\n"
     ]
    },
    {
     "data": {
      "text/html": [
       "<div>\n",
       "<style scoped>\n",
       "    .dataframe tbody tr th:only-of-type {\n",
       "        vertical-align: middle;\n",
       "    }\n",
       "\n",
       "    .dataframe tbody tr th {\n",
       "        vertical-align: top;\n",
       "    }\n",
       "\n",
       "    .dataframe thead th {\n",
       "        text-align: right;\n",
       "    }\n",
       "</style>\n",
       "<table border=\"1\" class=\"dataframe\">\n",
       "  <thead>\n",
       "    <tr style=\"text-align: right;\">\n",
       "      <th></th>\n",
       "      <th>statusId</th>\n",
       "      <th>resultId</th>\n",
       "      <th>raceId</th>\n",
       "      <th>points</th>\n",
       "      <th>round</th>\n",
       "      <th>circuitId</th>\n",
       "      <th>status_Finished</th>\n",
       "      <th>status_+1 Lap</th>\n",
       "      <th>status_Engine</th>\n",
       "      <th>status_Accident</th>\n",
       "      <th>...</th>\n",
       "      <th>name_European Grand Prix</th>\n",
       "      <th>name_United States Grand Prix</th>\n",
       "      <th>name_Chinese Grand Prix</th>\n",
       "      <th>name_Italian Grand Prix</th>\n",
       "      <th>name_French Grand Prix</th>\n",
       "      <th>name_Japanese Grand Prix</th>\n",
       "      <th>name_British Grand Prix</th>\n",
       "      <th>name_Austrian Grand Prix</th>\n",
       "      <th>name_Turkish Grand Prix</th>\n",
       "      <th>name_Singapore Grand Prix</th>\n",
       "    </tr>\n",
       "  </thead>\n",
       "  <tbody>\n",
       "    <tr>\n",
       "      <th>0</th>\n",
       "      <td>0.454545</td>\n",
       "      <td>0.869578</td>\n",
       "      <td>0.877419</td>\n",
       "      <td>0.0</td>\n",
       "      <td>0.823529</td>\n",
       "      <td>0.590909</td>\n",
       "      <td>0.0</td>\n",
       "      <td>1.0</td>\n",
       "      <td>0.0</td>\n",
       "      <td>0.0</td>\n",
       "      <td>...</td>\n",
       "      <td>0.0</td>\n",
       "      <td>0.0</td>\n",
       "      <td>0.0</td>\n",
       "      <td>1.0</td>\n",
       "      <td>0.0</td>\n",
       "      <td>0.0</td>\n",
       "      <td>0.0</td>\n",
       "      <td>0.0</td>\n",
       "      <td>0.0</td>\n",
       "      <td>0.0</td>\n",
       "    </tr>\n",
       "    <tr>\n",
       "      <th>1</th>\n",
       "      <td>0.454545</td>\n",
       "      <td>0.549481</td>\n",
       "      <td>0.554839</td>\n",
       "      <td>0.0</td>\n",
       "      <td>0.882353</td>\n",
       "      <td>0.727273</td>\n",
       "      <td>0.0</td>\n",
       "      <td>1.0</td>\n",
       "      <td>0.0</td>\n",
       "      <td>0.0</td>\n",
       "      <td>...</td>\n",
       "      <td>0.0</td>\n",
       "      <td>0.0</td>\n",
       "      <td>1.0</td>\n",
       "      <td>0.0</td>\n",
       "      <td>0.0</td>\n",
       "      <td>0.0</td>\n",
       "      <td>0.0</td>\n",
       "      <td>0.0</td>\n",
       "      <td>0.0</td>\n",
       "      <td>0.0</td>\n",
       "    </tr>\n",
       "    <tr>\n",
       "      <th>2</th>\n",
       "      <td>0.000000</td>\n",
       "      <td>0.206781</td>\n",
       "      <td>0.206452</td>\n",
       "      <td>0.4</td>\n",
       "      <td>0.882353</td>\n",
       "      <td>0.727273</td>\n",
       "      <td>1.0</td>\n",
       "      <td>0.0</td>\n",
       "      <td>0.0</td>\n",
       "      <td>0.0</td>\n",
       "      <td>...</td>\n",
       "      <td>0.0</td>\n",
       "      <td>0.0</td>\n",
       "      <td>1.0</td>\n",
       "      <td>0.0</td>\n",
       "      <td>0.0</td>\n",
       "      <td>0.0</td>\n",
       "      <td>0.0</td>\n",
       "      <td>0.0</td>\n",
       "      <td>0.0</td>\n",
       "      <td>0.0</td>\n",
       "    </tr>\n",
       "    <tr>\n",
       "      <th>3</th>\n",
       "      <td>0.000000</td>\n",
       "      <td>0.074832</td>\n",
       "      <td>0.077419</td>\n",
       "      <td>0.8</td>\n",
       "      <td>0.764706</td>\n",
       "      <td>0.590909</td>\n",
       "      <td>1.0</td>\n",
       "      <td>0.0</td>\n",
       "      <td>0.0</td>\n",
       "      <td>0.0</td>\n",
       "      <td>...</td>\n",
       "      <td>0.0</td>\n",
       "      <td>0.0</td>\n",
       "      <td>0.0</td>\n",
       "      <td>1.0</td>\n",
       "      <td>0.0</td>\n",
       "      <td>0.0</td>\n",
       "      <td>0.0</td>\n",
       "      <td>0.0</td>\n",
       "      <td>0.0</td>\n",
       "      <td>0.0</td>\n",
       "    </tr>\n",
       "    <tr>\n",
       "      <th>4</th>\n",
       "      <td>0.136364</td>\n",
       "      <td>0.819181</td>\n",
       "      <td>0.825806</td>\n",
       "      <td>0.0</td>\n",
       "      <td>0.352941</td>\n",
       "      <td>0.227273</td>\n",
       "      <td>0.0</td>\n",
       "      <td>0.0</td>\n",
       "      <td>0.0</td>\n",
       "      <td>0.0</td>\n",
       "      <td>...</td>\n",
       "      <td>0.0</td>\n",
       "      <td>0.0</td>\n",
       "      <td>0.0</td>\n",
       "      <td>0.0</td>\n",
       "      <td>0.0</td>\n",
       "      <td>0.0</td>\n",
       "      <td>0.0</td>\n",
       "      <td>0.0</td>\n",
       "      <td>0.0</td>\n",
       "      <td>0.0</td>\n",
       "    </tr>\n",
       "  </tbody>\n",
       "</table>\n",
       "<p>5 rows × 41 columns</p>\n",
       "</div>"
      ],
      "text/plain": [
       "   statusId  resultId    raceId  points     round  circuitId  status_Finished  \\\n",
       "0  0.454545  0.869578  0.877419     0.0  0.823529   0.590909              0.0   \n",
       "1  0.454545  0.549481  0.554839     0.0  0.882353   0.727273              0.0   \n",
       "2  0.000000  0.206781  0.206452     0.4  0.882353   0.727273              1.0   \n",
       "3  0.000000  0.074832  0.077419     0.8  0.764706   0.590909              1.0   \n",
       "4  0.136364  0.819181  0.825806     0.0  0.352941   0.227273              0.0   \n",
       "\n",
       "   status_+1 Lap  status_Engine  status_Accident  ...  \\\n",
       "0            1.0            0.0              0.0  ...   \n",
       "1            1.0            0.0              0.0  ...   \n",
       "2            0.0            0.0              0.0  ...   \n",
       "3            0.0            0.0              0.0  ...   \n",
       "4            0.0            0.0              0.0  ...   \n",
       "\n",
       "   name_European Grand Prix  name_United States Grand Prix  \\\n",
       "0                       0.0                            0.0   \n",
       "1                       0.0                            0.0   \n",
       "2                       0.0                            0.0   \n",
       "3                       0.0                            0.0   \n",
       "4                       0.0                            0.0   \n",
       "\n",
       "   name_Chinese Grand Prix  name_Italian Grand Prix  name_French Grand Prix  \\\n",
       "0                      0.0                      1.0                     0.0   \n",
       "1                      1.0                      0.0                     0.0   \n",
       "2                      1.0                      0.0                     0.0   \n",
       "3                      0.0                      1.0                     0.0   \n",
       "4                      0.0                      0.0                     0.0   \n",
       "\n",
       "   name_Japanese Grand Prix  name_British Grand Prix  \\\n",
       "0                       0.0                      0.0   \n",
       "1                       0.0                      0.0   \n",
       "2                       0.0                      0.0   \n",
       "3                       0.0                      0.0   \n",
       "4                       0.0                      0.0   \n",
       "\n",
       "   name_Austrian Grand Prix  name_Turkish Grand Prix  \\\n",
       "0                       0.0                      0.0   \n",
       "1                       0.0                      0.0   \n",
       "2                       0.0                      0.0   \n",
       "3                       0.0                      0.0   \n",
       "4                       0.0                      0.0   \n",
       "\n",
       "   name_Singapore Grand Prix  \n",
       "0                        0.0  \n",
       "1                        0.0  \n",
       "2                        0.0  \n",
       "3                        0.0  \n",
       "4                        0.0  \n",
       "\n",
       "[5 rows x 41 columns]"
      ]
     },
     "execution_count": 207,
     "metadata": {},
     "output_type": "execute_result"
    }
   ],
   "source": [
    "# lets examine X_test_scaled_mms\n",
    "\n",
    "print(X_test_scaled_mms.shape)\n",
    "print(type(X_test_scaled_mms))\n",
    "X_test_scaled_mms[0:5]"
   ]
  },
  {
   "cell_type": "code",
   "execution_count": 208,
   "metadata": {},
   "outputs": [
    {
     "name": "stdout",
     "output_type": "stream",
     "text": [
      "(93,)\n",
      "<class 'pandas.core.series.Series'>\n"
     ]
    },
    {
     "data": {
      "text/plain": [
       "180      1\n",
       "1522    11\n",
       "1292     1\n",
       "1764     5\n",
       "1514     3\n",
       "Name: statusId, dtype: int64"
      ]
     },
     "execution_count": 208,
     "metadata": {},
     "output_type": "execute_result"
    }
   ],
   "source": [
    "# lets examine y_train\n",
    "\n",
    "print(y_train.shape)\n",
    "print(type(y_train))\n",
    "y_train[0:5]"
   ]
  },
  {
   "cell_type": "code",
   "execution_count": 209,
   "metadata": {},
   "outputs": [
    {
     "name": "stdout",
     "output_type": "stream",
     "text": [
      "(41,)\n",
      "<class 'pandas.core.series.Series'>\n"
     ]
    },
    {
     "data": {
      "text/plain": [
       "1716    11\n",
       "1597    11\n",
       "1207     1\n",
       "114      1\n",
       "1744     4\n",
       "Name: statusId, dtype: int64"
      ]
     },
     "execution_count": 209,
     "metadata": {},
     "output_type": "execute_result"
    }
   ],
   "source": [
    "# lets examine y_test\n",
    "\n",
    "print(y_test.shape)\n",
    "print(type(y_test))\n",
    "y_test[0:5]"
   ]
  },
  {
   "cell_type": "markdown",
   "metadata": {},
   "source": [
    "Num of rows/cols should be same between X_train_scaled_mms, y_train / X_test_scaled_mms, y_test"
   ]
  },
  {
   "cell_type": "code",
   "execution_count": 210,
   "metadata": {},
   "outputs": [],
   "source": [
    "# Naive Baseline model - classification"
   ]
  },
  {
   "cell_type": "code",
   "execution_count": 211,
   "metadata": {},
   "outputs": [
    {
     "name": "stdout",
     "output_type": "stream",
     "text": [
      "ModeResult(mode=array([11], dtype=int64), count=array([28]))\n"
     ]
    }
   ],
   "source": [
    "import numpy as np\n",
    "from scipy import stats\n",
    "\n",
    "# pick the modal class from train data\n",
    "print(stats.mode(y_train))\n",
    "\n",
    "modal_class_label = stats.mode(y_train)[0]"
   ]
  },
  {
   "cell_type": "code",
   "execution_count": 212,
   "metadata": {},
   "outputs": [
    {
     "data": {
      "text/plain": [
       "[11, 11, 11, 11, 11]"
      ]
     },
     "execution_count": 212,
     "metadata": {},
     "output_type": "execute_result"
    }
   ],
   "source": [
    "y_train_preds_naive = [int(modal_class_label) for row in X_train.iloc[:,0]]\n",
    "y_train_preds_naive[0:5]"
   ]
  },
  {
   "cell_type": "code",
   "execution_count": 213,
   "metadata": {},
   "outputs": [
    {
     "data": {
      "text/plain": [
       "[11, 11, 11, 11, 11]"
      ]
     },
     "execution_count": 213,
     "metadata": {},
     "output_type": "execute_result"
    }
   ],
   "source": [
    "y_test_preds_naive = [int(modal_class_label) for row in X_test.iloc[:,0]]\n",
    "y_test_preds_naive[0:5]"
   ]
  },
  {
   "cell_type": "code",
   "execution_count": 214,
   "metadata": {},
   "outputs": [
    {
     "name": "stdout",
     "output_type": "stream",
     "text": [
      "The Naive Baseline Model's accuracy on train data is 30.11%.\n",
      "The Naive Baseline Model's accuracy on test data is 39.02%.\n"
     ]
    }
   ],
   "source": [
    "# scoring accuracy of model\n",
    "# note that other metrics exist, eg. AUC-ROC, Confusion Matrix-Based Metrics, but these matter more for imbalanced data\n",
    "# where classes don't share same representation, eg. class 0 is 80%, class 1 is 10%, class 2 is 10%\n",
    "# and are advanced Machine Learning topics\n",
    "\n",
    "from sklearn.metrics import accuracy_score\n",
    "\n",
    "# train accuracy score\n",
    "y_true = y_train\n",
    "y_pred = y_train_preds_naive\n",
    "\n",
    "train_accuracy_naive = accuracy_score(y_true, y_pred) * 100\n",
    "print(f\"The Naive Baseline Model's accuracy on train data is {train_accuracy_naive:.2f}%.\")\n",
    "\n",
    "# test accuracy score\n",
    "y_true = y_test\n",
    "y_pred = y_test_preds_naive\n",
    "\n",
    "test_accuracy_naive = accuracy_score(y_true, y_pred) * 100\n",
    "print(f\"The Naive Baseline Model's accuracy on test data is {test_accuracy_naive:.2f}%.\")"
   ]
  },
  {
   "cell_type": "code",
   "execution_count": null,
   "metadata": {},
   "outputs": [],
   "source": []
  },
  {
   "cell_type": "code",
   "execution_count": 215,
   "metadata": {},
   "outputs": [],
   "source": [
    "# Decision Tree Model"
   ]
  },
  {
   "cell_type": "code",
   "execution_count": 216,
   "metadata": {},
   "outputs": [
    {
     "data": {
      "text/plain": [
       "DecisionTreeClassifier(random_state=404)"
      ]
     },
     "execution_count": 216,
     "metadata": {},
     "output_type": "execute_result"
    }
   ],
   "source": [
    "from sklearn.tree import DecisionTreeClassifier\n",
    "\n",
    "dtree = DecisionTreeClassifier(random_state=404)\n",
    "dtree.fit(X_train_scaled_mms, y_train)"
   ]
  },
  {
   "cell_type": "code",
   "execution_count": 217,
   "metadata": {},
   "outputs": [],
   "source": [
    "y_train_preds_dtree = dtree.predict(X_train_scaled_mms)\n",
    "y_test_preds_dtree = dtree.predict(X_test_scaled_mms)"
   ]
  },
  {
   "cell_type": "code",
   "execution_count": 218,
   "metadata": {},
   "outputs": [
    {
     "name": "stdout",
     "output_type": "stream",
     "text": [
      "The DTree Model's accuracy on train data is 100.00%.\n",
      "The DTRee Model's accuracy on test data is 87.80%.\n"
     ]
    }
   ],
   "source": [
    "# train accuracy score\n",
    "\n",
    "from sklearn.metrics import accuracy_score\n",
    "\n",
    "y_true = y_train\n",
    "y_pred = y_train_preds_dtree\n",
    "\n",
    "train_accuracy_dtree = accuracy_score(y_true, y_pred) * 100\n",
    "print(f\"The DTree Model's accuracy on train data is {train_accuracy_dtree:.2f}%.\")\n",
    "\n",
    "# test accuracy score\n",
    "y_true = y_test\n",
    "y_pred = y_test_preds_dtree\n",
    "\n",
    "test_accuracy_dtree = accuracy_score(y_true, y_pred) * 100\n",
    "print(f\"The DTRee Model's accuracy on test data is {test_accuracy_dtree:.2f}%.\")"
   ]
  },
  {
   "cell_type": "code",
   "execution_count": null,
   "metadata": {},
   "outputs": [],
   "source": []
  },
  {
   "cell_type": "markdown",
   "metadata": {},
   "source": [
    "### Report"
   ]
  },
  {
   "cell_type": "markdown",
   "metadata": {},
   "source": [
    "# Table Of Contents <a id=\"TableOfContents\"></a>\n",
    "#### 1. [Introduction with Value Based Problem Statement](#Introduction)\n",
    "\n",
    "#### 2. [Problem Formulation](#ProblemFormulation)\n",
    "- Load and Explore the Data\n",
    "- Understand the Data\n",
    "- Formulate a Prediction Problem\n",
    "\n",
    "#### 3. [Data Wrangling on multiple tables](#DataWrangling) \n",
    "- Extract and Create features from different tables\n",
    "- Concatenate, Merge or Join the tables\n",
    "\n",
    "#### 4. [Data Cleansing and Transformation](#DataTransformation) \n",
    "- Missing Value and Outliers\n",
    "- Categorical Data\n",
    "- Numerical Data\n",
    "- Others \n",
    "\n",
    "#### 5. [Machine Learning Model](#MachineLearningModel)\n",
    "- Feature Scaling\n",
    "- Create new features / Drop features\n",
    "\n",
    "#### 6. [Summary and Further Improvements](#Summaries)\n",
    "- Summary of findings\n",
    "- Explanation of the possible further improvments"
   ]
  },
  {
   "cell_type": "markdown",
   "metadata": {},
   "source": [
    "## 1. Introduction with Value Based Problem Statement <a id=\"Introduction\"></a>\n",
    "\n",
    "[back to Table Of Contents](#TableOfContents)\n",
    "    \n",
    "This report is to provide detailed analysis on comparison, discussion, along with insights to the database provided. \n",
    "\n",
    "The Formula 1 (F1) database is from Ergast, which is a webservice that provides a database for F1 races; starting from \n",
    "the 1950 session until today. The dataset collected includes information such as the time taken in each lap, the time \n",
    "taken for pit stops, the performance in the qualifying round and more of all the F1 races. \n",
    "In addition, the datasets provided has a total number of 13 csv files / tables, as shown below:\n",
    "\n",
    "Data csv files / tables |\n",
    "--- |\n",
    "circuits |\n",
    "constructorResults |\n",
    "constructorStandings |\n",
    "constructors |\n",
    "driverStandings |\n",
    "drivers |\n",
    "laptimes |\n",
    "pitStops |\n",
    "qualifying |\n",
    "racess |\n",
    "results |\n",
    "seasons |\n",
    "status |\n",
    "    \n",
    "With that, using the dataset provided, the aim is to predict whether Driver Nick Heidfeld will finish in a race. \n",
    "This aim allows the f1 team for the driver, Nick Heidfeld, to understand how they fair based on previous races.\n",
    "In addition, fans of Nick Heidfeld would be interested in this prediction as well while watching his races. \n",
    "\n",
    "To be able to do so, I used techniques in problem formulation, along with data wrangling on multiple tables, \n",
    "and data cleansing with transformation. Lastly, I used a Machine Learning model to help answer the prediction problem. \n"
   ]
  },
  {
   "cell_type": "markdown",
   "metadata": {},
   "source": [
    "## 2. Problem Formulation <a id=\"ProblemFormulation\"></a>\n",
    "\n",
    "[back to Table Of Contents](#TableOfContents)\n",
    "\n",
    "Before formulating the problem, I had to load and explore the data, along with understanding the data. \n",
    "    \n",
    "### Load and Explore the Data\n",
    "To start off, I loaded the 13 csv, using the function pd.read_csv() to read the csv file. Afterwards, I used the \n",
    "function .head() to display the first five rows to ensure that the dataset was loaded correctly. In addition, I used the\n",
    "functions .info() and .describe() to find more details, such as dtypes and non-null count of the table. Lastly, for the \n",
    "columns that I am more interested in, I used the function .shape() to find the shape, which is the number of rows and \n",
    "columns, of the table.\n",
    "\n",
    "### Understand the Data\n",
    "The tables that I am more interested in are: drivers_data, results_data, status_mod and races_data.\n",
    "\n",
    "Firstly, drivers_data contains details such as driverId, drvierRef, number, code, forename, surname, dob, nationality \n",
    "and url (to their personal information on Wikipedia). There are both int64 and object dtypes. I am interested in this \n",
    "table as it is necessary to know important driver details such as driverId, that uniquely represents each driver, and \n",
    "thus would be important in my prediction problem.\n",
    "\n",
    "Secondly, results_data contains details such as resultId, raceId, driverId, constructorId, number, grid, position, \n",
    "positionText, positionOrder, points, laps, time, milliseconds, fastestLapTime, rank, fastestLapSpeed, and statusId. \n",
    "There are various dtypes in this table such as int64, object, and float64. I am interested in this table as it provides \n",
    "the overall results obtained by the driver, and it has statusId to give the status of the driver. \n",
    "\n",
    "Thirdly, status_mod contains details such as statusId and status. There are both int64 and object dtypes. I am interested\n",
    "in this table as since I am concern whether the driver finishes the race, it is under the status category. \n",
    "\n",
    "Lastly, races_data contains details such as raceId, round, circuitId, name, date, time, and url \n",
    "(to more information about the race on Wikipedia). There are both int64 and object dtypes. I am interested in this \n",
    "table because it provides the name of each race through raceId. Additionally, through the function sort_values(), \n",
    "I found that the latest race provided is in 2012. \n",
    "\n",
    "\n",
    "### Formulate a Prediction Problem\n",
    "From these tables, I formulated a prediction problem, whereby the aim is to predict whether Driver Nick Heidfeld \n",
    "finishes the race. With the columns containing variables such as driverId, statusId, and resultId, they would aid me \n",
    "in solving this prediction problem.  "
   ]
  },
  {
   "cell_type": "markdown",
   "metadata": {},
   "source": [
    "## 3. Data Wrangling on multiple tables <a id=\"DataWrangling\"></a>\n",
    "\n",
    "[back to Table Of Contents](#TableOfContents)\n",
    "\n",
    "With a Prediction Problem formulated, I created a Tabular Data table by extracting data from multiple tables, using \n",
    "techniques such as subsetting and filtering the tables, mering the tables, attempting to create a time series data. \n",
    "    \n",
    "### Extract and Create features from different tables\n",
    "add stuff here\n",
    "\n",
    "Firstly, for the drivers_data table, I subset it into 3 columns, driverId, forename, surname to only the first 11 rows, \n",
    "through the function .loc[]. From here, I understood that the driverId for Nick Heidfeld is 2. Moving on, for the \n",
    "results_data, I subset it to the follow columns instead; resultId, driverId, raceId, points, fastestLapTime and \n",
    "statusId, which I then assigned it to an object results_cols. Now, the table result_cols has 25399 rows x 6 columns.\n",
    "\n",
    "For the races_data, I subset it into 6 columns, which are raceId, round, circuitId, name, date and time, which I then \n",
    "assigned it to an object race_cols. Now the table race_cols has 1080 rows x 6 columns. \n",
    "\n",
    "Additionally, for the status_mod, I did not need to create new features as it only has 2 columns, both of which are \n",
    "important. Hence now, the table has only 137 rows x 2 columns. \n",
    "    \n",
    "Table | rows x columns\n",
    "--- | ---\n",
    "drivers_data | 11 x 3\n",
    "result_cols | 25399 x 6\n",
    "race_cols | 1080 x 6\n",
    "status_mod | 137 x 2\n",
    "    \n",
    "### Concatenate, Merge or Join the tables\n",
    "add stuff here\n",
    "To form my tabular data table, driver_results, I started off by merging drivers_data and results_cols on driverId and \n",
    "inner join, which I then assign to the object, driver_results. Now the dataset has 1826 rows x 8 columns. I merged the \n",
    "two tables first as it would contain variables such as statusId and raceId. Moving on, I merge driver_results and \n",
    "status_mod on statusId (from results_cols) and inner join, assigning it to the same object, driver_results. \n",
    "Now the dataset has 1826 rows x 9 columns. Lastly, I merged driver_results and race_cols on raceId and inner join, \n",
    "which is assigned to the object driver_results. Now the dataset has 1826 rows x 14 columns. \n",
    "\n",
    "After merging the tables and only interested in Driver Nick Heidfeld, I filtered the driver_results table whereby \n",
    "driverId == 2, which is the driverId that represents Nick Heidfeld as found earlier. The table now has \n",
    "184 rows x 14 columns. \n",
    "\n",
    "Now that the whole table represents only for Driver Nick Heidfeld, I dropped columns such as driverId, \n",
    "forename, surname, date, time, fastestLapTime as it would not really be needed to predict whether the Driver Nick \n",
    "Heidfeld finishes the race. Now the table has 184 rows x 8 columns.  \n",
    "    \n",
    "Final table shape | \n",
    "--- | \n",
    "184 rows x 8 columns | \n"
   ]
  },
  {
   "cell_type": "markdown",
   "metadata": {},
   "source": [
    "## 4. Data Cleansing and Transformation <a id=\"DataTransformation\"></a>\n",
    "\n",
    "[back to Table Of Contents](#TableOfContents)\n",
    "\n",
    "After wrangling on multiple tables, I cleanse and transform the tabular data before feeding it into the Machine Learning\n",
    "Models. I used techniques such as outliers removal/capping, categorical data encoding, numerical data transformation, \n",
    "discretization, and feature scaling. \n",
    "\n",
    "### Missing Value and Outliers\n",
    "For my tabular dataset, even though there were no missing values (null values), there were outliers in variables such as\n",
    "resultId, raceId, points, statusId, circuitId, and round. \n",
    "\n",
    "To start trimming outliers, I used a user-defined function called find_boundaries, to find the upper and lower boundary,\n",
    "which will be assigned to variables upper_boundary and lower_boundary respectively. Furthermore, the interquartile range\n",
    "(IQR), which is derived by the calculation: IQR = df[variable].quantile(0.75) - df[variable].quantile(0.25).\n",
    "Hence the limits for the respective variables are as follow:\n",
    "\n",
    "Variables | Limits (upper, lower)\n",
    "--- | ---\n",
    "[points](#points) | (5.0, -3.0)\n",
    "[resultId](#resultId) | (5936.875, -1844.125)\n",
    "[raceId](#raceId)| (256.5, -59.5)\n",
    "[statusId](#statusId) | (26.0, -14.0)\n",
    "\n",
    "\n",
    "### Categorical Data <a id=\"CategoricalData\"></a>\n",
    "For the categorical data, there are 2 variables, status, and name. By using the functions.isnull().mean().sort_values(),\n",
    "I found that there were no null values for categorical variables. I then separate the data into training (70%) and \n",
    "testing (30%) sets using the train_test_split technique, with the target variable being statusId.\n",
    "\n",
    "For the categorical data encoding, I used various coding methods such as [One Hot Encoding](#OneHot), \n",
    "[Target mean encoding with Feature Engine](#Target), and [Ordinal integer encoding with Pandas](#OrdinalInteger) \n",
    "to encode my categorical data. And after comparing the results produced by each encoding method, I decided to use One \n",
    "Hot Encoding as it did not produce any null/nan values, which is crucial when feeding the dataset into the machine \n",
    "learning model.\n",
    "\n",
    "To start off, I created an encoder by importing OneHotEncoder from feature_engine.encoding. Then after, I used ohe_enc \n",
    "to fit the X_train and the function ohe_enc.variables_, to see the variables that the encoder will encode, which are \n",
    "the categorical variables; status and name. Afterwards, I used the functions  ohe_enc.transform() to transform the \n",
    "X_train and X_test respectively, and I used .head() to display the first 5 rows of the encoded dataset. \n",
    "    \n",
    "### Numerical Data <a id=\"NumericalData\"></a>\n",
    "For numerical data, there are 6 variables, which are: statusId, resultId, raceId, points, round, and circuitId. \n",
    "By using the functions .isnull().mean().sort_values(), I found that there were no null values for numerical variables as \n",
    "well. \n",
    "I then plot a histogram to show the distribution of numerical variables, which could be seen [here](#Distribution). \n",
    "As for the distribution, the variable statusId has a rightly skewed distribution, along with variables points. \n",
    "While the variables resultId, and raceId are distributed similarly, with an anomaly distribution. \n",
    "The variable round is distributed somewhat uniformly, and circuitId has a bimodal distribution. \n",
    "Below is a table to see clearly the various types of distribution for each numerical variable. \n",
    "\n",
    "Num Variables | Type of Distribution\n",
    "--- | ---\n",
    "statusId | rightly skewed (positively skewed)\n",
    "points | rightly skewed (positively skewed)\n",
    "resultId | anomaly\n",
    "raceId | anomaly\n",
    "round | uniform\n",
    "circuitId | bimodal\n",
    "\n",
    "After trimming the outliers and discovering their respective distribution, I used various transformations to transform \n",
    "selected variables such as points, round, circuitId. \n",
    "\n",
    "To start off, I used a user-defined functions called diagnostic_plots to aid in plotting histograms and Q-Q plots, \n",
    "for a look at the variable distribution. This function is extremely useful when comparing the before and after \n",
    "transformation. In addition, for all the transformations, I made a copy of the dataset to store the modified variables,\n",
    "in order to explore various types of transformations. \n",
    "\n",
    "\n",
    "### Others <a id=\"Others\"></a>\n",
    "Additionally, I added a heat map to explore the correlations between each numerical variable, which can be seen \n",
    "[here](#heatmap). Positive correlation are values nearer to 1, while negative correlation are values nearer to -1. \n",
    "For this heat map, lighter colors, such as yellow and green, represents positive correlations, while darker colors, \n",
    "such as dark blue and purple, represents negative correlations. The lighter the color, the more positive the \n",
    "correlation is, while the darker the color, the more negative the correlation is. Overall, the distribution between \n",
    "the number of positive correlation and negative correlation is somewhat fair, having almost equal number of each \n",
    "correlation. \n",
    "    \n",
    "For strong negative correlations, the color between points and statusId is dark purple, representing a value -0.51. \n",
    "In addition, the color between points and resultId, along with points and raceId is purple, representing a value of \n",
    "-0.48. Having a negative correlation means that the variables are indirectly proportional to each other. \n",
    "Below is a table to show the top 4 negative correlations:  \n",
    "\n",
    "Variables | Color | Correlation Value\n",
    "--- | --- | ---\n",
    "points & statusId | dark purple | -0.51\n",
    "points & resultId | purple | -0.48\n",
    "points & raceId | purple | -0.48\n",
    "circuitId & points | dark blue | -0.16\n",
    "    \n",
    "For strong positive correlations, the color between the raceId and results is yellow, which represents the value 1. \n",
    "However, based on the driver_results.corr() table, the correlation value between the 2 variables is 0.999877. \n",
    "Additionally, the color between resultId and statusId, along with raceId and statusId, is green, which represents the \n",
    "value 0.4. Furthermore, the color between circuitId and round is light green, which represents the value 0.5. \n",
    "Below is a table to show the top 4 positive correlations:\n",
    "\n",
    "Variables | Color | Correlation Value\n",
    "--- | --- | ---\n",
    "raceId & results | yellow | 1 (0.999877)\n",
    "circuitId & round | light green | 0.5\n",
    "resultId & statusId | green | 0.40\n",
    "raceId & statusId | green | 0.40\n",
    "\n",
    "Moving on, I did variable binning on variables such as points, round, and circuitId using the equal-width discretizer \n",
    "method.\n",
    "\n",
    "To start off, I set up an equal-width discretizer into 10 intervals and I stored the interval limits in the \n",
    "bin_edges_attribute. Following after, I transformed the train set with Sklearn returning Numpy arrays, and then \n",
    "transformed the array to a dataframe, which I then used the function .head() to show the first 5 rows. I repeated this \n",
    "step for the test set as well for a fair comparison. Lastly, I used a clustered bar chart to visualize the \n",
    "distributions in the train and test set, with the blue bar representing the train set and orange representing the \n",
    "test set.\n",
    "    \n",
    "For [points](#binningpoints), the distribution in the train set and test set are fairly similar, with the bars having \n",
    "almost equal number of observations per bin for each point. \n",
    "\n",
    "For [round](#binninground), the distribution in the train set and test set are not similar, with some having higher \n",
    "number of observations than the other, as shown by the uneven bars for each round value. \n",
    "\n",
    "For [circuitId](#binningcircuitId), the distribution in the train set and test set are not similar, as shown by the \n",
    "uneven bars for each circuitId value. \n",
    "    \n",
    "Lastly, to apply feature scaling on the dataset, I used various techniques such as Mean-normalization, Standardization \n",
    "from sklearn, and MinMaxScaling. \n",
    "\n",
    "For [Mean-normalization](#meannormal), I started by learning the mean from the trainset from the train set, followed \n",
    "by the min and max values, which is used to find the value range through this calculation: \n",
    "ranges = X_train.max(axis=0)-X_train.min(axis=0). Then after, I found the scale for the respective train and \n",
    "test by the calculation here: X_train_scaled_mn = (X_train - means) / ranges. Moving on, I compared between the \n",
    "X_train and X_triain_scaled_mn, where I found that X_train_scaled_mn has 93 rows x 41 columns. Finally, I compare the \n",
    "variable distributions before and after scaling with a few variables such as points, round, and circuitId. \n",
    "\n",
    "For [Standardization](#standardization), I started by setting up a scaler, which I then fit the scaler to the train \n",
    "set, where it will learn the parameters. Moving on, the scaler stores the mean, along with the standard deviation of \n",
    "the features learned from the train set. As such, I transformed the returned NumPy arrays to the dataframes and \n",
    "compared the variable distribution before and after scaling.\n",
    "\n",
    "For [MinMaxScaling](#minmax), similar to standardization, I started by setting up a scaler and then fitting it to the \n",
    "train set, where it will learn the parameters. The scaler would then store the maximum values of the feature, along \n",
    "with the minimum values. The scaler also stores the value range (max-min). As such, I transformed the returned NumPy \n",
    "arrays to the dataframes and compared the variable distribution before and after scaling. "
   ]
  },
  {
   "cell_type": "markdown",
   "metadata": {},
   "source": [
    "## 5. Machine Learning Model <a id=\"MachineLearningModel\"></a>\n",
    "\n",
    "[back to Table Of Contents](#TableOfContents)\n",
    "\n",
    "### Show Count of Rows and Columns\n",
    "My final dataset has 134 rows x 8 columns, as shown [here](#finalset) by using the display function. \n",
    "\n",
    "### Build and Evaluate the model against a Naïve Baseline Model\n",
    "For my machine learning model, I used a linear regression model, whereby is defined as a machine learning model in which\n",
    "the model finds the best fit linear line between the independent and dependent variables, along with the aim to find the\n",
    "best fit linear line and the optimal values of intercept and coefficients such that errors are minimized. Additionally, \n",
    "I used 2 ways to evaluate the model performance of a linear regression model, which are Root Mean Square Error (RMSE) \n",
    "and R-Square. \n",
    "\n",
    "RMSE is the square root of the variance of the residuals, and where the lower the RMSE values, the better fit and model \n",
    "performance. R-Square represents the percentage of the response variable variation that is explained by a linear model.\n",
    "The closer the value of R-Square is to 1.0, the better fit and model performance. \n",
    "\n",
    "Here is a table for comparison between the 3 feature scaling methods used in the previous step:\n",
    "\n",
    "For RMSE:\n",
    "    \n",
    "Type of Scaling | train results | test results\n",
    "--- | --- | ---\n",
    "Mean-normalization | 3.6134918884317314e-29 | 0.12410788785701897\n",
    "Standardization | 4.255607700530985e-29 | 0.23571505828876735\n",
    "MinMaxScaling | 2.5048454334598365e-29 | 0.1241078878570187\n",
    "\n",
    "For R-Square:\n",
    "    \n",
    "Type of Scaling | train results | test results\n",
    "--- | --- | ---\n",
    "Mean-normalization | 1.0 | 0.9955810946478089\n",
    "Standardization | 1.0 | 0.9916072817719347\n",
    "MinMaxScaling | 1.0 | 0.9955810946478089\n",
    "    \n",
    "After comparing the results, MinMaxScaling has the best fit and model performance among the 3 feature scaling methods \n",
    "used, as it has the lowest RMSE value and the highest R-Square value. \n",
    "\n",
    "For the naïve baseline model, it is a model for classification. I started by picking the modal class from the train \n",
    "data, which is 11, and I found y_train_preds_naive using the calculation: [int(modal_class_label) for row in X_train.\n",
    "iloc[:,0]]. Then after, I found the scoring accuracy of the model, which is 30.11% for the Naive Baseline Model's \n",
    "accuracy on train data and 39.02% for the Naive Baseline Model's accuracy on test data. \n",
    "\n",
    "In addition, I did a Decision Tree Model and its scoring accuracy of the model is 100.00% for the DTree Model's accuracy\n",
    "on train data and 87.80% for the DTRee Model's accuracy on test data. \n",
    "    \n",
    "For train data:\n",
    "    \n",
    "Model | Accuracy\n",
    "--- | ---\n",
    "Naïve Baseline (classification) | 30.11%\n",
    "Decision Tree | 100%\n",
    "    \n",
    "For test data:\n",
    "    \n",
    "Model | Accuracy\n",
    "--- | ---\n",
    "Naïve Baseline (classification) | 39.02%\n",
    "Decision Tree | 87.80%\n",
    "\n",
    "Comparing the linear regression model and the naïve baseline model, the linear regression model for the MinMaxScaling \n",
    "scaling is certainly better, given that the train_r-sq is 1.0 and test_r-sq is 0.9955. On the other hand, the accuracy \n",
    "for the naïve baseline model for classification is below 50%, which could indicate that the accuracy is not as good. \n",
    "In addition, the accuracy on the Decision Tree model is quite high, for both percentage is above 80%. \n"
   ]
  },
  {
   "cell_type": "markdown",
   "metadata": {},
   "source": [
    "## 6. Summary and Further Improvements <a id=\"Summaries\"></a>\n",
    "\n",
    "[back to Table Of Contents](#TableOfContents)\n",
    "\n",
    "### Summary of findings\n",
    "The aim is to predict whether the Driver Nick Heidfeld finishes the race. \n",
    "This report is to provide detailed analysis on the dataset, created from wrangling, merging, extracting multiple tables,\n",
    "and after doing various data transformations, such as categorical encoding, numerical transformation, feature scaling, \n",
    "etc., regarding the linear regression model, I got a value of 1.0 for train r-sq and 0.9955 for test r-sq for \n",
    "MinMaxScaling. As for the naïve baseline model, it has a 30.11% accuracy on train data and 39.02% on test data. \n",
    "This shows that it is not very good, as good accuracy is between 70% and 90%. Therefore, linear regression model is\n",
    "better than the naive baseline model (classification), for this case scenario. \n",
    "\n",
    "### Explanation of the possible further improvments\n",
    "As for the dataset itself, I should have used other visualization platforms such as TIBCO to explore the data more. \n",
    "That way I could have formulated a better prediction problem that brings more value to the audience. On the other hand,\n",
    "for the naïve baseline model itself, I could acquire more data for my tabular dataset, driver_results, by exploring the \n",
    "dataset more or add more features to the table. In addition, to prevent overfitting, I can try cross-validation, which \n",
    "is a good preventive measure against overfitting. It is done by using the initial training data to create multiple \n",
    "mini train-test split splits and using these to adjust the model."
   ]
  },
  {
   "cell_type": "code",
   "execution_count": null,
   "metadata": {},
   "outputs": [],
   "source": []
  }
 ],
 "metadata": {
  "kernelspec": {
   "display_name": "Python 3 (ipykernel)",
   "language": "python",
   "name": "python3"
  },
  "language_info": {
   "codemirror_mode": {
    "name": "ipython",
    "version": 3
   },
   "file_extension": ".py",
   "mimetype": "text/x-python",
   "name": "python",
   "nbconvert_exporter": "python",
   "pygments_lexer": "ipython3",
   "version": "3.9.7"
  }
 },
 "nbformat": 4,
 "nbformat_minor": 4
}
