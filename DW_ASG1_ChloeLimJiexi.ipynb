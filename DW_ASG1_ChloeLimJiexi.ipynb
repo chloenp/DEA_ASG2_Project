{
 "cells": [
  {
   "cell_type": "markdown",
   "metadata": {},
   "source": [
    "<table class=\"table table-bordered\">\n",
    "    <tr>\n",
    "        <th style=\"width:250px\"><img src='https://www.np.edu.sg/PublishingImages/Pages/default/odp/ICT.jpg' style=\"width: 100%; height: 125px; \"></th>\n",
    "        <th style=\"text-align:center;\"><h1>Data Wrangling</h1><h2>Assignment 1 </h2><h3>Diploma in Data Science</h3></th>\n",
    "    </tr>\n",
    "</table>"
   ]
  },
  {
   "cell_type": "code",
   "execution_count": 1,
   "metadata": {},
   "outputs": [],
   "source": [
    "# import the pacakges\n",
    "\n",
    "import pandas as pd\n",
    "import numpy as np\n",
    "\n",
    "# sklearn preprocess\n",
    "from sklearn.model_selection import train_test_split\n",
    "\n",
    "# feature engine\n",
    "import feature_engine.imputation as mdi\n",
    "from feature_engine.encoding import OneHotEncoder, MeanEncoder, OrdinalEncoder\n",
    "from feature_engine.discretisation import EqualFrequencyDiscretiser\n",
    "from feature_engine.transformation import LogTransformer\n",
    "from feature_engine.transformation import ReciprocalTransformer\n",
    "from feature_engine.transformation import PowerTransformer\n",
    "from feature_engine.transformation import BoxCoxTransformer\n",
    "from feature_engine.encoding import CountFrequencyEncoder\n",
    "\n",
    "# to impute missing data with feature-engine\n",
    "from feature_engine.imputation import EndTailImputer\n",
    "\n",
    "# Visual\n",
    "import scipy.stats as stats\n",
    "import matplotlib.pyplot as plt\n",
    "import seaborn as sns\n",
    "\n",
    "# to impute missing data with feature-engine\n",
    "from feature_engine.imputation import ArbitraryNumberImputer\n",
    "\n",
    "# for discretization\n",
    "from sklearn.preprocessing import KBinsDiscretizer\n",
    "from feature_engine.discretisation import EqualWidthDiscretiser\n",
    "\n",
    "# the scaler - for standardization\n",
    "from sklearn.preprocessing import StandardScaler\n",
    "\n",
    "# for linear regression\n",
    "from sklearn.linear_model import LinearRegression\n",
    "from sklearn import linear_model\n",
    "from sklearn.metrics import mean_absolute_error"
   ]
  },
  {
   "cell_type": "markdown",
   "metadata": {},
   "source": [
    "### Step 1: Load Data into Jupyter Notebook"
   ]
  },
  {
   "cell_type": "code",
   "execution_count": 2,
   "metadata": {},
   "outputs": [
    {
     "data": {
      "text/html": [
       "<div>\n",
       "<style scoped>\n",
       "    .dataframe tbody tr th:only-of-type {\n",
       "        vertical-align: middle;\n",
       "    }\n",
       "\n",
       "    .dataframe tbody tr th {\n",
       "        vertical-align: top;\n",
       "    }\n",
       "\n",
       "    .dataframe thead th {\n",
       "        text-align: right;\n",
       "    }\n",
       "</style>\n",
       "<table border=\"1\" class=\"dataframe\">\n",
       "  <thead>\n",
       "    <tr style=\"text-align: right;\">\n",
       "      <th></th>\n",
       "      <th>Item_Identifier</th>\n",
       "      <th>Item_Weight</th>\n",
       "      <th>Item_Fat_Content</th>\n",
       "      <th>Item_Visibility</th>\n",
       "      <th>Item_Type</th>\n",
       "      <th>Item_MRP</th>\n",
       "      <th>Outlet_Identifier</th>\n",
       "      <th>Outlet_Establishment_Year</th>\n",
       "      <th>Outlet_Size</th>\n",
       "      <th>Outlet_Location_Type</th>\n",
       "      <th>Outlet_Type</th>\n",
       "      <th>Item_Outlet_Sales</th>\n",
       "    </tr>\n",
       "  </thead>\n",
       "  <tbody>\n",
       "    <tr>\n",
       "      <th>0</th>\n",
       "      <td>FDA15</td>\n",
       "      <td>9.30</td>\n",
       "      <td>Low Fat</td>\n",
       "      <td>0.016047</td>\n",
       "      <td>Dairy</td>\n",
       "      <td>249.8092</td>\n",
       "      <td>OUT049</td>\n",
       "      <td>1999</td>\n",
       "      <td>Medium</td>\n",
       "      <td>Tier 1</td>\n",
       "      <td>Supermarket Type1</td>\n",
       "      <td>3735.1380</td>\n",
       "    </tr>\n",
       "    <tr>\n",
       "      <th>1</th>\n",
       "      <td>DRC01</td>\n",
       "      <td>5.92</td>\n",
       "      <td>Regular</td>\n",
       "      <td>0.019278</td>\n",
       "      <td>Soft Drinks</td>\n",
       "      <td>48.2692</td>\n",
       "      <td>OUT018</td>\n",
       "      <td>2009</td>\n",
       "      <td>Medium</td>\n",
       "      <td>Tier 3</td>\n",
       "      <td>Supermarket Type2</td>\n",
       "      <td>443.4228</td>\n",
       "    </tr>\n",
       "    <tr>\n",
       "      <th>2</th>\n",
       "      <td>FDN15</td>\n",
       "      <td>17.50</td>\n",
       "      <td>Low Fat</td>\n",
       "      <td>0.016760</td>\n",
       "      <td>Meat</td>\n",
       "      <td>141.6180</td>\n",
       "      <td>OUT049</td>\n",
       "      <td>1999</td>\n",
       "      <td>Medium</td>\n",
       "      <td>Tier 1</td>\n",
       "      <td>Supermarket Type1</td>\n",
       "      <td>2097.2700</td>\n",
       "    </tr>\n",
       "    <tr>\n",
       "      <th>3</th>\n",
       "      <td>FDX07</td>\n",
       "      <td>19.20</td>\n",
       "      <td>Regular</td>\n",
       "      <td>0.000000</td>\n",
       "      <td>Fruits and Vegetables</td>\n",
       "      <td>182.0950</td>\n",
       "      <td>OUT010</td>\n",
       "      <td>1998</td>\n",
       "      <td>NaN</td>\n",
       "      <td>Tier 3</td>\n",
       "      <td>Grocery Store</td>\n",
       "      <td>732.3800</td>\n",
       "    </tr>\n",
       "    <tr>\n",
       "      <th>4</th>\n",
       "      <td>NCD19</td>\n",
       "      <td>8.93</td>\n",
       "      <td>Low Fat</td>\n",
       "      <td>0.000000</td>\n",
       "      <td>Household</td>\n",
       "      <td>53.8614</td>\n",
       "      <td>OUT013</td>\n",
       "      <td>1987</td>\n",
       "      <td>High</td>\n",
       "      <td>Tier 3</td>\n",
       "      <td>Supermarket Type1</td>\n",
       "      <td>994.7052</td>\n",
       "    </tr>\n",
       "  </tbody>\n",
       "</table>\n",
       "</div>"
      ],
      "text/plain": [
       "  Item_Identifier  Item_Weight Item_Fat_Content  Item_Visibility  \\\n",
       "0           FDA15         9.30          Low Fat         0.016047   \n",
       "1           DRC01         5.92          Regular         0.019278   \n",
       "2           FDN15        17.50          Low Fat         0.016760   \n",
       "3           FDX07        19.20          Regular         0.000000   \n",
       "4           NCD19         8.93          Low Fat         0.000000   \n",
       "\n",
       "               Item_Type  Item_MRP Outlet_Identifier  \\\n",
       "0                  Dairy  249.8092            OUT049   \n",
       "1            Soft Drinks   48.2692            OUT018   \n",
       "2                   Meat  141.6180            OUT049   \n",
       "3  Fruits and Vegetables  182.0950            OUT010   \n",
       "4              Household   53.8614            OUT013   \n",
       "\n",
       "   Outlet_Establishment_Year Outlet_Size Outlet_Location_Type  \\\n",
       "0                       1999      Medium               Tier 1   \n",
       "1                       2009      Medium               Tier 3   \n",
       "2                       1999      Medium               Tier 1   \n",
       "3                       1998         NaN               Tier 3   \n",
       "4                       1987        High               Tier 3   \n",
       "\n",
       "         Outlet_Type  Item_Outlet_Sales  \n",
       "0  Supermarket Type1          3735.1380  \n",
       "1  Supermarket Type2           443.4228  \n",
       "2  Supermarket Type1          2097.2700  \n",
       "3      Grocery Store           732.3800  \n",
       "4  Supermarket Type1           994.7052  "
      ]
     },
     "execution_count": 2,
     "metadata": {},
     "output_type": "execute_result"
    }
   ],
   "source": [
    "# load the dataset and show the info of dataset\n",
    "data = pd.read_csv('supermarket.csv')\n",
    "data.head()"
   ]
  },
  {
   "cell_type": "code",
   "execution_count": 3,
   "metadata": {},
   "outputs": [
    {
     "name": "stdout",
     "output_type": "stream",
     "text": [
      "<class 'pandas.core.frame.DataFrame'>\n",
      "RangeIndex: 8523 entries, 0 to 8522\n",
      "Data columns (total 12 columns):\n",
      " #   Column                     Non-Null Count  Dtype  \n",
      "---  ------                     --------------  -----  \n",
      " 0   Item_Identifier            8523 non-null   object \n",
      " 1   Item_Weight                7060 non-null   float64\n",
      " 2   Item_Fat_Content           8523 non-null   object \n",
      " 3   Item_Visibility            8523 non-null   float64\n",
      " 4   Item_Type                  8523 non-null   object \n",
      " 5   Item_MRP                   8523 non-null   float64\n",
      " 6   Outlet_Identifier          8523 non-null   object \n",
      " 7   Outlet_Establishment_Year  8523 non-null   int64  \n",
      " 8   Outlet_Size                6113 non-null   object \n",
      " 9   Outlet_Location_Type       8523 non-null   object \n",
      " 10  Outlet_Type                8523 non-null   object \n",
      " 11  Item_Outlet_Sales          8523 non-null   float64\n",
      "dtypes: float64(4), int64(1), object(7)\n",
      "memory usage: 799.2+ KB\n"
     ]
    }
   ],
   "source": [
    "data.info()"
   ]
  },
  {
   "cell_type": "code",
   "execution_count": 4,
   "metadata": {},
   "outputs": [
    {
     "data": {
      "text/html": [
       "<div>\n",
       "<style scoped>\n",
       "    .dataframe tbody tr th:only-of-type {\n",
       "        vertical-align: middle;\n",
       "    }\n",
       "\n",
       "    .dataframe tbody tr th {\n",
       "        vertical-align: top;\n",
       "    }\n",
       "\n",
       "    .dataframe thead th {\n",
       "        text-align: right;\n",
       "    }\n",
       "</style>\n",
       "<table border=\"1\" class=\"dataframe\">\n",
       "  <thead>\n",
       "    <tr style=\"text-align: right;\">\n",
       "      <th></th>\n",
       "      <th>Item_Weight</th>\n",
       "      <th>Item_Visibility</th>\n",
       "      <th>Item_MRP</th>\n",
       "      <th>Outlet_Establishment_Year</th>\n",
       "      <th>Item_Outlet_Sales</th>\n",
       "    </tr>\n",
       "  </thead>\n",
       "  <tbody>\n",
       "    <tr>\n",
       "      <th>count</th>\n",
       "      <td>7060.000000</td>\n",
       "      <td>8523.000000</td>\n",
       "      <td>8523.000000</td>\n",
       "      <td>8523.000000</td>\n",
       "      <td>8523.000000</td>\n",
       "    </tr>\n",
       "    <tr>\n",
       "      <th>mean</th>\n",
       "      <td>12.857645</td>\n",
       "      <td>0.066132</td>\n",
       "      <td>140.992782</td>\n",
       "      <td>1997.831867</td>\n",
       "      <td>2181.288914</td>\n",
       "    </tr>\n",
       "    <tr>\n",
       "      <th>std</th>\n",
       "      <td>4.643456</td>\n",
       "      <td>0.051598</td>\n",
       "      <td>62.275067</td>\n",
       "      <td>8.371760</td>\n",
       "      <td>1706.499616</td>\n",
       "    </tr>\n",
       "    <tr>\n",
       "      <th>min</th>\n",
       "      <td>4.555000</td>\n",
       "      <td>0.000000</td>\n",
       "      <td>31.290000</td>\n",
       "      <td>1985.000000</td>\n",
       "      <td>33.290000</td>\n",
       "    </tr>\n",
       "    <tr>\n",
       "      <th>25%</th>\n",
       "      <td>8.773750</td>\n",
       "      <td>0.026989</td>\n",
       "      <td>93.826500</td>\n",
       "      <td>1987.000000</td>\n",
       "      <td>834.247400</td>\n",
       "    </tr>\n",
       "    <tr>\n",
       "      <th>50%</th>\n",
       "      <td>12.600000</td>\n",
       "      <td>0.053931</td>\n",
       "      <td>143.012800</td>\n",
       "      <td>1999.000000</td>\n",
       "      <td>1794.331000</td>\n",
       "    </tr>\n",
       "    <tr>\n",
       "      <th>75%</th>\n",
       "      <td>16.850000</td>\n",
       "      <td>0.094585</td>\n",
       "      <td>185.643700</td>\n",
       "      <td>2004.000000</td>\n",
       "      <td>3101.296400</td>\n",
       "    </tr>\n",
       "    <tr>\n",
       "      <th>max</th>\n",
       "      <td>21.350000</td>\n",
       "      <td>0.328391</td>\n",
       "      <td>266.888400</td>\n",
       "      <td>2009.000000</td>\n",
       "      <td>13086.964800</td>\n",
       "    </tr>\n",
       "  </tbody>\n",
       "</table>\n",
       "</div>"
      ],
      "text/plain": [
       "       Item_Weight  Item_Visibility     Item_MRP  Outlet_Establishment_Year  \\\n",
       "count  7060.000000      8523.000000  8523.000000                8523.000000   \n",
       "mean     12.857645         0.066132   140.992782                1997.831867   \n",
       "std       4.643456         0.051598    62.275067                   8.371760   \n",
       "min       4.555000         0.000000    31.290000                1985.000000   \n",
       "25%       8.773750         0.026989    93.826500                1987.000000   \n",
       "50%      12.600000         0.053931   143.012800                1999.000000   \n",
       "75%      16.850000         0.094585   185.643700                2004.000000   \n",
       "max      21.350000         0.328391   266.888400                2009.000000   \n",
       "\n",
       "       Item_Outlet_Sales  \n",
       "count        8523.000000  \n",
       "mean         2181.288914  \n",
       "std          1706.499616  \n",
       "min            33.290000  \n",
       "25%           834.247400  \n",
       "50%          1794.331000  \n",
       "75%          3101.296400  \n",
       "max         13086.964800  "
      ]
     },
     "execution_count": 4,
     "metadata": {},
     "output_type": "execute_result"
    }
   ],
   "source": [
    "data.describe()"
   ]
  },
  {
   "cell_type": "markdown",
   "metadata": {},
   "source": [
    "### Step 2: Data Preprocessing (Part 1)"
   ]
  },
  {
   "cell_type": "code",
   "execution_count": 5,
   "metadata": {},
   "outputs": [
    {
     "data": {
      "text/plain": [
       "Item_Identifier         0.000000\n",
       "Item_Fat_Content        0.000000\n",
       "Item_Type               0.000000\n",
       "Outlet_Identifier       0.000000\n",
       "Outlet_Location_Type    0.000000\n",
       "Outlet_Type             0.000000\n",
       "Outlet_Size             0.282764\n",
       "dtype: float64"
      ]
     },
     "execution_count": 5,
     "metadata": {},
     "output_type": "execute_result"
    }
   ],
   "source": [
    "# find categorical variables\n",
    "cat_cols = [c for c in data.columns if data[c].dtypes =='O']\n",
    "data[cat_cols].isnull().mean().sort_values()"
   ]
  },
  {
   "cell_type": "code",
   "execution_count": 6,
   "metadata": {},
   "outputs": [
    {
     "data": {
      "text/plain": [
       "Item_Visibility              0.000000\n",
       "Item_MRP                     0.000000\n",
       "Outlet_Establishment_Year    0.000000\n",
       "Item_Outlet_Sales            0.000000\n",
       "Item_Weight                  0.171653\n",
       "dtype: float64"
      ]
     },
     "execution_count": 6,
     "metadata": {},
     "output_type": "execute_result"
    }
   ],
   "source": [
    "# find numerical variables\n",
    "num_cols = [n for n in data.columns if data[n].dtypes !='O']\n",
    "data[num_cols].isnull().mean().sort_values()"
   ]
  },
  {
   "cell_type": "code",
   "execution_count": 7,
   "metadata": {},
   "outputs": [
    {
     "data": {
      "text/html": [
       "<div>\n",
       "<style scoped>\n",
       "    .dataframe tbody tr th:only-of-type {\n",
       "        vertical-align: middle;\n",
       "    }\n",
       "\n",
       "    .dataframe tbody tr th {\n",
       "        vertical-align: top;\n",
       "    }\n",
       "\n",
       "    .dataframe thead th {\n",
       "        text-align: right;\n",
       "    }\n",
       "</style>\n",
       "<table border=\"1\" class=\"dataframe\">\n",
       "  <thead>\n",
       "    <tr style=\"text-align: right;\">\n",
       "      <th></th>\n",
       "      <th>Item_Weight</th>\n",
       "      <th>Item_Visibility</th>\n",
       "      <th>Item_MRP</th>\n",
       "      <th>Outlet_Establishment_Year</th>\n",
       "      <th>Item_Outlet_Sales</th>\n",
       "    </tr>\n",
       "  </thead>\n",
       "  <tbody>\n",
       "    <tr>\n",
       "      <th>count</th>\n",
       "      <td>7060.000000</td>\n",
       "      <td>8523.000000</td>\n",
       "      <td>8523.000000</td>\n",
       "      <td>8523.000000</td>\n",
       "      <td>8523.000000</td>\n",
       "    </tr>\n",
       "    <tr>\n",
       "      <th>mean</th>\n",
       "      <td>12.857645</td>\n",
       "      <td>0.066132</td>\n",
       "      <td>140.992782</td>\n",
       "      <td>1997.831867</td>\n",
       "      <td>2181.288914</td>\n",
       "    </tr>\n",
       "    <tr>\n",
       "      <th>std</th>\n",
       "      <td>4.643456</td>\n",
       "      <td>0.051598</td>\n",
       "      <td>62.275067</td>\n",
       "      <td>8.371760</td>\n",
       "      <td>1706.499616</td>\n",
       "    </tr>\n",
       "    <tr>\n",
       "      <th>min</th>\n",
       "      <td>4.555000</td>\n",
       "      <td>0.000000</td>\n",
       "      <td>31.290000</td>\n",
       "      <td>1985.000000</td>\n",
       "      <td>33.290000</td>\n",
       "    </tr>\n",
       "    <tr>\n",
       "      <th>25%</th>\n",
       "      <td>8.773750</td>\n",
       "      <td>0.026989</td>\n",
       "      <td>93.826500</td>\n",
       "      <td>1987.000000</td>\n",
       "      <td>834.247400</td>\n",
       "    </tr>\n",
       "    <tr>\n",
       "      <th>50%</th>\n",
       "      <td>12.600000</td>\n",
       "      <td>0.053931</td>\n",
       "      <td>143.012800</td>\n",
       "      <td>1999.000000</td>\n",
       "      <td>1794.331000</td>\n",
       "    </tr>\n",
       "    <tr>\n",
       "      <th>75%</th>\n",
       "      <td>16.850000</td>\n",
       "      <td>0.094585</td>\n",
       "      <td>185.643700</td>\n",
       "      <td>2004.000000</td>\n",
       "      <td>3101.296400</td>\n",
       "    </tr>\n",
       "    <tr>\n",
       "      <th>max</th>\n",
       "      <td>21.350000</td>\n",
       "      <td>0.328391</td>\n",
       "      <td>266.888400</td>\n",
       "      <td>2009.000000</td>\n",
       "      <td>13086.964800</td>\n",
       "    </tr>\n",
       "  </tbody>\n",
       "</table>\n",
       "</div>"
      ],
      "text/plain": [
       "       Item_Weight  Item_Visibility     Item_MRP  Outlet_Establishment_Year  \\\n",
       "count  7060.000000      8523.000000  8523.000000                8523.000000   \n",
       "mean     12.857645         0.066132   140.992782                1997.831867   \n",
       "std       4.643456         0.051598    62.275067                   8.371760   \n",
       "min       4.555000         0.000000    31.290000                1985.000000   \n",
       "25%       8.773750         0.026989    93.826500                1987.000000   \n",
       "50%      12.600000         0.053931   143.012800                1999.000000   \n",
       "75%      16.850000         0.094585   185.643700                2004.000000   \n",
       "max      21.350000         0.328391   266.888400                2009.000000   \n",
       "\n",
       "       Item_Outlet_Sales  \n",
       "count        8523.000000  \n",
       "mean         2181.288914  \n",
       "std          1706.499616  \n",
       "min            33.290000  \n",
       "25%           834.247400  \n",
       "50%          1794.331000  \n",
       "75%          3101.296400  \n",
       "max         13086.964800  "
      ]
     },
     "execution_count": 7,
     "metadata": {},
     "output_type": "execute_result"
    }
   ],
   "source": [
    "data[num_cols].describe()"
   ]
  },
  {
   "cell_type": "code",
   "execution_count": 8,
   "metadata": {},
   "outputs": [
    {
     "data": {
      "text/html": [
       "<div>\n",
       "<style scoped>\n",
       "    .dataframe tbody tr th:only-of-type {\n",
       "        vertical-align: middle;\n",
       "    }\n",
       "\n",
       "    .dataframe tbody tr th {\n",
       "        vertical-align: top;\n",
       "    }\n",
       "\n",
       "    .dataframe thead th {\n",
       "        text-align: right;\n",
       "    }\n",
       "</style>\n",
       "<table border=\"1\" class=\"dataframe\">\n",
       "  <thead>\n",
       "    <tr style=\"text-align: right;\">\n",
       "      <th></th>\n",
       "      <th>Item_Identifier</th>\n",
       "      <th>Item_Fat_Content</th>\n",
       "      <th>Item_Type</th>\n",
       "      <th>Outlet_Identifier</th>\n",
       "      <th>Outlet_Size</th>\n",
       "      <th>Outlet_Location_Type</th>\n",
       "      <th>Outlet_Type</th>\n",
       "    </tr>\n",
       "  </thead>\n",
       "  <tbody>\n",
       "    <tr>\n",
       "      <th>count</th>\n",
       "      <td>8523</td>\n",
       "      <td>8523</td>\n",
       "      <td>8523</td>\n",
       "      <td>8523</td>\n",
       "      <td>6113</td>\n",
       "      <td>8523</td>\n",
       "      <td>8523</td>\n",
       "    </tr>\n",
       "    <tr>\n",
       "      <th>unique</th>\n",
       "      <td>1559</td>\n",
       "      <td>5</td>\n",
       "      <td>16</td>\n",
       "      <td>10</td>\n",
       "      <td>3</td>\n",
       "      <td>3</td>\n",
       "      <td>4</td>\n",
       "    </tr>\n",
       "    <tr>\n",
       "      <th>top</th>\n",
       "      <td>FDW13</td>\n",
       "      <td>Low Fat</td>\n",
       "      <td>Fruits and Vegetables</td>\n",
       "      <td>OUT027</td>\n",
       "      <td>Medium</td>\n",
       "      <td>Tier 3</td>\n",
       "      <td>Supermarket Type1</td>\n",
       "    </tr>\n",
       "    <tr>\n",
       "      <th>freq</th>\n",
       "      <td>10</td>\n",
       "      <td>5089</td>\n",
       "      <td>1232</td>\n",
       "      <td>935</td>\n",
       "      <td>2793</td>\n",
       "      <td>3350</td>\n",
       "      <td>5577</td>\n",
       "    </tr>\n",
       "  </tbody>\n",
       "</table>\n",
       "</div>"
      ],
      "text/plain": [
       "       Item_Identifier Item_Fat_Content              Item_Type  \\\n",
       "count             8523             8523                   8523   \n",
       "unique            1559                5                     16   \n",
       "top              FDW13          Low Fat  Fruits and Vegetables   \n",
       "freq                10             5089                   1232   \n",
       "\n",
       "       Outlet_Identifier Outlet_Size Outlet_Location_Type        Outlet_Type  \n",
       "count               8523        6113                 8523               8523  \n",
       "unique                10           3                    3                  4  \n",
       "top               OUT027      Medium               Tier 3  Supermarket Type1  \n",
       "freq                 935        2793                 3350               5577  "
      ]
     },
     "execution_count": 8,
     "metadata": {},
     "output_type": "execute_result"
    }
   ],
   "source": [
    "data[cat_cols].describe()"
   ]
  },
  {
   "cell_type": "code",
   "execution_count": 9,
   "metadata": {},
   "outputs": [
    {
     "name": "stdout",
     "output_type": "stream",
     "text": [
      "<class 'pandas.core.frame.DataFrame'>\n",
      "RangeIndex: 8523 entries, 0 to 8522\n",
      "Data columns (total 5 columns):\n",
      " #   Column                     Non-Null Count  Dtype  \n",
      "---  ------                     --------------  -----  \n",
      " 0   Item_Weight                7060 non-null   float64\n",
      " 1   Item_Visibility            8523 non-null   float64\n",
      " 2   Item_MRP                   8523 non-null   float64\n",
      " 3   Outlet_Establishment_Year  8523 non-null   int64  \n",
      " 4   Item_Outlet_Sales          8523 non-null   float64\n",
      "dtypes: float64(4), int64(1)\n",
      "memory usage: 333.1 KB\n"
     ]
    }
   ],
   "source": [
    "data[num_cols].info()"
   ]
  },
  {
   "cell_type": "code",
   "execution_count": 10,
   "metadata": {},
   "outputs": [
    {
     "name": "stdout",
     "output_type": "stream",
     "text": [
      "<class 'pandas.core.frame.DataFrame'>\n",
      "RangeIndex: 8523 entries, 0 to 8522\n",
      "Data columns (total 7 columns):\n",
      " #   Column                Non-Null Count  Dtype \n",
      "---  ------                --------------  ----- \n",
      " 0   Item_Identifier       8523 non-null   object\n",
      " 1   Item_Fat_Content      8523 non-null   object\n",
      " 2   Item_Type             8523 non-null   object\n",
      " 3   Outlet_Identifier     8523 non-null   object\n",
      " 4   Outlet_Size           6113 non-null   object\n",
      " 5   Outlet_Location_Type  8523 non-null   object\n",
      " 6   Outlet_Type           8523 non-null   object\n",
      "dtypes: object(7)\n",
      "memory usage: 466.2+ KB\n"
     ]
    }
   ],
   "source": [
    "data[cat_cols].info()"
   ]
  },
  {
   "cell_type": "markdown",
   "metadata": {},
   "source": [
    "#### Outliers <a id=\"Outliers\"></a>"
   ]
  },
  {
   "cell_type": "code",
   "execution_count": 11,
   "metadata": {},
   "outputs": [
    {
     "data": {
      "text/plain": [
       "<AxesSubplot:ylabel='Item_MRP'>"
      ]
     },
     "execution_count": 11,
     "metadata": {},
     "output_type": "execute_result"
    },
    {
     "data": {
      "image/png": "[encoded data removed]",
      "text/plain": [
       "<Figure size 144x288 with 1 Axes>"
      ]
     },
     "metadata": {
      "needs_background": "light"
     },
     "output_type": "display_data"
    }
   ],
   "source": [
    "plt.figure(figsize=(2, 4))\n",
    "sns.boxplot(y=data['Item_MRP'])"
   ]
  },
  {
   "cell_type": "code",
   "execution_count": 12,
   "metadata": {},
   "outputs": [
    {
     "data": {
      "text/plain": [
       "<AxesSubplot:ylabel='Outlet_Establishment_Year'>"
      ]
     },
     "execution_count": 12,
     "metadata": {},
     "output_type": "execute_result"
    },
    {
     "data": {
      "image/png": "[encoded data removed]",
      "text/plain": [
       "<Figure size 144x288 with 1 Axes>"
      ]
     },
     "metadata": {
      "needs_background": "light"
     },
     "output_type": "display_data"
    }
   ],
   "source": [
    "plt.figure(figsize=(2, 4))\n",
    "sns.boxplot(y=data['Outlet_Establishment_Year'])"
   ]
  },
  {
   "cell_type": "code",
   "execution_count": 13,
   "metadata": {},
   "outputs": [
    {
     "data": {
      "text/plain": [
       "<AxesSubplot:ylabel='Item_Weight'>"
      ]
     },
     "execution_count": 13,
     "metadata": {},
     "output_type": "execute_result"
    },
    {
     "data": {
      "image/png": "[encoded data removed]",
      "text/plain": [
       "<Figure size 144x288 with 1 Axes>"
      ]
     },
     "metadata": {
      "needs_background": "light"
     },
     "output_type": "display_data"
    }
   ],
   "source": [
    "plt.figure(figsize=(2, 4))\n",
    "sns.boxplot(y=data['Item_Weight'])"
   ]
  },
  {
   "cell_type": "code",
   "execution_count": 14,
   "metadata": {},
   "outputs": [
    {
     "data": {
      "text/plain": [
       "<AxesSubplot:ylabel='Item_Visibility'>"
      ]
     },
     "execution_count": 14,
     "metadata": {},
     "output_type": "execute_result"
    },
    {
     "data": {
      "image/png": "[encoded data removed]",
      "text/plain": [
       "<Figure size 144x288 with 1 Axes>"
      ]
     },
     "metadata": {
      "needs_background": "light"
     },
     "output_type": "display_data"
    }
   ],
   "source": [
    "plt.figure(figsize=(2, 4))\n",
    "sns.boxplot(y=data['Item_Visibility'])\n",
    "# there is outliers"
   ]
  },
  {
   "cell_type": "code",
   "execution_count": 15,
   "metadata": {},
   "outputs": [
    {
     "data": {
      "text/plain": [
       "<AxesSubplot:ylabel='Item_Outlet_Sales'>"
      ]
     },
     "execution_count": 15,
     "metadata": {},
     "output_type": "execute_result"
    },
    {
     "data": {
      "image/png": "[encoded data removed]",
      "text/plain": [
       "<Figure size 144x288 with 1 Axes>"
      ]
     },
     "metadata": {
      "needs_background": "light"
     },
     "output_type": "display_data"
    }
   ],
   "source": [
    "plt.figure(figsize=(2, 4))\n",
    "sns.boxplot(y=data['Item_Outlet_Sales'])\n",
    "# there is outliers"
   ]
  },
  {
   "cell_type": "markdown",
   "metadata": {},
   "source": [
    "## By outlier_trimming"
   ]
  },
  {
   "cell_type": "code",
   "execution_count": 16,
   "metadata": {},
   "outputs": [],
   "source": [
    "def find_boundaries(df, variable, distance):\n",
    "\n",
    "    # Let's calculate the boundaries outside which sit the outliers\n",
    "    # for skewed distributions\n",
    "\n",
    "    # distance passed as an argument, gives us the option to\n",
    "    # estimate 1.5 times or 3 times the IQR to calculate\n",
    "    # the boundaries.\n",
    "\n",
    "    IQR = df[variable].quantile(0.75) - df[variable].quantile(0.25)\n",
    "\n",
    "    lower_boundary = df[variable].quantile(0.25) - (IQR * distance)\n",
    "    upper_boundary = df[variable].quantile(0.75) + (IQR * distance)\n",
    "\n",
    "    return upper_boundary, lower_boundary"
   ]
  },
  {
   "cell_type": "markdown",
   "metadata": {},
   "source": [
    "#### for Item_Visibility"
   ]
  },
  {
   "cell_type": "code",
   "execution_count": 17,
   "metadata": {},
   "outputs": [
    {
     "data": {
      "text/plain": [
       "(0.195979015, -0.07440424500000001)"
      ]
     },
     "execution_count": 17,
     "metadata": {},
     "output_type": "execute_result"
    }
   ],
   "source": [
    "# find limits for Item_Visibility\n",
    "\n",
    "RM_upper_limit, RM_lower_limit = find_boundaries(data, 'Item_Visibility', 1.5)\n",
    "RM_upper_limit, RM_lower_limit"
   ]
  },
  {
   "cell_type": "code",
   "execution_count": 18,
   "metadata": {},
   "outputs": [],
   "source": [
    "# let's flag the outliers in the data set\n",
    "\n",
    "outliers_ItemVisbility = np.where(data['Item_Visibility'] > RM_upper_limit, True,\n",
    "                       np.where(data['Item_Visibility'] < RM_lower_limit, True, False))"
   ]
  },
  {
   "cell_type": "code",
   "execution_count": 19,
   "metadata": {},
   "outputs": [
    {
     "data": {
      "text/plain": [
       "((8523, 12), (8379, 12))"
      ]
     },
     "execution_count": 19,
     "metadata": {},
     "output_type": "execute_result"
    }
   ],
   "source": [
    "# let's trim the dataset by removing only Item_Visbility outliers\n",
    "\n",
    "data_trimmed = data.loc[~outliers_ItemVisbility]\n",
    "\n",
    "data.shape, data_trimmed.shape"
   ]
  },
  {
   "cell_type": "code",
   "execution_count": 20,
   "metadata": {},
   "outputs": [
    {
     "data": {
      "text/plain": [
       "<AxesSubplot:ylabel='Item_Visibility'>"
      ]
     },
     "execution_count": 20,
     "metadata": {},
     "output_type": "execute_result"
    },
    {
     "data": {
      "image/png": "[encoded data removed]",
      "text/plain": [
       "<Figure size 144x288 with 1 Axes>"
      ]
     },
     "metadata": {
      "needs_background": "light"
     },
     "output_type": "display_data"
    }
   ],
   "source": [
    "plt.figure(figsize=(2, 4))\n",
    "sns.boxplot(y=data_trimmed['Item_Visibility'])"
   ]
  },
  {
   "cell_type": "markdown",
   "metadata": {},
   "source": [
    "#### for Item_Outlet_Sales"
   ]
  },
  {
   "cell_type": "code",
   "execution_count": 21,
   "metadata": {},
   "outputs": [
    {
     "data": {
      "text/plain": [
       "(6501.8699, -2566.3261)"
      ]
     },
     "execution_count": 21,
     "metadata": {},
     "output_type": "execute_result"
    }
   ],
   "source": [
    "# find limits for Item_Outlet_Sales\n",
    "\n",
    "RM_upper_limit, RM_lower_limit = find_boundaries(data, 'Item_Outlet_Sales', 1.5)\n",
    "RM_upper_limit, RM_lower_limit"
   ]
  },
  {
   "cell_type": "code",
   "execution_count": 22,
   "metadata": {},
   "outputs": [],
   "source": [
    "# let's flag the outliers in the data set\n",
    "\n",
    "outliers_ItemOutletSales = np.where(data['Item_Outlet_Sales'] > RM_upper_limit, True,\n",
    "                       np.where(data['Item_Outlet_Sales'] < RM_lower_limit, True, False))"
   ]
  },
  {
   "cell_type": "code",
   "execution_count": 23,
   "metadata": {},
   "outputs": [
    {
     "data": {
      "text/plain": [
       "((8523, 12), (8337, 12))"
      ]
     },
     "execution_count": 23,
     "metadata": {},
     "output_type": "execute_result"
    }
   ],
   "source": [
    "# let's trim the dataset by removing only Item_Outlet_Sales outliers\n",
    "\n",
    "data_trimmed = data.loc[~outliers_ItemOutletSales]\n",
    "\n",
    "data.shape, data_trimmed.shape"
   ]
  },
  {
   "cell_type": "code",
   "execution_count": 24,
   "metadata": {},
   "outputs": [
    {
     "data": {
      "text/plain": [
       "<AxesSubplot:ylabel='Item_Outlet_Sales'>"
      ]
     },
     "execution_count": 24,
     "metadata": {},
     "output_type": "execute_result"
    },
    {
     "data": {
      "image/png": "[encoded data removed]",
      "text/plain": [
       "<Figure size 144x288 with 1 Axes>"
      ]
     },
     "metadata": {
      "needs_background": "light"
     },
     "output_type": "display_data"
    }
   ],
   "source": [
    "plt.figure(figsize=(2, 4))\n",
    "sns.boxplot(y=data_trimmed['Item_Outlet_Sales'])"
   ]
  },
  {
   "cell_type": "code",
   "execution_count": null,
   "metadata": {},
   "outputs": [],
   "source": []
  },
  {
   "cell_type": "markdown",
   "metadata": {},
   "source": [
    "### Step 3: Train and Test Split"
   ]
  },
  {
   "cell_type": "code",
   "execution_count": 25,
   "metadata": {},
   "outputs": [
    {
     "data": {
      "text/plain": [
       "((5835, 11), (2502, 11))"
      ]
     },
     "execution_count": 25,
     "metadata": {},
     "output_type": "execute_result"
    }
   ],
   "source": [
    "X_train_student_final_premodel_version, X_test_student_final_premodel_version, y_train_student_final_premodel_version, y_test_student_final_premodel_version = train_test_split(\n",
    "    data_trimmed.drop('Item_Outlet_Sales', axis = 1), data_trimmed['Item_Outlet_Sales'], test_size=0.3, random_state=0)\n",
    "\n",
    "X_train_student_final_premodel_version.shape, X_test_student_final_premodel_version.shape"
   ]
  },
  {
   "cell_type": "code",
   "execution_count": null,
   "metadata": {},
   "outputs": [],
   "source": []
  },
  {
   "cell_type": "markdown",
   "metadata": {},
   "source": [
    "### Step 4: Missing Value Imputation"
   ]
  },
  {
   "cell_type": "code",
   "execution_count": 26,
   "metadata": {},
   "outputs": [
    {
     "data": {
      "text/plain": [
       "Item_Identifier              0.000000\n",
       "Item_Weight                  0.166067\n",
       "Item_Fat_Content             0.000000\n",
       "Item_Visibility              0.000000\n",
       "Item_Type                    0.000000\n",
       "Item_MRP                     0.000000\n",
       "Outlet_Identifier            0.000000\n",
       "Outlet_Establishment_Year    0.000000\n",
       "Outlet_Size                  0.280206\n",
       "Outlet_Location_Type         0.000000\n",
       "Outlet_Type                  0.000000\n",
       "dtype: float64"
      ]
     },
     "execution_count": 26,
     "metadata": {},
     "output_type": "execute_result"
    }
   ],
   "source": [
    "# find the percentage of missing data per variable for X_train\n",
    "\n",
    "X_train_student_final_premodel_version.isnull().mean()\n"
   ]
  },
  {
   "cell_type": "code",
   "execution_count": 27,
   "metadata": {},
   "outputs": [
    {
     "data": {
      "text/plain": [
       "EndTailImputer(fold=1.5, imputation_method='iqr', variables=['Item_Weight'])"
      ]
     },
     "execution_count": 27,
     "metadata": {},
     "output_type": "execute_result"
    }
   ],
   "source": [
    "# let's create a median imputer for numerical variable, Item_Weight\n",
    "\n",
    "# IQR limits -> right tail -> Q3 + 1.5*IQR\n",
    "imputer = EndTailImputer(imputation_method='iqr', tail='right', fold =1.5, \n",
    "                         variables=['Item_Weight'])\n",
    "\n",
    "imputer.fit(X_train_student_final_premodel_version)"
   ]
  },
  {
   "cell_type": "code",
   "execution_count": 28,
   "metadata": {},
   "outputs": [
    {
     "data": {
      "text/plain": [
       "{'Item_Weight': 28.838750000000005}"
      ]
     },
     "execution_count": 28,
     "metadata": {},
     "output_type": "execute_result"
    }
   ],
   "source": [
    "# dictionary with the mappings for each variable\n",
    "imputer.imputer_dict_ # Q3 + 3*IQR"
   ]
  },
  {
   "cell_type": "code",
   "execution_count": 29,
   "metadata": {},
   "outputs": [],
   "source": [
    "# transform the data\n",
    "X_train_student_final_premodel_version = imputer.transform(X_train_student_final_premodel_version)\n",
    "X_test_student_final_premodel_version = imputer.transform(X_test_student_final_premodel_version)"
   ]
  },
  {
   "cell_type": "code",
   "execution_count": 30,
   "metadata": {},
   "outputs": [
    {
     "data": {
      "text/plain": [
       "Item_Weight    0.0\n",
       "dtype: float64"
      ]
     },
     "execution_count": 30,
     "metadata": {},
     "output_type": "execute_result"
    }
   ],
   "source": [
    "# check that null values were replaced\n",
    "X_train_student_final_premodel_version[['Item_Weight']].isnull().mean()"
   ]
  },
  {
   "cell_type": "code",
   "execution_count": 31,
   "metadata": {},
   "outputs": [
    {
     "name": "stdout",
     "output_type": "stream",
     "text": [
      "Medium\n"
     ]
    }
   ],
   "source": [
    "# replace NA in categorical variables\n",
    "\n",
    "for var in ['Outlet_Size']:\n",
    "    \n",
    "    value = X_train_student_final_premodel_version[var].mode()[0]\n",
    "    print(value)\n",
    "\n",
    "    X_train_student_final_premodel_version[var] = X_train_student_final_premodel_version[var].fillna(value)\n",
    "    X_test_student_final_premodel_version[var] = X_test_student_final_premodel_version[var].fillna(value)"
   ]
  },
  {
   "cell_type": "code",
   "execution_count": 32,
   "metadata": {},
   "outputs": [
    {
     "data": {
      "text/plain": [
       "Item_Weight    0.0\n",
       "Outlet_Size    0.0\n",
       "dtype: float64"
      ]
     },
     "execution_count": 32,
     "metadata": {},
     "output_type": "execute_result"
    }
   ],
   "source": [
    "# check absence of missing values in imputed variables\n",
    "\n",
    "X_train_student_final_premodel_version[['Item_Weight', 'Outlet_Size']].isnull().mean()"
   ]
  },
  {
   "cell_type": "code",
   "execution_count": 33,
   "metadata": {},
   "outputs": [
    {
     "data": {
      "text/plain": [
       "Item_Identifier              0.0\n",
       "Item_Weight                  0.0\n",
       "Item_Fat_Content             0.0\n",
       "Item_Visibility              0.0\n",
       "Item_Type                    0.0\n",
       "Item_MRP                     0.0\n",
       "Outlet_Identifier            0.0\n",
       "Outlet_Establishment_Year    0.0\n",
       "Outlet_Size                  0.0\n",
       "Outlet_Location_Type         0.0\n",
       "Outlet_Type                  0.0\n",
       "dtype: float64"
      ]
     },
     "execution_count": 33,
     "metadata": {},
     "output_type": "execute_result"
    }
   ],
   "source": [
    "X_train_student_final_premodel_version.isnull().mean()"
   ]
  },
  {
   "cell_type": "code",
   "execution_count": null,
   "metadata": {},
   "outputs": [],
   "source": []
  },
  {
   "cell_type": "markdown",
   "metadata": {},
   "source": [
    "### Step 2: Data Preprocessing (Part 2)"
   ]
  },
  {
   "cell_type": "code",
   "execution_count": 34,
   "metadata": {},
   "outputs": [
    {
     "data": {
      "image/png": "[encoded data removed]",
      "text/plain": [
       "<Figure size 864x864 with 6 Axes>"
      ]
     },
     "metadata": {
      "needs_background": "light"
     },
     "output_type": "display_data"
    }
   ],
   "source": [
    "# The distribution of the numerical variables? \n",
    "\n",
    "# plot the histogram to the num variables\n",
    "data[num_cols].hist(bins=30, figsize=(12,12))\n",
    "plt.show()"
   ]
  },
  {
   "cell_type": "code",
   "execution_count": 35,
   "metadata": {},
   "outputs": [
    {
     "data": {
      "text/html": [
       "<div>\n",
       "<style scoped>\n",
       "    .dataframe tbody tr th:only-of-type {\n",
       "        vertical-align: middle;\n",
       "    }\n",
       "\n",
       "    .dataframe tbody tr th {\n",
       "        vertical-align: top;\n",
       "    }\n",
       "\n",
       "    .dataframe thead th {\n",
       "        text-align: right;\n",
       "    }\n",
       "</style>\n",
       "<table border=\"1\" class=\"dataframe\">\n",
       "  <thead>\n",
       "    <tr style=\"text-align: right;\">\n",
       "      <th></th>\n",
       "      <th>Item_Weight</th>\n",
       "      <th>Item_Visibility</th>\n",
       "      <th>Item_MRP</th>\n",
       "      <th>Outlet_Establishment_Year</th>\n",
       "      <th>Item_Outlet_Sales</th>\n",
       "    </tr>\n",
       "  </thead>\n",
       "  <tbody>\n",
       "    <tr>\n",
       "      <th>Item_Weight</th>\n",
       "      <td>1.000000</td>\n",
       "      <td>-0.014048</td>\n",
       "      <td>0.027141</td>\n",
       "      <td>-0.011588</td>\n",
       "      <td>0.014123</td>\n",
       "    </tr>\n",
       "    <tr>\n",
       "      <th>Item_Visibility</th>\n",
       "      <td>-0.014048</td>\n",
       "      <td>1.000000</td>\n",
       "      <td>-0.001315</td>\n",
       "      <td>-0.074834</td>\n",
       "      <td>-0.128625</td>\n",
       "    </tr>\n",
       "    <tr>\n",
       "      <th>Item_MRP</th>\n",
       "      <td>0.027141</td>\n",
       "      <td>-0.001315</td>\n",
       "      <td>1.000000</td>\n",
       "      <td>0.005020</td>\n",
       "      <td>0.567574</td>\n",
       "    </tr>\n",
       "    <tr>\n",
       "      <th>Outlet_Establishment_Year</th>\n",
       "      <td>-0.011588</td>\n",
       "      <td>-0.074834</td>\n",
       "      <td>0.005020</td>\n",
       "      <td>1.000000</td>\n",
       "      <td>-0.049135</td>\n",
       "    </tr>\n",
       "    <tr>\n",
       "      <th>Item_Outlet_Sales</th>\n",
       "      <td>0.014123</td>\n",
       "      <td>-0.128625</td>\n",
       "      <td>0.567574</td>\n",
       "      <td>-0.049135</td>\n",
       "      <td>1.000000</td>\n",
       "    </tr>\n",
       "  </tbody>\n",
       "</table>\n",
       "</div>"
      ],
      "text/plain": [
       "                           Item_Weight  Item_Visibility  Item_MRP  \\\n",
       "Item_Weight                   1.000000        -0.014048  0.027141   \n",
       "Item_Visibility              -0.014048         1.000000 -0.001315   \n",
       "Item_MRP                      0.027141        -0.001315  1.000000   \n",
       "Outlet_Establishment_Year    -0.011588        -0.074834  0.005020   \n",
       "Item_Outlet_Sales             0.014123        -0.128625  0.567574   \n",
       "\n",
       "                           Outlet_Establishment_Year  Item_Outlet_Sales  \n",
       "Item_Weight                                -0.011588           0.014123  \n",
       "Item_Visibility                            -0.074834          -0.128625  \n",
       "Item_MRP                                    0.005020           0.567574  \n",
       "Outlet_Establishment_Year                   1.000000          -0.049135  \n",
       "Item_Outlet_Sales                          -0.049135           1.000000  "
      ]
     },
     "execution_count": 35,
     "metadata": {},
     "output_type": "execute_result"
    }
   ],
   "source": [
    "# Heat map\n",
    "data.corr()"
   ]
  },
  {
   "cell_type": "code",
   "execution_count": 36,
   "metadata": {},
   "outputs": [
    {
     "data": {
      "image/png": "[encoded data removed]",
      "text/plain": [
       "<Figure size 1080x1080 with 2 Axes>"
      ]
     },
     "metadata": {
      "needs_background": "light"
     },
     "output_type": "display_data"
    }
   ],
   "source": [
    "colormap = plt.cm.viridis\n",
    "plt.figure(figsize=(15,15))\n",
    "plt.title('Supermarket Data Correlation of Features', size=15)\n",
    "ax = sns.heatmap(data.corr(), cmap=colormap, annot=True)\n",
    "bottom, top = ax.get_ylim()\n",
    "ax.set_ylim(bottom + 0.5, top - 0.5)\n",
    "plt.show()"
   ]
  },
  {
   "cell_type": "code",
   "execution_count": 37,
   "metadata": {},
   "outputs": [],
   "source": [
    "# plot histogram and Q-Q plots to have a look at the variable distribution\n",
    "\n",
    "def diagnostic_plots(df, variable):\n",
    "    \n",
    "    # function to plot a histogram and a Q-Q plot\n",
    "    # side by side, for a certain variable\n",
    "    \n",
    "    plt.figure(figsize=(15,6))\n",
    "    plt.subplot(1, 2, 1)\n",
    "    df[variable].hist(bins=30)\n",
    "\n",
    "    plt.subplot(1, 2, 2)\n",
    "    stats.probplot(df[variable], dist=\"norm\", plot=plt)\n",
    "\n",
    "    plt.show()"
   ]
  },
  {
   "cell_type": "markdown",
   "metadata": {},
   "source": [
    "### Cube root Transformations with Feature Engine <a id=\"FirstTransformation\"></a>"
   ]
  },
  {
   "cell_type": "markdown",
   "metadata": {},
   "source": [
    "[back to report](#NumericalData)"
   ]
  },
  {
   "cell_type": "code",
   "execution_count": 38,
   "metadata": {},
   "outputs": [
    {
     "data": {
      "image/png": "[encoded data removed]",
      "text/plain": [
       "<Figure size 1080x432 with 2 Axes>"
      ]
     },
     "metadata": {
      "needs_background": "light"
     },
     "output_type": "display_data"
    }
   ],
   "source": [
    "# Numerical Variable Transformation\n",
    "\n",
    "# check original distribution\n",
    "diagnostic_plots(data_trimmed, 'Item_Visibility')\n",
    "\n",
    "# not a normal distribution, rightly-skewed"
   ]
  },
  {
   "cell_type": "code",
   "execution_count": 39,
   "metadata": {},
   "outputs": [
    {
     "data": {
      "text/plain": [
       "PowerTransformer(exp=0.3333333333333333, variables=['Item_Visibility'])"
      ]
     },
     "execution_count": 39,
     "metadata": {},
     "output_type": "execute_result"
    }
   ],
   "source": [
    "# set up PowerTransformer with the square root exponent\n",
    "et = PowerTransformer(variables = ['Item_Visibility'], exp=1/3) # for cube root\n",
    "\n",
    "# fit transformer to data \n",
    "et.fit(data_trimmed)"
   ]
  },
  {
   "cell_type": "code",
   "execution_count": 40,
   "metadata": {},
   "outputs": [],
   "source": [
    "# transform indicated variables within our dataframe\n",
    "data_tf = et.transform(data_trimmed)"
   ]
  },
  {
   "cell_type": "code",
   "execution_count": 41,
   "metadata": {},
   "outputs": [
    {
     "data": {
      "image/png": "[encoded data removed]",
      "text/plain": [
       "<Figure size 1080x432 with 2 Axes>"
      ]
     },
     "metadata": {
      "needs_background": "light"
     },
     "output_type": "display_data"
    }
   ],
   "source": [
    "# visualize the trasnformation\n",
    "\n",
    "diagnostic_plots(data_tf, 'Item_Visibility')"
   ]
  },
  {
   "cell_type": "markdown",
   "metadata": {},
   "source": [
    "### Reciprocal Transformations with Feature Engine <a id=\"SecondTransformation\"></a>"
   ]
  },
  {
   "cell_type": "markdown",
   "metadata": {},
   "source": [
    "[back to report](#NumericalData)"
   ]
  },
  {
   "cell_type": "code",
   "execution_count": 42,
   "metadata": {},
   "outputs": [
    {
     "data": {
      "image/png": "[encoded data removed]",
      "text/plain": [
       "<Figure size 1080x432 with 2 Axes>"
      ]
     },
     "metadata": {
      "needs_background": "light"
     },
     "output_type": "display_data"
    }
   ],
   "source": [
    "# check original distribution\n",
    "diagnostic_plots(data_trimmed, 'Item_MRP')\n",
    "# somwhat symatrical"
   ]
  },
  {
   "cell_type": "code",
   "execution_count": 43,
   "metadata": {},
   "outputs": [
    {
     "data": {
      "text/plain": [
       "ReciprocalTransformer(variables=['Item_MRP'])"
      ]
     },
     "execution_count": 43,
     "metadata": {},
     "output_type": "execute_result"
    }
   ],
   "source": [
    "# initialize the transformer\n",
    "rt = ReciprocalTransformer(variables = ['Item_MRP'])\n",
    "\n",
    "# fit transformer to the entire dataframe\n",
    "rt.fit(data_trimmed)"
   ]
  },
  {
   "cell_type": "code",
   "execution_count": 44,
   "metadata": {},
   "outputs": [],
   "source": [
    "# transform the indicated variables within our data set\n",
    "data_tf = rt.transform(data_trimmed)"
   ]
  },
  {
   "cell_type": "code",
   "execution_count": 45,
   "metadata": {},
   "outputs": [
    {
     "data": {
      "image/png": "[encoded data removed]",
      "text/plain": [
       "<Figure size 1080x432 with 2 Axes>"
      ]
     },
     "metadata": {
      "needs_background": "light"
     },
     "output_type": "display_data"
    }
   ],
   "source": [
    "# use diagnostic plot function to evaluate transformation\n",
    "\n",
    "diagnostic_plots(data_tf, 'Item_MRP')"
   ]
  },
  {
   "cell_type": "markdown",
   "metadata": {},
   "source": [
    "### Box-Cox transformation with Feature Engine <a id=\"LastTransformation\"></a>"
   ]
  },
  {
   "cell_type": "markdown",
   "metadata": {},
   "source": [
    "[back to report](#NumericalData)"
   ]
  },
  {
   "cell_type": "code",
   "execution_count": 46,
   "metadata": {},
   "outputs": [
    {
     "data": {
      "image/png": "[encoded data removed]",
      "text/plain": [
       "<Figure size 1080x432 with 2 Axes>"
      ]
     },
     "metadata": {
      "needs_background": "light"
     },
     "output_type": "display_data"
    }
   ],
   "source": [
    "# check original distribution\n",
    "diagnostic_plots(data_trimmed,'Item_MRP') \n",
    "# symmetrical"
   ]
  },
  {
   "cell_type": "code",
   "execution_count": 47,
   "metadata": {},
   "outputs": [
    {
     "data": {
      "text/plain": [
       "BoxCoxTransformer(variables=['Item_MRP'])"
      ]
     },
     "execution_count": 47,
     "metadata": {},
     "output_type": "execute_result"
    }
   ],
   "source": [
    "# initialize the transformer with variables to transform\n",
    "bct = BoxCoxTransformer(variables = ['Item_MRP'])\n",
    "\n",
    "# fit transformer to the data set\n",
    "bct.fit(data_trimmed)"
   ]
  },
  {
   "cell_type": "code",
   "execution_count": 48,
   "metadata": {},
   "outputs": [],
   "source": [
    "# transform the indicated variables in our dataframe\n",
    "# returns a new dataframe\n",
    "\n",
    "data_tf = bct.transform(data_trimmed)"
   ]
  },
  {
   "cell_type": "code",
   "execution_count": 49,
   "metadata": {},
   "outputs": [
    {
     "data": {
      "image/png": "[encoded data removed]",
      "text/plain": [
       "<Figure size 1080x432 with 2 Axes>"
      ]
     },
     "metadata": {
      "needs_background": "light"
     },
     "output_type": "display_data"
    }
   ],
   "source": [
    "# visualize the distribution\n",
    "diagnostic_plots(data_tf, 'Item_MRP')"
   ]
  },
  {
   "cell_type": "markdown",
   "metadata": {},
   "source": [
    "### Step 5: Categorical Data Encoding <a id=\"CategoricalDataRunThrough\"></a>"
   ]
  },
  {
   "cell_type": "code",
   "execution_count": null,
   "metadata": {},
   "outputs": [],
   "source": [
    "[back to report](#CategoricalData)"
   ]
  },
  {
   "cell_type": "markdown",
   "metadata": {},
   "source": [
    "#### Using One Hot Encoding"
   ]
  },
  {
   "cell_type": "code",
   "execution_count": 50,
   "metadata": {},
   "outputs": [
    {
     "data": {
      "text/html": [
       "<div>\n",
       "<style scoped>\n",
       "    .dataframe tbody tr th:only-of-type {\n",
       "        vertical-align: middle;\n",
       "    }\n",
       "\n",
       "    .dataframe tbody tr th {\n",
       "        vertical-align: top;\n",
       "    }\n",
       "\n",
       "    .dataframe thead th {\n",
       "        text-align: right;\n",
       "    }\n",
       "</style>\n",
       "<table border=\"1\" class=\"dataframe\">\n",
       "  <thead>\n",
       "    <tr style=\"text-align: right;\">\n",
       "      <th></th>\n",
       "      <th>Item_Identifier</th>\n",
       "      <th>Item_Weight</th>\n",
       "      <th>Item_Fat_Content</th>\n",
       "      <th>Item_Visibility</th>\n",
       "      <th>Item_Type</th>\n",
       "      <th>Item_MRP</th>\n",
       "      <th>Outlet_Identifier</th>\n",
       "      <th>Outlet_Establishment_Year</th>\n",
       "      <th>Outlet_Size</th>\n",
       "      <th>Outlet_Location_Type</th>\n",
       "      <th>Outlet_Type</th>\n",
       "      <th>Item_Outlet_Sales</th>\n",
       "    </tr>\n",
       "  </thead>\n",
       "  <tbody>\n",
       "    <tr>\n",
       "      <th>0</th>\n",
       "      <td>FDA15</td>\n",
       "      <td>9.30</td>\n",
       "      <td>Low Fat</td>\n",
       "      <td>0.016047</td>\n",
       "      <td>Dairy</td>\n",
       "      <td>249.8092</td>\n",
       "      <td>OUT049</td>\n",
       "      <td>1999</td>\n",
       "      <td>Medium</td>\n",
       "      <td>Tier 1</td>\n",
       "      <td>Supermarket Type1</td>\n",
       "      <td>3735.1380</td>\n",
       "    </tr>\n",
       "    <tr>\n",
       "      <th>1</th>\n",
       "      <td>DRC01</td>\n",
       "      <td>5.92</td>\n",
       "      <td>Regular</td>\n",
       "      <td>0.019278</td>\n",
       "      <td>Soft Drinks</td>\n",
       "      <td>48.2692</td>\n",
       "      <td>OUT018</td>\n",
       "      <td>2009</td>\n",
       "      <td>Medium</td>\n",
       "      <td>Tier 3</td>\n",
       "      <td>Supermarket Type2</td>\n",
       "      <td>443.4228</td>\n",
       "    </tr>\n",
       "    <tr>\n",
       "      <th>2</th>\n",
       "      <td>FDN15</td>\n",
       "      <td>17.50</td>\n",
       "      <td>Low Fat</td>\n",
       "      <td>0.016760</td>\n",
       "      <td>Meat</td>\n",
       "      <td>141.6180</td>\n",
       "      <td>OUT049</td>\n",
       "      <td>1999</td>\n",
       "      <td>Medium</td>\n",
       "      <td>Tier 1</td>\n",
       "      <td>Supermarket Type1</td>\n",
       "      <td>2097.2700</td>\n",
       "    </tr>\n",
       "    <tr>\n",
       "      <th>3</th>\n",
       "      <td>FDX07</td>\n",
       "      <td>19.20</td>\n",
       "      <td>Regular</td>\n",
       "      <td>0.000000</td>\n",
       "      <td>Fruits and Vegetables</td>\n",
       "      <td>182.0950</td>\n",
       "      <td>OUT010</td>\n",
       "      <td>1998</td>\n",
       "      <td>NaN</td>\n",
       "      <td>Tier 3</td>\n",
       "      <td>Grocery Store</td>\n",
       "      <td>732.3800</td>\n",
       "    </tr>\n",
       "    <tr>\n",
       "      <th>4</th>\n",
       "      <td>NCD19</td>\n",
       "      <td>8.93</td>\n",
       "      <td>Low Fat</td>\n",
       "      <td>0.000000</td>\n",
       "      <td>Household</td>\n",
       "      <td>53.8614</td>\n",
       "      <td>OUT013</td>\n",
       "      <td>1987</td>\n",
       "      <td>High</td>\n",
       "      <td>Tier 3</td>\n",
       "      <td>Supermarket Type1</td>\n",
       "      <td>994.7052</td>\n",
       "    </tr>\n",
       "  </tbody>\n",
       "</table>\n",
       "</div>"
      ],
      "text/plain": [
       "  Item_Identifier  Item_Weight Item_Fat_Content  Item_Visibility  \\\n",
       "0           FDA15         9.30          Low Fat         0.016047   \n",
       "1           DRC01         5.92          Regular         0.019278   \n",
       "2           FDN15        17.50          Low Fat         0.016760   \n",
       "3           FDX07        19.20          Regular         0.000000   \n",
       "4           NCD19         8.93          Low Fat         0.000000   \n",
       "\n",
       "               Item_Type  Item_MRP Outlet_Identifier  \\\n",
       "0                  Dairy  249.8092            OUT049   \n",
       "1            Soft Drinks   48.2692            OUT018   \n",
       "2                   Meat  141.6180            OUT049   \n",
       "3  Fruits and Vegetables  182.0950            OUT010   \n",
       "4              Household   53.8614            OUT013   \n",
       "\n",
       "   Outlet_Establishment_Year Outlet_Size Outlet_Location_Type  \\\n",
       "0                       1999      Medium               Tier 1   \n",
       "1                       2009      Medium               Tier 3   \n",
       "2                       1999      Medium               Tier 1   \n",
       "3                       1998         NaN               Tier 3   \n",
       "4                       1987        High               Tier 3   \n",
       "\n",
       "         Outlet_Type  Item_Outlet_Sales  \n",
       "0  Supermarket Type1          3735.1380  \n",
       "1  Supermarket Type2           443.4228  \n",
       "2  Supermarket Type1          2097.2700  \n",
       "3      Grocery Store           732.3800  \n",
       "4  Supermarket Type1           994.7052  "
      ]
     },
     "execution_count": 50,
     "metadata": {},
     "output_type": "execute_result"
    }
   ],
   "source": [
    "data.head()"
   ]
  },
  {
   "cell_type": "code",
   "execution_count": 51,
   "metadata": {},
   "outputs": [],
   "source": [
    "# let's create the encoder\n",
    "from feature_engine.encoding import OneHotEncoder\n",
    "\n",
    "ohe_enc = OneHotEncoder(\n",
    "    top_categories=None,\n",
    "    drop_last=False)  # to return k-1, false to return k "
   ]
  },
  {
   "cell_type": "code",
   "execution_count": 52,
   "metadata": {},
   "outputs": [
    {
     "data": {
      "text/plain": [
       "OneHotEncoder()"
      ]
     },
     "execution_count": 52,
     "metadata": {},
     "output_type": "execute_result"
    }
   ],
   "source": [
    "ohe_enc.fit(X_train_student_final_premodel_version)"
   ]
  },
  {
   "cell_type": "code",
   "execution_count": 53,
   "metadata": {},
   "outputs": [
    {
     "data": {
      "text/plain": [
       "['Item_Identifier',\n",
       " 'Item_Fat_Content',\n",
       " 'Item_Type',\n",
       " 'Outlet_Identifier',\n",
       " 'Outlet_Size',\n",
       " 'Outlet_Location_Type',\n",
       " 'Outlet_Type']"
      ]
     },
     "execution_count": 53,
     "metadata": {},
     "output_type": "execute_result"
    }
   ],
   "source": [
    "# see which variables the encoder will encode\n",
    "\n",
    "ohe_enc.variables_"
   ]
  },
  {
   "cell_type": "code",
   "execution_count": 54,
   "metadata": {},
   "outputs": [
    {
     "name": "stderr",
     "output_type": "stream",
     "text": [
      "C:\\ProgramData\\Anaconda3\\lib\\site-packages\\feature_engine\\encoding\\one_hot.py:236: PerformanceWarning: DataFrame is highly fragmented.  This is usually the result of calling `frame.insert` many times, which has poor performance.  Consider joining all columns at once using pd.concat(axis=1) instead.  To get a de-fragmented frame, use `newframe = frame.copy()`\n",
      "  X[str(feature) + \"_\" + str(category)] = np.where(\n"
     ]
    },
    {
     "data": {
      "text/html": [
       "<div>\n",
       "<style scoped>\n",
       "    .dataframe tbody tr th:only-of-type {\n",
       "        vertical-align: middle;\n",
       "    }\n",
       "\n",
       "    .dataframe tbody tr th {\n",
       "        vertical-align: top;\n",
       "    }\n",
       "\n",
       "    .dataframe thead th {\n",
       "        text-align: right;\n",
       "    }\n",
       "</style>\n",
       "<table border=\"1\" class=\"dataframe\">\n",
       "  <thead>\n",
       "    <tr style=\"text-align: right;\">\n",
       "      <th></th>\n",
       "      <th>Item_Weight</th>\n",
       "      <th>Item_Visibility</th>\n",
       "      <th>Item_MRP</th>\n",
       "      <th>Outlet_Establishment_Year</th>\n",
       "      <th>Item_Identifier_NCP05</th>\n",
       "      <th>Item_Identifier_FDW46</th>\n",
       "      <th>Item_Identifier_FDE56</th>\n",
       "      <th>Item_Identifier_NCP06</th>\n",
       "      <th>Item_Identifier_FDQ34</th>\n",
       "      <th>Item_Identifier_FDB28</th>\n",
       "      <th>...</th>\n",
       "      <th>Outlet_Size_Medium</th>\n",
       "      <th>Outlet_Size_Small</th>\n",
       "      <th>Outlet_Size_High</th>\n",
       "      <th>Outlet_Location_Type_Tier 3</th>\n",
       "      <th>Outlet_Location_Type_Tier 2</th>\n",
       "      <th>Outlet_Location_Type_Tier 1</th>\n",
       "      <th>Outlet_Type_Grocery Store</th>\n",
       "      <th>Outlet_Type_Supermarket Type2</th>\n",
       "      <th>Outlet_Type_Supermarket Type1</th>\n",
       "      <th>Outlet_Type_Supermarket Type3</th>\n",
       "    </tr>\n",
       "  </thead>\n",
       "  <tbody>\n",
       "    <tr>\n",
       "      <th>7569</th>\n",
       "      <td>19.60000</td>\n",
       "      <td>0.042325</td>\n",
       "      <td>150.9024</td>\n",
       "      <td>1998</td>\n",
       "      <td>1</td>\n",
       "      <td>0</td>\n",
       "      <td>0</td>\n",
       "      <td>0</td>\n",
       "      <td>0</td>\n",
       "      <td>0</td>\n",
       "      <td>...</td>\n",
       "      <td>1</td>\n",
       "      <td>0</td>\n",
       "      <td>0</td>\n",
       "      <td>1</td>\n",
       "      <td>0</td>\n",
       "      <td>0</td>\n",
       "      <td>1</td>\n",
       "      <td>0</td>\n",
       "      <td>0</td>\n",
       "      <td>0</td>\n",
       "    </tr>\n",
       "    <tr>\n",
       "      <th>891</th>\n",
       "      <td>13.00000</td>\n",
       "      <td>0.070588</td>\n",
       "      <td>65.9484</td>\n",
       "      <td>2009</td>\n",
       "      <td>0</td>\n",
       "      <td>1</td>\n",
       "      <td>0</td>\n",
       "      <td>0</td>\n",
       "      <td>0</td>\n",
       "      <td>0</td>\n",
       "      <td>...</td>\n",
       "      <td>1</td>\n",
       "      <td>0</td>\n",
       "      <td>0</td>\n",
       "      <td>1</td>\n",
       "      <td>0</td>\n",
       "      <td>0</td>\n",
       "      <td>0</td>\n",
       "      <td>1</td>\n",
       "      <td>0</td>\n",
       "      <td>0</td>\n",
       "    </tr>\n",
       "    <tr>\n",
       "      <th>1629</th>\n",
       "      <td>17.25000</td>\n",
       "      <td>0.160096</td>\n",
       "      <td>61.5194</td>\n",
       "      <td>2007</td>\n",
       "      <td>0</td>\n",
       "      <td>0</td>\n",
       "      <td>1</td>\n",
       "      <td>0</td>\n",
       "      <td>0</td>\n",
       "      <td>0</td>\n",
       "      <td>...</td>\n",
       "      <td>1</td>\n",
       "      <td>0</td>\n",
       "      <td>0</td>\n",
       "      <td>0</td>\n",
       "      <td>1</td>\n",
       "      <td>0</td>\n",
       "      <td>0</td>\n",
       "      <td>0</td>\n",
       "      <td>1</td>\n",
       "      <td>0</td>\n",
       "    </tr>\n",
       "    <tr>\n",
       "      <th>6195</th>\n",
       "      <td>20.70000</td>\n",
       "      <td>0.039468</td>\n",
       "      <td>151.7366</td>\n",
       "      <td>2007</td>\n",
       "      <td>0</td>\n",
       "      <td>0</td>\n",
       "      <td>0</td>\n",
       "      <td>1</td>\n",
       "      <td>0</td>\n",
       "      <td>0</td>\n",
       "      <td>...</td>\n",
       "      <td>1</td>\n",
       "      <td>0</td>\n",
       "      <td>0</td>\n",
       "      <td>0</td>\n",
       "      <td>1</td>\n",
       "      <td>0</td>\n",
       "      <td>0</td>\n",
       "      <td>0</td>\n",
       "      <td>1</td>\n",
       "      <td>0</td>\n",
       "    </tr>\n",
       "    <tr>\n",
       "      <th>2613</th>\n",
       "      <td>28.83875</td>\n",
       "      <td>0.284066</td>\n",
       "      <td>105.5622</td>\n",
       "      <td>1985</td>\n",
       "      <td>0</td>\n",
       "      <td>0</td>\n",
       "      <td>0</td>\n",
       "      <td>0</td>\n",
       "      <td>1</td>\n",
       "      <td>0</td>\n",
       "      <td>...</td>\n",
       "      <td>0</td>\n",
       "      <td>1</td>\n",
       "      <td>0</td>\n",
       "      <td>0</td>\n",
       "      <td>0</td>\n",
       "      <td>1</td>\n",
       "      <td>1</td>\n",
       "      <td>0</td>\n",
       "      <td>0</td>\n",
       "      <td>0</td>\n",
       "    </tr>\n",
       "  </tbody>\n",
       "</table>\n",
       "<p>5 rows × 1586 columns</p>\n",
       "</div>"
      ],
      "text/plain": [
       "      Item_Weight  Item_Visibility  Item_MRP  Outlet_Establishment_Year  \\\n",
       "7569     19.60000         0.042325  150.9024                       1998   \n",
       "891      13.00000         0.070588   65.9484                       2009   \n",
       "1629     17.25000         0.160096   61.5194                       2007   \n",
       "6195     20.70000         0.039468  151.7366                       2007   \n",
       "2613     28.83875         0.284066  105.5622                       1985   \n",
       "\n",
       "      Item_Identifier_NCP05  Item_Identifier_FDW46  Item_Identifier_FDE56  \\\n",
       "7569                      1                      0                      0   \n",
       "891                       0                      1                      0   \n",
       "1629                      0                      0                      1   \n",
       "6195                      0                      0                      0   \n",
       "2613                      0                      0                      0   \n",
       "\n",
       "      Item_Identifier_NCP06  Item_Identifier_FDQ34  Item_Identifier_FDB28  \\\n",
       "7569                      0                      0                      0   \n",
       "891                       0                      0                      0   \n",
       "1629                      0                      0                      0   \n",
       "6195                      1                      0                      0   \n",
       "2613                      0                      1                      0   \n",
       "\n",
       "      ...  Outlet_Size_Medium  Outlet_Size_Small  Outlet_Size_High  \\\n",
       "7569  ...                   1                  0                 0   \n",
       "891   ...                   1                  0                 0   \n",
       "1629  ...                   1                  0                 0   \n",
       "6195  ...                   1                  0                 0   \n",
       "2613  ...                   0                  1                 0   \n",
       "\n",
       "      Outlet_Location_Type_Tier 3  Outlet_Location_Type_Tier 2  \\\n",
       "7569                            1                            0   \n",
       "891                             1                            0   \n",
       "1629                            0                            1   \n",
       "6195                            0                            1   \n",
       "2613                            0                            0   \n",
       "\n",
       "      Outlet_Location_Type_Tier 1  Outlet_Type_Grocery Store  \\\n",
       "7569                            0                          1   \n",
       "891                             0                          0   \n",
       "1629                            0                          0   \n",
       "6195                            0                          0   \n",
       "2613                            1                          1   \n",
       "\n",
       "      Outlet_Type_Supermarket Type2  Outlet_Type_Supermarket Type1  \\\n",
       "7569                              0                              0   \n",
       "891                               1                              0   \n",
       "1629                              0                              1   \n",
       "6195                              0                              1   \n",
       "2613                              0                              0   \n",
       "\n",
       "      Outlet_Type_Supermarket Type3  \n",
       "7569                              0  \n",
       "891                               0  \n",
       "1629                              0  \n",
       "6195                              0  \n",
       "2613                              0  \n",
       "\n",
       "[5 rows x 1586 columns]"
      ]
     },
     "execution_count": 54,
     "metadata": {},
     "output_type": "execute_result"
    }
   ],
   "source": [
    "X_train_student_final_premodel_version = ohe_enc.transform(X_train_student_final_premodel_version)\n",
    "X_test_student_final_premodel_version = ohe_enc.transform(X_test_student_final_premodel_version)\n",
    "\n",
    "X_train_student_final_premodel_version.head()"
   ]
  },
  {
   "cell_type": "code",
   "execution_count": 55,
   "metadata": {},
   "outputs": [
    {
     "data": {
      "text/html": [
       "<div>\n",
       "<style scoped>\n",
       "    .dataframe tbody tr th:only-of-type {\n",
       "        vertical-align: middle;\n",
       "    }\n",
       "\n",
       "    .dataframe tbody tr th {\n",
       "        vertical-align: top;\n",
       "    }\n",
       "\n",
       "    .dataframe thead th {\n",
       "        text-align: right;\n",
       "    }\n",
       "</style>\n",
       "<table border=\"1\" class=\"dataframe\">\n",
       "  <thead>\n",
       "    <tr style=\"text-align: right;\">\n",
       "      <th></th>\n",
       "      <th>Item_Weight</th>\n",
       "      <th>Item_Visibility</th>\n",
       "      <th>Item_MRP</th>\n",
       "      <th>Outlet_Establishment_Year</th>\n",
       "      <th>Item_Identifier_NCP05</th>\n",
       "      <th>Item_Identifier_FDW46</th>\n",
       "      <th>Item_Identifier_FDE56</th>\n",
       "      <th>Item_Identifier_NCP06</th>\n",
       "      <th>Item_Identifier_FDQ34</th>\n",
       "      <th>Item_Identifier_FDB28</th>\n",
       "      <th>...</th>\n",
       "      <th>Outlet_Size_Medium</th>\n",
       "      <th>Outlet_Size_Small</th>\n",
       "      <th>Outlet_Size_High</th>\n",
       "      <th>Outlet_Location_Type_Tier 3</th>\n",
       "      <th>Outlet_Location_Type_Tier 2</th>\n",
       "      <th>Outlet_Location_Type_Tier 1</th>\n",
       "      <th>Outlet_Type_Grocery Store</th>\n",
       "      <th>Outlet_Type_Supermarket Type2</th>\n",
       "      <th>Outlet_Type_Supermarket Type1</th>\n",
       "      <th>Outlet_Type_Supermarket Type3</th>\n",
       "    </tr>\n",
       "  </thead>\n",
       "  <tbody>\n",
       "    <tr>\n",
       "      <th>8491</th>\n",
       "      <td>10.39500</td>\n",
       "      <td>0.037033</td>\n",
       "      <td>227.9352</td>\n",
       "      <td>2009</td>\n",
       "      <td>0</td>\n",
       "      <td>0</td>\n",
       "      <td>0</td>\n",
       "      <td>0</td>\n",
       "      <td>0</td>\n",
       "      <td>0</td>\n",
       "      <td>...</td>\n",
       "      <td>1</td>\n",
       "      <td>0</td>\n",
       "      <td>0</td>\n",
       "      <td>1</td>\n",
       "      <td>0</td>\n",
       "      <td>0</td>\n",
       "      <td>0</td>\n",
       "      <td>1</td>\n",
       "      <td>0</td>\n",
       "      <td>0</td>\n",
       "    </tr>\n",
       "    <tr>\n",
       "      <th>2377</th>\n",
       "      <td>12.35000</td>\n",
       "      <td>0.033761</td>\n",
       "      <td>196.9426</td>\n",
       "      <td>1997</td>\n",
       "      <td>0</td>\n",
       "      <td>0</td>\n",
       "      <td>0</td>\n",
       "      <td>0</td>\n",
       "      <td>0</td>\n",
       "      <td>0</td>\n",
       "      <td>...</td>\n",
       "      <td>0</td>\n",
       "      <td>1</td>\n",
       "      <td>0</td>\n",
       "      <td>0</td>\n",
       "      <td>0</td>\n",
       "      <td>1</td>\n",
       "      <td>0</td>\n",
       "      <td>0</td>\n",
       "      <td>1</td>\n",
       "      <td>0</td>\n",
       "    </tr>\n",
       "    <tr>\n",
       "      <th>526</th>\n",
       "      <td>8.60000</td>\n",
       "      <td>0.032754</td>\n",
       "      <td>140.5154</td>\n",
       "      <td>2009</td>\n",
       "      <td>0</td>\n",
       "      <td>0</td>\n",
       "      <td>0</td>\n",
       "      <td>0</td>\n",
       "      <td>0</td>\n",
       "      <td>0</td>\n",
       "      <td>...</td>\n",
       "      <td>1</td>\n",
       "      <td>0</td>\n",
       "      <td>0</td>\n",
       "      <td>1</td>\n",
       "      <td>0</td>\n",
       "      <td>0</td>\n",
       "      <td>0</td>\n",
       "      <td>1</td>\n",
       "      <td>0</td>\n",
       "      <td>0</td>\n",
       "    </tr>\n",
       "    <tr>\n",
       "      <th>8056</th>\n",
       "      <td>16.20000</td>\n",
       "      <td>0.050546</td>\n",
       "      <td>191.6162</td>\n",
       "      <td>2009</td>\n",
       "      <td>0</td>\n",
       "      <td>0</td>\n",
       "      <td>0</td>\n",
       "      <td>0</td>\n",
       "      <td>0</td>\n",
       "      <td>0</td>\n",
       "      <td>...</td>\n",
       "      <td>1</td>\n",
       "      <td>0</td>\n",
       "      <td>0</td>\n",
       "      <td>1</td>\n",
       "      <td>0</td>\n",
       "      <td>0</td>\n",
       "      <td>0</td>\n",
       "      <td>1</td>\n",
       "      <td>0</td>\n",
       "      <td>0</td>\n",
       "    </tr>\n",
       "    <tr>\n",
       "      <th>1689</th>\n",
       "      <td>28.83875</td>\n",
       "      <td>0.048546</td>\n",
       "      <td>60.1194</td>\n",
       "      <td>1985</td>\n",
       "      <td>0</td>\n",
       "      <td>0</td>\n",
       "      <td>0</td>\n",
       "      <td>0</td>\n",
       "      <td>0</td>\n",
       "      <td>0</td>\n",
       "      <td>...</td>\n",
       "      <td>1</td>\n",
       "      <td>0</td>\n",
       "      <td>0</td>\n",
       "      <td>1</td>\n",
       "      <td>0</td>\n",
       "      <td>0</td>\n",
       "      <td>0</td>\n",
       "      <td>0</td>\n",
       "      <td>0</td>\n",
       "      <td>1</td>\n",
       "    </tr>\n",
       "  </tbody>\n",
       "</table>\n",
       "<p>5 rows × 1586 columns</p>\n",
       "</div>"
      ],
      "text/plain": [
       "      Item_Weight  Item_Visibility  Item_MRP  Outlet_Establishment_Year  \\\n",
       "8491     10.39500         0.037033  227.9352                       2009   \n",
       "2377     12.35000         0.033761  196.9426                       1997   \n",
       "526       8.60000         0.032754  140.5154                       2009   \n",
       "8056     16.20000         0.050546  191.6162                       2009   \n",
       "1689     28.83875         0.048546   60.1194                       1985   \n",
       "\n",
       "      Item_Identifier_NCP05  Item_Identifier_FDW46  Item_Identifier_FDE56  \\\n",
       "8491                      0                      0                      0   \n",
       "2377                      0                      0                      0   \n",
       "526                       0                      0                      0   \n",
       "8056                      0                      0                      0   \n",
       "1689                      0                      0                      0   \n",
       "\n",
       "      Item_Identifier_NCP06  Item_Identifier_FDQ34  Item_Identifier_FDB28  \\\n",
       "8491                      0                      0                      0   \n",
       "2377                      0                      0                      0   \n",
       "526                       0                      0                      0   \n",
       "8056                      0                      0                      0   \n",
       "1689                      0                      0                      0   \n",
       "\n",
       "      ...  Outlet_Size_Medium  Outlet_Size_Small  Outlet_Size_High  \\\n",
       "8491  ...                   1                  0                 0   \n",
       "2377  ...                   0                  1                 0   \n",
       "526   ...                   1                  0                 0   \n",
       "8056  ...                   1                  0                 0   \n",
       "1689  ...                   1                  0                 0   \n",
       "\n",
       "      Outlet_Location_Type_Tier 3  Outlet_Location_Type_Tier 2  \\\n",
       "8491                            1                            0   \n",
       "2377                            0                            0   \n",
       "526                             1                            0   \n",
       "8056                            1                            0   \n",
       "1689                            1                            0   \n",
       "\n",
       "      Outlet_Location_Type_Tier 1  Outlet_Type_Grocery Store  \\\n",
       "8491                            0                          0   \n",
       "2377                            1                          0   \n",
       "526                             0                          0   \n",
       "8056                            0                          0   \n",
       "1689                            0                          0   \n",
       "\n",
       "      Outlet_Type_Supermarket Type2  Outlet_Type_Supermarket Type1  \\\n",
       "8491                              1                              0   \n",
       "2377                              0                              1   \n",
       "526                               1                              0   \n",
       "8056                              1                              0   \n",
       "1689                              0                              0   \n",
       "\n",
       "      Outlet_Type_Supermarket Type3  \n",
       "8491                              0  \n",
       "2377                              0  \n",
       "526                               0  \n",
       "8056                              0  \n",
       "1689                              1  \n",
       "\n",
       "[5 rows x 1586 columns]"
      ]
     },
     "execution_count": 55,
     "metadata": {},
     "output_type": "execute_result"
    }
   ],
   "source": [
    "X_test_student_final_premodel_version.head() # encoded test set"
   ]
  },
  {
   "cell_type": "code",
   "execution_count": null,
   "metadata": {},
   "outputs": [],
   "source": []
  },
  {
   "cell_type": "markdown",
   "metadata": {},
   "source": [
    "### Step 6: Variable Discretization /Binning"
   ]
  },
  {
   "cell_type": "code",
   "execution_count": 56,
   "metadata": {},
   "outputs": [
    {
     "data": {
      "text/plain": [
       "KBinsDiscretizer(encode='ordinal', n_bins=10, strategy='uniform')"
      ]
     },
     "execution_count": 56,
     "metadata": {},
     "output_type": "execute_result"
    }
   ],
   "source": [
    "# let's set up an equal-width discretizer into 10 intervals\n",
    "\n",
    "disc = KBinsDiscretizer(n_bins=10, encode='ordinal', strategy='uniform')\n",
    "\n",
    "# let's fit the discretizer so it learns the interval limits\n",
    "disc.fit(X_train_student_final_premodel_version[['Item_MRP', 'Outlet_Establishment_Year', 'Item_Visibility', 'Item_Weight']])"
   ]
  },
  {
   "cell_type": "code",
   "execution_count": 57,
   "metadata": {},
   "outputs": [
    {
     "data": {
      "text/plain": [
       "array([array([ 31.29   ,  54.84984,  78.40968, 101.96952, 125.52936, 149.0892 ,\n",
       "              172.64904, 196.20888, 219.76872, 243.32856, 266.8884 ])          ,\n",
       "       array([1985. , 1987.4, 1989.8, 1992.2, 1994.6, 1997. , 1999.4, 2001.8,\n",
       "              2004.2, 2006.6, 2009. ])                                       ,\n",
       "       array([0.        , 0.03283909, 0.06567819, 0.09851728, 0.13135638,\n",
       "              0.16419547, 0.19703457, 0.22987366, 0.26271276, 0.29555185,\n",
       "              0.32839095])                                               ,\n",
       "       array([ 4.555   ,  6.983375,  9.41175 , 11.840125, 14.2685  , 16.696875,\n",
       "              19.12525 , 21.553625, 23.982   , 26.410375, 28.83875 ])          ],\n",
       "      dtype=object)"
      ]
     },
     "execution_count": 57,
     "metadata": {},
     "output_type": "execute_result"
    }
   ],
   "source": [
    "# the interval limits are stored in the bin_edges_attribute\n",
    "\n",
    "disc.bin_edges_ # same as interval limits"
   ]
  },
  {
   "cell_type": "code",
   "execution_count": 58,
   "metadata": {},
   "outputs": [
    {
     "data": {
      "text/html": [
       "<div>\n",
       "<style scoped>\n",
       "    .dataframe tbody tr th:only-of-type {\n",
       "        vertical-align: middle;\n",
       "    }\n",
       "\n",
       "    .dataframe tbody tr th {\n",
       "        vertical-align: top;\n",
       "    }\n",
       "\n",
       "    .dataframe thead th {\n",
       "        text-align: right;\n",
       "    }\n",
       "</style>\n",
       "<table border=\"1\" class=\"dataframe\">\n",
       "  <thead>\n",
       "    <tr style=\"text-align: right;\">\n",
       "      <th></th>\n",
       "      <th>Item_MRP</th>\n",
       "      <th>Outlet_Establishment_Year</th>\n",
       "      <th>Item_Visibility</th>\n",
       "      <th>Item_Weight</th>\n",
       "    </tr>\n",
       "  </thead>\n",
       "  <tbody>\n",
       "    <tr>\n",
       "      <th>0</th>\n",
       "      <td>5.0</td>\n",
       "      <td>5.0</td>\n",
       "      <td>1.0</td>\n",
       "      <td>6.0</td>\n",
       "    </tr>\n",
       "    <tr>\n",
       "      <th>1</th>\n",
       "      <td>1.0</td>\n",
       "      <td>9.0</td>\n",
       "      <td>2.0</td>\n",
       "      <td>3.0</td>\n",
       "    </tr>\n",
       "    <tr>\n",
       "      <th>2</th>\n",
       "      <td>1.0</td>\n",
       "      <td>9.0</td>\n",
       "      <td>4.0</td>\n",
       "      <td>5.0</td>\n",
       "    </tr>\n",
       "    <tr>\n",
       "      <th>3</th>\n",
       "      <td>5.0</td>\n",
       "      <td>9.0</td>\n",
       "      <td>1.0</td>\n",
       "      <td>6.0</td>\n",
       "    </tr>\n",
       "    <tr>\n",
       "      <th>4</th>\n",
       "      <td>3.0</td>\n",
       "      <td>0.0</td>\n",
       "      <td>8.0</td>\n",
       "      <td>9.0</td>\n",
       "    </tr>\n",
       "  </tbody>\n",
       "</table>\n",
       "</div>"
      ],
      "text/plain": [
       "   Item_MRP  Outlet_Establishment_Year  Item_Visibility  Item_Weight\n",
       "0       5.0                        5.0              1.0          6.0\n",
       "1       1.0                        9.0              2.0          3.0\n",
       "2       1.0                        9.0              4.0          5.0\n",
       "3       5.0                        9.0              1.0          6.0\n",
       "4       3.0                        0.0              8.0          9.0"
      ]
     },
     "execution_count": 58,
     "metadata": {},
     "output_type": "execute_result"
    }
   ],
   "source": [
    "# let's transform the train set, remember that Sklearn returns Numpy arrays\n",
    "train_t = disc.transform(X_train_student_final_premodel_version[['Item_MRP', 'Outlet_Establishment_Year', 'Item_Visibility', 'Item_Weight']])\n",
    "\n",
    "# transform array to dataframe\n",
    "train_t = pd.DataFrame(train_t, columns = ['Item_MRP', 'Outlet_Establishment_Year', 'Item_Visibility', 'Item_Weight'])\n",
    "\n",
    "train_t.head()"
   ]
  },
  {
   "cell_type": "code",
   "execution_count": 59,
   "metadata": {},
   "outputs": [],
   "source": [
    "# same thing for test set\n",
    "\n",
    "test_t = disc.transform(X_test_student_final_premodel_version[['Item_MRP', 'Outlet_Establishment_Year', 'Item_Visibility', 'Item_Weight']])\n",
    "\n",
    "test_t = pd.DataFrame(test_t, columns = ['Item_MRP', 'Outlet_Establishment_Year', 'Item_Visibility', 'Item_Weight'])"
   ]
  },
  {
   "cell_type": "markdown",
   "metadata": {},
   "source": [
    "#### Item_MRP <a id=\"ItemMRP\"></a>"
   ]
  },
  {
   "cell_type": "markdown",
   "metadata": {},
   "source": [
    "[back to report](#NumericalData)"
   ]
  },
  {
   "cell_type": "code",
   "execution_count": 60,
   "metadata": {},
   "outputs": [
    {
     "data": {
      "text/plain": [
       "Text(0, 0.5, 'Number of observations per bin')"
      ]
     },
     "execution_count": 60,
     "metadata": {},
     "output_type": "execute_result"
    },
    {
     "data": {
      "image/png": "[encoded data removed]",
      "text/plain": [
       "<Figure size 432x288 with 1 Axes>"
      ]
     },
     "metadata": {
      "needs_background": "light"
     },
     "output_type": "display_data"
    }
   ],
   "source": [
    "# if the distributions in train and test set are similar, we should expect similar propotion of\n",
    "# observations in the different intervals in the train and test set\n",
    "\n",
    "t1 = train_t.groupby(['Item_MRP'])['Item_MRP'].count() / len(train_t)\n",
    "t2 = test_t.groupby(['Item_MRP'])['Item_MRP'].count() / len(test_t)\n",
    "\n",
    "tmp = pd.concat([t1, t2], axis=1)\n",
    "tmp.columns = ['train', 'test']\n",
    "tmp.plot.bar()\n",
    "plt.xticks(rotation=45)\n",
    "plt.ylabel('Number of observations per bin')"
   ]
  },
  {
   "cell_type": "markdown",
   "metadata": {},
   "source": [
    "#### Outlet_Establishment_Year <a id=\"OutletYear\"></a>"
   ]
  },
  {
   "cell_type": "markdown",
   "metadata": {},
   "source": [
    "[back to report](#NumericalData)"
   ]
  },
  {
   "cell_type": "code",
   "execution_count": 61,
   "metadata": {},
   "outputs": [
    {
     "data": {
      "text/plain": [
       "Text(0, 0.5, 'Number of observations per bin')"
      ]
     },
     "execution_count": 61,
     "metadata": {},
     "output_type": "execute_result"
    },
    {
     "data": {
      "image/png": "[encoded data removed]",
      "text/plain": [
       "<Figure size 432x288 with 1 Axes>"
      ]
     },
     "metadata": {
      "needs_background": "light"
     },
     "output_type": "display_data"
    }
   ],
   "source": [
    "t1 = train_t.groupby(['Outlet_Establishment_Year'])['Outlet_Establishment_Year'].count() / len(train_t)\n",
    "t2 = test_t.groupby(['Outlet_Establishment_Year'])['Outlet_Establishment_Year'].count() / len(test_t)\n",
    "\n",
    "tmp = pd.concat([t1, t2], axis=1)\n",
    "tmp.columns = ['train', 'test']\n",
    "tmp.plot.bar()\n",
    "plt.xticks(rotation=45)\n",
    "plt.ylabel('Number of observations per bin')"
   ]
  },
  {
   "cell_type": "markdown",
   "metadata": {},
   "source": [
    "#### Item_Visibility <a id=\"ItemVisibility\"></a>"
   ]
  },
  {
   "cell_type": "markdown",
   "metadata": {},
   "source": [
    "[back to report](#NumericalData)"
   ]
  },
  {
   "cell_type": "code",
   "execution_count": 62,
   "metadata": {},
   "outputs": [
    {
     "data": {
      "text/plain": [
       "Text(0, 0.5, 'Number of observations per bin')"
      ]
     },
     "execution_count": 62,
     "metadata": {},
     "output_type": "execute_result"
    },
    {
     "data": {
      "image/png": "[encoded data removed]",
      "text/plain": [
       "<Figure size 432x288 with 1 Axes>"
      ]
     },
     "metadata": {
      "needs_background": "light"
     },
     "output_type": "display_data"
    }
   ],
   "source": [
    "t1 = train_t.groupby(['Item_Visibility'])['Item_Visibility'].count() / len(train_t)\n",
    "t2 = test_t.groupby(['Item_Visibility'])['Item_Visibility'].count() / len(test_t)\n",
    "\n",
    "tmp = pd.concat([t1, t2], axis=1)\n",
    "tmp.columns = ['train', 'test']\n",
    "tmp.plot.bar()\n",
    "plt.xticks(rotation=45)\n",
    "plt.ylabel('Number of observations per bin')"
   ]
  },
  {
   "cell_type": "markdown",
   "metadata": {},
   "source": [
    "#### Item_Weight <a id=\"ItemWeight\"></a>"
   ]
  },
  {
   "cell_type": "markdown",
   "metadata": {},
   "source": [
    "[back to report](#NumericalData)"
   ]
  },
  {
   "cell_type": "code",
   "execution_count": 63,
   "metadata": {},
   "outputs": [
    {
     "data": {
      "text/plain": [
       "Text(0, 0.5, 'Number of observations per bin')"
      ]
     },
     "execution_count": 63,
     "metadata": {},
     "output_type": "execute_result"
    },
    {
     "data": {
      "image/png": "[encoded data removed]",
      "text/plain": [
       "<Figure size 432x288 with 1 Axes>"
      ]
     },
     "metadata": {
      "needs_background": "light"
     },
     "output_type": "display_data"
    }
   ],
   "source": [
    "t1 = train_t.groupby(['Item_Weight'])['Item_Weight'].count() / len(train_t)\n",
    "t2 = test_t.groupby(['Item_Weight'])['Item_Weight'].count() / len(test_t)\n",
    "\n",
    "tmp = pd.concat([t1, t2], axis=1)\n",
    "tmp.columns = ['train', 'test']\n",
    "tmp.plot.bar()\n",
    "plt.xticks(rotation=45)\n",
    "plt.ylabel('Number of observations per bin')"
   ]
  },
  {
   "cell_type": "code",
   "execution_count": null,
   "metadata": {},
   "outputs": [],
   "source": []
  },
  {
   "cell_type": "markdown",
   "metadata": {},
   "source": [
    "### Step 7: Feature Engineer"
   ]
  },
  {
   "cell_type": "markdown",
   "metadata": {},
   "source": [
    "#### Using Mean-normalization <a id=\"meanNormal\"></a>"
   ]
  },
  {
   "cell_type": "markdown",
   "metadata": {},
   "source": [
    "[back to report](#FeatureEngineer)"
   ]
  },
  {
   "cell_type": "code",
   "execution_count": 64,
   "metadata": {},
   "outputs": [],
   "source": [
    "numCols = ['Item_Weight', 'Item_Visibility', 'Item_MRP', 'Outlet_Establishment_Year']"
   ]
  },
  {
   "cell_type": "code",
   "execution_count": 65,
   "metadata": {},
   "outputs": [
    {
     "data": {
      "text/plain": [
       "Item_Weight                        15.577683\n",
       "Item_Visibility                     0.066253\n",
       "Item_MRP                          138.819420\n",
       "Outlet_Establishment_Year        1997.812339\n",
       "Item_Identifier_NCP05               0.001028\n",
       "                                    ...     \n",
       "Outlet_Location_Type_Tier 1         0.286889\n",
       "Outlet_Type_Grocery Store           0.134362\n",
       "Outlet_Type_Supermarket Type2       0.111054\n",
       "Outlet_Type_Supermarket Type1       0.655184\n",
       "Outlet_Type_Supermarket Type3       0.099400\n",
       "Length: 1586, dtype: float64"
      ]
     },
     "execution_count": 65,
     "metadata": {},
     "output_type": "execute_result"
    }
   ],
   "source": [
    "# mean of the train set\n",
    "\n",
    "means = X_train_student_final_premodel_version.mean(axis=0)\n",
    "means"
   ]
  },
  {
   "cell_type": "code",
   "execution_count": 66,
   "metadata": {},
   "outputs": [
    {
     "data": {
      "text/plain": [
       "Item_Weight                   24.283750\n",
       "Item_Visibility                0.328391\n",
       "Item_MRP                     235.598400\n",
       "Outlet_Establishment_Year     24.000000\n",
       "dtype: float64"
      ]
     },
     "execution_count": 66,
     "metadata": {},
     "output_type": "execute_result"
    }
   ],
   "source": [
    "ranges = X_train_student_final_premodel_version[numCols].max(axis=0) - X_train_student_final_premodel_version[numCols].min(axis=0)\n",
    "ranges"
   ]
  },
  {
   "cell_type": "code",
   "execution_count": 67,
   "metadata": {},
   "outputs": [],
   "source": [
    "X_train_scaled = (X_train_student_final_premodel_version - means) / ranges\n",
    "X_test_scaled = (X_test_student_final_premodel_version - means) / ranges"
   ]
  },
  {
   "cell_type": "code",
   "execution_count": 68,
   "metadata": {},
   "outputs": [
    {
     "data": {
      "text/html": [
       "<div>\n",
       "<style scoped>\n",
       "    .dataframe tbody tr th:only-of-type {\n",
       "        vertical-align: middle;\n",
       "    }\n",
       "\n",
       "    .dataframe tbody tr th {\n",
       "        vertical-align: top;\n",
       "    }\n",
       "\n",
       "    .dataframe thead th {\n",
       "        text-align: right;\n",
       "    }\n",
       "</style>\n",
       "<table border=\"1\" class=\"dataframe\">\n",
       "  <thead>\n",
       "    <tr style=\"text-align: right;\">\n",
       "      <th></th>\n",
       "      <th>Item_Weight</th>\n",
       "      <th>Item_Visibility</th>\n",
       "      <th>Item_MRP</th>\n",
       "      <th>Outlet_Establishment_Year</th>\n",
       "      <th>Item_Identifier_NCP05</th>\n",
       "      <th>Item_Identifier_FDW46</th>\n",
       "      <th>Item_Identifier_FDE56</th>\n",
       "      <th>Item_Identifier_NCP06</th>\n",
       "      <th>Item_Identifier_FDQ34</th>\n",
       "      <th>Item_Identifier_FDB28</th>\n",
       "      <th>...</th>\n",
       "      <th>Outlet_Size_Medium</th>\n",
       "      <th>Outlet_Size_Small</th>\n",
       "      <th>Outlet_Size_High</th>\n",
       "      <th>Outlet_Location_Type_Tier 3</th>\n",
       "      <th>Outlet_Location_Type_Tier 2</th>\n",
       "      <th>Outlet_Location_Type_Tier 1</th>\n",
       "      <th>Outlet_Type_Grocery Store</th>\n",
       "      <th>Outlet_Type_Supermarket Type2</th>\n",
       "      <th>Outlet_Type_Supermarket Type1</th>\n",
       "      <th>Outlet_Type_Supermarket Type3</th>\n",
       "    </tr>\n",
       "  </thead>\n",
       "  <tbody>\n",
       "    <tr>\n",
       "      <th>7569</th>\n",
       "      <td>19.60000</td>\n",
       "      <td>0.042325</td>\n",
       "      <td>150.9024</td>\n",
       "      <td>1998</td>\n",
       "      <td>1</td>\n",
       "      <td>0</td>\n",
       "      <td>0</td>\n",
       "      <td>0</td>\n",
       "      <td>0</td>\n",
       "      <td>0</td>\n",
       "      <td>...</td>\n",
       "      <td>1</td>\n",
       "      <td>0</td>\n",
       "      <td>0</td>\n",
       "      <td>1</td>\n",
       "      <td>0</td>\n",
       "      <td>0</td>\n",
       "      <td>1</td>\n",
       "      <td>0</td>\n",
       "      <td>0</td>\n",
       "      <td>0</td>\n",
       "    </tr>\n",
       "    <tr>\n",
       "      <th>891</th>\n",
       "      <td>13.00000</td>\n",
       "      <td>0.070588</td>\n",
       "      <td>65.9484</td>\n",
       "      <td>2009</td>\n",
       "      <td>0</td>\n",
       "      <td>1</td>\n",
       "      <td>0</td>\n",
       "      <td>0</td>\n",
       "      <td>0</td>\n",
       "      <td>0</td>\n",
       "      <td>...</td>\n",
       "      <td>1</td>\n",
       "      <td>0</td>\n",
       "      <td>0</td>\n",
       "      <td>1</td>\n",
       "      <td>0</td>\n",
       "      <td>0</td>\n",
       "      <td>0</td>\n",
       "      <td>1</td>\n",
       "      <td>0</td>\n",
       "      <td>0</td>\n",
       "    </tr>\n",
       "    <tr>\n",
       "      <th>1629</th>\n",
       "      <td>17.25000</td>\n",
       "      <td>0.160096</td>\n",
       "      <td>61.5194</td>\n",
       "      <td>2007</td>\n",
       "      <td>0</td>\n",
       "      <td>0</td>\n",
       "      <td>1</td>\n",
       "      <td>0</td>\n",
       "      <td>0</td>\n",
       "      <td>0</td>\n",
       "      <td>...</td>\n",
       "      <td>1</td>\n",
       "      <td>0</td>\n",
       "      <td>0</td>\n",
       "      <td>0</td>\n",
       "      <td>1</td>\n",
       "      <td>0</td>\n",
       "      <td>0</td>\n",
       "      <td>0</td>\n",
       "      <td>1</td>\n",
       "      <td>0</td>\n",
       "    </tr>\n",
       "    <tr>\n",
       "      <th>6195</th>\n",
       "      <td>20.70000</td>\n",
       "      <td>0.039468</td>\n",
       "      <td>151.7366</td>\n",
       "      <td>2007</td>\n",
       "      <td>0</td>\n",
       "      <td>0</td>\n",
       "      <td>0</td>\n",
       "      <td>1</td>\n",
       "      <td>0</td>\n",
       "      <td>0</td>\n",
       "      <td>...</td>\n",
       "      <td>1</td>\n",
       "      <td>0</td>\n",
       "      <td>0</td>\n",
       "      <td>0</td>\n",
       "      <td>1</td>\n",
       "      <td>0</td>\n",
       "      <td>0</td>\n",
       "      <td>0</td>\n",
       "      <td>1</td>\n",
       "      <td>0</td>\n",
       "    </tr>\n",
       "    <tr>\n",
       "      <th>2613</th>\n",
       "      <td>28.83875</td>\n",
       "      <td>0.284066</td>\n",
       "      <td>105.5622</td>\n",
       "      <td>1985</td>\n",
       "      <td>0</td>\n",
       "      <td>0</td>\n",
       "      <td>0</td>\n",
       "      <td>0</td>\n",
       "      <td>1</td>\n",
       "      <td>0</td>\n",
       "      <td>...</td>\n",
       "      <td>0</td>\n",
       "      <td>1</td>\n",
       "      <td>0</td>\n",
       "      <td>0</td>\n",
       "      <td>0</td>\n",
       "      <td>1</td>\n",
       "      <td>1</td>\n",
       "      <td>0</td>\n",
       "      <td>0</td>\n",
       "      <td>0</td>\n",
       "    </tr>\n",
       "  </tbody>\n",
       "</table>\n",
       "<p>5 rows × 1586 columns</p>\n",
       "</div>"
      ],
      "text/plain": [
       "      Item_Weight  Item_Visibility  Item_MRP  Outlet_Establishment_Year  \\\n",
       "7569     19.60000         0.042325  150.9024                       1998   \n",
       "891      13.00000         0.070588   65.9484                       2009   \n",
       "1629     17.25000         0.160096   61.5194                       2007   \n",
       "6195     20.70000         0.039468  151.7366                       2007   \n",
       "2613     28.83875         0.284066  105.5622                       1985   \n",
       "\n",
       "      Item_Identifier_NCP05  Item_Identifier_FDW46  Item_Identifier_FDE56  \\\n",
       "7569                      1                      0                      0   \n",
       "891                       0                      1                      0   \n",
       "1629                      0                      0                      1   \n",
       "6195                      0                      0                      0   \n",
       "2613                      0                      0                      0   \n",
       "\n",
       "      Item_Identifier_NCP06  Item_Identifier_FDQ34  Item_Identifier_FDB28  \\\n",
       "7569                      0                      0                      0   \n",
       "891                       0                      0                      0   \n",
       "1629                      0                      0                      0   \n",
       "6195                      1                      0                      0   \n",
       "2613                      0                      1                      0   \n",
       "\n",
       "      ...  Outlet_Size_Medium  Outlet_Size_Small  Outlet_Size_High  \\\n",
       "7569  ...                   1                  0                 0   \n",
       "891   ...                   1                  0                 0   \n",
       "1629  ...                   1                  0                 0   \n",
       "6195  ...                   1                  0                 0   \n",
       "2613  ...                   0                  1                 0   \n",
       "\n",
       "      Outlet_Location_Type_Tier 3  Outlet_Location_Type_Tier 2  \\\n",
       "7569                            1                            0   \n",
       "891                             1                            0   \n",
       "1629                            0                            1   \n",
       "6195                            0                            1   \n",
       "2613                            0                            0   \n",
       "\n",
       "      Outlet_Location_Type_Tier 1  Outlet_Type_Grocery Store  \\\n",
       "7569                            0                          1   \n",
       "891                             0                          0   \n",
       "1629                            0                          0   \n",
       "6195                            0                          0   \n",
       "2613                            1                          1   \n",
       "\n",
       "      Outlet_Type_Supermarket Type2  Outlet_Type_Supermarket Type1  \\\n",
       "7569                              0                              0   \n",
       "891                               1                              0   \n",
       "1629                              0                              1   \n",
       "6195                              0                              1   \n",
       "2613                              0                              0   \n",
       "\n",
       "      Outlet_Type_Supermarket Type3  \n",
       "7569                              0  \n",
       "891                               0  \n",
       "1629                              0  \n",
       "6195                              0  \n",
       "2613                              0  \n",
       "\n",
       "[5 rows x 1586 columns]"
      ]
     },
     "execution_count": 68,
     "metadata": {},
     "output_type": "execute_result"
    }
   ],
   "source": [
    "X_train_student_final_premodel_version.head()"
   ]
  },
  {
   "cell_type": "code",
   "execution_count": 69,
   "metadata": {},
   "outputs": [
    {
     "data": {
      "image/png": "[encoded data removed]",
      "text/plain": [
       "<Figure size 864x360 with 2 Axes>"
      ]
     },
     "metadata": {
      "needs_background": "light"
     },
     "output_type": "display_data"
    }
   ],
   "source": [
    "# Visualizing the variable distribution before and after scaling\n",
    "# Item_Weight, Item_Visibility, Item_MRP, Outlet_Establishment_Year\n",
    "\n",
    "fig, (ax1, ax2) = plt.subplots(ncols=2, figsize=(12, 5))\n",
    "\n",
    "# before scaling\n",
    "ax1.set_title('Before Scaling')\n",
    "sns.kdeplot(X_train_student_final_premodel_version['Item_Weight'], ax=ax1, label ='Item_Weight')\n",
    "sns.kdeplot(X_train_student_final_premodel_version['Item_Visibility'], ax=ax1, label ='Item_Visibility')\n",
    "sns.kdeplot(X_train_student_final_premodel_version['Item_MRP'], ax=ax1, label ='Item_MRP')\n",
    "sns.kdeplot(X_train_student_final_premodel_version['Outlet_Establishment_Year'], ax=ax1, label ='Outlet_Establishment_Year')\n",
    "ax1.legend()\n",
    "\n",
    "# after scaling\n",
    "ax2.set_title('After Scaling')\n",
    "sns.kdeplot(X_train_scaled['Item_Weight'], ax=ax2, label ='Item_Weight')\n",
    "sns.kdeplot(X_train_scaled['Item_Visibility'], ax=ax2, label ='Item_Visibility')\n",
    "sns.kdeplot(X_train_scaled['Item_MRP'], ax=ax2, label ='Item_MRP')\n",
    "sns.kdeplot(X_train_scaled['Outlet_Establishment_Year'], ax=ax2, label ='Outlet_Establishment_Year')\n",
    "ax2.legend()\n",
    "plt.show()"
   ]
  },
  {
   "cell_type": "code",
   "execution_count": 70,
   "metadata": {},
   "outputs": [
    {
     "data": {
      "text/plain": [
       "Item_Weight                      0.0\n",
       "Item_Visibility                  0.0\n",
       "Item_MRP                         0.0\n",
       "Outlet_Establishment_Year        0.0\n",
       "Item_Identifier_NCP05            0.0\n",
       "                                ... \n",
       "Outlet_Location_Type_Tier 1      0.0\n",
       "Outlet_Type_Grocery Store        0.0\n",
       "Outlet_Type_Supermarket Type2    0.0\n",
       "Outlet_Type_Supermarket Type1    0.0\n",
       "Outlet_Type_Supermarket Type3    0.0\n",
       "Length: 1586, dtype: float64"
      ]
     },
     "execution_count": 70,
     "metadata": {},
     "output_type": "execute_result"
    }
   ],
   "source": [
    "X_train_student_final_premodel_version.isnull().mean()"
   ]
  },
  {
   "cell_type": "code",
   "execution_count": null,
   "metadata": {},
   "outputs": [],
   "source": []
  },
  {
   "cell_type": "markdown",
   "metadata": {},
   "source": [
    "### Step 8: Linear Regression Modelling (part 1) <a id=\"firstModel\"></a>"
   ]
  },
  {
   "cell_type": "markdown",
   "metadata": {},
   "source": [
    "[back to report](#LinearRegressionModel)"
   ]
  },
  {
   "cell_type": "markdown",
   "metadata": {},
   "source": [
    "Linear regression is defined as a machine learning model in which the model finds the best fit linear line between the independent and dependent variables in which the aim is to find the best fit linear line and the optimal values of intercept and coefficients such that errors are minimized. For the purpose of this analysis, the goal is to use the X variables e.g. columns other than item outlet sales,to predict the item outlet sales (y variable, or target variable).\n",
    "### Building and Evaluating the Model\n",
    "In order to evaluate the model performance of a linear regression model, a range of measures can be used, but in this ASG1 we will focus on only 2:\n",
    "\n",
    "- Root Mean Square Error (RMSE): The RMSE is the square root of the variance of the residuals, that is, the squared differences between prediction and actual observation. Lower values of RMSE indicate better fit and model performance.\n",
    "- R-Square: R-square represents the percentage of the response variable variation that is explained by a linear model. The closer to 1.0 the value of R-square, the more indicative of a better fit and model performance."
   ]
  },
  {
   "cell_type": "code",
   "execution_count": 71,
   "metadata": {},
   "outputs": [],
   "source": [
    "# assign your fully cleaned and transformed data contained within your versions of \n",
    "# X_train_student_final_premodel_version, X_test_student_final_premodel_version,\n",
    "# y_train_student_final_premodel_version and y_test_student_final_premodel_version into\n",
    "# the prepared variables below, for a simple linear regression model"
   ]
  },
  {
   "cell_type": "code",
   "execution_count": 72,
   "metadata": {},
   "outputs": [],
   "source": [
    "X_train_final = X_train_student_final_premodel_version\n",
    "X_test_final = X_test_student_final_premodel_version\n",
    "\n",
    "y_train_final = y_train_student_final_premodel_version\n",
    "y_test_final = y_test_student_final_premodel_version"
   ]
  },
  {
   "cell_type": "code",
   "execution_count": 73,
   "metadata": {},
   "outputs": [
    {
     "name": "stdout",
     "output_type": "stream",
     "text": [
      "<class 'pandas.core.frame.DataFrame'>\n",
      "Int64Index: 5835 entries, 7569 to 2799\n",
      "Columns: 1586 entries, Item_Weight to Outlet_Type_Supermarket Type3\n",
      "dtypes: float64(3), int32(1582), int64(1)\n",
      "memory usage: 35.6 MB\n"
     ]
    }
   ],
   "source": [
    "X_train_final.info()"
   ]
  },
  {
   "cell_type": "code",
   "execution_count": 74,
   "metadata": {},
   "outputs": [],
   "source": [
    "from sklearn.linear_model import LinearRegression\n",
    "from sklearn.metrics import mean_squared_error\n",
    "from sklearn.metrics import r2_score"
   ]
  },
  {
   "cell_type": "code",
   "execution_count": 75,
   "metadata": {},
   "outputs": [
    {
     "name": "stdout",
     "output_type": "stream",
     "text": [
      "train_rmse: 716193.5458400421 \n",
      " test_rmse: 1.989595274285792e+22\n",
      "train_r-sq: 0.6844485858267564 \n",
      " test_r-sq: -8789020318880263.0\n"
     ]
    }
   ],
   "source": [
    "# Build Linear Regression Model\n",
    "model_linear_regression = LinearRegression()\n",
    "model_linear_regression.fit(X_train_final, y_train_final)\n",
    "\n",
    "# Evaluate the Linear Regression Model using Root Mean Square Error (RMSE)\n",
    "print('train_rmse:', mean_squared_error(y_train_final, model_linear_regression.predict(X_train_final)), \n",
    "      '\\n test_rmse:', mean_squared_error(y_test_final, model_linear_regression.predict(X_test_final)))\n",
    "\n",
    "# Evaluate the Linear Regression Model using R-Square\n",
    "# The closer the r-square value to 1, the better the model performance\n",
    "print('train_r-sq:', r2_score(y_train_final, model_linear_regression.predict(X_train_final)), \n",
    "      '\\n test_r-sq:', r2_score(y_test_final, model_linear_regression.predict(X_test_final)))"
   ]
  },
  {
   "cell_type": "code",
   "execution_count": null,
   "metadata": {},
   "outputs": [],
   "source": []
  },
  {
   "cell_type": "markdown",
   "metadata": {},
   "source": [
    "### Step 7: Feature Engineer"
   ]
  },
  {
   "cell_type": "markdown",
   "metadata": {},
   "source": [
    "#### Using Standardization from sklearn <a id=\"standardization\"></a>"
   ]
  },
  {
   "cell_type": "markdown",
   "metadata": {},
   "source": [
    "[back to report](#FeatureEngineer)"
   ]
  },
  {
   "cell_type": "code",
   "execution_count": 76,
   "metadata": {},
   "outputs": [],
   "source": [
    "# set up the scaler\n",
    "scaler = StandardScaler()\n",
    "\n",
    "# fit the scaler to the train set, it will learn the parameters\n",
    "scaler.fit(X_train_student_final_premodel_version)\n",
    "\n",
    "# transform train and test sets\n",
    "X_train_scaled = scaler.transform(X_train_student_final_premodel_version)\n",
    "X_test_scaled = scaler.transform(X_test_student_final_premodel_version)"
   ]
  },
  {
   "cell_type": "code",
   "execution_count": 77,
   "metadata": {},
   "outputs": [
    {
     "data": {
      "text/plain": [
       "array([1.55776827e+01, 6.62530290e-02, 1.38819420e+02, ...,\n",
       "       1.11053985e-01, 6.55184233e-01, 9.94001714e-02])"
      ]
     },
     "execution_count": 77,
     "metadata": {},
     "output_type": "execute_result"
    }
   ],
   "source": [
    "# the scaler stores the mean of the features, learned from train set\n",
    "\n",
    "scaler.mean_"
   ]
  },
  {
   "cell_type": "code",
   "execution_count": 78,
   "metadata": {},
   "outputs": [
    {
     "data": {
      "text/plain": [
       "array([7.27984150e+00, 5.19329482e-02, 6.15674422e+01, ...,\n",
       "       3.14198977e-01, 4.75308167e-01, 2.99198558e-01])"
      ]
     },
     "execution_count": 78,
     "metadata": {},
     "output_type": "execute_result"
    }
   ],
   "source": [
    "# the scaler stores the standard deviation deviation of the features,\n",
    "# learned from train set\n",
    "\n",
    "scaler.scale_"
   ]
  },
  {
   "cell_type": "code",
   "execution_count": 79,
   "metadata": {},
   "outputs": [],
   "source": [
    "# transform the returned NumPy arrays to dataframes\n",
    "\n",
    "X_train_scaled = pd.DataFrame(X_train_scaled, columns=X_train_student_final_premodel_version.columns)\n",
    "X_test_scaled = pd.DataFrame(X_test_scaled, columns=X_test_student_final_premodel_version.columns)"
   ]
  },
  {
   "cell_type": "code",
   "execution_count": 80,
   "metadata": {},
   "outputs": [],
   "source": [
    "import matplotlib.pyplot as plt\n",
    "import seaborn as sns"
   ]
  },
  {
   "cell_type": "code",
   "execution_count": 81,
   "metadata": {},
   "outputs": [
    {
     "data": {
      "image/png": "[encoded data removed]",
      "text/plain": [
       "<Figure size 864x360 with 2 Axes>"
      ]
     },
     "metadata": {
      "needs_background": "light"
     },
     "output_type": "display_data"
    }
   ],
   "source": [
    "# let's compare the variable distributions before and after scaling\n",
    "# Item_Weight, Item_Visibility, Item_MRP, Outlet_Establishment_Year\n",
    "fig, (ax1, ax2) = plt.subplots(ncols=2, figsize=(12, 5))\n",
    "\n",
    "# before scaling\n",
    "ax1.set_title('Before Scaling')\n",
    "sns.kdeplot(X_train_student_final_premodel_version['Item_Weight'], ax=ax1, label ='Item_Weight')\n",
    "sns.kdeplot(X_train_student_final_premodel_version['Item_Visibility'], ax=ax1, label ='Item_Visibility')\n",
    "sns.kdeplot(X_train_student_final_premodel_version['Item_MRP'], ax=ax1, label ='Item_MRP')\n",
    "sns.kdeplot(X_train_student_final_premodel_version['Outlet_Establishment_Year'], ax=ax1, label ='Outlet_Establishment_Year')\n",
    "ax1.legend()\n",
    "\n",
    "# after scaling\n",
    "ax2.set_title('After Scaling')\n",
    "sns.kdeplot(X_train_scaled['Item_Weight'], ax=ax2, label ='Item_Weight')\n",
    "sns.kdeplot(X_train_scaled['Item_Visibility'], ax=ax2, label ='Item_Visibility')\n",
    "sns.kdeplot(X_train_scaled['Item_MRP'], ax=ax2, label ='Item_MRP')\n",
    "sns.kdeplot(X_train_scaled['Outlet_Establishment_Year'], ax=ax2, label ='Outlet_Establishment_Year')\n",
    "ax2.legend()\n",
    "plt.show()"
   ]
  },
  {
   "cell_type": "code",
   "execution_count": 82,
   "metadata": {},
   "outputs": [
    {
     "data": {
      "text/plain": [
       "Item_Weight                      0.0\n",
       "Item_Visibility                  0.0\n",
       "Item_MRP                         0.0\n",
       "Outlet_Establishment_Year        0.0\n",
       "Item_Identifier_NCP05            0.0\n",
       "                                ... \n",
       "Outlet_Location_Type_Tier 1      0.0\n",
       "Outlet_Type_Grocery Store        0.0\n",
       "Outlet_Type_Supermarket Type2    0.0\n",
       "Outlet_Type_Supermarket Type1    0.0\n",
       "Outlet_Type_Supermarket Type3    0.0\n",
       "Length: 1586, dtype: float64"
      ]
     },
     "execution_count": 82,
     "metadata": {},
     "output_type": "execute_result"
    }
   ],
   "source": [
    "X_train_student_final_premodel_version.isnull().mean()"
   ]
  },
  {
   "cell_type": "markdown",
   "metadata": {},
   "source": [
    "### Step 8: Linear Regression Modelling (part 2) <a id=\"secondModel\"></a>"
   ]
  },
  {
   "cell_type": "markdown",
   "metadata": {},
   "source": [
    "[back to report](#LinearRegressionModel)"
   ]
  },
  {
   "cell_type": "code",
   "execution_count": 83,
   "metadata": {},
   "outputs": [],
   "source": [
    "X_train_final2 = X_train_student_final_premodel_version\n",
    "X_test_final2 = X_test_student_final_premodel_version\n",
    "\n",
    "y_train_final2 = y_train_student_final_premodel_version\n",
    "y_test_final2 = y_test_student_final_premodel_version"
   ]
  },
  {
   "cell_type": "code",
   "execution_count": 84,
   "metadata": {},
   "outputs": [
    {
     "name": "stdout",
     "output_type": "stream",
     "text": [
      "train_rmse: 716193.5458400421 \n",
      " test_rmse: 1.989595274285792e+22\n",
      "train_r-sq: 0.6844485858267564 \n",
      " test_r-sq: -8789020318880263.0\n"
     ]
    }
   ],
   "source": [
    "# Build Linear Regression Model\n",
    "model_linear_regression = LinearRegression()\n",
    "model_linear_regression.fit(X_train_final2, y_train_final2)\n",
    "\n",
    "# Evaluate the Linear Regression Model using Root Mean Square Error (RMSE)\n",
    "# The lower MAE, the better the model performance\n",
    "print('train_rmse:', mean_squared_error(y_train_final2, model_linear_regression.predict(X_train_final2)), \n",
    "      '\\n test_rmse:', mean_squared_error(y_test_final2, model_linear_regression.predict(X_test_final2)))\n",
    "\n",
    "# Evaluate the Linear Regression Model using R-Square\n",
    "# The closer the r-square value to 1, the better the model performance\n",
    "print('train_r-sq:', r2_score(y_train_final2, model_linear_regression.predict(X_train_final2)), \n",
    "      '\\n test_r-sq:', r2_score(y_test_final2, model_linear_regression.predict(X_test_final2)))"
   ]
  },
  {
   "cell_type": "code",
   "execution_count": null,
   "metadata": {},
   "outputs": [],
   "source": []
  },
  {
   "cell_type": "markdown",
   "metadata": {},
   "source": [
    "# Assignment 1 Report - Chloe Lim Jiexi_S10223281K"
   ]
  },
  {
   "cell_type": "code",
   "execution_count": null,
   "metadata": {},
   "outputs": [],
   "source": [
    "# Overview <a id=\"Overview\"></a>\n",
    "#### 1. [Introduction: Problem Understanding](#Introduction)\n",
    "\n",
    "#### 2. [Explore the Data](#Exploration)\n",
    "- the relationship between different variables / features \n",
    "\n",
    "#### 3. [Cleanse the Data](#CleansingData) \n",
    "- Missing Data\n",
    "- Outliers\n",
    "\n",
    "#### 4. [Data Transformation](#DataTransformation) \n",
    "- Categorical Data\n",
    "- Numerical Data\n",
    "\n",
    "#### 5. [Feature Engineer](#FeatureEngineer)\n",
    "- Feature Scaling\n",
    "- Create new features / Drop features\n",
    "\n",
    "#### 6. [Linear Regression Model](#LinearRegressionModel) \n",
    "- Build and Evaluate the model\n",
    "\n",
    "#### 7. [Summary and Further Improvements](#Summaries)\n",
    "- summary of findings\n",
    "- explanation of the possible further improvments"
   ]
  },
  {
   "cell_type": "code",
   "execution_count": null,
   "metadata": {},
   "outputs": [],
   "source": [
    "## Introduction: Problem Understanding <a id=\"Introduction\"></a>\n",
    "\n",
    "The data “supermarket.csv” have been collected at different supermarket outlets and stores in various cities, \n",
    "with the aim of predicting the sales of each product at a particular outlet. The supermarket management team will \n",
    "then try to understand the properties of the products and outlets which plays a key role in increasing the sales. \n",
    "The variable Item_Outlet_Sales, which is the sales dollar amount of the product in the particular store, is the target \n",
    "variable for this analysis.\n",
    "\n",
    "This jupyter report will make use of methods such as :\n",
    "    \n",
    "Method |\n",
    "--- |\n",
    "Loading data |\n",
    "Data Preprocessing |\n",
    "train_test_split |\n",
    "Missing value imputation |\n",
    "Categorical data encoding |\n",
    "Variable discretization/binning |\n",
    "Feature engineer |\n",
    "Linear regression modelling |\n",
    "    \n",
    " \n",
    "To help analysis the different variables provided to predict the sales of each \n",
    "product at a particular outlet. \n"
   ]
  },
  {
   "cell_type": "markdown",
   "metadata": {},
   "source": [
    "## Explore the Data <a id=\"Exploration\"></a>\n",
    "After loading the data into a DataFrame variable, I used functions such as data.head(), data.info(), data.describe() \n",
    "to have an overview of the DataFrame variable. There are 12 columns in total and I noticed that the dataframe varibale \n",
    "contains data of various types. The various types are:\n",
    "    \n",
    "Data Type | Count of Type (Cols)\n",
    "--- | ---\n",
    "float(64) | 4\n",
    "int(64) | 1\n",
    "object | 7\n",
    "    \n",
    "I then found the numerical and categorical variables respectively and found whether they contained null values by \n",
    "using the functions isnull().mean().sort_values() for both numerical and categorical variables, where I found  \n",
    "variables Item_Weight and Outlet_Size containing null values. Item_Weight has a null mean value of 0.171653 and \n",
    "Outlet_Size has a null mean value of 0.282764. \n",
    "\n",
    "\n",
    "Afterwards, by using the histogram to see the distribution of the numerical variables, variables such as \n",
    "Item_Visibility and Item_Outlet_Sales are right-skewed and variable Item_Weight is bimodal distributed. \n",
    "The variable Item_MRP is somewhat symmetrical and the variable Outlet_Establishment_Year can be inferred as \n",
    "either somewhat consistent or anomaly. Below is a table to see clearer the different type of distribution for each \n",
    "variable. \n",
    "\n",
    "Variable | Type of Distribution\n",
    "--- | ---\n",
    "Item_Visibility | right-skewed\n",
    "Item_Outlet_Sales | right - skewed\n",
    "Item_Weight | bimodal\n",
    "Item_MRP | symmetrical\n",
    "Outlet_Establishment_Year | consistent / anomaly\n",
    "\n",
    "In addition, there are numerical variables that needed to transform using proper transformation methods such as \n",
    "Log transformation and Box-Cox, which would be specified [here](#DataTransformation)"
   ]
  },
  {
   "cell_type": "code",
   "execution_count": null,
   "metadata": {},
   "outputs": [],
   "source": [
    "## Cleanse the Data <a id=\"CleansingData\"></a>\n",
    "\n",
    "### Missing Data\n",
    "As stated above, after using the functions isnull().mean().sort_values(), I found that for the numerical variables, \n",
    "Item_Weight contains null values and for the categorical variables, Outlet_Size has null values. The null values for\n",
    "each variable are:\n",
    "    \n",
    "Variable | Mean of Null values\n",
    "---|---\n",
    "Item_Weight | 0.171136\n",
    "Outlet_Size | 0.281763\n",
    "\n",
    "For Item_Weight, a numerical variable, I used the End Tail imputation method from Feature Engine. To do so, I created \n",
    "a median imputer for the variable using the EndTailImputer function, imported from feature_engine.impurtation. \n",
    "Afterwards, I used imputer.imputer_dict_ to find the dictionary with the mapping for the variable, which has a result \n",
    "of {'Item_Weight': 28.838750000000005}. I then transform the data into the train test set and checked that the null \n",
    "values were replaced.  \n",
    "\n",
    "For Outlet_Size, a categorical variable, I used the frequent category imputation with pandas method. To do so, \n",
    "I used a for lop and a fillna function. And then I used is.null().mean() to checked that the null values were replaced. \n",
    "\n",
    "### Outliers\n",
    "By using box plots, I found that there were 2 numerical variables with outliers. \n",
    "They are Item_Visibility and Item_Outlet_Sales. Using a user-define function, find_boundaries, \n",
    "I found the upper limit and lower limit for the 2 variables. \n",
    "\n",
    "The upper limit for the variables: \n",
    "\n",
    "Item_Visibility | Item_Outlet_Sales\n",
    "---|---\n",
    "0.195979015 | 6501.8699\n",
    "\n",
    "The lower limit for the variables:\n",
    "\n",
    "Item_Visibility | Item_Outlet_Sales\n",
    "---|---\n",
    "-0.0744042450 | -2566.3261\n"
   ]
  },
  {
   "cell_type": "markdown",
   "metadata": {},
   "source": [
    "## Data Transformation <a id=\"DataTransformation\"></a>\n",
    "For data transformation, I used one-hot encoding to encode the categorical data and a few transformations method for \n",
    "numerical data, along with binning.\n",
    "\n",
    "### Categorical Data <a id=\"CategoricalData\"></a>\n",
    "For [categorical data](#CategoricalDataRunThrough), I used the one hot encoder method to encode the categorical data. From feature_engine.encoding, \n",
    "I imported OneHotEncoder and fit to my X_train. Afterwards, I used the function ohe_enc.variables_ to see which \n",
    "variables will be encoded, which are Item_Identifier, Item_Fat_Content, Item_Type, Outlet_Identifier, Outlet_Size, \n",
    "Outlet_Location_Type and Outlet_Type.\n",
    "\n",
    "Varibles to be encoded:\n",
    "    \n",
    "Variable |\n",
    "---|\n",
    "Item_Identifier | \n",
    "Item_Fat_Content | \n",
    "Item_Type | \n",
    "Outlet_Identifier | \n",
    "Outlet_Size | \n",
    "Outlet_Location_Type|\n",
    "Outlet_Type |\n",
    "\n",
    "Next, I used the function ohe_enc.transform() to transform my X_train and X_test. \n",
    "I then used X_train_student_final_premodel_version.head() and X_test_student_final_premodel_version.head() \n",
    "to see the first 5 rows of the respective tables. As shown by the table, later continue…  \n",
    "\n",
    "### Numerical Data <a id=\"NumericalData\"></a>\n",
    "Seeing the distribution and the heat map of the numerical variables, I used Cube root, reciprocal, and \n",
    "box-cox transformation to transform the numerical variables, Item_Visibility and Item_MRP. \n",
    "\n",
    "For the [first transformation](#FirstTransformation), I used Cube root transformations with feature engine to transform the variable \n",
    "Item_Visibility. I was unable to transform Item_Visibility using the other transformation such as Reciprocal and \n",
    "Logarithmic due to having 0 as a value. The original distribution of Item_Visibility was rightly skewed and hence not \n",
    "a normal distribution. In addition, the line graph is not really following the red guiding line. And after the Cube \n",
    "root transformation, the distribution of Item_Visibility is somewhat normal, with one bar chart at the value 0.0, as \n",
    "shown by the bar chart. The line in the line graph become straighter, following the red guiding line but with a \n",
    "horizontal line on the near bottom. \n",
    "\n",
    "For the [second transformation](#SecondTransformation), I used Reciprocal transformations with feature engine to transform the variable \n",
    "Item_MRP. The original distribution of Item_MRP is somewhat symmetrical and hence not a normal distribution. \n",
    "Furthermore, the line graph is not following the guiding line and as an S shape. And after the Reciprocal \n",
    "transformation, the distribution of Item_MRP became rightly skewed. The line in the line graph only become steeper \n",
    "and still has the S shape. \n",
    "\n",
    "For the [last transformation](#LastTransformation), I used Box-Cox transformations with feature engine to also transform the variable \n",
    "Item_MRP. With the original distribution of Item_MRP is somewhat symmetrical, it is not a normal distribution, \n",
    "along with the line graph having an S shape. And after the Box-Cox transformation, the distribution of Item_MRP \n",
    "is still somewhat symmetrical as shown by the bar chart.  The line graph remains the same as before the Box-Cox \n",
    "transformation. \n",
    "    \n",
    "In addition to the above transformation, I also did binning or variable discretization using the equal-width discretizer\n",
    "method. I did binning for 4 numerical variables, which are \n",
    "[Item_MRP](#ItemMRP), \n",
    "[Outlet_Establishment_Year](#OutletYear), \n",
    "[Item_Visibility](#ItemVisibility), and \n",
    "[Item_Weight](#ItemWeight). \n",
    "    \n",
    "To start off, I set up an equal-width discretizer into 10 intervals, and the interval limits are stored in the \n",
    "bin_edges_attribute, using the function: disc.bin_edges_. Then, I transformed the train set, where Sklearn will return \n",
    "NumPy arrays. And I repeat the same thing for the test set. Now I visualize the distribution of the train test set. \n",
    "If the distributions in the train test set are similar, we should expect similar proportion of observations in the \n",
    "different intervals in the train and test set. \n",
    "    \n",
    "Variable | Similar Proportion (Y/N)\n",
    "---|---\n",
    "Item_MRP | Y\n",
    "Outlet_Establishment_Year | Y\n",
    "Item_Visibility | N\n",
    "Item_Weight | N\n",
    "\n",
    "Therefore, we can conclude that Item_MRP and Outlet_Establishment_Year have similar proportions and thus their \n",
    "distributions are similar. However, Item_Visibility and Item_Weight do not have similar proportions and thus their \n",
    "distributions are not similar. "
   ]
  },
  {
   "cell_type": "code",
   "execution_count": null,
   "metadata": {},
   "outputs": [],
   "source": [
    "## Feature Engineer <a id=\"FeatureEngineer\"></a>\n",
    "\n",
    "### Feature Scaling\n",
    "For feature scaling, I used two different methods to see the \n",
    "difference in the result. The methods I used are: \n",
    "Mean-normalization and Standardization. \n",
    "\n",
    "For the [first method](#meanNormal), I used mean-normalization. I made a \n",
    "numCols, which includes all numerical variables except for \n",
    "the variable Item_Outlet_Sales as I dropped it when I did my \n",
    "train test split. I then get the mean of the train set, which\n",
    "can be found by the function .mean() and the range of the \n",
    "train set, which can be calculated by the functions: .max() - .min(). Afterwards, I find the scaled train set by \n",
    "having the train set subtracting means and divided by the range of the set. \n",
    "\n",
    "Afterwards, using seaborn plots, I visualize the variable \n",
    "distribution before and after scaling. In addition, for \n",
    "both graphs, there is a legend to help easily identify which \n",
    "line represents which variable. For the before graph, there \n",
    "is only one orange line visible clearly, which is representing\n",
    "the variable Item_Visibility. It also has a probability density of 10. Now after scaling, all the lines \n",
    "representing all variables are visible. The orange line can be seen to have a higher maximum point than the rest at \n",
    "around 3.4 density, and the rest being around 1.5 density. \n",
    "    \n",
    "There is a linear regression model that will be stated at the end. \n",
    "\n",
    "For [second method](#standardization), I used standardization from sklearn. I started by setting up the scaler using the equation scaler \n",
    "= StandardScaler() and fit the scaler to the train set, so that it will learn the parameters. And then I transformed \n",
    "the train and test sets by using the function, scaler.transform(). The scaler stores the mean of the features, \n",
    "which is learned from the train set and by using the function, scaler.mean_, you can see the means stored in the \n",
    "scaler. In addition, the scaler also stored the standard deviation of the features, learned from the train set, \n",
    "and using the function scaler.scale_ can see the standard deviation stored in the scaler. Then afterwards, I transformed\n",
    "the returned NumPy arrays to dataframes. \n",
    "    \n",
    "Afterwards, similar to the first method, I used seaborn plots to visualization the distributions to compare the before \n",
    "and after scaling. With the legends beside each graph to help easily identify which line represents which variable. \n",
    "Before the scaling, the orange line representing Item_Visibility is the most obvious line with a density of around 10. \n",
    "After the scaling, all of the lines are visible. The red line representing Outlet_Establishment_Year has one of the \n",
    "highest maximum point, at higher than 0.5 for probability density. The orange line representing Item_Visbility has the \n",
    "second highest maximum point at around 0.5. The green line representing Item_MRP has the lowest maximum point for \n",
    "probability density, at around 0.35. \n",
    "    \n",
    "There is also a linear regression model that will be stated at the end. \n",
    "\n",
    "### Create new features / Drop features\n",
    "I made a new numCols to include all the numerical variables: \n",
    "Item_Weight, Item_Visibility, Item_MRP and \n",
    "Outlet_Establishment_Year as I dropped Item_Outlet_Sales \n",
    "during the train test split and my code did not manage to run\n",
    "if I did not made a numCols. "
   ]
  },
  {
   "cell_type": "markdown",
   "metadata": {},
   "source": [
    "## Linear Regression Model <a id=\"LinearRegressionModel\"></a>\n",
    "\n",
    "In order to evaluate the model performance of a linear regression model, there is a variety of measures that can be \n",
    "used. However, in this report the two measures used are Root Mean Square Error (RMSE) and R-Square. \n",
    "\n",
    "RMSE is the square root of the variance of the residuals, which is the squared differences between prediction and actual\n",
    "observation. The lower the values of RMSE are, the better the fit and model performance. R-Square represents the \n",
    "percentage of the response variable variation that is explained by a linear model. The closer the value of R-Square is \n",
    "to 1.0, the better the fit and model performance. \n",
    "\n",
    "For the [first model](#firstModel) for the mean-normalization method, I assigned my cleaned and transformed data to the \n",
    "prepared variables below, for example: X_train_final. I also a function X_train_final.info() to check that the all the \n",
    "data is in numbers or float. After importing the necessary functions, I used the code provided to build my linear \n",
    "regression model and have an output of: \n",
    "    \n",
    "Name | Output\n",
    "---|---\n",
    "train_rmse |  716193.5458400421\n",
    "test_rmse | 1.989595274285792e+22\n",
    "train_r-sq | 0.6844485858267564\n",
    "test_r-sq | -8789020318880263.0\n",
    "    \n",
    "    \n",
    "However, when I build my [second model](#secondModel) for the standardization method, the output of the model of \n",
    "exactly the same as the first one. This could mean that I did not manage to do my train test split properly or did not \n",
    "fit the correct data in. The output of the second model is also:\n",
    "    \n",
    "Name | Output\n",
    "---|---\n",
    "train_rmse |  716193.5458400421\n",
    "test_rmse | 1.989595274285792e+22\n",
    "train_r-sq | 0.6844485858267564\n",
    "test_r-sq | -8789020318880263.0\n",
    "    \n",
    "\n",
    "As stated above, for RMSE, the lower the value the better. My value for train_RMSE, is relatively high, which means \n",
    "that my model did not perform too great. Next for R-Square, or also indicated as r-sq, the closer the value is to 1.0, \n",
    "the better the fit and model performance. My value for train_r-sq is relatively close to 1.0 and is more indicative of \n",
    "a better fit and model performance. In addition, these values could mean that I overfitted my train test. "
   ]
  },
  {
   "cell_type": "markdown",
   "metadata": {},
   "source": [
    "## Summary and Further improvements <a id=\"Summaries\"></a>\n",
    "\n",
    "### Summary of findings\n",
    "The dataset is not cleaned as there were variables with null values and needed transformation. By encoding the categorical\n",
    "variables and transformation the numerical variables, I managed to get a value of 716193.5 for train_mse for the linear\n",
    "regression model and 0.684448 for train_r-sq. \n",
    "In conclusion, from both my TIBCO and jupyter notebook, my findings are that the various variables does \n",
    "necessary affect the variable Item_Outlet_Sales.\n",
    "\n",
    "### Explanation of possible further improvements\n",
    "As shown by the outputs of my linear regression model, I have most likely overfitting my train test split. \n",
    "Hence, to prevent overfitting, I can try cross-validation, removing some features or regularization. \n",
    "Cross-validation is a powerful preventive measure against overfitting. \n",
    "It is done by using the initial training data to generate multiple mini train-test splits and using these to adjust the \n",
    "model. In addition, I can also manually remove some of the irrelevant input features in my coding. \n",
    "Lastly, regularization refers to a broad range of techniques for artificially forcing the model to be simpler. "
   ]
  },
  {
   "cell_type": "code",
   "execution_count": null,
   "metadata": {},
   "outputs": [],
   "source": []
  }
 ],
 "metadata": {
  "kernelspec": {
   "display_name": "Python 3 (ipykernel)",
   "language": "python",
   "name": "python3"
  },
  "language_info": {
   "codemirror_mode": {
    "name": "ipython",
    "version": 3
   },
   "file_extension": ".py",
   "mimetype": "text/x-python",
   "name": "python",
   "nbconvert_exporter": "python",
   "pygments_lexer": "ipython3",
   "version": "3.9.7"
  }
 },
 "nbformat": 4,
 "nbformat_minor": 4
}
